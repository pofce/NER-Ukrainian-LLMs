{
 "cells": [
  {
   "cell_type": "code",
   "id": "initial_id",
   "metadata": {
    "collapsed": true,
    "ExecuteTime": {
     "end_time": "2025-04-24T11:43:28.526672Z",
     "start_time": "2025-04-24T11:43:24.381725Z"
    }
   },
   "source": [
    "import pandas as pd\n",
    "\n",
    "from rich import print\n",
    "from utils import evaluate_ner, basic_post_processing, advanced_post_processing\n",
    "\n",
    "\n",
    "BASE_PATH = \"../results/prompting/\"\n",
    "FILE_PATH = \"/cot/mamaylm.csv\"\n",
    "\n",
    "bronze_df = pd.read_csv(BASE_PATH + \"bronze\" + FILE_PATH)\n",
    "print(evaluate_ner(bronze_df))"
   ],
   "outputs": [
    {
     "data": {
      "text/plain": [
       "\u001B[1m{\u001B[0m\n",
       "    \u001B[32m'ents_p'\u001B[0m: \u001B[1;36m0.6349663784822286\u001B[0m,\n",
       "    \u001B[32m'ents_r'\u001B[0m: \u001B[1;36m0.19409778299809133\u001B[0m,\n",
       "    \u001B[32m'ents_f'\u001B[0m: \u001B[1;36m0.29731249297200046\u001B[0m,\n",
       "    \u001B[32m'ents_per_type'\u001B[0m: \u001B[1m{\u001B[0m\n",
       "        \u001B[32m'LOC'\u001B[0m: \u001B[1m{\u001B[0m\u001B[32m'p'\u001B[0m: \u001B[1;36m0.6190476190476191\u001B[0m, \u001B[32m'r'\u001B[0m: \u001B[1;36m0.09535452322738386\u001B[0m, \u001B[32m'f'\u001B[0m: \u001B[1;36m0.1652542372881356\u001B[0m\u001B[1m}\u001B[0m,\n",
       "        \u001B[32m'PCT'\u001B[0m: \u001B[1m{\u001B[0m\u001B[32m'p'\u001B[0m: \u001B[1;36m0.7735849056603774\u001B[0m, \u001B[32m'r'\u001B[0m: \u001B[1;36m0.45555555555555555\u001B[0m, \u001B[32m'f'\u001B[0m: \u001B[1;36m0.5734265734265734\u001B[0m\u001B[1m}\u001B[0m,\n",
       "        \u001B[32m'MISC'\u001B[0m: \u001B[1m{\u001B[0m\u001B[32m'p'\u001B[0m: \u001B[1;36m0.0\u001B[0m, \u001B[32m'r'\u001B[0m: \u001B[1;36m0.0\u001B[0m, \u001B[32m'f'\u001B[0m: \u001B[1;36m0.0\u001B[0m\u001B[1m}\u001B[0m,\n",
       "        \u001B[32m'JOB'\u001B[0m: \u001B[1m{\u001B[0m\u001B[32m'p'\u001B[0m: \u001B[1;36m0.4788732394366197\u001B[0m, \u001B[32m'r'\u001B[0m: \u001B[1;36m0.0517503805175038\u001B[0m, \u001B[32m'f'\u001B[0m: \u001B[1;36m0.09340659340659341\u001B[0m\u001B[1m}\u001B[0m,\n",
       "        \u001B[32m'PERS'\u001B[0m: \u001B[1m{\u001B[0m\u001B[32m'p'\u001B[0m: \u001B[1;36m0.9305263157894736\u001B[0m, \u001B[32m'r'\u001B[0m: \u001B[1;36m0.20293847566574838\u001B[0m, \u001B[32m'f'\u001B[0m: \u001B[1;36m0.3332076894082171\u001B[0m\u001B[1m}\u001B[0m,\n",
       "        \u001B[32m'DATE'\u001B[0m: \u001B[1m{\u001B[0m\u001B[32m'p'\u001B[0m: \u001B[1;36m0.403921568627451\u001B[0m, \u001B[32m'r'\u001B[0m: \u001B[1;36m0.2055888223552894\u001B[0m, \u001B[32m'f'\u001B[0m: \u001B[1;36m0.2724867724867725\u001B[0m\u001B[1m}\u001B[0m,\n",
       "        \u001B[32m'ORG'\u001B[0m: \u001B[1m{\u001B[0m\u001B[32m'p'\u001B[0m: \u001B[1;36m0.8196392785571143\u001B[0m, \u001B[32m'r'\u001B[0m: \u001B[1;36m0.26575698505523065\u001B[0m, \u001B[32m'f'\u001B[0m: \u001B[1;36m0.4013738959764475\u001B[0m\u001B[1m}\u001B[0m,\n",
       "        \u001B[32m'PERIOD'\u001B[0m: \u001B[1m{\u001B[0m\u001B[32m'p'\u001B[0m: \u001B[1;36m0.16666666666666666\u001B[0m, \u001B[32m'r'\u001B[0m: \u001B[1;36m0.02702702702702703\u001B[0m, \u001B[32m'f'\u001B[0m: \u001B[1;36m0.046511627906976744\u001B[0m\u001B[1m}\u001B[0m,\n",
       "        \u001B[32m'QUANT'\u001B[0m: \u001B[1m{\u001B[0m\u001B[32m'p'\u001B[0m: \u001B[1;36m0.0963855421686747\u001B[0m, \u001B[32m'r'\u001B[0m: \u001B[1;36m0.0898876404494382\u001B[0m, \u001B[32m'f'\u001B[0m: \u001B[1;36m0.0930232558139535\u001B[0m\u001B[1m}\u001B[0m,\n",
       "        \u001B[32m'DOC'\u001B[0m: \u001B[1m{\u001B[0m\u001B[32m'p'\u001B[0m: \u001B[1;36m0.05555555555555555\u001B[0m, \u001B[32m'r'\u001B[0m: \u001B[1;36m0.075\u001B[0m, \u001B[32m'f'\u001B[0m: \u001B[1;36m0.06382978723404256\u001B[0m\u001B[1m}\u001B[0m,\n",
       "        \u001B[32m'ART'\u001B[0m: \u001B[1m{\u001B[0m\u001B[32m'p'\u001B[0m: \u001B[1;36m0.3591549295774648\u001B[0m, \u001B[32m'r'\u001B[0m: \u001B[1;36m0.21518987341772153\u001B[0m, \u001B[32m'f'\u001B[0m: \u001B[1;36m0.2691292875989446\u001B[0m\u001B[1m}\u001B[0m,\n",
       "        \u001B[32m'TIME'\u001B[0m: \u001B[1m{\u001B[0m\u001B[32m'p'\u001B[0m: \u001B[1;36m0.0\u001B[0m, \u001B[32m'r'\u001B[0m: \u001B[1;36m0.0\u001B[0m, \u001B[32m'f'\u001B[0m: \u001B[1;36m0.0\u001B[0m\u001B[1m}\u001B[0m,\n",
       "        \u001B[32m'MON'\u001B[0m: \u001B[1m{\u001B[0m\u001B[32m'p'\u001B[0m: \u001B[1;36m0.6244725738396625\u001B[0m, \u001B[32m'r'\u001B[0m: \u001B[1;36m0.4553846153846154\u001B[0m, \u001B[32m'f'\u001B[0m: \u001B[1;36m0.5266903914590747\u001B[0m\u001B[1m}\u001B[0m\n",
       "    \u001B[1m}\u001B[0m\n",
       "\u001B[1m}\u001B[0m\n"
      ],
      "text/html": [
       "<pre style=\"white-space:pre;overflow-x:auto;line-height:normal;font-family:Menlo,'DejaVu Sans Mono',consolas,'Courier New',monospace\"><span style=\"font-weight: bold\">{</span>\n",
       "    <span style=\"color: #008000; text-decoration-color: #008000\">'ents_p'</span>: <span style=\"color: #008080; text-decoration-color: #008080; font-weight: bold\">0.6349663784822286</span>,\n",
       "    <span style=\"color: #008000; text-decoration-color: #008000\">'ents_r'</span>: <span style=\"color: #008080; text-decoration-color: #008080; font-weight: bold\">0.19409778299809133</span>,\n",
       "    <span style=\"color: #008000; text-decoration-color: #008000\">'ents_f'</span>: <span style=\"color: #008080; text-decoration-color: #008080; font-weight: bold\">0.29731249297200046</span>,\n",
       "    <span style=\"color: #008000; text-decoration-color: #008000\">'ents_per_type'</span>: <span style=\"font-weight: bold\">{</span>\n",
       "        <span style=\"color: #008000; text-decoration-color: #008000\">'LOC'</span>: <span style=\"font-weight: bold\">{</span><span style=\"color: #008000; text-decoration-color: #008000\">'p'</span>: <span style=\"color: #008080; text-decoration-color: #008080; font-weight: bold\">0.6190476190476191</span>, <span style=\"color: #008000; text-decoration-color: #008000\">'r'</span>: <span style=\"color: #008080; text-decoration-color: #008080; font-weight: bold\">0.09535452322738386</span>, <span style=\"color: #008000; text-decoration-color: #008000\">'f'</span>: <span style=\"color: #008080; text-decoration-color: #008080; font-weight: bold\">0.1652542372881356</span><span style=\"font-weight: bold\">}</span>,\n",
       "        <span style=\"color: #008000; text-decoration-color: #008000\">'PCT'</span>: <span style=\"font-weight: bold\">{</span><span style=\"color: #008000; text-decoration-color: #008000\">'p'</span>: <span style=\"color: #008080; text-decoration-color: #008080; font-weight: bold\">0.7735849056603774</span>, <span style=\"color: #008000; text-decoration-color: #008000\">'r'</span>: <span style=\"color: #008080; text-decoration-color: #008080; font-weight: bold\">0.45555555555555555</span>, <span style=\"color: #008000; text-decoration-color: #008000\">'f'</span>: <span style=\"color: #008080; text-decoration-color: #008080; font-weight: bold\">0.5734265734265734</span><span style=\"font-weight: bold\">}</span>,\n",
       "        <span style=\"color: #008000; text-decoration-color: #008000\">'MISC'</span>: <span style=\"font-weight: bold\">{</span><span style=\"color: #008000; text-decoration-color: #008000\">'p'</span>: <span style=\"color: #008080; text-decoration-color: #008080; font-weight: bold\">0.0</span>, <span style=\"color: #008000; text-decoration-color: #008000\">'r'</span>: <span style=\"color: #008080; text-decoration-color: #008080; font-weight: bold\">0.0</span>, <span style=\"color: #008000; text-decoration-color: #008000\">'f'</span>: <span style=\"color: #008080; text-decoration-color: #008080; font-weight: bold\">0.0</span><span style=\"font-weight: bold\">}</span>,\n",
       "        <span style=\"color: #008000; text-decoration-color: #008000\">'JOB'</span>: <span style=\"font-weight: bold\">{</span><span style=\"color: #008000; text-decoration-color: #008000\">'p'</span>: <span style=\"color: #008080; text-decoration-color: #008080; font-weight: bold\">0.4788732394366197</span>, <span style=\"color: #008000; text-decoration-color: #008000\">'r'</span>: <span style=\"color: #008080; text-decoration-color: #008080; font-weight: bold\">0.0517503805175038</span>, <span style=\"color: #008000; text-decoration-color: #008000\">'f'</span>: <span style=\"color: #008080; text-decoration-color: #008080; font-weight: bold\">0.09340659340659341</span><span style=\"font-weight: bold\">}</span>,\n",
       "        <span style=\"color: #008000; text-decoration-color: #008000\">'PERS'</span>: <span style=\"font-weight: bold\">{</span><span style=\"color: #008000; text-decoration-color: #008000\">'p'</span>: <span style=\"color: #008080; text-decoration-color: #008080; font-weight: bold\">0.9305263157894736</span>, <span style=\"color: #008000; text-decoration-color: #008000\">'r'</span>: <span style=\"color: #008080; text-decoration-color: #008080; font-weight: bold\">0.20293847566574838</span>, <span style=\"color: #008000; text-decoration-color: #008000\">'f'</span>: <span style=\"color: #008080; text-decoration-color: #008080; font-weight: bold\">0.3332076894082171</span><span style=\"font-weight: bold\">}</span>,\n",
       "        <span style=\"color: #008000; text-decoration-color: #008000\">'DATE'</span>: <span style=\"font-weight: bold\">{</span><span style=\"color: #008000; text-decoration-color: #008000\">'p'</span>: <span style=\"color: #008080; text-decoration-color: #008080; font-weight: bold\">0.403921568627451</span>, <span style=\"color: #008000; text-decoration-color: #008000\">'r'</span>: <span style=\"color: #008080; text-decoration-color: #008080; font-weight: bold\">0.2055888223552894</span>, <span style=\"color: #008000; text-decoration-color: #008000\">'f'</span>: <span style=\"color: #008080; text-decoration-color: #008080; font-weight: bold\">0.2724867724867725</span><span style=\"font-weight: bold\">}</span>,\n",
       "        <span style=\"color: #008000; text-decoration-color: #008000\">'ORG'</span>: <span style=\"font-weight: bold\">{</span><span style=\"color: #008000; text-decoration-color: #008000\">'p'</span>: <span style=\"color: #008080; text-decoration-color: #008080; font-weight: bold\">0.8196392785571143</span>, <span style=\"color: #008000; text-decoration-color: #008000\">'r'</span>: <span style=\"color: #008080; text-decoration-color: #008080; font-weight: bold\">0.26575698505523065</span>, <span style=\"color: #008000; text-decoration-color: #008000\">'f'</span>: <span style=\"color: #008080; text-decoration-color: #008080; font-weight: bold\">0.4013738959764475</span><span style=\"font-weight: bold\">}</span>,\n",
       "        <span style=\"color: #008000; text-decoration-color: #008000\">'PERIOD'</span>: <span style=\"font-weight: bold\">{</span><span style=\"color: #008000; text-decoration-color: #008000\">'p'</span>: <span style=\"color: #008080; text-decoration-color: #008080; font-weight: bold\">0.16666666666666666</span>, <span style=\"color: #008000; text-decoration-color: #008000\">'r'</span>: <span style=\"color: #008080; text-decoration-color: #008080; font-weight: bold\">0.02702702702702703</span>, <span style=\"color: #008000; text-decoration-color: #008000\">'f'</span>: <span style=\"color: #008080; text-decoration-color: #008080; font-weight: bold\">0.046511627906976744</span><span style=\"font-weight: bold\">}</span>,\n",
       "        <span style=\"color: #008000; text-decoration-color: #008000\">'QUANT'</span>: <span style=\"font-weight: bold\">{</span><span style=\"color: #008000; text-decoration-color: #008000\">'p'</span>: <span style=\"color: #008080; text-decoration-color: #008080; font-weight: bold\">0.0963855421686747</span>, <span style=\"color: #008000; text-decoration-color: #008000\">'r'</span>: <span style=\"color: #008080; text-decoration-color: #008080; font-weight: bold\">0.0898876404494382</span>, <span style=\"color: #008000; text-decoration-color: #008000\">'f'</span>: <span style=\"color: #008080; text-decoration-color: #008080; font-weight: bold\">0.0930232558139535</span><span style=\"font-weight: bold\">}</span>,\n",
       "        <span style=\"color: #008000; text-decoration-color: #008000\">'DOC'</span>: <span style=\"font-weight: bold\">{</span><span style=\"color: #008000; text-decoration-color: #008000\">'p'</span>: <span style=\"color: #008080; text-decoration-color: #008080; font-weight: bold\">0.05555555555555555</span>, <span style=\"color: #008000; text-decoration-color: #008000\">'r'</span>: <span style=\"color: #008080; text-decoration-color: #008080; font-weight: bold\">0.075</span>, <span style=\"color: #008000; text-decoration-color: #008000\">'f'</span>: <span style=\"color: #008080; text-decoration-color: #008080; font-weight: bold\">0.06382978723404256</span><span style=\"font-weight: bold\">}</span>,\n",
       "        <span style=\"color: #008000; text-decoration-color: #008000\">'ART'</span>: <span style=\"font-weight: bold\">{</span><span style=\"color: #008000; text-decoration-color: #008000\">'p'</span>: <span style=\"color: #008080; text-decoration-color: #008080; font-weight: bold\">0.3591549295774648</span>, <span style=\"color: #008000; text-decoration-color: #008000\">'r'</span>: <span style=\"color: #008080; text-decoration-color: #008080; font-weight: bold\">0.21518987341772153</span>, <span style=\"color: #008000; text-decoration-color: #008000\">'f'</span>: <span style=\"color: #008080; text-decoration-color: #008080; font-weight: bold\">0.2691292875989446</span><span style=\"font-weight: bold\">}</span>,\n",
       "        <span style=\"color: #008000; text-decoration-color: #008000\">'TIME'</span>: <span style=\"font-weight: bold\">{</span><span style=\"color: #008000; text-decoration-color: #008000\">'p'</span>: <span style=\"color: #008080; text-decoration-color: #008080; font-weight: bold\">0.0</span>, <span style=\"color: #008000; text-decoration-color: #008000\">'r'</span>: <span style=\"color: #008080; text-decoration-color: #008080; font-weight: bold\">0.0</span>, <span style=\"color: #008000; text-decoration-color: #008000\">'f'</span>: <span style=\"color: #008080; text-decoration-color: #008080; font-weight: bold\">0.0</span><span style=\"font-weight: bold\">}</span>,\n",
       "        <span style=\"color: #008000; text-decoration-color: #008000\">'MON'</span>: <span style=\"font-weight: bold\">{</span><span style=\"color: #008000; text-decoration-color: #008000\">'p'</span>: <span style=\"color: #008080; text-decoration-color: #008080; font-weight: bold\">0.6244725738396625</span>, <span style=\"color: #008000; text-decoration-color: #008000\">'r'</span>: <span style=\"color: #008080; text-decoration-color: #008080; font-weight: bold\">0.4553846153846154</span>, <span style=\"color: #008000; text-decoration-color: #008000\">'f'</span>: <span style=\"color: #008080; text-decoration-color: #008080; font-weight: bold\">0.5266903914590747</span><span style=\"font-weight: bold\">}</span>\n",
       "    <span style=\"font-weight: bold\">}</span>\n",
       "<span style=\"font-weight: bold\">}</span>\n",
       "</pre>\n"
      ]
     },
     "metadata": {},
     "output_type": "display_data"
    }
   ],
   "execution_count": 11
  },
  {
   "metadata": {
    "ExecuteTime": {
     "end_time": "2025-04-24T11:43:34.253234Z",
     "start_time": "2025-04-24T11:43:28.528075Z"
    }
   },
   "cell_type": "code",
   "source": [
    "silver_df = bronze_df.copy()\n",
    "silver_df[\"pred\"] = silver_df.apply(basic_post_processing, axis=1)\n",
    "print(evaluate_ner(silver_df))"
   ],
   "id": "9348bfaab7696636",
   "outputs": [
    {
     "data": {
      "text/plain": [
       "\u001B[1m{\u001B[0m\n",
       "    \u001B[32m'ents_p'\u001B[0m: \u001B[1;36m0.6165235416049748\u001B[0m,\n",
       "    \u001B[32m'ents_r'\u001B[0m: \u001B[1;36m0.3056819850242255\u001B[0m,\n",
       "    \u001B[32m'ents_f'\u001B[0m: \u001B[1;36m0.40871613663133094\u001B[0m,\n",
       "    \u001B[32m'ents_per_type'\u001B[0m: \u001B[1m{\u001B[0m\n",
       "        \u001B[32m'LOC'\u001B[0m: \u001B[1m{\u001B[0m\u001B[32m'p'\u001B[0m: \u001B[1;36m0.5452054794520548\u001B[0m, \u001B[32m'r'\u001B[0m: \u001B[1;36m0.24327628361858192\u001B[0m, \u001B[32m'f'\u001B[0m: \u001B[1;36m0.33643279797125947\u001B[0m\u001B[1m}\u001B[0m,\n",
       "        \u001B[32m'PCT'\u001B[0m: \u001B[1m{\u001B[0m\u001B[32m'p'\u001B[0m: \u001B[1;36m0.7540983606557377\u001B[0m, \u001B[32m'r'\u001B[0m: \u001B[1;36m0.5111111111111111\u001B[0m, \u001B[32m'f'\u001B[0m: \u001B[1;36m0.6092715231788078\u001B[0m\u001B[1m}\u001B[0m,\n",
       "        \u001B[32m'PERS'\u001B[0m: \u001B[1m{\u001B[0m\u001B[32m'p'\u001B[0m: \u001B[1;36m0.9200561009817672\u001B[0m, \u001B[32m'r'\u001B[0m: \u001B[1;36m0.3011937557392103\u001B[0m, \u001B[32m'f'\u001B[0m: \u001B[1;36m0.4538222068488412\u001B[0m\u001B[1m}\u001B[0m,\n",
       "        \u001B[32m'MISC'\u001B[0m: \u001B[1m{\u001B[0m\u001B[32m'p'\u001B[0m: \u001B[1;36m0.015625\u001B[0m, \u001B[32m'r'\u001B[0m: \u001B[1;36m0.007042253521126761\u001B[0m, \u001B[32m'f'\u001B[0m: \u001B[1;36m0.009708737864077669\u001B[0m\u001B[1m}\u001B[0m,\n",
       "        \u001B[32m'JOB'\u001B[0m: \u001B[1m{\u001B[0m\u001B[32m'p'\u001B[0m: \u001B[1;36m0.5046728971962616\u001B[0m, \u001B[32m'r'\u001B[0m: \u001B[1;36m0.0821917808219178\u001B[0m, \u001B[32m'f'\u001B[0m: \u001B[1;36m0.14136125654450263\u001B[0m\u001B[1m}\u001B[0m,\n",
       "        \u001B[32m'PERIOD'\u001B[0m: \u001B[1m{\u001B[0m\u001B[32m'p'\u001B[0m: \u001B[1;36m0.22727272727272727\u001B[0m, \u001B[32m'r'\u001B[0m: \u001B[1;36m0.05405405405405406\u001B[0m, \u001B[32m'f'\u001B[0m: \u001B[1;36m0.08733624454148471\u001B[0m\u001B[1m}\u001B[0m,\n",
       "        \u001B[32m'ORG'\u001B[0m: \u001B[1m{\u001B[0m\u001B[32m'p'\u001B[0m: \u001B[1;36m0.7712486883525709\u001B[0m, \u001B[32m'r'\u001B[0m: \u001B[1;36m0.4775828460038986\u001B[0m, \u001B[32m'f'\u001B[0m: \u001B[1;36m0.5898876404494382\u001B[0m\u001B[1m}\u001B[0m,\n",
       "        \u001B[32m'QUANT'\u001B[0m: \u001B[1m{\u001B[0m\u001B[32m'p'\u001B[0m: \u001B[1;36m0.11578947368421053\u001B[0m, \u001B[32m'r'\u001B[0m: \u001B[1;36m0.12359550561797752\u001B[0m, \u001B[32m'f'\u001B[0m: \u001B[1;36m0.11956521739130435\u001B[0m\u001B[1m}\u001B[0m,\n",
       "        \u001B[32m'DATE'\u001B[0m: \u001B[1m{\u001B[0m\u001B[32m'p'\u001B[0m: \u001B[1;36m0.4016393442622951\u001B[0m, \u001B[32m'r'\u001B[0m: \u001B[1;36m0.2934131736526946\u001B[0m, \u001B[32m'f'\u001B[0m: \u001B[1;36m0.3391003460207613\u001B[0m\u001B[1m}\u001B[0m,\n",
       "        \u001B[32m'ART'\u001B[0m: \u001B[1m{\u001B[0m\u001B[32m'p'\u001B[0m: \u001B[1;36m0.2890995260663507\u001B[0m, \u001B[32m'r'\u001B[0m: \u001B[1;36m0.25738396624472576\u001B[0m, \u001B[32m'f'\u001B[0m: \u001B[1;36m0.2723214285714286\u001B[0m\u001B[1m}\u001B[0m,\n",
       "        \u001B[32m'TIME'\u001B[0m: \u001B[1m{\u001B[0m\u001B[32m'p'\u001B[0m: \u001B[1;36m0.038461538461538464\u001B[0m, \u001B[32m'r'\u001B[0m: \u001B[1;36m0.1\u001B[0m, \u001B[32m'f'\u001B[0m: \u001B[1;36m0.05555555555555555\u001B[0m\u001B[1m}\u001B[0m,\n",
       "        \u001B[32m'DOC'\u001B[0m: \u001B[1m{\u001B[0m\u001B[32m'p'\u001B[0m: \u001B[1;36m0.058823529411764705\u001B[0m, \u001B[32m'r'\u001B[0m: \u001B[1;36m0.15\u001B[0m, \u001B[32m'f'\u001B[0m: \u001B[1;36m0.08450704225352114\u001B[0m\u001B[1m}\u001B[0m,\n",
       "        \u001B[32m'MON'\u001B[0m: \u001B[1m{\u001B[0m\u001B[32m'p'\u001B[0m: \u001B[1;36m0.5740740740740741\u001B[0m, \u001B[32m'r'\u001B[0m: \u001B[1;36m0.47692307692307695\u001B[0m, \u001B[32m'f'\u001B[0m: \u001B[1;36m0.5210084033613446\u001B[0m\u001B[1m}\u001B[0m\n",
       "    \u001B[1m}\u001B[0m\n",
       "\u001B[1m}\u001B[0m\n"
      ],
      "text/html": [
       "<pre style=\"white-space:pre;overflow-x:auto;line-height:normal;font-family:Menlo,'DejaVu Sans Mono',consolas,'Courier New',monospace\"><span style=\"font-weight: bold\">{</span>\n",
       "    <span style=\"color: #008000; text-decoration-color: #008000\">'ents_p'</span>: <span style=\"color: #008080; text-decoration-color: #008080; font-weight: bold\">0.6165235416049748</span>,\n",
       "    <span style=\"color: #008000; text-decoration-color: #008000\">'ents_r'</span>: <span style=\"color: #008080; text-decoration-color: #008080; font-weight: bold\">0.3056819850242255</span>,\n",
       "    <span style=\"color: #008000; text-decoration-color: #008000\">'ents_f'</span>: <span style=\"color: #008080; text-decoration-color: #008080; font-weight: bold\">0.40871613663133094</span>,\n",
       "    <span style=\"color: #008000; text-decoration-color: #008000\">'ents_per_type'</span>: <span style=\"font-weight: bold\">{</span>\n",
       "        <span style=\"color: #008000; text-decoration-color: #008000\">'LOC'</span>: <span style=\"font-weight: bold\">{</span><span style=\"color: #008000; text-decoration-color: #008000\">'p'</span>: <span style=\"color: #008080; text-decoration-color: #008080; font-weight: bold\">0.5452054794520548</span>, <span style=\"color: #008000; text-decoration-color: #008000\">'r'</span>: <span style=\"color: #008080; text-decoration-color: #008080; font-weight: bold\">0.24327628361858192</span>, <span style=\"color: #008000; text-decoration-color: #008000\">'f'</span>: <span style=\"color: #008080; text-decoration-color: #008080; font-weight: bold\">0.33643279797125947</span><span style=\"font-weight: bold\">}</span>,\n",
       "        <span style=\"color: #008000; text-decoration-color: #008000\">'PCT'</span>: <span style=\"font-weight: bold\">{</span><span style=\"color: #008000; text-decoration-color: #008000\">'p'</span>: <span style=\"color: #008080; text-decoration-color: #008080; font-weight: bold\">0.7540983606557377</span>, <span style=\"color: #008000; text-decoration-color: #008000\">'r'</span>: <span style=\"color: #008080; text-decoration-color: #008080; font-weight: bold\">0.5111111111111111</span>, <span style=\"color: #008000; text-decoration-color: #008000\">'f'</span>: <span style=\"color: #008080; text-decoration-color: #008080; font-weight: bold\">0.6092715231788078</span><span style=\"font-weight: bold\">}</span>,\n",
       "        <span style=\"color: #008000; text-decoration-color: #008000\">'PERS'</span>: <span style=\"font-weight: bold\">{</span><span style=\"color: #008000; text-decoration-color: #008000\">'p'</span>: <span style=\"color: #008080; text-decoration-color: #008080; font-weight: bold\">0.9200561009817672</span>, <span style=\"color: #008000; text-decoration-color: #008000\">'r'</span>: <span style=\"color: #008080; text-decoration-color: #008080; font-weight: bold\">0.3011937557392103</span>, <span style=\"color: #008000; text-decoration-color: #008000\">'f'</span>: <span style=\"color: #008080; text-decoration-color: #008080; font-weight: bold\">0.4538222068488412</span><span style=\"font-weight: bold\">}</span>,\n",
       "        <span style=\"color: #008000; text-decoration-color: #008000\">'MISC'</span>: <span style=\"font-weight: bold\">{</span><span style=\"color: #008000; text-decoration-color: #008000\">'p'</span>: <span style=\"color: #008080; text-decoration-color: #008080; font-weight: bold\">0.015625</span>, <span style=\"color: #008000; text-decoration-color: #008000\">'r'</span>: <span style=\"color: #008080; text-decoration-color: #008080; font-weight: bold\">0.007042253521126761</span>, <span style=\"color: #008000; text-decoration-color: #008000\">'f'</span>: <span style=\"color: #008080; text-decoration-color: #008080; font-weight: bold\">0.009708737864077669</span><span style=\"font-weight: bold\">}</span>,\n",
       "        <span style=\"color: #008000; text-decoration-color: #008000\">'JOB'</span>: <span style=\"font-weight: bold\">{</span><span style=\"color: #008000; text-decoration-color: #008000\">'p'</span>: <span style=\"color: #008080; text-decoration-color: #008080; font-weight: bold\">0.5046728971962616</span>, <span style=\"color: #008000; text-decoration-color: #008000\">'r'</span>: <span style=\"color: #008080; text-decoration-color: #008080; font-weight: bold\">0.0821917808219178</span>, <span style=\"color: #008000; text-decoration-color: #008000\">'f'</span>: <span style=\"color: #008080; text-decoration-color: #008080; font-weight: bold\">0.14136125654450263</span><span style=\"font-weight: bold\">}</span>,\n",
       "        <span style=\"color: #008000; text-decoration-color: #008000\">'PERIOD'</span>: <span style=\"font-weight: bold\">{</span><span style=\"color: #008000; text-decoration-color: #008000\">'p'</span>: <span style=\"color: #008080; text-decoration-color: #008080; font-weight: bold\">0.22727272727272727</span>, <span style=\"color: #008000; text-decoration-color: #008000\">'r'</span>: <span style=\"color: #008080; text-decoration-color: #008080; font-weight: bold\">0.05405405405405406</span>, <span style=\"color: #008000; text-decoration-color: #008000\">'f'</span>: <span style=\"color: #008080; text-decoration-color: #008080; font-weight: bold\">0.08733624454148471</span><span style=\"font-weight: bold\">}</span>,\n",
       "        <span style=\"color: #008000; text-decoration-color: #008000\">'ORG'</span>: <span style=\"font-weight: bold\">{</span><span style=\"color: #008000; text-decoration-color: #008000\">'p'</span>: <span style=\"color: #008080; text-decoration-color: #008080; font-weight: bold\">0.7712486883525709</span>, <span style=\"color: #008000; text-decoration-color: #008000\">'r'</span>: <span style=\"color: #008080; text-decoration-color: #008080; font-weight: bold\">0.4775828460038986</span>, <span style=\"color: #008000; text-decoration-color: #008000\">'f'</span>: <span style=\"color: #008080; text-decoration-color: #008080; font-weight: bold\">0.5898876404494382</span><span style=\"font-weight: bold\">}</span>,\n",
       "        <span style=\"color: #008000; text-decoration-color: #008000\">'QUANT'</span>: <span style=\"font-weight: bold\">{</span><span style=\"color: #008000; text-decoration-color: #008000\">'p'</span>: <span style=\"color: #008080; text-decoration-color: #008080; font-weight: bold\">0.11578947368421053</span>, <span style=\"color: #008000; text-decoration-color: #008000\">'r'</span>: <span style=\"color: #008080; text-decoration-color: #008080; font-weight: bold\">0.12359550561797752</span>, <span style=\"color: #008000; text-decoration-color: #008000\">'f'</span>: <span style=\"color: #008080; text-decoration-color: #008080; font-weight: bold\">0.11956521739130435</span><span style=\"font-weight: bold\">}</span>,\n",
       "        <span style=\"color: #008000; text-decoration-color: #008000\">'DATE'</span>: <span style=\"font-weight: bold\">{</span><span style=\"color: #008000; text-decoration-color: #008000\">'p'</span>: <span style=\"color: #008080; text-decoration-color: #008080; font-weight: bold\">0.4016393442622951</span>, <span style=\"color: #008000; text-decoration-color: #008000\">'r'</span>: <span style=\"color: #008080; text-decoration-color: #008080; font-weight: bold\">0.2934131736526946</span>, <span style=\"color: #008000; text-decoration-color: #008000\">'f'</span>: <span style=\"color: #008080; text-decoration-color: #008080; font-weight: bold\">0.3391003460207613</span><span style=\"font-weight: bold\">}</span>,\n",
       "        <span style=\"color: #008000; text-decoration-color: #008000\">'ART'</span>: <span style=\"font-weight: bold\">{</span><span style=\"color: #008000; text-decoration-color: #008000\">'p'</span>: <span style=\"color: #008080; text-decoration-color: #008080; font-weight: bold\">0.2890995260663507</span>, <span style=\"color: #008000; text-decoration-color: #008000\">'r'</span>: <span style=\"color: #008080; text-decoration-color: #008080; font-weight: bold\">0.25738396624472576</span>, <span style=\"color: #008000; text-decoration-color: #008000\">'f'</span>: <span style=\"color: #008080; text-decoration-color: #008080; font-weight: bold\">0.2723214285714286</span><span style=\"font-weight: bold\">}</span>,\n",
       "        <span style=\"color: #008000; text-decoration-color: #008000\">'TIME'</span>: <span style=\"font-weight: bold\">{</span><span style=\"color: #008000; text-decoration-color: #008000\">'p'</span>: <span style=\"color: #008080; text-decoration-color: #008080; font-weight: bold\">0.038461538461538464</span>, <span style=\"color: #008000; text-decoration-color: #008000\">'r'</span>: <span style=\"color: #008080; text-decoration-color: #008080; font-weight: bold\">0.1</span>, <span style=\"color: #008000; text-decoration-color: #008000\">'f'</span>: <span style=\"color: #008080; text-decoration-color: #008080; font-weight: bold\">0.05555555555555555</span><span style=\"font-weight: bold\">}</span>,\n",
       "        <span style=\"color: #008000; text-decoration-color: #008000\">'DOC'</span>: <span style=\"font-weight: bold\">{</span><span style=\"color: #008000; text-decoration-color: #008000\">'p'</span>: <span style=\"color: #008080; text-decoration-color: #008080; font-weight: bold\">0.058823529411764705</span>, <span style=\"color: #008000; text-decoration-color: #008000\">'r'</span>: <span style=\"color: #008080; text-decoration-color: #008080; font-weight: bold\">0.15</span>, <span style=\"color: #008000; text-decoration-color: #008000\">'f'</span>: <span style=\"color: #008080; text-decoration-color: #008080; font-weight: bold\">0.08450704225352114</span><span style=\"font-weight: bold\">}</span>,\n",
       "        <span style=\"color: #008000; text-decoration-color: #008000\">'MON'</span>: <span style=\"font-weight: bold\">{</span><span style=\"color: #008000; text-decoration-color: #008000\">'p'</span>: <span style=\"color: #008080; text-decoration-color: #008080; font-weight: bold\">0.5740740740740741</span>, <span style=\"color: #008000; text-decoration-color: #008000\">'r'</span>: <span style=\"color: #008080; text-decoration-color: #008080; font-weight: bold\">0.47692307692307695</span>, <span style=\"color: #008000; text-decoration-color: #008000\">'f'</span>: <span style=\"color: #008080; text-decoration-color: #008080; font-weight: bold\">0.5210084033613446</span><span style=\"font-weight: bold\">}</span>\n",
       "    <span style=\"font-weight: bold\">}</span>\n",
       "<span style=\"font-weight: bold\">}</span>\n",
       "</pre>\n"
      ]
     },
     "metadata": {},
     "output_type": "display_data"
    }
   ],
   "execution_count": 12
  },
  {
   "metadata": {
    "ExecuteTime": {
     "end_time": "2025-04-24T11:44:31.211741Z",
     "start_time": "2025-04-24T11:43:34.254164Z"
    }
   },
   "cell_type": "code",
   "source": [
    "gold_df = silver_df.copy()\n",
    "gold_df[\"pred\"] = gold_df[\"pred\"].apply(lambda x: advanced_post_processing(x))\n",
    "print(evaluate_ner(gold_df))"
   ],
   "id": "58b6d10148ea4d8d",
   "outputs": [
    {
     "data": {
      "text/plain": [
       "\u001B[1m{\u001B[0m\n",
       "    \u001B[32m'ents_p'\u001B[0m: \u001B[1;36m0.672863666014351\u001B[0m,\n",
       "    \u001B[32m'ents_r'\u001B[0m: \u001B[1;36m0.30289237997357216\u001B[0m,\n",
       "    \u001B[32m'ents_f'\u001B[0m: \u001B[1;36m0.4177381796091931\u001B[0m,\n",
       "    \u001B[32m'ents_per_type'\u001B[0m: \u001B[1m{\u001B[0m\n",
       "        \u001B[32m'LOC'\u001B[0m: \u001B[1m{\u001B[0m\u001B[32m'p'\u001B[0m: \u001B[1;36m0.5958083832335329\u001B[0m, \u001B[32m'r'\u001B[0m: \u001B[1;36m0.24327628361858192\u001B[0m, \u001B[32m'f'\u001B[0m: \u001B[1;36m0.3454861111111111\u001B[0m\u001B[1m}\u001B[0m,\n",
       "        \u001B[32m'PCT'\u001B[0m: \u001B[1m{\u001B[0m\u001B[32m'p'\u001B[0m: \u001B[1;36m0.9183673469387755\u001B[0m, \u001B[32m'r'\u001B[0m: \u001B[1;36m0.5\u001B[0m, \u001B[32m'f'\u001B[0m: \u001B[1;36m0.6474820143884893\u001B[0m\u001B[1m}\u001B[0m,\n",
       "        \u001B[32m'MISC'\u001B[0m: \u001B[1m{\u001B[0m\u001B[32m'p'\u001B[0m: \u001B[1;36m0.0196078431372549\u001B[0m, \u001B[32m'r'\u001B[0m: \u001B[1;36m0.007042253521126761\u001B[0m, \u001B[32m'f'\u001B[0m: \u001B[1;36m0.010362694300518135\u001B[0m\u001B[1m}\u001B[0m,\n",
       "        \u001B[32m'JOB'\u001B[0m: \u001B[1m{\u001B[0m\u001B[32m'p'\u001B[0m: \u001B[1;36m0.5137614678899083\u001B[0m, \u001B[32m'r'\u001B[0m: \u001B[1;36m0.0852359208523592\u001B[0m, \u001B[32m'f'\u001B[0m: \u001B[1;36m0.14621409921671016\u001B[0m\u001B[1m}\u001B[0m,\n",
       "        \u001B[32m'PERS'\u001B[0m: \u001B[1m{\u001B[0m\u001B[32m'p'\u001B[0m: \u001B[1;36m0.9728915662650602\u001B[0m, \u001B[32m'r'\u001B[0m: \u001B[1;36m0.29660238751147844\u001B[0m, \u001B[32m'f'\u001B[0m: \u001B[1;36m0.45460942997888815\u001B[0m\u001B[1m}\u001B[0m,\n",
       "        \u001B[32m'PERIOD'\u001B[0m: \u001B[1m{\u001B[0m\u001B[32m'p'\u001B[0m: \u001B[1;36m0.2222222222222222\u001B[0m, \u001B[32m'r'\u001B[0m: \u001B[1;36m0.032432432432432434\u001B[0m, \u001B[32m'f'\u001B[0m: \u001B[1;36m0.05660377358490566\u001B[0m\u001B[1m}\u001B[0m,\n",
       "        \u001B[32m'ORG'\u001B[0m: \u001B[1m{\u001B[0m\u001B[32m'p'\u001B[0m: \u001B[1;36m0.8093126385809313\u001B[0m, \u001B[32m'r'\u001B[0m: \u001B[1;36m0.4743339831059129\u001B[0m, \u001B[32m'f'\u001B[0m: \u001B[1;36m0.5981155264235968\u001B[0m\u001B[1m}\u001B[0m,\n",
       "        \u001B[32m'QUANT'\u001B[0m: \u001B[1m{\u001B[0m\u001B[32m'p'\u001B[0m: \u001B[1;36m0.11578947368421053\u001B[0m, \u001B[32m'r'\u001B[0m: \u001B[1;36m0.12359550561797752\u001B[0m, \u001B[32m'f'\u001B[0m: \u001B[1;36m0.11956521739130435\u001B[0m\u001B[1m}\u001B[0m,\n",
       "        \u001B[32m'DATE'\u001B[0m: \u001B[1m{\u001B[0m\u001B[32m'p'\u001B[0m: \u001B[1;36m0.4016393442622951\u001B[0m, \u001B[32m'r'\u001B[0m: \u001B[1;36m0.2934131736526946\u001B[0m, \u001B[32m'f'\u001B[0m: \u001B[1;36m0.3391003460207613\u001B[0m\u001B[1m}\u001B[0m,\n",
       "        \u001B[32m'ART'\u001B[0m: \u001B[1m{\u001B[0m\u001B[32m'p'\u001B[0m: \u001B[1;36m0.48031496062992124\u001B[0m, \u001B[32m'r'\u001B[0m: \u001B[1;36m0.25738396624472576\u001B[0m, \u001B[32m'f'\u001B[0m: \u001B[1;36m0.3351648351648352\u001B[0m\u001B[1m}\u001B[0m,\n",
       "        \u001B[32m'TIME'\u001B[0m: \u001B[1m{\u001B[0m\u001B[32m'p'\u001B[0m: \u001B[1;36m0.0625\u001B[0m, \u001B[32m'r'\u001B[0m: \u001B[1;36m0.1\u001B[0m, \u001B[32m'f'\u001B[0m: \u001B[1;36m0.07692307692307693\u001B[0m\u001B[1m}\u001B[0m,\n",
       "        \u001B[32m'DOC'\u001B[0m: \u001B[1m{\u001B[0m\u001B[32m'p'\u001B[0m: \u001B[1;36m0.0821917808219178\u001B[0m, \u001B[32m'r'\u001B[0m: \u001B[1;36m0.15\u001B[0m, \u001B[32m'f'\u001B[0m: \u001B[1;36m0.10619469026548672\u001B[0m\u001B[1m}\u001B[0m,\n",
       "        \u001B[32m'MON'\u001B[0m: \u001B[1m{\u001B[0m\u001B[32m'p'\u001B[0m: \u001B[1;36m0.6086956521739131\u001B[0m, \u001B[32m'r'\u001B[0m: \u001B[1;36m0.47384615384615386\u001B[0m, \u001B[32m'f'\u001B[0m: \u001B[1;36m0.5328719723183392\u001B[0m\u001B[1m}\u001B[0m\n",
       "    \u001B[1m}\u001B[0m\n",
       "\u001B[1m}\u001B[0m\n"
      ],
      "text/html": [
       "<pre style=\"white-space:pre;overflow-x:auto;line-height:normal;font-family:Menlo,'DejaVu Sans Mono',consolas,'Courier New',monospace\"><span style=\"font-weight: bold\">{</span>\n",
       "    <span style=\"color: #008000; text-decoration-color: #008000\">'ents_p'</span>: <span style=\"color: #008080; text-decoration-color: #008080; font-weight: bold\">0.672863666014351</span>,\n",
       "    <span style=\"color: #008000; text-decoration-color: #008000\">'ents_r'</span>: <span style=\"color: #008080; text-decoration-color: #008080; font-weight: bold\">0.30289237997357216</span>,\n",
       "    <span style=\"color: #008000; text-decoration-color: #008000\">'ents_f'</span>: <span style=\"color: #008080; text-decoration-color: #008080; font-weight: bold\">0.4177381796091931</span>,\n",
       "    <span style=\"color: #008000; text-decoration-color: #008000\">'ents_per_type'</span>: <span style=\"font-weight: bold\">{</span>\n",
       "        <span style=\"color: #008000; text-decoration-color: #008000\">'LOC'</span>: <span style=\"font-weight: bold\">{</span><span style=\"color: #008000; text-decoration-color: #008000\">'p'</span>: <span style=\"color: #008080; text-decoration-color: #008080; font-weight: bold\">0.5958083832335329</span>, <span style=\"color: #008000; text-decoration-color: #008000\">'r'</span>: <span style=\"color: #008080; text-decoration-color: #008080; font-weight: bold\">0.24327628361858192</span>, <span style=\"color: #008000; text-decoration-color: #008000\">'f'</span>: <span style=\"color: #008080; text-decoration-color: #008080; font-weight: bold\">0.3454861111111111</span><span style=\"font-weight: bold\">}</span>,\n",
       "        <span style=\"color: #008000; text-decoration-color: #008000\">'PCT'</span>: <span style=\"font-weight: bold\">{</span><span style=\"color: #008000; text-decoration-color: #008000\">'p'</span>: <span style=\"color: #008080; text-decoration-color: #008080; font-weight: bold\">0.9183673469387755</span>, <span style=\"color: #008000; text-decoration-color: #008000\">'r'</span>: <span style=\"color: #008080; text-decoration-color: #008080; font-weight: bold\">0.5</span>, <span style=\"color: #008000; text-decoration-color: #008000\">'f'</span>: <span style=\"color: #008080; text-decoration-color: #008080; font-weight: bold\">0.6474820143884893</span><span style=\"font-weight: bold\">}</span>,\n",
       "        <span style=\"color: #008000; text-decoration-color: #008000\">'MISC'</span>: <span style=\"font-weight: bold\">{</span><span style=\"color: #008000; text-decoration-color: #008000\">'p'</span>: <span style=\"color: #008080; text-decoration-color: #008080; font-weight: bold\">0.0196078431372549</span>, <span style=\"color: #008000; text-decoration-color: #008000\">'r'</span>: <span style=\"color: #008080; text-decoration-color: #008080; font-weight: bold\">0.007042253521126761</span>, <span style=\"color: #008000; text-decoration-color: #008000\">'f'</span>: <span style=\"color: #008080; text-decoration-color: #008080; font-weight: bold\">0.010362694300518135</span><span style=\"font-weight: bold\">}</span>,\n",
       "        <span style=\"color: #008000; text-decoration-color: #008000\">'JOB'</span>: <span style=\"font-weight: bold\">{</span><span style=\"color: #008000; text-decoration-color: #008000\">'p'</span>: <span style=\"color: #008080; text-decoration-color: #008080; font-weight: bold\">0.5137614678899083</span>, <span style=\"color: #008000; text-decoration-color: #008000\">'r'</span>: <span style=\"color: #008080; text-decoration-color: #008080; font-weight: bold\">0.0852359208523592</span>, <span style=\"color: #008000; text-decoration-color: #008000\">'f'</span>: <span style=\"color: #008080; text-decoration-color: #008080; font-weight: bold\">0.14621409921671016</span><span style=\"font-weight: bold\">}</span>,\n",
       "        <span style=\"color: #008000; text-decoration-color: #008000\">'PERS'</span>: <span style=\"font-weight: bold\">{</span><span style=\"color: #008000; text-decoration-color: #008000\">'p'</span>: <span style=\"color: #008080; text-decoration-color: #008080; font-weight: bold\">0.9728915662650602</span>, <span style=\"color: #008000; text-decoration-color: #008000\">'r'</span>: <span style=\"color: #008080; text-decoration-color: #008080; font-weight: bold\">0.29660238751147844</span>, <span style=\"color: #008000; text-decoration-color: #008000\">'f'</span>: <span style=\"color: #008080; text-decoration-color: #008080; font-weight: bold\">0.45460942997888815</span><span style=\"font-weight: bold\">}</span>,\n",
       "        <span style=\"color: #008000; text-decoration-color: #008000\">'PERIOD'</span>: <span style=\"font-weight: bold\">{</span><span style=\"color: #008000; text-decoration-color: #008000\">'p'</span>: <span style=\"color: #008080; text-decoration-color: #008080; font-weight: bold\">0.2222222222222222</span>, <span style=\"color: #008000; text-decoration-color: #008000\">'r'</span>: <span style=\"color: #008080; text-decoration-color: #008080; font-weight: bold\">0.032432432432432434</span>, <span style=\"color: #008000; text-decoration-color: #008000\">'f'</span>: <span style=\"color: #008080; text-decoration-color: #008080; font-weight: bold\">0.05660377358490566</span><span style=\"font-weight: bold\">}</span>,\n",
       "        <span style=\"color: #008000; text-decoration-color: #008000\">'ORG'</span>: <span style=\"font-weight: bold\">{</span><span style=\"color: #008000; text-decoration-color: #008000\">'p'</span>: <span style=\"color: #008080; text-decoration-color: #008080; font-weight: bold\">0.8093126385809313</span>, <span style=\"color: #008000; text-decoration-color: #008000\">'r'</span>: <span style=\"color: #008080; text-decoration-color: #008080; font-weight: bold\">0.4743339831059129</span>, <span style=\"color: #008000; text-decoration-color: #008000\">'f'</span>: <span style=\"color: #008080; text-decoration-color: #008080; font-weight: bold\">0.5981155264235968</span><span style=\"font-weight: bold\">}</span>,\n",
       "        <span style=\"color: #008000; text-decoration-color: #008000\">'QUANT'</span>: <span style=\"font-weight: bold\">{</span><span style=\"color: #008000; text-decoration-color: #008000\">'p'</span>: <span style=\"color: #008080; text-decoration-color: #008080; font-weight: bold\">0.11578947368421053</span>, <span style=\"color: #008000; text-decoration-color: #008000\">'r'</span>: <span style=\"color: #008080; text-decoration-color: #008080; font-weight: bold\">0.12359550561797752</span>, <span style=\"color: #008000; text-decoration-color: #008000\">'f'</span>: <span style=\"color: #008080; text-decoration-color: #008080; font-weight: bold\">0.11956521739130435</span><span style=\"font-weight: bold\">}</span>,\n",
       "        <span style=\"color: #008000; text-decoration-color: #008000\">'DATE'</span>: <span style=\"font-weight: bold\">{</span><span style=\"color: #008000; text-decoration-color: #008000\">'p'</span>: <span style=\"color: #008080; text-decoration-color: #008080; font-weight: bold\">0.4016393442622951</span>, <span style=\"color: #008000; text-decoration-color: #008000\">'r'</span>: <span style=\"color: #008080; text-decoration-color: #008080; font-weight: bold\">0.2934131736526946</span>, <span style=\"color: #008000; text-decoration-color: #008000\">'f'</span>: <span style=\"color: #008080; text-decoration-color: #008080; font-weight: bold\">0.3391003460207613</span><span style=\"font-weight: bold\">}</span>,\n",
       "        <span style=\"color: #008000; text-decoration-color: #008000\">'ART'</span>: <span style=\"font-weight: bold\">{</span><span style=\"color: #008000; text-decoration-color: #008000\">'p'</span>: <span style=\"color: #008080; text-decoration-color: #008080; font-weight: bold\">0.48031496062992124</span>, <span style=\"color: #008000; text-decoration-color: #008000\">'r'</span>: <span style=\"color: #008080; text-decoration-color: #008080; font-weight: bold\">0.25738396624472576</span>, <span style=\"color: #008000; text-decoration-color: #008000\">'f'</span>: <span style=\"color: #008080; text-decoration-color: #008080; font-weight: bold\">0.3351648351648352</span><span style=\"font-weight: bold\">}</span>,\n",
       "        <span style=\"color: #008000; text-decoration-color: #008000\">'TIME'</span>: <span style=\"font-weight: bold\">{</span><span style=\"color: #008000; text-decoration-color: #008000\">'p'</span>: <span style=\"color: #008080; text-decoration-color: #008080; font-weight: bold\">0.0625</span>, <span style=\"color: #008000; text-decoration-color: #008000\">'r'</span>: <span style=\"color: #008080; text-decoration-color: #008080; font-weight: bold\">0.1</span>, <span style=\"color: #008000; text-decoration-color: #008000\">'f'</span>: <span style=\"color: #008080; text-decoration-color: #008080; font-weight: bold\">0.07692307692307693</span><span style=\"font-weight: bold\">}</span>,\n",
       "        <span style=\"color: #008000; text-decoration-color: #008000\">'DOC'</span>: <span style=\"font-weight: bold\">{</span><span style=\"color: #008000; text-decoration-color: #008000\">'p'</span>: <span style=\"color: #008080; text-decoration-color: #008080; font-weight: bold\">0.0821917808219178</span>, <span style=\"color: #008000; text-decoration-color: #008000\">'r'</span>: <span style=\"color: #008080; text-decoration-color: #008080; font-weight: bold\">0.15</span>, <span style=\"color: #008000; text-decoration-color: #008000\">'f'</span>: <span style=\"color: #008080; text-decoration-color: #008080; font-weight: bold\">0.10619469026548672</span><span style=\"font-weight: bold\">}</span>,\n",
       "        <span style=\"color: #008000; text-decoration-color: #008000\">'MON'</span>: <span style=\"font-weight: bold\">{</span><span style=\"color: #008000; text-decoration-color: #008000\">'p'</span>: <span style=\"color: #008080; text-decoration-color: #008080; font-weight: bold\">0.6086956521739131</span>, <span style=\"color: #008000; text-decoration-color: #008000\">'r'</span>: <span style=\"color: #008080; text-decoration-color: #008080; font-weight: bold\">0.47384615384615386</span>, <span style=\"color: #008000; text-decoration-color: #008000\">'f'</span>: <span style=\"color: #008080; text-decoration-color: #008080; font-weight: bold\">0.5328719723183392</span><span style=\"font-weight: bold\">}</span>\n",
       "    <span style=\"font-weight: bold\">}</span>\n",
       "<span style=\"font-weight: bold\">}</span>\n",
       "</pre>\n"
      ]
     },
     "metadata": {},
     "output_type": "display_data"
    }
   ],
   "execution_count": 13
  },
  {
   "metadata": {
    "ExecuteTime": {
     "end_time": "2025-04-24T11:44:31.270336Z",
     "start_time": "2025-04-24T11:44:31.213092Z"
    }
   },
   "cell_type": "code",
   "source": [
    "silver_df.to_csv(BASE_PATH + \"silver\" + FILE_PATH, index=False)\n",
    "gold_df.to_csv(BASE_PATH + \"gold\" + FILE_PATH, index=False)"
   ],
   "id": "8d9cdfa497f4f764",
   "outputs": [],
   "execution_count": 14
  },
  {
   "metadata": {},
   "cell_type": "code",
   "outputs": [],
   "execution_count": null,
   "source": "",
   "id": "690a93272c8b4e47"
  }
 ],
 "metadata": {
  "kernelspec": {
   "display_name": "Python 3",
   "language": "python",
   "name": "python3"
  },
  "language_info": {
   "codemirror_mode": {
    "name": "ipython",
    "version": 2
   },
   "file_extension": ".py",
   "mimetype": "text/x-python",
   "name": "python",
   "nbconvert_exporter": "python",
   "pygments_lexer": "ipython2",
   "version": "2.7.6"
  }
 },
 "nbformat": 4,
 "nbformat_minor": 5
}
