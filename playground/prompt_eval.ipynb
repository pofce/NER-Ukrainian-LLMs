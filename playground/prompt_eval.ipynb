{
 "cells": [
  {
   "cell_type": "code",
   "id": "initial_id",
   "metadata": {
    "collapsed": true,
    "ExecuteTime": {
     "end_time": "2025-04-07T11:26:28.420032Z",
     "start_time": "2025-04-07T11:26:24.166019Z"
    }
   },
   "source": [
    "import pandas as pd\n",
    "\n",
    "from rich import print\n",
    "from utils import evaluate_ner, basic_post_processing, advanced_post_processing\n",
    "\n",
    "\n",
    "BASE_PATH = \"../results/prompting/\"\n",
    "FILE_PATH = \"/cot/gemma3_27b.csv\"\n",
    "\n",
    "bronze_df = pd.read_csv(BASE_PATH + \"bronze\" + FILE_PATH)\n",
    "print(evaluate_ner(bronze_df))"
   ],
   "outputs": [
    {
     "data": {
      "text/plain": [
       "\u001B[1m{\u001B[0m\n",
       "    \u001B[32m'ents_p'\u001B[0m: \u001B[1;36m0.8262186725419994\u001B[0m,\n",
       "    \u001B[32m'ents_r'\u001B[0m: \u001B[1;36m0.8809279107326384\u001B[0m,\n",
       "    \u001B[32m'ents_f'\u001B[0m: \u001B[1;36m0.8526966531656364\u001B[0m,\n",
       "    \u001B[32m'ents_per_type'\u001B[0m: \u001B[1m{\u001B[0m\n",
       "        \u001B[32m'LOC'\u001B[0m: \u001B[1m{\u001B[0m\u001B[32m'p'\u001B[0m: \u001B[1;36m0.8868613138686131\u001B[0m, \u001B[32m'r'\u001B[0m: \u001B[1;36m0.89119804400978\u001B[0m, \u001B[32m'f'\u001B[0m: \u001B[1;36m0.8890243902439025\u001B[0m\u001B[1m}\u001B[0m,\n",
       "        \u001B[32m'PCT'\u001B[0m: \u001B[1m{\u001B[0m\u001B[32m'p'\u001B[0m: \u001B[1;36m0.9340659340659341\u001B[0m, \u001B[32m'r'\u001B[0m: \u001B[1;36m0.9444444444444444\u001B[0m, \u001B[32m'f'\u001B[0m: \u001B[1;36m0.9392265193370165\u001B[0m\u001B[1m}\u001B[0m,\n",
       "        \u001B[32m'JOB'\u001B[0m: \u001B[1m{\u001B[0m\u001B[32m'p'\u001B[0m: \u001B[1;36m0.6353658536585366\u001B[0m, \u001B[32m'r'\u001B[0m: \u001B[1;36m0.7929984779299848\u001B[0m, \u001B[32m'f'\u001B[0m: \u001B[1;36m0.7054840893703453\u001B[0m\u001B[1m}\u001B[0m,\n",
       "        \u001B[32m'PERS'\u001B[0m: \u001B[1m{\u001B[0m\u001B[32m'p'\u001B[0m: \u001B[1;36m0.936436884512086\u001B[0m, \u001B[32m'r'\u001B[0m: \u001B[1;36m0.960514233241506\u001B[0m, \u001B[32m'f'\u001B[0m: \u001B[1;36m0.9483227561196736\u001B[0m\u001B[1m}\u001B[0m,\n",
       "        \u001B[32m'PERIOD'\u001B[0m: \u001B[1m{\u001B[0m\u001B[32m'p'\u001B[0m: \u001B[1;36m0.6632653061224489\u001B[0m, \u001B[32m'r'\u001B[0m: \u001B[1;36m0.7027027027027027\u001B[0m, \u001B[32m'f'\u001B[0m: \u001B[1;36m0.6824146981627296\u001B[0m\u001B[1m}\u001B[0m,\n",
       "        \u001B[32m'ORG'\u001B[0m: \u001B[1m{\u001B[0m\u001B[32m'p'\u001B[0m: \u001B[1;36m0.835197174808711\u001B[0m, \u001B[32m'r'\u001B[0m: \u001B[1;36m0.9220272904483431\u001B[0m, \u001B[32m'f'\u001B[0m: \u001B[1;36m0.8764669549104386\u001B[0m\u001B[1m}\u001B[0m,\n",
       "        \u001B[32m'DOC'\u001B[0m: \u001B[1m{\u001B[0m\u001B[32m'p'\u001B[0m: \u001B[1;36m0.68\u001B[0m, \u001B[32m'r'\u001B[0m: \u001B[1;36m0.425\u001B[0m, \u001B[32m'f'\u001B[0m: \u001B[1;36m0.5230769230769231\u001B[0m\u001B[1m}\u001B[0m,\n",
       "        \u001B[32m'MISC'\u001B[0m: \u001B[1m{\u001B[0m\u001B[32m'p'\u001B[0m: \u001B[1;36m0.20098039215686275\u001B[0m, \u001B[32m'r'\u001B[0m: \u001B[1;36m0.2887323943661972\u001B[0m, \u001B[32m'f'\u001B[0m: \u001B[1;36m0.23699421965317918\u001B[0m\u001B[1m}\u001B[0m,\n",
       "        \u001B[32m'QUANT'\u001B[0m: \u001B[1m{\u001B[0m\u001B[32m'p'\u001B[0m: \u001B[1;36m0.78\u001B[0m, \u001B[32m'r'\u001B[0m: \u001B[1;36m0.8764044943820225\u001B[0m, \u001B[32m'f'\u001B[0m: \u001B[1;36m0.8253968253968254\u001B[0m\u001B[1m}\u001B[0m,\n",
       "        \u001B[32m'DATE'\u001B[0m: \u001B[1m{\u001B[0m\u001B[32m'p'\u001B[0m: \u001B[1;36m0.833941605839416\u001B[0m, \u001B[32m'r'\u001B[0m: \u001B[1;36m0.9121756487025948\u001B[0m, \u001B[32m'f'\u001B[0m: \u001B[1;36m0.871306005719733\u001B[0m\u001B[1m}\u001B[0m,\n",
       "        \u001B[32m'ART'\u001B[0m: \u001B[1m{\u001B[0m\u001B[32m'p'\u001B[0m: \u001B[1;36m0.7127659574468085\u001B[0m, \u001B[32m'r'\u001B[0m: \u001B[1;36m0.5654008438818565\u001B[0m, \u001B[32m'f'\u001B[0m: \u001B[1;36m0.6305882352941177\u001B[0m\u001B[1m}\u001B[0m,\n",
       "        \u001B[32m'TIME'\u001B[0m: \u001B[1m{\u001B[0m\u001B[32m'p'\u001B[0m: \u001B[1;36m0.375\u001B[0m, \u001B[32m'r'\u001B[0m: \u001B[1;36m0.6\u001B[0m, \u001B[32m'f'\u001B[0m: \u001B[1;36m0.4615384615384615\u001B[0m\u001B[1m}\u001B[0m,\n",
       "        \u001B[32m'MON'\u001B[0m: \u001B[1m{\u001B[0m\u001B[32m'p'\u001B[0m: \u001B[1;36m0.9122257053291536\u001B[0m, \u001B[32m'r'\u001B[0m: \u001B[1;36m0.8953846153846153\u001B[0m, \u001B[32m'f'\u001B[0m: \u001B[1;36m0.9037267080745341\u001B[0m\u001B[1m}\u001B[0m\n",
       "    \u001B[1m}\u001B[0m\n",
       "\u001B[1m}\u001B[0m\n"
      ],
      "text/html": [
       "<pre style=\"white-space:pre;overflow-x:auto;line-height:normal;font-family:Menlo,'DejaVu Sans Mono',consolas,'Courier New',monospace\"><span style=\"font-weight: bold\">{</span>\n",
       "    <span style=\"color: #008000; text-decoration-color: #008000\">'ents_p'</span>: <span style=\"color: #008080; text-decoration-color: #008080; font-weight: bold\">0.8262186725419994</span>,\n",
       "    <span style=\"color: #008000; text-decoration-color: #008000\">'ents_r'</span>: <span style=\"color: #008080; text-decoration-color: #008080; font-weight: bold\">0.8809279107326384</span>,\n",
       "    <span style=\"color: #008000; text-decoration-color: #008000\">'ents_f'</span>: <span style=\"color: #008080; text-decoration-color: #008080; font-weight: bold\">0.8526966531656364</span>,\n",
       "    <span style=\"color: #008000; text-decoration-color: #008000\">'ents_per_type'</span>: <span style=\"font-weight: bold\">{</span>\n",
       "        <span style=\"color: #008000; text-decoration-color: #008000\">'LOC'</span>: <span style=\"font-weight: bold\">{</span><span style=\"color: #008000; text-decoration-color: #008000\">'p'</span>: <span style=\"color: #008080; text-decoration-color: #008080; font-weight: bold\">0.8868613138686131</span>, <span style=\"color: #008000; text-decoration-color: #008000\">'r'</span>: <span style=\"color: #008080; text-decoration-color: #008080; font-weight: bold\">0.89119804400978</span>, <span style=\"color: #008000; text-decoration-color: #008000\">'f'</span>: <span style=\"color: #008080; text-decoration-color: #008080; font-weight: bold\">0.8890243902439025</span><span style=\"font-weight: bold\">}</span>,\n",
       "        <span style=\"color: #008000; text-decoration-color: #008000\">'PCT'</span>: <span style=\"font-weight: bold\">{</span><span style=\"color: #008000; text-decoration-color: #008000\">'p'</span>: <span style=\"color: #008080; text-decoration-color: #008080; font-weight: bold\">0.9340659340659341</span>, <span style=\"color: #008000; text-decoration-color: #008000\">'r'</span>: <span style=\"color: #008080; text-decoration-color: #008080; font-weight: bold\">0.9444444444444444</span>, <span style=\"color: #008000; text-decoration-color: #008000\">'f'</span>: <span style=\"color: #008080; text-decoration-color: #008080; font-weight: bold\">0.9392265193370165</span><span style=\"font-weight: bold\">}</span>,\n",
       "        <span style=\"color: #008000; text-decoration-color: #008000\">'JOB'</span>: <span style=\"font-weight: bold\">{</span><span style=\"color: #008000; text-decoration-color: #008000\">'p'</span>: <span style=\"color: #008080; text-decoration-color: #008080; font-weight: bold\">0.6353658536585366</span>, <span style=\"color: #008000; text-decoration-color: #008000\">'r'</span>: <span style=\"color: #008080; text-decoration-color: #008080; font-weight: bold\">0.7929984779299848</span>, <span style=\"color: #008000; text-decoration-color: #008000\">'f'</span>: <span style=\"color: #008080; text-decoration-color: #008080; font-weight: bold\">0.7054840893703453</span><span style=\"font-weight: bold\">}</span>,\n",
       "        <span style=\"color: #008000; text-decoration-color: #008000\">'PERS'</span>: <span style=\"font-weight: bold\">{</span><span style=\"color: #008000; text-decoration-color: #008000\">'p'</span>: <span style=\"color: #008080; text-decoration-color: #008080; font-weight: bold\">0.936436884512086</span>, <span style=\"color: #008000; text-decoration-color: #008000\">'r'</span>: <span style=\"color: #008080; text-decoration-color: #008080; font-weight: bold\">0.960514233241506</span>, <span style=\"color: #008000; text-decoration-color: #008000\">'f'</span>: <span style=\"color: #008080; text-decoration-color: #008080; font-weight: bold\">0.9483227561196736</span><span style=\"font-weight: bold\">}</span>,\n",
       "        <span style=\"color: #008000; text-decoration-color: #008000\">'PERIOD'</span>: <span style=\"font-weight: bold\">{</span><span style=\"color: #008000; text-decoration-color: #008000\">'p'</span>: <span style=\"color: #008080; text-decoration-color: #008080; font-weight: bold\">0.6632653061224489</span>, <span style=\"color: #008000; text-decoration-color: #008000\">'r'</span>: <span style=\"color: #008080; text-decoration-color: #008080; font-weight: bold\">0.7027027027027027</span>, <span style=\"color: #008000; text-decoration-color: #008000\">'f'</span>: <span style=\"color: #008080; text-decoration-color: #008080; font-weight: bold\">0.6824146981627296</span><span style=\"font-weight: bold\">}</span>,\n",
       "        <span style=\"color: #008000; text-decoration-color: #008000\">'ORG'</span>: <span style=\"font-weight: bold\">{</span><span style=\"color: #008000; text-decoration-color: #008000\">'p'</span>: <span style=\"color: #008080; text-decoration-color: #008080; font-weight: bold\">0.835197174808711</span>, <span style=\"color: #008000; text-decoration-color: #008000\">'r'</span>: <span style=\"color: #008080; text-decoration-color: #008080; font-weight: bold\">0.9220272904483431</span>, <span style=\"color: #008000; text-decoration-color: #008000\">'f'</span>: <span style=\"color: #008080; text-decoration-color: #008080; font-weight: bold\">0.8764669549104386</span><span style=\"font-weight: bold\">}</span>,\n",
       "        <span style=\"color: #008000; text-decoration-color: #008000\">'DOC'</span>: <span style=\"font-weight: bold\">{</span><span style=\"color: #008000; text-decoration-color: #008000\">'p'</span>: <span style=\"color: #008080; text-decoration-color: #008080; font-weight: bold\">0.68</span>, <span style=\"color: #008000; text-decoration-color: #008000\">'r'</span>: <span style=\"color: #008080; text-decoration-color: #008080; font-weight: bold\">0.425</span>, <span style=\"color: #008000; text-decoration-color: #008000\">'f'</span>: <span style=\"color: #008080; text-decoration-color: #008080; font-weight: bold\">0.5230769230769231</span><span style=\"font-weight: bold\">}</span>,\n",
       "        <span style=\"color: #008000; text-decoration-color: #008000\">'MISC'</span>: <span style=\"font-weight: bold\">{</span><span style=\"color: #008000; text-decoration-color: #008000\">'p'</span>: <span style=\"color: #008080; text-decoration-color: #008080; font-weight: bold\">0.20098039215686275</span>, <span style=\"color: #008000; text-decoration-color: #008000\">'r'</span>: <span style=\"color: #008080; text-decoration-color: #008080; font-weight: bold\">0.2887323943661972</span>, <span style=\"color: #008000; text-decoration-color: #008000\">'f'</span>: <span style=\"color: #008080; text-decoration-color: #008080; font-weight: bold\">0.23699421965317918</span><span style=\"font-weight: bold\">}</span>,\n",
       "        <span style=\"color: #008000; text-decoration-color: #008000\">'QUANT'</span>: <span style=\"font-weight: bold\">{</span><span style=\"color: #008000; text-decoration-color: #008000\">'p'</span>: <span style=\"color: #008080; text-decoration-color: #008080; font-weight: bold\">0.78</span>, <span style=\"color: #008000; text-decoration-color: #008000\">'r'</span>: <span style=\"color: #008080; text-decoration-color: #008080; font-weight: bold\">0.8764044943820225</span>, <span style=\"color: #008000; text-decoration-color: #008000\">'f'</span>: <span style=\"color: #008080; text-decoration-color: #008080; font-weight: bold\">0.8253968253968254</span><span style=\"font-weight: bold\">}</span>,\n",
       "        <span style=\"color: #008000; text-decoration-color: #008000\">'DATE'</span>: <span style=\"font-weight: bold\">{</span><span style=\"color: #008000; text-decoration-color: #008000\">'p'</span>: <span style=\"color: #008080; text-decoration-color: #008080; font-weight: bold\">0.833941605839416</span>, <span style=\"color: #008000; text-decoration-color: #008000\">'r'</span>: <span style=\"color: #008080; text-decoration-color: #008080; font-weight: bold\">0.9121756487025948</span>, <span style=\"color: #008000; text-decoration-color: #008000\">'f'</span>: <span style=\"color: #008080; text-decoration-color: #008080; font-weight: bold\">0.871306005719733</span><span style=\"font-weight: bold\">}</span>,\n",
       "        <span style=\"color: #008000; text-decoration-color: #008000\">'ART'</span>: <span style=\"font-weight: bold\">{</span><span style=\"color: #008000; text-decoration-color: #008000\">'p'</span>: <span style=\"color: #008080; text-decoration-color: #008080; font-weight: bold\">0.7127659574468085</span>, <span style=\"color: #008000; text-decoration-color: #008000\">'r'</span>: <span style=\"color: #008080; text-decoration-color: #008080; font-weight: bold\">0.5654008438818565</span>, <span style=\"color: #008000; text-decoration-color: #008000\">'f'</span>: <span style=\"color: #008080; text-decoration-color: #008080; font-weight: bold\">0.6305882352941177</span><span style=\"font-weight: bold\">}</span>,\n",
       "        <span style=\"color: #008000; text-decoration-color: #008000\">'TIME'</span>: <span style=\"font-weight: bold\">{</span><span style=\"color: #008000; text-decoration-color: #008000\">'p'</span>: <span style=\"color: #008080; text-decoration-color: #008080; font-weight: bold\">0.375</span>, <span style=\"color: #008000; text-decoration-color: #008000\">'r'</span>: <span style=\"color: #008080; text-decoration-color: #008080; font-weight: bold\">0.6</span>, <span style=\"color: #008000; text-decoration-color: #008000\">'f'</span>: <span style=\"color: #008080; text-decoration-color: #008080; font-weight: bold\">0.4615384615384615</span><span style=\"font-weight: bold\">}</span>,\n",
       "        <span style=\"color: #008000; text-decoration-color: #008000\">'MON'</span>: <span style=\"font-weight: bold\">{</span><span style=\"color: #008000; text-decoration-color: #008000\">'p'</span>: <span style=\"color: #008080; text-decoration-color: #008080; font-weight: bold\">0.9122257053291536</span>, <span style=\"color: #008000; text-decoration-color: #008000\">'r'</span>: <span style=\"color: #008080; text-decoration-color: #008080; font-weight: bold\">0.8953846153846153</span>, <span style=\"color: #008000; text-decoration-color: #008000\">'f'</span>: <span style=\"color: #008080; text-decoration-color: #008080; font-weight: bold\">0.9037267080745341</span><span style=\"font-weight: bold\">}</span>\n",
       "    <span style=\"font-weight: bold\">}</span>\n",
       "<span style=\"font-weight: bold\">}</span>\n",
       "</pre>\n"
      ]
     },
     "metadata": {},
     "output_type": "display_data"
    }
   ],
   "execution_count": 2
  },
  {
   "metadata": {
    "ExecuteTime": {
     "end_time": "2025-04-07T11:26:34.922755Z",
     "start_time": "2025-04-07T11:26:30.894372Z"
    }
   },
   "cell_type": "code",
   "source": [
    "silver_df = bronze_df.copy()\n",
    "silver_df[\"pred\"] = silver_df.apply(basic_post_processing, axis=1)\n",
    "print(evaluate_ner(silver_df))"
   ],
   "id": "9348bfaab7696636",
   "outputs": [
    {
     "data": {
      "text/plain": [
       "\u001B[1m{\u001B[0m\n",
       "    \u001B[32m'ents_p'\u001B[0m: \u001B[1;36m0.8262186725419994\u001B[0m,\n",
       "    \u001B[32m'ents_r'\u001B[0m: \u001B[1;36m0.8809279107326384\u001B[0m,\n",
       "    \u001B[32m'ents_f'\u001B[0m: \u001B[1;36m0.8526966531656364\u001B[0m,\n",
       "    \u001B[32m'ents_per_type'\u001B[0m: \u001B[1m{\u001B[0m\n",
       "        \u001B[32m'LOC'\u001B[0m: \u001B[1m{\u001B[0m\u001B[32m'p'\u001B[0m: \u001B[1;36m0.8868613138686131\u001B[0m, \u001B[32m'r'\u001B[0m: \u001B[1;36m0.89119804400978\u001B[0m, \u001B[32m'f'\u001B[0m: \u001B[1;36m0.8890243902439025\u001B[0m\u001B[1m}\u001B[0m,\n",
       "        \u001B[32m'PCT'\u001B[0m: \u001B[1m{\u001B[0m\u001B[32m'p'\u001B[0m: \u001B[1;36m0.9340659340659341\u001B[0m, \u001B[32m'r'\u001B[0m: \u001B[1;36m0.9444444444444444\u001B[0m, \u001B[32m'f'\u001B[0m: \u001B[1;36m0.9392265193370165\u001B[0m\u001B[1m}\u001B[0m,\n",
       "        \u001B[32m'JOB'\u001B[0m: \u001B[1m{\u001B[0m\u001B[32m'p'\u001B[0m: \u001B[1;36m0.6353658536585366\u001B[0m, \u001B[32m'r'\u001B[0m: \u001B[1;36m0.7929984779299848\u001B[0m, \u001B[32m'f'\u001B[0m: \u001B[1;36m0.7054840893703453\u001B[0m\u001B[1m}\u001B[0m,\n",
       "        \u001B[32m'PERS'\u001B[0m: \u001B[1m{\u001B[0m\u001B[32m'p'\u001B[0m: \u001B[1;36m0.936436884512086\u001B[0m, \u001B[32m'r'\u001B[0m: \u001B[1;36m0.960514233241506\u001B[0m, \u001B[32m'f'\u001B[0m: \u001B[1;36m0.9483227561196736\u001B[0m\u001B[1m}\u001B[0m,\n",
       "        \u001B[32m'PERIOD'\u001B[0m: \u001B[1m{\u001B[0m\u001B[32m'p'\u001B[0m: \u001B[1;36m0.6632653061224489\u001B[0m, \u001B[32m'r'\u001B[0m: \u001B[1;36m0.7027027027027027\u001B[0m, \u001B[32m'f'\u001B[0m: \u001B[1;36m0.6824146981627296\u001B[0m\u001B[1m}\u001B[0m,\n",
       "        \u001B[32m'ORG'\u001B[0m: \u001B[1m{\u001B[0m\u001B[32m'p'\u001B[0m: \u001B[1;36m0.835197174808711\u001B[0m, \u001B[32m'r'\u001B[0m: \u001B[1;36m0.9220272904483431\u001B[0m, \u001B[32m'f'\u001B[0m: \u001B[1;36m0.8764669549104386\u001B[0m\u001B[1m}\u001B[0m,\n",
       "        \u001B[32m'DOC'\u001B[0m: \u001B[1m{\u001B[0m\u001B[32m'p'\u001B[0m: \u001B[1;36m0.68\u001B[0m, \u001B[32m'r'\u001B[0m: \u001B[1;36m0.425\u001B[0m, \u001B[32m'f'\u001B[0m: \u001B[1;36m0.5230769230769231\u001B[0m\u001B[1m}\u001B[0m,\n",
       "        \u001B[32m'MISC'\u001B[0m: \u001B[1m{\u001B[0m\u001B[32m'p'\u001B[0m: \u001B[1;36m0.20098039215686275\u001B[0m, \u001B[32m'r'\u001B[0m: \u001B[1;36m0.2887323943661972\u001B[0m, \u001B[32m'f'\u001B[0m: \u001B[1;36m0.23699421965317918\u001B[0m\u001B[1m}\u001B[0m,\n",
       "        \u001B[32m'QUANT'\u001B[0m: \u001B[1m{\u001B[0m\u001B[32m'p'\u001B[0m: \u001B[1;36m0.78\u001B[0m, \u001B[32m'r'\u001B[0m: \u001B[1;36m0.8764044943820225\u001B[0m, \u001B[32m'f'\u001B[0m: \u001B[1;36m0.8253968253968254\u001B[0m\u001B[1m}\u001B[0m,\n",
       "        \u001B[32m'DATE'\u001B[0m: \u001B[1m{\u001B[0m\u001B[32m'p'\u001B[0m: \u001B[1;36m0.833941605839416\u001B[0m, \u001B[32m'r'\u001B[0m: \u001B[1;36m0.9121756487025948\u001B[0m, \u001B[32m'f'\u001B[0m: \u001B[1;36m0.871306005719733\u001B[0m\u001B[1m}\u001B[0m,\n",
       "        \u001B[32m'ART'\u001B[0m: \u001B[1m{\u001B[0m\u001B[32m'p'\u001B[0m: \u001B[1;36m0.7127659574468085\u001B[0m, \u001B[32m'r'\u001B[0m: \u001B[1;36m0.5654008438818565\u001B[0m, \u001B[32m'f'\u001B[0m: \u001B[1;36m0.6305882352941177\u001B[0m\u001B[1m}\u001B[0m,\n",
       "        \u001B[32m'TIME'\u001B[0m: \u001B[1m{\u001B[0m\u001B[32m'p'\u001B[0m: \u001B[1;36m0.375\u001B[0m, \u001B[32m'r'\u001B[0m: \u001B[1;36m0.6\u001B[0m, \u001B[32m'f'\u001B[0m: \u001B[1;36m0.4615384615384615\u001B[0m\u001B[1m}\u001B[0m,\n",
       "        \u001B[32m'MON'\u001B[0m: \u001B[1m{\u001B[0m\u001B[32m'p'\u001B[0m: \u001B[1;36m0.9122257053291536\u001B[0m, \u001B[32m'r'\u001B[0m: \u001B[1;36m0.8953846153846153\u001B[0m, \u001B[32m'f'\u001B[0m: \u001B[1;36m0.9037267080745341\u001B[0m\u001B[1m}\u001B[0m\n",
       "    \u001B[1m}\u001B[0m\n",
       "\u001B[1m}\u001B[0m\n"
      ],
      "text/html": [
       "<pre style=\"white-space:pre;overflow-x:auto;line-height:normal;font-family:Menlo,'DejaVu Sans Mono',consolas,'Courier New',monospace\"><span style=\"font-weight: bold\">{</span>\n",
       "    <span style=\"color: #008000; text-decoration-color: #008000\">'ents_p'</span>: <span style=\"color: #008080; text-decoration-color: #008080; font-weight: bold\">0.8262186725419994</span>,\n",
       "    <span style=\"color: #008000; text-decoration-color: #008000\">'ents_r'</span>: <span style=\"color: #008080; text-decoration-color: #008080; font-weight: bold\">0.8809279107326384</span>,\n",
       "    <span style=\"color: #008000; text-decoration-color: #008000\">'ents_f'</span>: <span style=\"color: #008080; text-decoration-color: #008080; font-weight: bold\">0.8526966531656364</span>,\n",
       "    <span style=\"color: #008000; text-decoration-color: #008000\">'ents_per_type'</span>: <span style=\"font-weight: bold\">{</span>\n",
       "        <span style=\"color: #008000; text-decoration-color: #008000\">'LOC'</span>: <span style=\"font-weight: bold\">{</span><span style=\"color: #008000; text-decoration-color: #008000\">'p'</span>: <span style=\"color: #008080; text-decoration-color: #008080; font-weight: bold\">0.8868613138686131</span>, <span style=\"color: #008000; text-decoration-color: #008000\">'r'</span>: <span style=\"color: #008080; text-decoration-color: #008080; font-weight: bold\">0.89119804400978</span>, <span style=\"color: #008000; text-decoration-color: #008000\">'f'</span>: <span style=\"color: #008080; text-decoration-color: #008080; font-weight: bold\">0.8890243902439025</span><span style=\"font-weight: bold\">}</span>,\n",
       "        <span style=\"color: #008000; text-decoration-color: #008000\">'PCT'</span>: <span style=\"font-weight: bold\">{</span><span style=\"color: #008000; text-decoration-color: #008000\">'p'</span>: <span style=\"color: #008080; text-decoration-color: #008080; font-weight: bold\">0.9340659340659341</span>, <span style=\"color: #008000; text-decoration-color: #008000\">'r'</span>: <span style=\"color: #008080; text-decoration-color: #008080; font-weight: bold\">0.9444444444444444</span>, <span style=\"color: #008000; text-decoration-color: #008000\">'f'</span>: <span style=\"color: #008080; text-decoration-color: #008080; font-weight: bold\">0.9392265193370165</span><span style=\"font-weight: bold\">}</span>,\n",
       "        <span style=\"color: #008000; text-decoration-color: #008000\">'JOB'</span>: <span style=\"font-weight: bold\">{</span><span style=\"color: #008000; text-decoration-color: #008000\">'p'</span>: <span style=\"color: #008080; text-decoration-color: #008080; font-weight: bold\">0.6353658536585366</span>, <span style=\"color: #008000; text-decoration-color: #008000\">'r'</span>: <span style=\"color: #008080; text-decoration-color: #008080; font-weight: bold\">0.7929984779299848</span>, <span style=\"color: #008000; text-decoration-color: #008000\">'f'</span>: <span style=\"color: #008080; text-decoration-color: #008080; font-weight: bold\">0.7054840893703453</span><span style=\"font-weight: bold\">}</span>,\n",
       "        <span style=\"color: #008000; text-decoration-color: #008000\">'PERS'</span>: <span style=\"font-weight: bold\">{</span><span style=\"color: #008000; text-decoration-color: #008000\">'p'</span>: <span style=\"color: #008080; text-decoration-color: #008080; font-weight: bold\">0.936436884512086</span>, <span style=\"color: #008000; text-decoration-color: #008000\">'r'</span>: <span style=\"color: #008080; text-decoration-color: #008080; font-weight: bold\">0.960514233241506</span>, <span style=\"color: #008000; text-decoration-color: #008000\">'f'</span>: <span style=\"color: #008080; text-decoration-color: #008080; font-weight: bold\">0.9483227561196736</span><span style=\"font-weight: bold\">}</span>,\n",
       "        <span style=\"color: #008000; text-decoration-color: #008000\">'PERIOD'</span>: <span style=\"font-weight: bold\">{</span><span style=\"color: #008000; text-decoration-color: #008000\">'p'</span>: <span style=\"color: #008080; text-decoration-color: #008080; font-weight: bold\">0.6632653061224489</span>, <span style=\"color: #008000; text-decoration-color: #008000\">'r'</span>: <span style=\"color: #008080; text-decoration-color: #008080; font-weight: bold\">0.7027027027027027</span>, <span style=\"color: #008000; text-decoration-color: #008000\">'f'</span>: <span style=\"color: #008080; text-decoration-color: #008080; font-weight: bold\">0.6824146981627296</span><span style=\"font-weight: bold\">}</span>,\n",
       "        <span style=\"color: #008000; text-decoration-color: #008000\">'ORG'</span>: <span style=\"font-weight: bold\">{</span><span style=\"color: #008000; text-decoration-color: #008000\">'p'</span>: <span style=\"color: #008080; text-decoration-color: #008080; font-weight: bold\">0.835197174808711</span>, <span style=\"color: #008000; text-decoration-color: #008000\">'r'</span>: <span style=\"color: #008080; text-decoration-color: #008080; font-weight: bold\">0.9220272904483431</span>, <span style=\"color: #008000; text-decoration-color: #008000\">'f'</span>: <span style=\"color: #008080; text-decoration-color: #008080; font-weight: bold\">0.8764669549104386</span><span style=\"font-weight: bold\">}</span>,\n",
       "        <span style=\"color: #008000; text-decoration-color: #008000\">'DOC'</span>: <span style=\"font-weight: bold\">{</span><span style=\"color: #008000; text-decoration-color: #008000\">'p'</span>: <span style=\"color: #008080; text-decoration-color: #008080; font-weight: bold\">0.68</span>, <span style=\"color: #008000; text-decoration-color: #008000\">'r'</span>: <span style=\"color: #008080; text-decoration-color: #008080; font-weight: bold\">0.425</span>, <span style=\"color: #008000; text-decoration-color: #008000\">'f'</span>: <span style=\"color: #008080; text-decoration-color: #008080; font-weight: bold\">0.5230769230769231</span><span style=\"font-weight: bold\">}</span>,\n",
       "        <span style=\"color: #008000; text-decoration-color: #008000\">'MISC'</span>: <span style=\"font-weight: bold\">{</span><span style=\"color: #008000; text-decoration-color: #008000\">'p'</span>: <span style=\"color: #008080; text-decoration-color: #008080; font-weight: bold\">0.20098039215686275</span>, <span style=\"color: #008000; text-decoration-color: #008000\">'r'</span>: <span style=\"color: #008080; text-decoration-color: #008080; font-weight: bold\">0.2887323943661972</span>, <span style=\"color: #008000; text-decoration-color: #008000\">'f'</span>: <span style=\"color: #008080; text-decoration-color: #008080; font-weight: bold\">0.23699421965317918</span><span style=\"font-weight: bold\">}</span>,\n",
       "        <span style=\"color: #008000; text-decoration-color: #008000\">'QUANT'</span>: <span style=\"font-weight: bold\">{</span><span style=\"color: #008000; text-decoration-color: #008000\">'p'</span>: <span style=\"color: #008080; text-decoration-color: #008080; font-weight: bold\">0.78</span>, <span style=\"color: #008000; text-decoration-color: #008000\">'r'</span>: <span style=\"color: #008080; text-decoration-color: #008080; font-weight: bold\">0.8764044943820225</span>, <span style=\"color: #008000; text-decoration-color: #008000\">'f'</span>: <span style=\"color: #008080; text-decoration-color: #008080; font-weight: bold\">0.8253968253968254</span><span style=\"font-weight: bold\">}</span>,\n",
       "        <span style=\"color: #008000; text-decoration-color: #008000\">'DATE'</span>: <span style=\"font-weight: bold\">{</span><span style=\"color: #008000; text-decoration-color: #008000\">'p'</span>: <span style=\"color: #008080; text-decoration-color: #008080; font-weight: bold\">0.833941605839416</span>, <span style=\"color: #008000; text-decoration-color: #008000\">'r'</span>: <span style=\"color: #008080; text-decoration-color: #008080; font-weight: bold\">0.9121756487025948</span>, <span style=\"color: #008000; text-decoration-color: #008000\">'f'</span>: <span style=\"color: #008080; text-decoration-color: #008080; font-weight: bold\">0.871306005719733</span><span style=\"font-weight: bold\">}</span>,\n",
       "        <span style=\"color: #008000; text-decoration-color: #008000\">'ART'</span>: <span style=\"font-weight: bold\">{</span><span style=\"color: #008000; text-decoration-color: #008000\">'p'</span>: <span style=\"color: #008080; text-decoration-color: #008080; font-weight: bold\">0.7127659574468085</span>, <span style=\"color: #008000; text-decoration-color: #008000\">'r'</span>: <span style=\"color: #008080; text-decoration-color: #008080; font-weight: bold\">0.5654008438818565</span>, <span style=\"color: #008000; text-decoration-color: #008000\">'f'</span>: <span style=\"color: #008080; text-decoration-color: #008080; font-weight: bold\">0.6305882352941177</span><span style=\"font-weight: bold\">}</span>,\n",
       "        <span style=\"color: #008000; text-decoration-color: #008000\">'TIME'</span>: <span style=\"font-weight: bold\">{</span><span style=\"color: #008000; text-decoration-color: #008000\">'p'</span>: <span style=\"color: #008080; text-decoration-color: #008080; font-weight: bold\">0.375</span>, <span style=\"color: #008000; text-decoration-color: #008000\">'r'</span>: <span style=\"color: #008080; text-decoration-color: #008080; font-weight: bold\">0.6</span>, <span style=\"color: #008000; text-decoration-color: #008000\">'f'</span>: <span style=\"color: #008080; text-decoration-color: #008080; font-weight: bold\">0.4615384615384615</span><span style=\"font-weight: bold\">}</span>,\n",
       "        <span style=\"color: #008000; text-decoration-color: #008000\">'MON'</span>: <span style=\"font-weight: bold\">{</span><span style=\"color: #008000; text-decoration-color: #008000\">'p'</span>: <span style=\"color: #008080; text-decoration-color: #008080; font-weight: bold\">0.9122257053291536</span>, <span style=\"color: #008000; text-decoration-color: #008000\">'r'</span>: <span style=\"color: #008080; text-decoration-color: #008080; font-weight: bold\">0.8953846153846153</span>, <span style=\"color: #008000; text-decoration-color: #008000\">'f'</span>: <span style=\"color: #008080; text-decoration-color: #008080; font-weight: bold\">0.9037267080745341</span><span style=\"font-weight: bold\">}</span>\n",
       "    <span style=\"font-weight: bold\">}</span>\n",
       "<span style=\"font-weight: bold\">}</span>\n",
       "</pre>\n"
      ]
     },
     "metadata": {},
     "output_type": "display_data"
    }
   ],
   "execution_count": 3
  },
  {
   "metadata": {
    "ExecuteTime": {
     "end_time": "2025-04-06T17:42:36.760385Z",
     "start_time": "2025-04-06T17:40:17.372800Z"
    }
   },
   "cell_type": "code",
   "source": [
    "gold_df = silver_df.copy()\n",
    "gold_df[\"pred\"] = gold_df[\"pred\"].apply(lambda x: advanced_post_processing(x))\n",
    "print(evaluate_ner(gold_df))"
   ],
   "id": "58b6d10148ea4d8d",
   "outputs": [
    {
     "data": {
      "text/plain": [
       "\u001B[1m{\u001B[0m\n",
       "    \u001B[32m'ents_p'\u001B[0m: \u001B[1;36m0.520973348783314\u001B[0m,\n",
       "    \u001B[32m'ents_r'\u001B[0m: \u001B[1;36m0.660108647775657\u001B[0m,\n",
       "    \u001B[32m'ents_f'\u001B[0m: \u001B[1;36m0.5823457029985104\u001B[0m,\n",
       "    \u001B[32m'ents_per_type'\u001B[0m: \u001B[1m{\u001B[0m\n",
       "        \u001B[32m'MISC'\u001B[0m: \u001B[1m{\u001B[0m\u001B[32m'p'\u001B[0m: \u001B[1;36m0.015435501653803748\u001B[0m, \u001B[32m'r'\u001B[0m: \u001B[1;36m0.19718309859154928\u001B[0m, \u001B[32m'f'\u001B[0m: \u001B[1;36m0.028629856850715747\u001B[0m\u001B[1m}\u001B[0m,\n",
       "        \u001B[32m'LOC'\u001B[0m: \u001B[1m{\u001B[0m\u001B[32m'p'\u001B[0m: \u001B[1;36m0.7837837837837838\u001B[0m, \u001B[32m'r'\u001B[0m: \u001B[1;36m0.7090464547677262\u001B[0m, \u001B[32m'f'\u001B[0m: \u001B[1;36m0.7445442875481387\u001B[0m\u001B[1m}\u001B[0m,\n",
       "        \u001B[32m'QUANT'\u001B[0m: \u001B[1m{\u001B[0m\u001B[32m'p'\u001B[0m: \u001B[1;36m0.14416475972540047\u001B[0m, \u001B[32m'r'\u001B[0m: \u001B[1;36m0.7078651685393258\u001B[0m, \u001B[32m'f'\u001B[0m: \u001B[1;36m0.23954372623574147\u001B[0m\u001B[1m}\u001B[0m,\n",
       "        \u001B[32m'PERIOD'\u001B[0m: \u001B[1m{\u001B[0m\u001B[32m'p'\u001B[0m: \u001B[1;36m0.16236162361623616\u001B[0m, \u001B[32m'r'\u001B[0m: \u001B[1;36m0.23783783783783785\u001B[0m, \u001B[32m'f'\u001B[0m: \u001B[1;36m0.19298245614035087\u001B[0m\u001B[1m}\u001B[0m,\n",
       "        \u001B[32m'PCT'\u001B[0m: \u001B[1m{\u001B[0m\u001B[32m'p'\u001B[0m: \u001B[1;36m0.9759036144578314\u001B[0m, \u001B[32m'r'\u001B[0m: \u001B[1;36m0.9\u001B[0m, \u001B[32m'f'\u001B[0m: \u001B[1;36m0.9364161849710982\u001B[0m\u001B[1m}\u001B[0m,\n",
       "        \u001B[32m'PERS'\u001B[0m: \u001B[1m{\u001B[0m\u001B[32m'p'\u001B[0m: \u001B[1;36m0.9522740033688939\u001B[0m, \u001B[32m'r'\u001B[0m: \u001B[1;36m0.7786960514233241\u001B[0m, \u001B[32m'f'\u001B[0m: \u001B[1;36m0.8567820156605203\u001B[0m\u001B[1m}\u001B[0m,\n",
       "        \u001B[32m'JOB'\u001B[0m: \u001B[1m{\u001B[0m\u001B[32m'p'\u001B[0m: \u001B[1;36m0.4758364312267658\u001B[0m, \u001B[32m'r'\u001B[0m: \u001B[1;36m0.3896499238964992\u001B[0m, \u001B[32m'f'\u001B[0m: \u001B[1;36m0.42845188284518826\u001B[0m\u001B[1m}\u001B[0m,\n",
       "        \u001B[32m'DOC'\u001B[0m: \u001B[1m{\u001B[0m\u001B[32m'p'\u001B[0m: \u001B[1;36m0.04155124653739612\u001B[0m, \u001B[32m'r'\u001B[0m: \u001B[1;36m0.375\u001B[0m, \u001B[32m'f'\u001B[0m: \u001B[1;36m0.07481296758104738\u001B[0m\u001B[1m}\u001B[0m,\n",
       "        \u001B[32m'DATE'\u001B[0m: \u001B[1m{\u001B[0m\u001B[32m'p'\u001B[0m: \u001B[1;36m0.6729323308270677\u001B[0m, \u001B[32m'r'\u001B[0m: \u001B[1;36m0.7145708582834331\u001B[0m, \u001B[32m'f'\u001B[0m: \u001B[1;36m0.6931268151016458\u001B[0m\u001B[1m}\u001B[0m,\n",
       "        \u001B[32m'ORG'\u001B[0m: \u001B[1m{\u001B[0m\u001B[32m'p'\u001B[0m: \u001B[1;36m0.7249481686247409\u001B[0m, \u001B[32m'r'\u001B[0m: \u001B[1;36m0.6816114359974009\u001B[0m, \u001B[32m'f'\u001B[0m: \u001B[1;36m0.7026121902210315\u001B[0m\u001B[1m}\u001B[0m,\n",
       "        \u001B[32m'ART'\u001B[0m: \u001B[1m{\u001B[0m\u001B[32m'p'\u001B[0m: \u001B[1;36m0.2988505747126437\u001B[0m, \u001B[32m'r'\u001B[0m: \u001B[1;36m0.3291139240506329\u001B[0m, \u001B[32m'f'\u001B[0m: \u001B[1;36m0.3132530120481927\u001B[0m\u001B[1m}\u001B[0m,\n",
       "        \u001B[32m'TIME'\u001B[0m: \u001B[1m{\u001B[0m\u001B[32m'p'\u001B[0m: \u001B[1;36m0.0392156862745098\u001B[0m, \u001B[32m'r'\u001B[0m: \u001B[1;36m0.2\u001B[0m, \u001B[32m'f'\u001B[0m: \u001B[1;36m0.06557377049180327\u001B[0m\u001B[1m}\u001B[0m,\n",
       "        \u001B[32m'MON'\u001B[0m: \u001B[1m{\u001B[0m\u001B[32m'p'\u001B[0m: \u001B[1;36m0.7834394904458599\u001B[0m, \u001B[32m'r'\u001B[0m: \u001B[1;36m0.7569230769230769\u001B[0m, \u001B[32m'f'\u001B[0m: \u001B[1;36m0.7699530516431925\u001B[0m\u001B[1m}\u001B[0m\n",
       "    \u001B[1m}\u001B[0m\n",
       "\u001B[1m}\u001B[0m\n"
      ],
      "text/html": [
       "<pre style=\"white-space:pre;overflow-x:auto;line-height:normal;font-family:Menlo,'DejaVu Sans Mono',consolas,'Courier New',monospace\"><span style=\"font-weight: bold\">{</span>\n",
       "    <span style=\"color: #008000; text-decoration-color: #008000\">'ents_p'</span>: <span style=\"color: #008080; text-decoration-color: #008080; font-weight: bold\">0.520973348783314</span>,\n",
       "    <span style=\"color: #008000; text-decoration-color: #008000\">'ents_r'</span>: <span style=\"color: #008080; text-decoration-color: #008080; font-weight: bold\">0.660108647775657</span>,\n",
       "    <span style=\"color: #008000; text-decoration-color: #008000\">'ents_f'</span>: <span style=\"color: #008080; text-decoration-color: #008080; font-weight: bold\">0.5823457029985104</span>,\n",
       "    <span style=\"color: #008000; text-decoration-color: #008000\">'ents_per_type'</span>: <span style=\"font-weight: bold\">{</span>\n",
       "        <span style=\"color: #008000; text-decoration-color: #008000\">'MISC'</span>: <span style=\"font-weight: bold\">{</span><span style=\"color: #008000; text-decoration-color: #008000\">'p'</span>: <span style=\"color: #008080; text-decoration-color: #008080; font-weight: bold\">0.015435501653803748</span>, <span style=\"color: #008000; text-decoration-color: #008000\">'r'</span>: <span style=\"color: #008080; text-decoration-color: #008080; font-weight: bold\">0.19718309859154928</span>, <span style=\"color: #008000; text-decoration-color: #008000\">'f'</span>: <span style=\"color: #008080; text-decoration-color: #008080; font-weight: bold\">0.028629856850715747</span><span style=\"font-weight: bold\">}</span>,\n",
       "        <span style=\"color: #008000; text-decoration-color: #008000\">'LOC'</span>: <span style=\"font-weight: bold\">{</span><span style=\"color: #008000; text-decoration-color: #008000\">'p'</span>: <span style=\"color: #008080; text-decoration-color: #008080; font-weight: bold\">0.7837837837837838</span>, <span style=\"color: #008000; text-decoration-color: #008000\">'r'</span>: <span style=\"color: #008080; text-decoration-color: #008080; font-weight: bold\">0.7090464547677262</span>, <span style=\"color: #008000; text-decoration-color: #008000\">'f'</span>: <span style=\"color: #008080; text-decoration-color: #008080; font-weight: bold\">0.7445442875481387</span><span style=\"font-weight: bold\">}</span>,\n",
       "        <span style=\"color: #008000; text-decoration-color: #008000\">'QUANT'</span>: <span style=\"font-weight: bold\">{</span><span style=\"color: #008000; text-decoration-color: #008000\">'p'</span>: <span style=\"color: #008080; text-decoration-color: #008080; font-weight: bold\">0.14416475972540047</span>, <span style=\"color: #008000; text-decoration-color: #008000\">'r'</span>: <span style=\"color: #008080; text-decoration-color: #008080; font-weight: bold\">0.7078651685393258</span>, <span style=\"color: #008000; text-decoration-color: #008000\">'f'</span>: <span style=\"color: #008080; text-decoration-color: #008080; font-weight: bold\">0.23954372623574147</span><span style=\"font-weight: bold\">}</span>,\n",
       "        <span style=\"color: #008000; text-decoration-color: #008000\">'PERIOD'</span>: <span style=\"font-weight: bold\">{</span><span style=\"color: #008000; text-decoration-color: #008000\">'p'</span>: <span style=\"color: #008080; text-decoration-color: #008080; font-weight: bold\">0.16236162361623616</span>, <span style=\"color: #008000; text-decoration-color: #008000\">'r'</span>: <span style=\"color: #008080; text-decoration-color: #008080; font-weight: bold\">0.23783783783783785</span>, <span style=\"color: #008000; text-decoration-color: #008000\">'f'</span>: <span style=\"color: #008080; text-decoration-color: #008080; font-weight: bold\">0.19298245614035087</span><span style=\"font-weight: bold\">}</span>,\n",
       "        <span style=\"color: #008000; text-decoration-color: #008000\">'PCT'</span>: <span style=\"font-weight: bold\">{</span><span style=\"color: #008000; text-decoration-color: #008000\">'p'</span>: <span style=\"color: #008080; text-decoration-color: #008080; font-weight: bold\">0.9759036144578314</span>, <span style=\"color: #008000; text-decoration-color: #008000\">'r'</span>: <span style=\"color: #008080; text-decoration-color: #008080; font-weight: bold\">0.9</span>, <span style=\"color: #008000; text-decoration-color: #008000\">'f'</span>: <span style=\"color: #008080; text-decoration-color: #008080; font-weight: bold\">0.9364161849710982</span><span style=\"font-weight: bold\">}</span>,\n",
       "        <span style=\"color: #008000; text-decoration-color: #008000\">'PERS'</span>: <span style=\"font-weight: bold\">{</span><span style=\"color: #008000; text-decoration-color: #008000\">'p'</span>: <span style=\"color: #008080; text-decoration-color: #008080; font-weight: bold\">0.9522740033688939</span>, <span style=\"color: #008000; text-decoration-color: #008000\">'r'</span>: <span style=\"color: #008080; text-decoration-color: #008080; font-weight: bold\">0.7786960514233241</span>, <span style=\"color: #008000; text-decoration-color: #008000\">'f'</span>: <span style=\"color: #008080; text-decoration-color: #008080; font-weight: bold\">0.8567820156605203</span><span style=\"font-weight: bold\">}</span>,\n",
       "        <span style=\"color: #008000; text-decoration-color: #008000\">'JOB'</span>: <span style=\"font-weight: bold\">{</span><span style=\"color: #008000; text-decoration-color: #008000\">'p'</span>: <span style=\"color: #008080; text-decoration-color: #008080; font-weight: bold\">0.4758364312267658</span>, <span style=\"color: #008000; text-decoration-color: #008000\">'r'</span>: <span style=\"color: #008080; text-decoration-color: #008080; font-weight: bold\">0.3896499238964992</span>, <span style=\"color: #008000; text-decoration-color: #008000\">'f'</span>: <span style=\"color: #008080; text-decoration-color: #008080; font-weight: bold\">0.42845188284518826</span><span style=\"font-weight: bold\">}</span>,\n",
       "        <span style=\"color: #008000; text-decoration-color: #008000\">'DOC'</span>: <span style=\"font-weight: bold\">{</span><span style=\"color: #008000; text-decoration-color: #008000\">'p'</span>: <span style=\"color: #008080; text-decoration-color: #008080; font-weight: bold\">0.04155124653739612</span>, <span style=\"color: #008000; text-decoration-color: #008000\">'r'</span>: <span style=\"color: #008080; text-decoration-color: #008080; font-weight: bold\">0.375</span>, <span style=\"color: #008000; text-decoration-color: #008000\">'f'</span>: <span style=\"color: #008080; text-decoration-color: #008080; font-weight: bold\">0.07481296758104738</span><span style=\"font-weight: bold\">}</span>,\n",
       "        <span style=\"color: #008000; text-decoration-color: #008000\">'DATE'</span>: <span style=\"font-weight: bold\">{</span><span style=\"color: #008000; text-decoration-color: #008000\">'p'</span>: <span style=\"color: #008080; text-decoration-color: #008080; font-weight: bold\">0.6729323308270677</span>, <span style=\"color: #008000; text-decoration-color: #008000\">'r'</span>: <span style=\"color: #008080; text-decoration-color: #008080; font-weight: bold\">0.7145708582834331</span>, <span style=\"color: #008000; text-decoration-color: #008000\">'f'</span>: <span style=\"color: #008080; text-decoration-color: #008080; font-weight: bold\">0.6931268151016458</span><span style=\"font-weight: bold\">}</span>,\n",
       "        <span style=\"color: #008000; text-decoration-color: #008000\">'ORG'</span>: <span style=\"font-weight: bold\">{</span><span style=\"color: #008000; text-decoration-color: #008000\">'p'</span>: <span style=\"color: #008080; text-decoration-color: #008080; font-weight: bold\">0.7249481686247409</span>, <span style=\"color: #008000; text-decoration-color: #008000\">'r'</span>: <span style=\"color: #008080; text-decoration-color: #008080; font-weight: bold\">0.6816114359974009</span>, <span style=\"color: #008000; text-decoration-color: #008000\">'f'</span>: <span style=\"color: #008080; text-decoration-color: #008080; font-weight: bold\">0.7026121902210315</span><span style=\"font-weight: bold\">}</span>,\n",
       "        <span style=\"color: #008000; text-decoration-color: #008000\">'ART'</span>: <span style=\"font-weight: bold\">{</span><span style=\"color: #008000; text-decoration-color: #008000\">'p'</span>: <span style=\"color: #008080; text-decoration-color: #008080; font-weight: bold\">0.2988505747126437</span>, <span style=\"color: #008000; text-decoration-color: #008000\">'r'</span>: <span style=\"color: #008080; text-decoration-color: #008080; font-weight: bold\">0.3291139240506329</span>, <span style=\"color: #008000; text-decoration-color: #008000\">'f'</span>: <span style=\"color: #008080; text-decoration-color: #008080; font-weight: bold\">0.3132530120481927</span><span style=\"font-weight: bold\">}</span>,\n",
       "        <span style=\"color: #008000; text-decoration-color: #008000\">'TIME'</span>: <span style=\"font-weight: bold\">{</span><span style=\"color: #008000; text-decoration-color: #008000\">'p'</span>: <span style=\"color: #008080; text-decoration-color: #008080; font-weight: bold\">0.0392156862745098</span>, <span style=\"color: #008000; text-decoration-color: #008000\">'r'</span>: <span style=\"color: #008080; text-decoration-color: #008080; font-weight: bold\">0.2</span>, <span style=\"color: #008000; text-decoration-color: #008000\">'f'</span>: <span style=\"color: #008080; text-decoration-color: #008080; font-weight: bold\">0.06557377049180327</span><span style=\"font-weight: bold\">}</span>,\n",
       "        <span style=\"color: #008000; text-decoration-color: #008000\">'MON'</span>: <span style=\"font-weight: bold\">{</span><span style=\"color: #008000; text-decoration-color: #008000\">'p'</span>: <span style=\"color: #008080; text-decoration-color: #008080; font-weight: bold\">0.7834394904458599</span>, <span style=\"color: #008000; text-decoration-color: #008000\">'r'</span>: <span style=\"color: #008080; text-decoration-color: #008080; font-weight: bold\">0.7569230769230769</span>, <span style=\"color: #008000; text-decoration-color: #008000\">'f'</span>: <span style=\"color: #008080; text-decoration-color: #008080; font-weight: bold\">0.7699530516431925</span><span style=\"font-weight: bold\">}</span>\n",
       "    <span style=\"font-weight: bold\">}</span>\n",
       "<span style=\"font-weight: bold\">}</span>\n",
       "</pre>\n"
      ]
     },
     "metadata": {},
     "output_type": "display_data"
    }
   ],
   "execution_count": 11
  },
  {
   "metadata": {
    "ExecuteTime": {
     "end_time": "2025-04-06T17:42:36.825744Z",
     "start_time": "2025-04-06T17:42:36.761662Z"
    }
   },
   "cell_type": "code",
   "source": [
    "silver_df.to_csv(BASE_PATH + \"silver\" + FILE_PATH, index=False)\n",
    "gold_df.to_csv(BASE_PATH + \"gold\" + FILE_PATH, index=False)"
   ],
   "id": "8d9cdfa497f4f764",
   "outputs": [],
   "execution_count": 12
  },
  {
   "metadata": {},
   "cell_type": "code",
   "outputs": [],
   "execution_count": null,
   "source": "",
   "id": "690a93272c8b4e47"
  }
 ],
 "metadata": {
  "kernelspec": {
   "display_name": "Python 3",
   "language": "python",
   "name": "python3"
  },
  "language_info": {
   "codemirror_mode": {
    "name": "ipython",
    "version": 2
   },
   "file_extension": ".py",
   "mimetype": "text/x-python",
   "name": "python",
   "nbconvert_exporter": "python",
   "pygments_lexer": "ipython2",
   "version": "2.7.6"
  }
 },
 "nbformat": 4,
 "nbformat_minor": 5
}
