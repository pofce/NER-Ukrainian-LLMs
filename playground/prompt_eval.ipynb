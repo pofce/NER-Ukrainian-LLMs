{
 "cells": [
  {
   "cell_type": "code",
   "id": "initial_id",
   "metadata": {
    "collapsed": true,
    "ExecuteTime": {
     "end_time": "2025-04-06T17:40:09.996569Z",
     "start_time": "2025-04-06T17:40:05.370330Z"
    }
   },
   "source": [
    "import pandas as pd\n",
    "\n",
    "from rich import print\n",
    "from utils import evaluate_ner, basic_post_processing, advanced_post_processing\n",
    "\n",
    "\n",
    "BASE_PATH = \"../results/prompting/\"\n",
    "FILE_PATH = \"/cot/gemma3_27b.csv\"\n",
    "\n",
    "bronze_df = pd.read_csv(BASE_PATH + \"bronze\" + FILE_PATH)\n",
    "print(evaluate_ner(bronze_df))"
   ],
   "outputs": [
    {
     "data": {
      "text/plain": [
       "\u001B[1m{\u001B[0m\n",
       "    \u001B[32m'ents_p'\u001B[0m: \u001B[1;36m0.31673289929821596\u001B[0m,\n",
       "    \u001B[32m'ents_r'\u001B[0m: \u001B[1;36m0.5499926589340772\u001B[0m,\n",
       "    \u001B[32m'ents_f'\u001B[0m: \u001B[1;36m0.4019744607790535\u001B[0m,\n",
       "    \u001B[32m'ents_per_type'\u001B[0m: \u001B[1m{\u001B[0m\n",
       "        \u001B[32m'MISC'\u001B[0m: \u001B[1m{\u001B[0m\u001B[32m'p'\u001B[0m: \u001B[1;36m0.006388888888888889\u001B[0m, \u001B[32m'r'\u001B[0m: \u001B[1;36m0.1619718309859155\u001B[0m, \u001B[32m'f'\u001B[0m: \u001B[1;36m0.012292891501870656\u001B[0m\u001B[1m}\u001B[0m,\n",
       "        \u001B[32m'LOC'\u001B[0m: \u001B[1m{\u001B[0m\u001B[32m'p'\u001B[0m: \u001B[1;36m0.4155440414507772\u001B[0m, \u001B[32m'r'\u001B[0m: \u001B[1;36m0.4902200488997555\u001B[0m, \u001B[32m'f'\u001B[0m: \u001B[1;36m0.44980370162647226\u001B[0m\u001B[1m}\u001B[0m,\n",
       "        \u001B[32m'QUANT'\u001B[0m: \u001B[1m{\u001B[0m\u001B[32m'p'\u001B[0m: \u001B[1;36m0.1546134663341646\u001B[0m, \u001B[32m'r'\u001B[0m: \u001B[1;36m0.6966292134831461\u001B[0m, \u001B[32m'f'\u001B[0m: \u001B[1;36m0.2530612244897959\u001B[0m\u001B[1m}\u001B[0m,\n",
       "        \u001B[32m'PERIOD'\u001B[0m: \u001B[1m{\u001B[0m\u001B[32m'p'\u001B[0m: \u001B[1;36m0.1825242718446602\u001B[0m, \u001B[32m'r'\u001B[0m: \u001B[1;36m0.5081081081081081\u001B[0m, \u001B[32m'f'\u001B[0m: \u001B[1;36m0.26857142857142857\u001B[0m\u001B[1m}\u001B[0m,\n",
       "        \u001B[32m'PCT'\u001B[0m: \u001B[1m{\u001B[0m\u001B[32m'p'\u001B[0m: \u001B[1;36m0.9230769230769231\u001B[0m, \u001B[32m'r'\u001B[0m: \u001B[1;36m0.8\u001B[0m, \u001B[32m'f'\u001B[0m: \u001B[1;36m0.8571428571428571\u001B[0m\u001B[1m}\u001B[0m,\n",
       "        \u001B[32m'PERS'\u001B[0m: \u001B[1m{\u001B[0m\u001B[32m'p'\u001B[0m: \u001B[1;36m0.7908020190689848\u001B[0m, \u001B[32m'r'\u001B[0m: \u001B[1;36m0.6473829201101928\u001B[0m, \u001B[32m'f'\u001B[0m: \u001B[1;36m0.7119414289320878\u001B[0m\u001B[1m}\u001B[0m,\n",
       "        \u001B[32m'JOB'\u001B[0m: \u001B[1m{\u001B[0m\u001B[32m'p'\u001B[0m: \u001B[1;36m0.5146067415730337\u001B[0m, \u001B[32m'r'\u001B[0m: \u001B[1;36m0.3485540334855403\u001B[0m, \u001B[32m'f'\u001B[0m: \u001B[1;36m0.41560798548094374\u001B[0m\u001B[1m}\u001B[0m,\n",
       "        \u001B[32m'DOC'\u001B[0m: \u001B[1m{\u001B[0m\u001B[32m'p'\u001B[0m: \u001B[1;36m0.032407407407407406\u001B[0m, \u001B[32m'r'\u001B[0m: \u001B[1;36m0.35\u001B[0m, \u001B[32m'f'\u001B[0m: \u001B[1;36m0.059322033898305086\u001B[0m\u001B[1m}\u001B[0m,\n",
       "        \u001B[32m'ART'\u001B[0m: \u001B[1m{\u001B[0m\u001B[32m'p'\u001B[0m: \u001B[1;36m0.055299539170506916\u001B[0m, \u001B[32m'r'\u001B[0m: \u001B[1;36m0.3037974683544304\u001B[0m, \u001B[32m'f'\u001B[0m: \u001B[1;36m0.0935672514619883\u001B[0m\u001B[1m}\u001B[0m,\n",
       "        \u001B[32m'ORG'\u001B[0m: \u001B[1m{\u001B[0m\u001B[32m'p'\u001B[0m: \u001B[1;36m0.5913163335630599\u001B[0m, \u001B[32m'r'\u001B[0m: \u001B[1;36m0.557504873294347\u001B[0m, \u001B[32m'f'\u001B[0m: \u001B[1;36m0.5739130434782608\u001B[0m\u001B[1m}\u001B[0m,\n",
       "        \u001B[32m'DATE'\u001B[0m: \u001B[1m{\u001B[0m\u001B[32m'p'\u001B[0m: \u001B[1;36m0.6352657004830918\u001B[0m, \u001B[32m'r'\u001B[0m: \u001B[1;36m0.5249500998003992\u001B[0m, \u001B[32m'f'\u001B[0m: \u001B[1;36m0.5748633879781421\u001B[0m\u001B[1m}\u001B[0m,\n",
       "        \u001B[32m'TIME'\u001B[0m: \u001B[1m{\u001B[0m\u001B[32m'p'\u001B[0m: \u001B[1;36m0.04201680672268908\u001B[0m, \u001B[32m'r'\u001B[0m: \u001B[1;36m0.5\u001B[0m, \u001B[32m'f'\u001B[0m: \u001B[1;36m0.07751937984496125\u001B[0m\u001B[1m}\u001B[0m,\n",
       "        \u001B[32m'MON'\u001B[0m: \u001B[1m{\u001B[0m\u001B[32m'p'\u001B[0m: \u001B[1;36m0.7788461538461539\u001B[0m, \u001B[32m'r'\u001B[0m: \u001B[1;36m0.7476923076923077\u001B[0m, \u001B[32m'f'\u001B[0m: \u001B[1;36m0.7629513343799057\u001B[0m\u001B[1m}\u001B[0m,\n",
       "        \u001B[32m'text'\u001B[0m: \u001B[1m{\u001B[0m\u001B[32m'p'\u001B[0m: \u001B[1;36m0.0\u001B[0m, \u001B[32m'r'\u001B[0m: \u001B[1;36m0.0\u001B[0m, \u001B[32m'f'\u001B[0m: \u001B[1;36m0.0\u001B[0m\u001B[1m}\u001B[0m,\n",
       "        \u001B[32m'EVENT'\u001B[0m: \u001B[1m{\u001B[0m\u001B[32m'p'\u001B[0m: \u001B[1;36m0.0\u001B[0m, \u001B[32m'r'\u001B[0m: \u001B[1;36m0.0\u001B[0m, \u001B[32m'f'\u001B[0m: \u001B[1;36m0.0\u001B[0m\u001B[1m}\u001B[0m,\n",
       "        \u001B[32m'STREET'\u001B[0m: \u001B[1m{\u001B[0m\u001B[32m'p'\u001B[0m: \u001B[1;36m0.0\u001B[0m, \u001B[32m'r'\u001B[0m: \u001B[1;36m0.0\u001B[0m, \u001B[32m'f'\u001B[0m: \u001B[1;36m0.0\u001B[0m\u001B[1m}\u001B[0m,\n",
       "        \u001B[32m'PER'\u001B[0m: \u001B[1m{\u001B[0m\u001B[32m'p'\u001B[0m: \u001B[1;36m0.0\u001B[0m, \u001B[32m'r'\u001B[0m: \u001B[1;36m0.0\u001B[0m, \u001B[32m'f'\u001B[0m: \u001B[1;36m0.0\u001B[0m\u001B[1m}\u001B[0m\n",
       "    \u001B[1m}\u001B[0m\n",
       "\u001B[1m}\u001B[0m\n"
      ],
      "text/html": [
       "<pre style=\"white-space:pre;overflow-x:auto;line-height:normal;font-family:Menlo,'DejaVu Sans Mono',consolas,'Courier New',monospace\"><span style=\"font-weight: bold\">{</span>\n",
       "    <span style=\"color: #008000; text-decoration-color: #008000\">'ents_p'</span>: <span style=\"color: #008080; text-decoration-color: #008080; font-weight: bold\">0.31673289929821596</span>,\n",
       "    <span style=\"color: #008000; text-decoration-color: #008000\">'ents_r'</span>: <span style=\"color: #008080; text-decoration-color: #008080; font-weight: bold\">0.5499926589340772</span>,\n",
       "    <span style=\"color: #008000; text-decoration-color: #008000\">'ents_f'</span>: <span style=\"color: #008080; text-decoration-color: #008080; font-weight: bold\">0.4019744607790535</span>,\n",
       "    <span style=\"color: #008000; text-decoration-color: #008000\">'ents_per_type'</span>: <span style=\"font-weight: bold\">{</span>\n",
       "        <span style=\"color: #008000; text-decoration-color: #008000\">'MISC'</span>: <span style=\"font-weight: bold\">{</span><span style=\"color: #008000; text-decoration-color: #008000\">'p'</span>: <span style=\"color: #008080; text-decoration-color: #008080; font-weight: bold\">0.006388888888888889</span>, <span style=\"color: #008000; text-decoration-color: #008000\">'r'</span>: <span style=\"color: #008080; text-decoration-color: #008080; font-weight: bold\">0.1619718309859155</span>, <span style=\"color: #008000; text-decoration-color: #008000\">'f'</span>: <span style=\"color: #008080; text-decoration-color: #008080; font-weight: bold\">0.012292891501870656</span><span style=\"font-weight: bold\">}</span>,\n",
       "        <span style=\"color: #008000; text-decoration-color: #008000\">'LOC'</span>: <span style=\"font-weight: bold\">{</span><span style=\"color: #008000; text-decoration-color: #008000\">'p'</span>: <span style=\"color: #008080; text-decoration-color: #008080; font-weight: bold\">0.4155440414507772</span>, <span style=\"color: #008000; text-decoration-color: #008000\">'r'</span>: <span style=\"color: #008080; text-decoration-color: #008080; font-weight: bold\">0.4902200488997555</span>, <span style=\"color: #008000; text-decoration-color: #008000\">'f'</span>: <span style=\"color: #008080; text-decoration-color: #008080; font-weight: bold\">0.44980370162647226</span><span style=\"font-weight: bold\">}</span>,\n",
       "        <span style=\"color: #008000; text-decoration-color: #008000\">'QUANT'</span>: <span style=\"font-weight: bold\">{</span><span style=\"color: #008000; text-decoration-color: #008000\">'p'</span>: <span style=\"color: #008080; text-decoration-color: #008080; font-weight: bold\">0.1546134663341646</span>, <span style=\"color: #008000; text-decoration-color: #008000\">'r'</span>: <span style=\"color: #008080; text-decoration-color: #008080; font-weight: bold\">0.6966292134831461</span>, <span style=\"color: #008000; text-decoration-color: #008000\">'f'</span>: <span style=\"color: #008080; text-decoration-color: #008080; font-weight: bold\">0.2530612244897959</span><span style=\"font-weight: bold\">}</span>,\n",
       "        <span style=\"color: #008000; text-decoration-color: #008000\">'PERIOD'</span>: <span style=\"font-weight: bold\">{</span><span style=\"color: #008000; text-decoration-color: #008000\">'p'</span>: <span style=\"color: #008080; text-decoration-color: #008080; font-weight: bold\">0.1825242718446602</span>, <span style=\"color: #008000; text-decoration-color: #008000\">'r'</span>: <span style=\"color: #008080; text-decoration-color: #008080; font-weight: bold\">0.5081081081081081</span>, <span style=\"color: #008000; text-decoration-color: #008000\">'f'</span>: <span style=\"color: #008080; text-decoration-color: #008080; font-weight: bold\">0.26857142857142857</span><span style=\"font-weight: bold\">}</span>,\n",
       "        <span style=\"color: #008000; text-decoration-color: #008000\">'PCT'</span>: <span style=\"font-weight: bold\">{</span><span style=\"color: #008000; text-decoration-color: #008000\">'p'</span>: <span style=\"color: #008080; text-decoration-color: #008080; font-weight: bold\">0.9230769230769231</span>, <span style=\"color: #008000; text-decoration-color: #008000\">'r'</span>: <span style=\"color: #008080; text-decoration-color: #008080; font-weight: bold\">0.8</span>, <span style=\"color: #008000; text-decoration-color: #008000\">'f'</span>: <span style=\"color: #008080; text-decoration-color: #008080; font-weight: bold\">0.8571428571428571</span><span style=\"font-weight: bold\">}</span>,\n",
       "        <span style=\"color: #008000; text-decoration-color: #008000\">'PERS'</span>: <span style=\"font-weight: bold\">{</span><span style=\"color: #008000; text-decoration-color: #008000\">'p'</span>: <span style=\"color: #008080; text-decoration-color: #008080; font-weight: bold\">0.7908020190689848</span>, <span style=\"color: #008000; text-decoration-color: #008000\">'r'</span>: <span style=\"color: #008080; text-decoration-color: #008080; font-weight: bold\">0.6473829201101928</span>, <span style=\"color: #008000; text-decoration-color: #008000\">'f'</span>: <span style=\"color: #008080; text-decoration-color: #008080; font-weight: bold\">0.7119414289320878</span><span style=\"font-weight: bold\">}</span>,\n",
       "        <span style=\"color: #008000; text-decoration-color: #008000\">'JOB'</span>: <span style=\"font-weight: bold\">{</span><span style=\"color: #008000; text-decoration-color: #008000\">'p'</span>: <span style=\"color: #008080; text-decoration-color: #008080; font-weight: bold\">0.5146067415730337</span>, <span style=\"color: #008000; text-decoration-color: #008000\">'r'</span>: <span style=\"color: #008080; text-decoration-color: #008080; font-weight: bold\">0.3485540334855403</span>, <span style=\"color: #008000; text-decoration-color: #008000\">'f'</span>: <span style=\"color: #008080; text-decoration-color: #008080; font-weight: bold\">0.41560798548094374</span><span style=\"font-weight: bold\">}</span>,\n",
       "        <span style=\"color: #008000; text-decoration-color: #008000\">'DOC'</span>: <span style=\"font-weight: bold\">{</span><span style=\"color: #008000; text-decoration-color: #008000\">'p'</span>: <span style=\"color: #008080; text-decoration-color: #008080; font-weight: bold\">0.032407407407407406</span>, <span style=\"color: #008000; text-decoration-color: #008000\">'r'</span>: <span style=\"color: #008080; text-decoration-color: #008080; font-weight: bold\">0.35</span>, <span style=\"color: #008000; text-decoration-color: #008000\">'f'</span>: <span style=\"color: #008080; text-decoration-color: #008080; font-weight: bold\">0.059322033898305086</span><span style=\"font-weight: bold\">}</span>,\n",
       "        <span style=\"color: #008000; text-decoration-color: #008000\">'ART'</span>: <span style=\"font-weight: bold\">{</span><span style=\"color: #008000; text-decoration-color: #008000\">'p'</span>: <span style=\"color: #008080; text-decoration-color: #008080; font-weight: bold\">0.055299539170506916</span>, <span style=\"color: #008000; text-decoration-color: #008000\">'r'</span>: <span style=\"color: #008080; text-decoration-color: #008080; font-weight: bold\">0.3037974683544304</span>, <span style=\"color: #008000; text-decoration-color: #008000\">'f'</span>: <span style=\"color: #008080; text-decoration-color: #008080; font-weight: bold\">0.0935672514619883</span><span style=\"font-weight: bold\">}</span>,\n",
       "        <span style=\"color: #008000; text-decoration-color: #008000\">'ORG'</span>: <span style=\"font-weight: bold\">{</span><span style=\"color: #008000; text-decoration-color: #008000\">'p'</span>: <span style=\"color: #008080; text-decoration-color: #008080; font-weight: bold\">0.5913163335630599</span>, <span style=\"color: #008000; text-decoration-color: #008000\">'r'</span>: <span style=\"color: #008080; text-decoration-color: #008080; font-weight: bold\">0.557504873294347</span>, <span style=\"color: #008000; text-decoration-color: #008000\">'f'</span>: <span style=\"color: #008080; text-decoration-color: #008080; font-weight: bold\">0.5739130434782608</span><span style=\"font-weight: bold\">}</span>,\n",
       "        <span style=\"color: #008000; text-decoration-color: #008000\">'DATE'</span>: <span style=\"font-weight: bold\">{</span><span style=\"color: #008000; text-decoration-color: #008000\">'p'</span>: <span style=\"color: #008080; text-decoration-color: #008080; font-weight: bold\">0.6352657004830918</span>, <span style=\"color: #008000; text-decoration-color: #008000\">'r'</span>: <span style=\"color: #008080; text-decoration-color: #008080; font-weight: bold\">0.5249500998003992</span>, <span style=\"color: #008000; text-decoration-color: #008000\">'f'</span>: <span style=\"color: #008080; text-decoration-color: #008080; font-weight: bold\">0.5748633879781421</span><span style=\"font-weight: bold\">}</span>,\n",
       "        <span style=\"color: #008000; text-decoration-color: #008000\">'TIME'</span>: <span style=\"font-weight: bold\">{</span><span style=\"color: #008000; text-decoration-color: #008000\">'p'</span>: <span style=\"color: #008080; text-decoration-color: #008080; font-weight: bold\">0.04201680672268908</span>, <span style=\"color: #008000; text-decoration-color: #008000\">'r'</span>: <span style=\"color: #008080; text-decoration-color: #008080; font-weight: bold\">0.5</span>, <span style=\"color: #008000; text-decoration-color: #008000\">'f'</span>: <span style=\"color: #008080; text-decoration-color: #008080; font-weight: bold\">0.07751937984496125</span><span style=\"font-weight: bold\">}</span>,\n",
       "        <span style=\"color: #008000; text-decoration-color: #008000\">'MON'</span>: <span style=\"font-weight: bold\">{</span><span style=\"color: #008000; text-decoration-color: #008000\">'p'</span>: <span style=\"color: #008080; text-decoration-color: #008080; font-weight: bold\">0.7788461538461539</span>, <span style=\"color: #008000; text-decoration-color: #008000\">'r'</span>: <span style=\"color: #008080; text-decoration-color: #008080; font-weight: bold\">0.7476923076923077</span>, <span style=\"color: #008000; text-decoration-color: #008000\">'f'</span>: <span style=\"color: #008080; text-decoration-color: #008080; font-weight: bold\">0.7629513343799057</span><span style=\"font-weight: bold\">}</span>,\n",
       "        <span style=\"color: #008000; text-decoration-color: #008000\">'text'</span>: <span style=\"font-weight: bold\">{</span><span style=\"color: #008000; text-decoration-color: #008000\">'p'</span>: <span style=\"color: #008080; text-decoration-color: #008080; font-weight: bold\">0.0</span>, <span style=\"color: #008000; text-decoration-color: #008000\">'r'</span>: <span style=\"color: #008080; text-decoration-color: #008080; font-weight: bold\">0.0</span>, <span style=\"color: #008000; text-decoration-color: #008000\">'f'</span>: <span style=\"color: #008080; text-decoration-color: #008080; font-weight: bold\">0.0</span><span style=\"font-weight: bold\">}</span>,\n",
       "        <span style=\"color: #008000; text-decoration-color: #008000\">'EVENT'</span>: <span style=\"font-weight: bold\">{</span><span style=\"color: #008000; text-decoration-color: #008000\">'p'</span>: <span style=\"color: #008080; text-decoration-color: #008080; font-weight: bold\">0.0</span>, <span style=\"color: #008000; text-decoration-color: #008000\">'r'</span>: <span style=\"color: #008080; text-decoration-color: #008080; font-weight: bold\">0.0</span>, <span style=\"color: #008000; text-decoration-color: #008000\">'f'</span>: <span style=\"color: #008080; text-decoration-color: #008080; font-weight: bold\">0.0</span><span style=\"font-weight: bold\">}</span>,\n",
       "        <span style=\"color: #008000; text-decoration-color: #008000\">'STREET'</span>: <span style=\"font-weight: bold\">{</span><span style=\"color: #008000; text-decoration-color: #008000\">'p'</span>: <span style=\"color: #008080; text-decoration-color: #008080; font-weight: bold\">0.0</span>, <span style=\"color: #008000; text-decoration-color: #008000\">'r'</span>: <span style=\"color: #008080; text-decoration-color: #008080; font-weight: bold\">0.0</span>, <span style=\"color: #008000; text-decoration-color: #008000\">'f'</span>: <span style=\"color: #008080; text-decoration-color: #008080; font-weight: bold\">0.0</span><span style=\"font-weight: bold\">}</span>,\n",
       "        <span style=\"color: #008000; text-decoration-color: #008000\">'PER'</span>: <span style=\"font-weight: bold\">{</span><span style=\"color: #008000; text-decoration-color: #008000\">'p'</span>: <span style=\"color: #008080; text-decoration-color: #008080; font-weight: bold\">0.0</span>, <span style=\"color: #008000; text-decoration-color: #008000\">'r'</span>: <span style=\"color: #008080; text-decoration-color: #008080; font-weight: bold\">0.0</span>, <span style=\"color: #008000; text-decoration-color: #008000\">'f'</span>: <span style=\"color: #008080; text-decoration-color: #008080; font-weight: bold\">0.0</span><span style=\"font-weight: bold\">}</span>\n",
       "    <span style=\"font-weight: bold\">}</span>\n",
       "<span style=\"font-weight: bold\">}</span>\n",
       "</pre>\n"
      ]
     },
     "metadata": {},
     "output_type": "display_data"
    }
   ],
   "execution_count": 9
  },
  {
   "metadata": {
    "ExecuteTime": {
     "end_time": "2025-04-06T17:40:17.371883Z",
     "start_time": "2025-04-06T17:40:09.997747Z"
    }
   },
   "cell_type": "code",
   "source": [
    "silver_df = bronze_df.copy()\n",
    "silver_df[\"pred\"] = silver_df.apply(basic_post_processing, axis=1)\n",
    "print(evaluate_ner(silver_df))"
   ],
   "id": "9348bfaab7696636",
   "outputs": [
    {
     "data": {
      "text/plain": [
       "\u001B[1m{\u001B[0m\n",
       "    \u001B[32m'ents_p'\u001B[0m: \u001B[1;36m0.3183286372070648\u001B[0m,\n",
       "    \u001B[32m'ents_r'\u001B[0m: \u001B[1;36m0.6800763470855968\u001B[0m,\n",
       "    \u001B[32m'ents_f'\u001B[0m: \u001B[1;36m0.4336672596198857\u001B[0m,\n",
       "    \u001B[32m'ents_per_type'\u001B[0m: \u001B[1m{\u001B[0m\n",
       "        \u001B[32m'MISC'\u001B[0m: \u001B[1m{\u001B[0m\u001B[32m'p'\u001B[0m: \u001B[1;36m0.006712962962962963\u001B[0m, \u001B[32m'r'\u001B[0m: \u001B[1;36m0.20422535211267606\u001B[0m, \u001B[32m'f'\u001B[0m: \u001B[1;36m0.012998655311519497\u001B[0m\u001B[1m}\u001B[0m,\n",
       "        \u001B[32m'LOC'\u001B[0m: \u001B[1m{\u001B[0m\u001B[32m'p'\u001B[0m: \u001B[1;36m0.4507257448433919\u001B[0m, \u001B[32m'r'\u001B[0m: \u001B[1;36m0.7212713936430318\u001B[0m, \u001B[32m'f'\u001B[0m: \u001B[1;36m0.5547719793135871\u001B[0m\u001B[1m}\u001B[0m,\n",
       "        \u001B[32m'QUANT'\u001B[0m: \u001B[1m{\u001B[0m\u001B[32m'p'\u001B[0m: \u001B[1;36m0.14416475972540047\u001B[0m, \u001B[32m'r'\u001B[0m: \u001B[1;36m0.7078651685393258\u001B[0m, \u001B[32m'f'\u001B[0m: \u001B[1;36m0.23954372623574147\u001B[0m\u001B[1m}\u001B[0m,\n",
       "        \u001B[32m'PERIOD'\u001B[0m: \u001B[1m{\u001B[0m\u001B[32m'p'\u001B[0m: \u001B[1;36m0.18760757314974183\u001B[0m, \u001B[32m'r'\u001B[0m: \u001B[1;36m0.5891891891891892\u001B[0m, \u001B[32m'f'\u001B[0m: \u001B[1;36m0.2845953002610966\u001B[0m\u001B[1m}\u001B[0m,\n",
       "        \u001B[32m'PCT'\u001B[0m: \u001B[1m{\u001B[0m\u001B[32m'p'\u001B[0m: \u001B[1;36m0.9310344827586207\u001B[0m, \u001B[32m'r'\u001B[0m: \u001B[1;36m0.9\u001B[0m, \u001B[32m'f'\u001B[0m: \u001B[1;36m0.9152542372881356\u001B[0m\u001B[1m}\u001B[0m,\n",
       "        \u001B[32m'PERS'\u001B[0m: \u001B[1m{\u001B[0m\u001B[32m'p'\u001B[0m: \u001B[1;36m0.8034466697717746\u001B[0m, \u001B[32m'r'\u001B[0m: \u001B[1;36m0.7920110192837465\u001B[0m, \u001B[32m'f'\u001B[0m: \u001B[1;36m0.7976878612716762\u001B[0m\u001B[1m}\u001B[0m,\n",
       "        \u001B[32m'JOB'\u001B[0m: \u001B[1m{\u001B[0m\u001B[32m'p'\u001B[0m: \u001B[1;36m0.4758364312267658\u001B[0m, \u001B[32m'r'\u001B[0m: \u001B[1;36m0.3896499238964992\u001B[0m, \u001B[32m'f'\u001B[0m: \u001B[1;36m0.42845188284518826\u001B[0m\u001B[1m}\u001B[0m,\n",
       "        \u001B[32m'DOC'\u001B[0m: \u001B[1m{\u001B[0m\u001B[32m'p'\u001B[0m: \u001B[1;36m0.02508361204013378\u001B[0m, \u001B[32m'r'\u001B[0m: \u001B[1;36m0.375\u001B[0m, \u001B[32m'f'\u001B[0m: \u001B[1;36m0.047021943573667714\u001B[0m\u001B[1m}\u001B[0m,\n",
       "        \u001B[32m'ART'\u001B[0m: \u001B[1m{\u001B[0m\u001B[32m'p'\u001B[0m: \u001B[1;36m0.04858548585485855\u001B[0m, \u001B[32m'r'\u001B[0m: \u001B[1;36m0.3333333333333333\u001B[0m, \u001B[32m'f'\u001B[0m: \u001B[1;36m0.08480944712828771\u001B[0m\u001B[1m}\u001B[0m,\n",
       "        \u001B[32m'DATE'\u001B[0m: \u001B[1m{\u001B[0m\u001B[32m'p'\u001B[0m: \u001B[1;36m0.6754716981132075\u001B[0m, \u001B[32m'r'\u001B[0m: \u001B[1;36m0.7145708582834331\u001B[0m, \u001B[32m'f'\u001B[0m: \u001B[1;36m0.6944713870029098\u001B[0m\u001B[1m}\u001B[0m,\n",
       "        \u001B[32m'ORG'\u001B[0m: \u001B[1m{\u001B[0m\u001B[32m'p'\u001B[0m: \u001B[1;36m0.566296883254094\u001B[0m, \u001B[32m'r'\u001B[0m: \u001B[1;36m0.6965562053281351\u001B[0m, \u001B[32m'f'\u001B[0m: \u001B[1;36m0.6247086247086248\u001B[0m\u001B[1m}\u001B[0m,\n",
       "        \u001B[32m'TIME'\u001B[0m: \u001B[1m{\u001B[0m\u001B[32m'p'\u001B[0m: \u001B[1;36m0.03937007874015748\u001B[0m, \u001B[32m'r'\u001B[0m: \u001B[1;36m0.5\u001B[0m, \u001B[32m'f'\u001B[0m: \u001B[1;36m0.072992700729927\u001B[0m\u001B[1m}\u001B[0m,\n",
       "        \u001B[32m'MON'\u001B[0m: \u001B[1m{\u001B[0m\u001B[32m'p'\u001B[0m: \u001B[1;36m0.6983240223463687\u001B[0m, \u001B[32m'r'\u001B[0m: \u001B[1;36m0.7692307692307693\u001B[0m, \u001B[32m'f'\u001B[0m: \u001B[1;36m0.7320644216691069\u001B[0m\u001B[1m}\u001B[0m\n",
       "    \u001B[1m}\u001B[0m\n",
       "\u001B[1m}\u001B[0m\n"
      ],
      "text/html": [
       "<pre style=\"white-space:pre;overflow-x:auto;line-height:normal;font-family:Menlo,'DejaVu Sans Mono',consolas,'Courier New',monospace\"><span style=\"font-weight: bold\">{</span>\n",
       "    <span style=\"color: #008000; text-decoration-color: #008000\">'ents_p'</span>: <span style=\"color: #008080; text-decoration-color: #008080; font-weight: bold\">0.3183286372070648</span>,\n",
       "    <span style=\"color: #008000; text-decoration-color: #008000\">'ents_r'</span>: <span style=\"color: #008080; text-decoration-color: #008080; font-weight: bold\">0.6800763470855968</span>,\n",
       "    <span style=\"color: #008000; text-decoration-color: #008000\">'ents_f'</span>: <span style=\"color: #008080; text-decoration-color: #008080; font-weight: bold\">0.4336672596198857</span>,\n",
       "    <span style=\"color: #008000; text-decoration-color: #008000\">'ents_per_type'</span>: <span style=\"font-weight: bold\">{</span>\n",
       "        <span style=\"color: #008000; text-decoration-color: #008000\">'MISC'</span>: <span style=\"font-weight: bold\">{</span><span style=\"color: #008000; text-decoration-color: #008000\">'p'</span>: <span style=\"color: #008080; text-decoration-color: #008080; font-weight: bold\">0.006712962962962963</span>, <span style=\"color: #008000; text-decoration-color: #008000\">'r'</span>: <span style=\"color: #008080; text-decoration-color: #008080; font-weight: bold\">0.20422535211267606</span>, <span style=\"color: #008000; text-decoration-color: #008000\">'f'</span>: <span style=\"color: #008080; text-decoration-color: #008080; font-weight: bold\">0.012998655311519497</span><span style=\"font-weight: bold\">}</span>,\n",
       "        <span style=\"color: #008000; text-decoration-color: #008000\">'LOC'</span>: <span style=\"font-weight: bold\">{</span><span style=\"color: #008000; text-decoration-color: #008000\">'p'</span>: <span style=\"color: #008080; text-decoration-color: #008080; font-weight: bold\">0.4507257448433919</span>, <span style=\"color: #008000; text-decoration-color: #008000\">'r'</span>: <span style=\"color: #008080; text-decoration-color: #008080; font-weight: bold\">0.7212713936430318</span>, <span style=\"color: #008000; text-decoration-color: #008000\">'f'</span>: <span style=\"color: #008080; text-decoration-color: #008080; font-weight: bold\">0.5547719793135871</span><span style=\"font-weight: bold\">}</span>,\n",
       "        <span style=\"color: #008000; text-decoration-color: #008000\">'QUANT'</span>: <span style=\"font-weight: bold\">{</span><span style=\"color: #008000; text-decoration-color: #008000\">'p'</span>: <span style=\"color: #008080; text-decoration-color: #008080; font-weight: bold\">0.14416475972540047</span>, <span style=\"color: #008000; text-decoration-color: #008000\">'r'</span>: <span style=\"color: #008080; text-decoration-color: #008080; font-weight: bold\">0.7078651685393258</span>, <span style=\"color: #008000; text-decoration-color: #008000\">'f'</span>: <span style=\"color: #008080; text-decoration-color: #008080; font-weight: bold\">0.23954372623574147</span><span style=\"font-weight: bold\">}</span>,\n",
       "        <span style=\"color: #008000; text-decoration-color: #008000\">'PERIOD'</span>: <span style=\"font-weight: bold\">{</span><span style=\"color: #008000; text-decoration-color: #008000\">'p'</span>: <span style=\"color: #008080; text-decoration-color: #008080; font-weight: bold\">0.18760757314974183</span>, <span style=\"color: #008000; text-decoration-color: #008000\">'r'</span>: <span style=\"color: #008080; text-decoration-color: #008080; font-weight: bold\">0.5891891891891892</span>, <span style=\"color: #008000; text-decoration-color: #008000\">'f'</span>: <span style=\"color: #008080; text-decoration-color: #008080; font-weight: bold\">0.2845953002610966</span><span style=\"font-weight: bold\">}</span>,\n",
       "        <span style=\"color: #008000; text-decoration-color: #008000\">'PCT'</span>: <span style=\"font-weight: bold\">{</span><span style=\"color: #008000; text-decoration-color: #008000\">'p'</span>: <span style=\"color: #008080; text-decoration-color: #008080; font-weight: bold\">0.9310344827586207</span>, <span style=\"color: #008000; text-decoration-color: #008000\">'r'</span>: <span style=\"color: #008080; text-decoration-color: #008080; font-weight: bold\">0.9</span>, <span style=\"color: #008000; text-decoration-color: #008000\">'f'</span>: <span style=\"color: #008080; text-decoration-color: #008080; font-weight: bold\">0.9152542372881356</span><span style=\"font-weight: bold\">}</span>,\n",
       "        <span style=\"color: #008000; text-decoration-color: #008000\">'PERS'</span>: <span style=\"font-weight: bold\">{</span><span style=\"color: #008000; text-decoration-color: #008000\">'p'</span>: <span style=\"color: #008080; text-decoration-color: #008080; font-weight: bold\">0.8034466697717746</span>, <span style=\"color: #008000; text-decoration-color: #008000\">'r'</span>: <span style=\"color: #008080; text-decoration-color: #008080; font-weight: bold\">0.7920110192837465</span>, <span style=\"color: #008000; text-decoration-color: #008000\">'f'</span>: <span style=\"color: #008080; text-decoration-color: #008080; font-weight: bold\">0.7976878612716762</span><span style=\"font-weight: bold\">}</span>,\n",
       "        <span style=\"color: #008000; text-decoration-color: #008000\">'JOB'</span>: <span style=\"font-weight: bold\">{</span><span style=\"color: #008000; text-decoration-color: #008000\">'p'</span>: <span style=\"color: #008080; text-decoration-color: #008080; font-weight: bold\">0.4758364312267658</span>, <span style=\"color: #008000; text-decoration-color: #008000\">'r'</span>: <span style=\"color: #008080; text-decoration-color: #008080; font-weight: bold\">0.3896499238964992</span>, <span style=\"color: #008000; text-decoration-color: #008000\">'f'</span>: <span style=\"color: #008080; text-decoration-color: #008080; font-weight: bold\">0.42845188284518826</span><span style=\"font-weight: bold\">}</span>,\n",
       "        <span style=\"color: #008000; text-decoration-color: #008000\">'DOC'</span>: <span style=\"font-weight: bold\">{</span><span style=\"color: #008000; text-decoration-color: #008000\">'p'</span>: <span style=\"color: #008080; text-decoration-color: #008080; font-weight: bold\">0.02508361204013378</span>, <span style=\"color: #008000; text-decoration-color: #008000\">'r'</span>: <span style=\"color: #008080; text-decoration-color: #008080; font-weight: bold\">0.375</span>, <span style=\"color: #008000; text-decoration-color: #008000\">'f'</span>: <span style=\"color: #008080; text-decoration-color: #008080; font-weight: bold\">0.047021943573667714</span><span style=\"font-weight: bold\">}</span>,\n",
       "        <span style=\"color: #008000; text-decoration-color: #008000\">'ART'</span>: <span style=\"font-weight: bold\">{</span><span style=\"color: #008000; text-decoration-color: #008000\">'p'</span>: <span style=\"color: #008080; text-decoration-color: #008080; font-weight: bold\">0.04858548585485855</span>, <span style=\"color: #008000; text-decoration-color: #008000\">'r'</span>: <span style=\"color: #008080; text-decoration-color: #008080; font-weight: bold\">0.3333333333333333</span>, <span style=\"color: #008000; text-decoration-color: #008000\">'f'</span>: <span style=\"color: #008080; text-decoration-color: #008080; font-weight: bold\">0.08480944712828771</span><span style=\"font-weight: bold\">}</span>,\n",
       "        <span style=\"color: #008000; text-decoration-color: #008000\">'DATE'</span>: <span style=\"font-weight: bold\">{</span><span style=\"color: #008000; text-decoration-color: #008000\">'p'</span>: <span style=\"color: #008080; text-decoration-color: #008080; font-weight: bold\">0.6754716981132075</span>, <span style=\"color: #008000; text-decoration-color: #008000\">'r'</span>: <span style=\"color: #008080; text-decoration-color: #008080; font-weight: bold\">0.7145708582834331</span>, <span style=\"color: #008000; text-decoration-color: #008000\">'f'</span>: <span style=\"color: #008080; text-decoration-color: #008080; font-weight: bold\">0.6944713870029098</span><span style=\"font-weight: bold\">}</span>,\n",
       "        <span style=\"color: #008000; text-decoration-color: #008000\">'ORG'</span>: <span style=\"font-weight: bold\">{</span><span style=\"color: #008000; text-decoration-color: #008000\">'p'</span>: <span style=\"color: #008080; text-decoration-color: #008080; font-weight: bold\">0.566296883254094</span>, <span style=\"color: #008000; text-decoration-color: #008000\">'r'</span>: <span style=\"color: #008080; text-decoration-color: #008080; font-weight: bold\">0.6965562053281351</span>, <span style=\"color: #008000; text-decoration-color: #008000\">'f'</span>: <span style=\"color: #008080; text-decoration-color: #008080; font-weight: bold\">0.6247086247086248</span><span style=\"font-weight: bold\">}</span>,\n",
       "        <span style=\"color: #008000; text-decoration-color: #008000\">'TIME'</span>: <span style=\"font-weight: bold\">{</span><span style=\"color: #008000; text-decoration-color: #008000\">'p'</span>: <span style=\"color: #008080; text-decoration-color: #008080; font-weight: bold\">0.03937007874015748</span>, <span style=\"color: #008000; text-decoration-color: #008000\">'r'</span>: <span style=\"color: #008080; text-decoration-color: #008080; font-weight: bold\">0.5</span>, <span style=\"color: #008000; text-decoration-color: #008000\">'f'</span>: <span style=\"color: #008080; text-decoration-color: #008080; font-weight: bold\">0.072992700729927</span><span style=\"font-weight: bold\">}</span>,\n",
       "        <span style=\"color: #008000; text-decoration-color: #008000\">'MON'</span>: <span style=\"font-weight: bold\">{</span><span style=\"color: #008000; text-decoration-color: #008000\">'p'</span>: <span style=\"color: #008080; text-decoration-color: #008080; font-weight: bold\">0.6983240223463687</span>, <span style=\"color: #008000; text-decoration-color: #008000\">'r'</span>: <span style=\"color: #008080; text-decoration-color: #008080; font-weight: bold\">0.7692307692307693</span>, <span style=\"color: #008000; text-decoration-color: #008000\">'f'</span>: <span style=\"color: #008080; text-decoration-color: #008080; font-weight: bold\">0.7320644216691069</span><span style=\"font-weight: bold\">}</span>\n",
       "    <span style=\"font-weight: bold\">}</span>\n",
       "<span style=\"font-weight: bold\">}</span>\n",
       "</pre>\n"
      ]
     },
     "metadata": {},
     "output_type": "display_data"
    }
   ],
   "execution_count": 10
  },
  {
   "metadata": {
    "ExecuteTime": {
     "end_time": "2025-04-06T17:42:36.760385Z",
     "start_time": "2025-04-06T17:40:17.372800Z"
    }
   },
   "cell_type": "code",
   "source": [
    "gold_df = silver_df.copy()\n",
    "gold_df[\"pred\"] = gold_df[\"pred\"].apply(lambda x: advanced_post_processing(x))\n",
    "print(evaluate_ner(gold_df))"
   ],
   "id": "58b6d10148ea4d8d",
   "outputs": [
    {
     "data": {
      "text/plain": [
       "\u001B[1m{\u001B[0m\n",
       "    \u001B[32m'ents_p'\u001B[0m: \u001B[1;36m0.520973348783314\u001B[0m,\n",
       "    \u001B[32m'ents_r'\u001B[0m: \u001B[1;36m0.660108647775657\u001B[0m,\n",
       "    \u001B[32m'ents_f'\u001B[0m: \u001B[1;36m0.5823457029985104\u001B[0m,\n",
       "    \u001B[32m'ents_per_type'\u001B[0m: \u001B[1m{\u001B[0m\n",
       "        \u001B[32m'MISC'\u001B[0m: \u001B[1m{\u001B[0m\u001B[32m'p'\u001B[0m: \u001B[1;36m0.015435501653803748\u001B[0m, \u001B[32m'r'\u001B[0m: \u001B[1;36m0.19718309859154928\u001B[0m, \u001B[32m'f'\u001B[0m: \u001B[1;36m0.028629856850715747\u001B[0m\u001B[1m}\u001B[0m,\n",
       "        \u001B[32m'LOC'\u001B[0m: \u001B[1m{\u001B[0m\u001B[32m'p'\u001B[0m: \u001B[1;36m0.7837837837837838\u001B[0m, \u001B[32m'r'\u001B[0m: \u001B[1;36m0.7090464547677262\u001B[0m, \u001B[32m'f'\u001B[0m: \u001B[1;36m0.7445442875481387\u001B[0m\u001B[1m}\u001B[0m,\n",
       "        \u001B[32m'QUANT'\u001B[0m: \u001B[1m{\u001B[0m\u001B[32m'p'\u001B[0m: \u001B[1;36m0.14416475972540047\u001B[0m, \u001B[32m'r'\u001B[0m: \u001B[1;36m0.7078651685393258\u001B[0m, \u001B[32m'f'\u001B[0m: \u001B[1;36m0.23954372623574147\u001B[0m\u001B[1m}\u001B[0m,\n",
       "        \u001B[32m'PERIOD'\u001B[0m: \u001B[1m{\u001B[0m\u001B[32m'p'\u001B[0m: \u001B[1;36m0.16236162361623616\u001B[0m, \u001B[32m'r'\u001B[0m: \u001B[1;36m0.23783783783783785\u001B[0m, \u001B[32m'f'\u001B[0m: \u001B[1;36m0.19298245614035087\u001B[0m\u001B[1m}\u001B[0m,\n",
       "        \u001B[32m'PCT'\u001B[0m: \u001B[1m{\u001B[0m\u001B[32m'p'\u001B[0m: \u001B[1;36m0.9759036144578314\u001B[0m, \u001B[32m'r'\u001B[0m: \u001B[1;36m0.9\u001B[0m, \u001B[32m'f'\u001B[0m: \u001B[1;36m0.9364161849710982\u001B[0m\u001B[1m}\u001B[0m,\n",
       "        \u001B[32m'PERS'\u001B[0m: \u001B[1m{\u001B[0m\u001B[32m'p'\u001B[0m: \u001B[1;36m0.9522740033688939\u001B[0m, \u001B[32m'r'\u001B[0m: \u001B[1;36m0.7786960514233241\u001B[0m, \u001B[32m'f'\u001B[0m: \u001B[1;36m0.8567820156605203\u001B[0m\u001B[1m}\u001B[0m,\n",
       "        \u001B[32m'JOB'\u001B[0m: \u001B[1m{\u001B[0m\u001B[32m'p'\u001B[0m: \u001B[1;36m0.4758364312267658\u001B[0m, \u001B[32m'r'\u001B[0m: \u001B[1;36m0.3896499238964992\u001B[0m, \u001B[32m'f'\u001B[0m: \u001B[1;36m0.42845188284518826\u001B[0m\u001B[1m}\u001B[0m,\n",
       "        \u001B[32m'DOC'\u001B[0m: \u001B[1m{\u001B[0m\u001B[32m'p'\u001B[0m: \u001B[1;36m0.04155124653739612\u001B[0m, \u001B[32m'r'\u001B[0m: \u001B[1;36m0.375\u001B[0m, \u001B[32m'f'\u001B[0m: \u001B[1;36m0.07481296758104738\u001B[0m\u001B[1m}\u001B[0m,\n",
       "        \u001B[32m'DATE'\u001B[0m: \u001B[1m{\u001B[0m\u001B[32m'p'\u001B[0m: \u001B[1;36m0.6729323308270677\u001B[0m, \u001B[32m'r'\u001B[0m: \u001B[1;36m0.7145708582834331\u001B[0m, \u001B[32m'f'\u001B[0m: \u001B[1;36m0.6931268151016458\u001B[0m\u001B[1m}\u001B[0m,\n",
       "        \u001B[32m'ORG'\u001B[0m: \u001B[1m{\u001B[0m\u001B[32m'p'\u001B[0m: \u001B[1;36m0.7249481686247409\u001B[0m, \u001B[32m'r'\u001B[0m: \u001B[1;36m0.6816114359974009\u001B[0m, \u001B[32m'f'\u001B[0m: \u001B[1;36m0.7026121902210315\u001B[0m\u001B[1m}\u001B[0m,\n",
       "        \u001B[32m'ART'\u001B[0m: \u001B[1m{\u001B[0m\u001B[32m'p'\u001B[0m: \u001B[1;36m0.2988505747126437\u001B[0m, \u001B[32m'r'\u001B[0m: \u001B[1;36m0.3291139240506329\u001B[0m, \u001B[32m'f'\u001B[0m: \u001B[1;36m0.3132530120481927\u001B[0m\u001B[1m}\u001B[0m,\n",
       "        \u001B[32m'TIME'\u001B[0m: \u001B[1m{\u001B[0m\u001B[32m'p'\u001B[0m: \u001B[1;36m0.0392156862745098\u001B[0m, \u001B[32m'r'\u001B[0m: \u001B[1;36m0.2\u001B[0m, \u001B[32m'f'\u001B[0m: \u001B[1;36m0.06557377049180327\u001B[0m\u001B[1m}\u001B[0m,\n",
       "        \u001B[32m'MON'\u001B[0m: \u001B[1m{\u001B[0m\u001B[32m'p'\u001B[0m: \u001B[1;36m0.7834394904458599\u001B[0m, \u001B[32m'r'\u001B[0m: \u001B[1;36m0.7569230769230769\u001B[0m, \u001B[32m'f'\u001B[0m: \u001B[1;36m0.7699530516431925\u001B[0m\u001B[1m}\u001B[0m\n",
       "    \u001B[1m}\u001B[0m\n",
       "\u001B[1m}\u001B[0m\n"
      ],
      "text/html": [
       "<pre style=\"white-space:pre;overflow-x:auto;line-height:normal;font-family:Menlo,'DejaVu Sans Mono',consolas,'Courier New',monospace\"><span style=\"font-weight: bold\">{</span>\n",
       "    <span style=\"color: #008000; text-decoration-color: #008000\">'ents_p'</span>: <span style=\"color: #008080; text-decoration-color: #008080; font-weight: bold\">0.520973348783314</span>,\n",
       "    <span style=\"color: #008000; text-decoration-color: #008000\">'ents_r'</span>: <span style=\"color: #008080; text-decoration-color: #008080; font-weight: bold\">0.660108647775657</span>,\n",
       "    <span style=\"color: #008000; text-decoration-color: #008000\">'ents_f'</span>: <span style=\"color: #008080; text-decoration-color: #008080; font-weight: bold\">0.5823457029985104</span>,\n",
       "    <span style=\"color: #008000; text-decoration-color: #008000\">'ents_per_type'</span>: <span style=\"font-weight: bold\">{</span>\n",
       "        <span style=\"color: #008000; text-decoration-color: #008000\">'MISC'</span>: <span style=\"font-weight: bold\">{</span><span style=\"color: #008000; text-decoration-color: #008000\">'p'</span>: <span style=\"color: #008080; text-decoration-color: #008080; font-weight: bold\">0.015435501653803748</span>, <span style=\"color: #008000; text-decoration-color: #008000\">'r'</span>: <span style=\"color: #008080; text-decoration-color: #008080; font-weight: bold\">0.19718309859154928</span>, <span style=\"color: #008000; text-decoration-color: #008000\">'f'</span>: <span style=\"color: #008080; text-decoration-color: #008080; font-weight: bold\">0.028629856850715747</span><span style=\"font-weight: bold\">}</span>,\n",
       "        <span style=\"color: #008000; text-decoration-color: #008000\">'LOC'</span>: <span style=\"font-weight: bold\">{</span><span style=\"color: #008000; text-decoration-color: #008000\">'p'</span>: <span style=\"color: #008080; text-decoration-color: #008080; font-weight: bold\">0.7837837837837838</span>, <span style=\"color: #008000; text-decoration-color: #008000\">'r'</span>: <span style=\"color: #008080; text-decoration-color: #008080; font-weight: bold\">0.7090464547677262</span>, <span style=\"color: #008000; text-decoration-color: #008000\">'f'</span>: <span style=\"color: #008080; text-decoration-color: #008080; font-weight: bold\">0.7445442875481387</span><span style=\"font-weight: bold\">}</span>,\n",
       "        <span style=\"color: #008000; text-decoration-color: #008000\">'QUANT'</span>: <span style=\"font-weight: bold\">{</span><span style=\"color: #008000; text-decoration-color: #008000\">'p'</span>: <span style=\"color: #008080; text-decoration-color: #008080; font-weight: bold\">0.14416475972540047</span>, <span style=\"color: #008000; text-decoration-color: #008000\">'r'</span>: <span style=\"color: #008080; text-decoration-color: #008080; font-weight: bold\">0.7078651685393258</span>, <span style=\"color: #008000; text-decoration-color: #008000\">'f'</span>: <span style=\"color: #008080; text-decoration-color: #008080; font-weight: bold\">0.23954372623574147</span><span style=\"font-weight: bold\">}</span>,\n",
       "        <span style=\"color: #008000; text-decoration-color: #008000\">'PERIOD'</span>: <span style=\"font-weight: bold\">{</span><span style=\"color: #008000; text-decoration-color: #008000\">'p'</span>: <span style=\"color: #008080; text-decoration-color: #008080; font-weight: bold\">0.16236162361623616</span>, <span style=\"color: #008000; text-decoration-color: #008000\">'r'</span>: <span style=\"color: #008080; text-decoration-color: #008080; font-weight: bold\">0.23783783783783785</span>, <span style=\"color: #008000; text-decoration-color: #008000\">'f'</span>: <span style=\"color: #008080; text-decoration-color: #008080; font-weight: bold\">0.19298245614035087</span><span style=\"font-weight: bold\">}</span>,\n",
       "        <span style=\"color: #008000; text-decoration-color: #008000\">'PCT'</span>: <span style=\"font-weight: bold\">{</span><span style=\"color: #008000; text-decoration-color: #008000\">'p'</span>: <span style=\"color: #008080; text-decoration-color: #008080; font-weight: bold\">0.9759036144578314</span>, <span style=\"color: #008000; text-decoration-color: #008000\">'r'</span>: <span style=\"color: #008080; text-decoration-color: #008080; font-weight: bold\">0.9</span>, <span style=\"color: #008000; text-decoration-color: #008000\">'f'</span>: <span style=\"color: #008080; text-decoration-color: #008080; font-weight: bold\">0.9364161849710982</span><span style=\"font-weight: bold\">}</span>,\n",
       "        <span style=\"color: #008000; text-decoration-color: #008000\">'PERS'</span>: <span style=\"font-weight: bold\">{</span><span style=\"color: #008000; text-decoration-color: #008000\">'p'</span>: <span style=\"color: #008080; text-decoration-color: #008080; font-weight: bold\">0.9522740033688939</span>, <span style=\"color: #008000; text-decoration-color: #008000\">'r'</span>: <span style=\"color: #008080; text-decoration-color: #008080; font-weight: bold\">0.7786960514233241</span>, <span style=\"color: #008000; text-decoration-color: #008000\">'f'</span>: <span style=\"color: #008080; text-decoration-color: #008080; font-weight: bold\">0.8567820156605203</span><span style=\"font-weight: bold\">}</span>,\n",
       "        <span style=\"color: #008000; text-decoration-color: #008000\">'JOB'</span>: <span style=\"font-weight: bold\">{</span><span style=\"color: #008000; text-decoration-color: #008000\">'p'</span>: <span style=\"color: #008080; text-decoration-color: #008080; font-weight: bold\">0.4758364312267658</span>, <span style=\"color: #008000; text-decoration-color: #008000\">'r'</span>: <span style=\"color: #008080; text-decoration-color: #008080; font-weight: bold\">0.3896499238964992</span>, <span style=\"color: #008000; text-decoration-color: #008000\">'f'</span>: <span style=\"color: #008080; text-decoration-color: #008080; font-weight: bold\">0.42845188284518826</span><span style=\"font-weight: bold\">}</span>,\n",
       "        <span style=\"color: #008000; text-decoration-color: #008000\">'DOC'</span>: <span style=\"font-weight: bold\">{</span><span style=\"color: #008000; text-decoration-color: #008000\">'p'</span>: <span style=\"color: #008080; text-decoration-color: #008080; font-weight: bold\">0.04155124653739612</span>, <span style=\"color: #008000; text-decoration-color: #008000\">'r'</span>: <span style=\"color: #008080; text-decoration-color: #008080; font-weight: bold\">0.375</span>, <span style=\"color: #008000; text-decoration-color: #008000\">'f'</span>: <span style=\"color: #008080; text-decoration-color: #008080; font-weight: bold\">0.07481296758104738</span><span style=\"font-weight: bold\">}</span>,\n",
       "        <span style=\"color: #008000; text-decoration-color: #008000\">'DATE'</span>: <span style=\"font-weight: bold\">{</span><span style=\"color: #008000; text-decoration-color: #008000\">'p'</span>: <span style=\"color: #008080; text-decoration-color: #008080; font-weight: bold\">0.6729323308270677</span>, <span style=\"color: #008000; text-decoration-color: #008000\">'r'</span>: <span style=\"color: #008080; text-decoration-color: #008080; font-weight: bold\">0.7145708582834331</span>, <span style=\"color: #008000; text-decoration-color: #008000\">'f'</span>: <span style=\"color: #008080; text-decoration-color: #008080; font-weight: bold\">0.6931268151016458</span><span style=\"font-weight: bold\">}</span>,\n",
       "        <span style=\"color: #008000; text-decoration-color: #008000\">'ORG'</span>: <span style=\"font-weight: bold\">{</span><span style=\"color: #008000; text-decoration-color: #008000\">'p'</span>: <span style=\"color: #008080; text-decoration-color: #008080; font-weight: bold\">0.7249481686247409</span>, <span style=\"color: #008000; text-decoration-color: #008000\">'r'</span>: <span style=\"color: #008080; text-decoration-color: #008080; font-weight: bold\">0.6816114359974009</span>, <span style=\"color: #008000; text-decoration-color: #008000\">'f'</span>: <span style=\"color: #008080; text-decoration-color: #008080; font-weight: bold\">0.7026121902210315</span><span style=\"font-weight: bold\">}</span>,\n",
       "        <span style=\"color: #008000; text-decoration-color: #008000\">'ART'</span>: <span style=\"font-weight: bold\">{</span><span style=\"color: #008000; text-decoration-color: #008000\">'p'</span>: <span style=\"color: #008080; text-decoration-color: #008080; font-weight: bold\">0.2988505747126437</span>, <span style=\"color: #008000; text-decoration-color: #008000\">'r'</span>: <span style=\"color: #008080; text-decoration-color: #008080; font-weight: bold\">0.3291139240506329</span>, <span style=\"color: #008000; text-decoration-color: #008000\">'f'</span>: <span style=\"color: #008080; text-decoration-color: #008080; font-weight: bold\">0.3132530120481927</span><span style=\"font-weight: bold\">}</span>,\n",
       "        <span style=\"color: #008000; text-decoration-color: #008000\">'TIME'</span>: <span style=\"font-weight: bold\">{</span><span style=\"color: #008000; text-decoration-color: #008000\">'p'</span>: <span style=\"color: #008080; text-decoration-color: #008080; font-weight: bold\">0.0392156862745098</span>, <span style=\"color: #008000; text-decoration-color: #008000\">'r'</span>: <span style=\"color: #008080; text-decoration-color: #008080; font-weight: bold\">0.2</span>, <span style=\"color: #008000; text-decoration-color: #008000\">'f'</span>: <span style=\"color: #008080; text-decoration-color: #008080; font-weight: bold\">0.06557377049180327</span><span style=\"font-weight: bold\">}</span>,\n",
       "        <span style=\"color: #008000; text-decoration-color: #008000\">'MON'</span>: <span style=\"font-weight: bold\">{</span><span style=\"color: #008000; text-decoration-color: #008000\">'p'</span>: <span style=\"color: #008080; text-decoration-color: #008080; font-weight: bold\">0.7834394904458599</span>, <span style=\"color: #008000; text-decoration-color: #008000\">'r'</span>: <span style=\"color: #008080; text-decoration-color: #008080; font-weight: bold\">0.7569230769230769</span>, <span style=\"color: #008000; text-decoration-color: #008000\">'f'</span>: <span style=\"color: #008080; text-decoration-color: #008080; font-weight: bold\">0.7699530516431925</span><span style=\"font-weight: bold\">}</span>\n",
       "    <span style=\"font-weight: bold\">}</span>\n",
       "<span style=\"font-weight: bold\">}</span>\n",
       "</pre>\n"
      ]
     },
     "metadata": {},
     "output_type": "display_data"
    }
   ],
   "execution_count": 11
  },
  {
   "metadata": {
    "ExecuteTime": {
     "end_time": "2025-04-06T17:42:36.825744Z",
     "start_time": "2025-04-06T17:42:36.761662Z"
    }
   },
   "cell_type": "code",
   "source": [
    "silver_df.to_csv(BASE_PATH + \"silver\" + FILE_PATH, index=False)\n",
    "gold_df.to_csv(BASE_PATH + \"gold\" + FILE_PATH, index=False)"
   ],
   "id": "8d9cdfa497f4f764",
   "outputs": [],
   "execution_count": 12
  },
  {
   "metadata": {},
   "cell_type": "code",
   "outputs": [],
   "execution_count": null,
   "source": "",
   "id": "690a93272c8b4e47"
  }
 ],
 "metadata": {
  "kernelspec": {
   "display_name": "Python 3",
   "language": "python",
   "name": "python3"
  },
  "language_info": {
   "codemirror_mode": {
    "name": "ipython",
    "version": 2
   },
   "file_extension": ".py",
   "mimetype": "text/x-python",
   "name": "python",
   "nbconvert_exporter": "python",
   "pygments_lexer": "ipython2",
   "version": "2.7.6"
  }
 },
 "nbformat": 4,
 "nbformat_minor": 5
}
