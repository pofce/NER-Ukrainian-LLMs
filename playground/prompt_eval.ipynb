{
 "cells": [
  {
   "cell_type": "code",
   "execution_count": null,
   "id": "initial_id",
   "metadata": {
    "collapsed": true
   },
   "outputs": [],
   "source": [
    "import pandas as pd\n",
    "\n",
    "from rich import print\n",
    "from utils import evaluate_ner, basic_post_processing, advanced_post_processing\n",
    "\n",
    "\n",
    "BASE_PATH = \"../results/prompting/\"\n",
    "FILE_PATH = \"/few_shot/aya_101.csv\"\n",
    "\n",
    "bronze_df = pd.read_csv(BASE_PATH + \"bronze\" + FILE_PATH)\n",
    "print(evaluate_ner(bronze_df))"
   ]
  },
  {
   "metadata": {},
   "cell_type": "code",
   "outputs": [],
   "execution_count": null,
   "source": [
    "silver_df = bronze_df.copy()\n",
    "silver_df[\"pred\"] = silver_df.apply(basic_post_processing, axis=1)\n",
    "print(evaluate_ner(silver_df))"
   ],
   "id": "9348bfaab7696636"
  },
  {
   "metadata": {},
   "cell_type": "code",
   "outputs": [],
   "execution_count": null,
   "source": [
    "gold_df = silver_df.copy()\n",
    "gold_df[\"pred\"] = gold_df[\"pred\"].apply(lambda x: advanced_post_processing(x))\n",
    "print(evaluate_ner(gold_df))"
   ],
   "id": "58b6d10148ea4d8d"
  },
  {
   "metadata": {},
   "cell_type": "code",
   "outputs": [],
   "execution_count": null,
   "source": [
    "silver_df.to_csv(BASE_PATH + \"silver\" + FILE_PATH, index=False)\n",
    "gold_df.to_csv(BASE_PATH + \"gold\" + FILE_PATH, index=False)"
   ],
   "id": "8d9cdfa497f4f764"
  }
 ],
 "metadata": {
  "kernelspec": {
   "display_name": "Python 3",
   "language": "python",
   "name": "python3"
  },
  "language_info": {
   "codemirror_mode": {
    "name": "ipython",
    "version": 2
   },
   "file_extension": ".py",
   "mimetype": "text/x-python",
   "name": "python",
   "nbconvert_exporter": "python",
   "pygments_lexer": "ipython2",
   "version": "2.7.6"
  }
 },
 "nbformat": 4,
 "nbformat_minor": 5
}
