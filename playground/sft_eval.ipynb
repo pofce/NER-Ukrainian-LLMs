{
 "cells": [
  {
   "cell_type": "code",
   "id": "initial_id",
   "metadata": {
    "collapsed": true,
    "ExecuteTime": {
     "end_time": "2025-04-07T11:39:47.509246Z",
     "start_time": "2025-04-07T11:39:42.481992Z"
    }
   },
   "source": [
    "import pandas as pd\n",
    "import re\n",
    "import json\n",
    "from rich import print\n",
    "\n",
    "from utils import evaluate_ner, basic_post_processing\n",
    "\n",
    "\n",
    "def parse_ner_output(generated_text, split_by=\"\"):\n",
    "\n",
    "    segments = generated_text.split(\"### Entities:\" + split_by)\n",
    "    if len(segments) < 2:\n",
    "        return []\n",
    "\n",
    "    after_entities = segments[1].strip()\n",
    "\n",
    "    entities = []\n",
    "    for line in after_entities.split(\"\\n\"):\n",
    "        line = line.strip()\n",
    "        match = re.match(r\"^([A-Z]+):\\s*(.*)\", line)\n",
    "        if match:\n",
    "            label, entity_text = match.groups()\n",
    "            if label in POSSIBLE_ENTITIES:\n",
    "                entities.append({\"label\": label, \"text\": entity_text})\n",
    "\n",
    "    return json.dumps(entities, ensure_ascii=False)\n",
    "\n",
    "\n",
    "data_df = pd.read_csv(\"../data/test.csv\")\n",
    "\n",
    "BASE_PATH = \"../results/sft/\"\n",
    "POSSIBLE_ENTITIES = [\n",
    "    \"PERS\", \"DOC\", \"QUANT\", \"ART\", \"TIME\", \"JOB\",\n",
    "    \"MISC\", \"PCT\", \"ORG\", \"LOC\", \"PERIOD\", \"MON\", \"DATE\"\n",
    "]"
   ],
   "outputs": [],
   "execution_count": 2
  },
  {
   "metadata": {
    "ExecuteTime": {
     "end_time": "2025-04-06T21:27:24.880986Z",
     "start_time": "2025-04-06T21:26:33.345312Z"
    }
   },
   "cell_type": "code",
   "source": [
    "files_to_eval = [\n",
    "    \"gemma-2-27b-it_16_ex.csv\",\n",
    "    \"gemma-2-27b-it_32_ex.csv\",\n",
    "    \"gemma-2-27b-it_64_ex.csv\",\n",
    "    \"gemma-3-27b-it_16_ex.csv\",\n",
    "    \"gemma-3-27b-it_32_ex.csv\",\n",
    "    \"gemma-3-27b-it_64_ex.csv\",\n",
    "    \"Qwen2.5-14B-Instruct_16_ex.csv\",\n",
    "    \"Qwen2.5-14B-Instruct_32_ex.csv\",\n",
    "    \"Qwen2.5-14B-Instruct_64_ex.csv\",\n",
    "]\n",
    "\n",
    "phi_to_eval = [\n",
    "    \"Phi-4_16_ex.csv\",\n",
    "    \"Phi-4_32_ex.csv\",\n",
    "    \"Phi-4_64_ex.csv\",\n",
    "]\n",
    "\n",
    "res = {}\n",
    "for f_name in files_to_eval:\n",
    "    df = pd.read_csv(BASE_PATH + f_name)\n",
    "    data_df[\"pred\"] = df[\"generated_answer\"].apply(parse_ner_output)\n",
    "    data_df[\"pred\"] = data_df.apply(basic_post_processing, axis=1)\n",
    "    res[f_name] = evaluate_ner(data_df)[\"ents_f\"]\n",
    "    \n",
    "for f_name in phi_to_eval:\n",
    "    df = pd.read_csv(BASE_PATH + f_name)\n",
    "    data_df[\"pred\"] = df[\"generated_answer\"].map(lambda x: parse_ner_output(x, \"assistant\"))\n",
    "    data_df[\"pred\"] = data_df.apply(basic_post_processing, axis=1)\n",
    "    res[f_name] = evaluate_ner(data_df)[\"ents_f\"]\n",
    "     \n",
    "    \n",
    "print(json.dumps(res, indent=2))"
   ],
   "id": "e096a9723621bf9",
   "outputs": [
    {
     "data": {
      "text/plain": [
       "\u001B[1m{\u001B[0m\n",
       "  \u001B[32m\"gemma-2-27b-it_16_ex.csv\"\u001B[0m: \u001B[1;36m0.8653431481894565\u001B[0m,\n",
       "  \u001B[32m\"gemma-2-27b-it_32_ex.csv\"\u001B[0m: \u001B[1;36m0.8603829160530191\u001B[0m,\n",
       "  \u001B[32m\"gemma-2-27b-it_64_ex.csv\"\u001B[0m: \u001B[1;36m0.86366669137816\u001B[0m,\n",
       "  \u001B[32m\"gemma-3-27b-it_16_ex.csv\"\u001B[0m: \u001B[1;36m0.8667719852553976\u001B[0m,\n",
       "  \u001B[32m\"gemma-3-27b-it_32_ex.csv\"\u001B[0m: \u001B[1;36m0.8787969474786773\u001B[0m,\n",
       "  \u001B[32m\"gemma-3-27b-it_64_ex.csv\"\u001B[0m: \u001B[1;36m0.8822429906542056\u001B[0m,\n",
       "  \u001B[32m\"Qwen2.5-14B-Instruct_16_ex.csv\"\u001B[0m: \u001B[1;36m0.8512079476179725\u001B[0m,\n",
       "  \u001B[32m\"Qwen2.5-14B-Instruct_32_ex.csv\"\u001B[0m: \u001B[1;36m0.8512751071992779\u001B[0m,\n",
       "  \u001B[32m\"Qwen2.5-14B-Instruct_64_ex.csv\"\u001B[0m: \u001B[1;36m0.853515625\u001B[0m,\n",
       "  \u001B[32m\"Phi-4_16_ex.csv\"\u001B[0m: \u001B[1;36m0.8694021453754408\u001B[0m,\n",
       "  \u001B[32m\"Phi-4_32_ex.csv\"\u001B[0m: \u001B[1;36m0.8713910761154855\u001B[0m,\n",
       "  \u001B[32m\"Phi-4_64_ex.csv\"\u001B[0m: \u001B[1;36m0.8742874287428744\u001B[0m\n",
       "\u001B[1m}\u001B[0m\n"
      ],
      "text/html": [
       "<pre style=\"white-space:pre;overflow-x:auto;line-height:normal;font-family:Menlo,'DejaVu Sans Mono',consolas,'Courier New',monospace\"><span style=\"font-weight: bold\">{</span>\n",
       "  <span style=\"color: #008000; text-decoration-color: #008000\">\"gemma-2-27b-it_16_ex.csv\"</span>: <span style=\"color: #008080; text-decoration-color: #008080; font-weight: bold\">0.8653431481894565</span>,\n",
       "  <span style=\"color: #008000; text-decoration-color: #008000\">\"gemma-2-27b-it_32_ex.csv\"</span>: <span style=\"color: #008080; text-decoration-color: #008080; font-weight: bold\">0.8603829160530191</span>,\n",
       "  <span style=\"color: #008000; text-decoration-color: #008000\">\"gemma-2-27b-it_64_ex.csv\"</span>: <span style=\"color: #008080; text-decoration-color: #008080; font-weight: bold\">0.86366669137816</span>,\n",
       "  <span style=\"color: #008000; text-decoration-color: #008000\">\"gemma-3-27b-it_16_ex.csv\"</span>: <span style=\"color: #008080; text-decoration-color: #008080; font-weight: bold\">0.8667719852553976</span>,\n",
       "  <span style=\"color: #008000; text-decoration-color: #008000\">\"gemma-3-27b-it_32_ex.csv\"</span>: <span style=\"color: #008080; text-decoration-color: #008080; font-weight: bold\">0.8787969474786773</span>,\n",
       "  <span style=\"color: #008000; text-decoration-color: #008000\">\"gemma-3-27b-it_64_ex.csv\"</span>: <span style=\"color: #008080; text-decoration-color: #008080; font-weight: bold\">0.8822429906542056</span>,\n",
       "  <span style=\"color: #008000; text-decoration-color: #008000\">\"Qwen2.5-14B-Instruct_16_ex.csv\"</span>: <span style=\"color: #008080; text-decoration-color: #008080; font-weight: bold\">0.8512079476179725</span>,\n",
       "  <span style=\"color: #008000; text-decoration-color: #008000\">\"Qwen2.5-14B-Instruct_32_ex.csv\"</span>: <span style=\"color: #008080; text-decoration-color: #008080; font-weight: bold\">0.8512751071992779</span>,\n",
       "  <span style=\"color: #008000; text-decoration-color: #008000\">\"Qwen2.5-14B-Instruct_64_ex.csv\"</span>: <span style=\"color: #008080; text-decoration-color: #008080; font-weight: bold\">0.853515625</span>,\n",
       "  <span style=\"color: #008000; text-decoration-color: #008000\">\"Phi-4_16_ex.csv\"</span>: <span style=\"color: #008080; text-decoration-color: #008080; font-weight: bold\">0.8694021453754408</span>,\n",
       "  <span style=\"color: #008000; text-decoration-color: #008000\">\"Phi-4_32_ex.csv\"</span>: <span style=\"color: #008080; text-decoration-color: #008080; font-weight: bold\">0.8713910761154855</span>,\n",
       "  <span style=\"color: #008000; text-decoration-color: #008000\">\"Phi-4_64_ex.csv\"</span>: <span style=\"color: #008080; text-decoration-color: #008080; font-weight: bold\">0.8742874287428744</span>\n",
       "<span style=\"font-weight: bold\">}</span>\n",
       "</pre>\n"
      ]
     },
     "metadata": {},
     "output_type": "display_data"
    }
   ],
   "execution_count": 2
  },
  {
   "metadata": {
    "ExecuteTime": {
     "end_time": "2025-04-07T11:51:02.929890Z",
     "start_time": "2025-04-07T11:50:46.251314Z"
    }
   },
   "cell_type": "code",
   "source": [
    "best_files_to_eval = [\n",
    "    \"Qwen2.5-14B-Instruct_Best.csv\",\n",
    "    \"gemma-2-27b-it_Best.csv\",\n",
    "    \"gemma-3-27b-it_Best.csv\",\n",
    "]\n",
    "\n",
    "best_res = {}\n",
    "for f_name in best_files_to_eval:\n",
    "    df = pd.read_csv(BASE_PATH + f_name)\n",
    "    data_df[\"pred\"] = df[\"generated_answer\"].apply(parse_ner_output)\n",
    "    data_df[\"pred\"] = data_df.apply(basic_post_processing, axis=1)\n",
    "    print(f_name)\n",
    "    res = evaluate_ner(data_df)\n",
    "    print(res[\"ents_f\"])\n",
    "    print([{k: round(v[\"f\"], 3)} for k, v in res[\"ents_per_type\"].items()])\n",
    "\n",
    "\n",
    "for f_name in [\"Phi-4_Best.csv\"]:\n",
    "    df = pd.read_csv(BASE_PATH + f_name)\n",
    "    data_df[\"pred\"] = df[\"generated_answer\"].map(lambda x: parse_ner_output(x, \"assistant\"))\n",
    "    data_df[\"pred\"] = data_df.apply(basic_post_processing, axis=1)\n",
    "    print(f_name)\n",
    "    res = evaluate_ner(data_df)\n",
    "    print(res[\"ents_f\"])\n",
    "    print([{k: round(v[\"f\"], 3)} for k, v in res[\"ents_per_type\"].items()])"
   ],
   "id": "8dd72a7102848596",
   "outputs": [
    {
     "data": {
      "text/plain": [
       "Qwen2.\u001B[1;36m5\u001B[0m-14B-Instruct_Best.csv\n"
      ],
      "text/html": [
       "<pre style=\"white-space:pre;overflow-x:auto;line-height:normal;font-family:Menlo,'DejaVu Sans Mono',consolas,'Courier New',monospace\">Qwen2.<span style=\"color: #008080; text-decoration-color: #008080; font-weight: bold\">5</span>-14B-Instruct_Best.csv\n",
       "</pre>\n"
      ]
     },
     "metadata": {},
     "output_type": "display_data"
    },
    {
     "data": {
      "text/plain": [
       "\u001B[1;36m0.8665516465381441\u001B[0m\n"
      ],
      "text/html": [
       "<pre style=\"white-space:pre;overflow-x:auto;line-height:normal;font-family:Menlo,'DejaVu Sans Mono',consolas,'Courier New',monospace\"><span style=\"color: #008080; text-decoration-color: #008080; font-weight: bold\">0.8665516465381441</span>\n",
       "</pre>\n"
      ]
     },
     "metadata": {},
     "output_type": "display_data"
    },
    {
     "data": {
      "text/plain": [
       "\u001B[1m[\u001B[0m\n",
       "    \u001B[1m{\u001B[0m\u001B[32m'LOC'\u001B[0m: \u001B[1;36m0.89\u001B[0m\u001B[1m}\u001B[0m,\n",
       "    \u001B[1m{\u001B[0m\u001B[32m'PCT'\u001B[0m: \u001B[1;36m0.977\u001B[0m\u001B[1m}\u001B[0m,\n",
       "    \u001B[1m{\u001B[0m\u001B[32m'PERS'\u001B[0m: \u001B[1;36m0.955\u001B[0m\u001B[1m}\u001B[0m,\n",
       "    \u001B[1m{\u001B[0m\u001B[32m'JOB'\u001B[0m: \u001B[1;36m0.624\u001B[0m\u001B[1m}\u001B[0m,\n",
       "    \u001B[1m{\u001B[0m\u001B[32m'PERIOD'\u001B[0m: \u001B[1;36m0.667\u001B[0m\u001B[1m}\u001B[0m,\n",
       "    \u001B[1m{\u001B[0m\u001B[32m'ORG'\u001B[0m: \u001B[1;36m0.898\u001B[0m\u001B[1m}\u001B[0m,\n",
       "    \u001B[1m{\u001B[0m\u001B[32m'MISC'\u001B[0m: \u001B[1;36m0.39\u001B[0m\u001B[1m}\u001B[0m,\n",
       "    \u001B[1m{\u001B[0m\u001B[32m'ART'\u001B[0m: \u001B[1;36m0.725\u001B[0m\u001B[1m}\u001B[0m,\n",
       "    \u001B[1m{\u001B[0m\u001B[32m'QUANT'\u001B[0m: \u001B[1;36m0.812\u001B[0m\u001B[1m}\u001B[0m,\n",
       "    \u001B[1m{\u001B[0m\u001B[32m'DATE'\u001B[0m: \u001B[1;36m0.866\u001B[0m\u001B[1m}\u001B[0m,\n",
       "    \u001B[1m{\u001B[0m\u001B[32m'TIME'\u001B[0m: \u001B[1;36m0.4\u001B[0m\u001B[1m}\u001B[0m,\n",
       "    \u001B[1m{\u001B[0m\u001B[32m'DOC'\u001B[0m: \u001B[1;36m0.479\u001B[0m\u001B[1m}\u001B[0m,\n",
       "    \u001B[1m{\u001B[0m\u001B[32m'MON'\u001B[0m: \u001B[1;36m0.95\u001B[0m\u001B[1m}\u001B[0m\n",
       "\u001B[1m]\u001B[0m\n"
      ],
      "text/html": [
       "<pre style=\"white-space:pre;overflow-x:auto;line-height:normal;font-family:Menlo,'DejaVu Sans Mono',consolas,'Courier New',monospace\"><span style=\"font-weight: bold\">[</span>\n",
       "    <span style=\"font-weight: bold\">{</span><span style=\"color: #008000; text-decoration-color: #008000\">'LOC'</span>: <span style=\"color: #008080; text-decoration-color: #008080; font-weight: bold\">0.89</span><span style=\"font-weight: bold\">}</span>,\n",
       "    <span style=\"font-weight: bold\">{</span><span style=\"color: #008000; text-decoration-color: #008000\">'PCT'</span>: <span style=\"color: #008080; text-decoration-color: #008080; font-weight: bold\">0.977</span><span style=\"font-weight: bold\">}</span>,\n",
       "    <span style=\"font-weight: bold\">{</span><span style=\"color: #008000; text-decoration-color: #008000\">'PERS'</span>: <span style=\"color: #008080; text-decoration-color: #008080; font-weight: bold\">0.955</span><span style=\"font-weight: bold\">}</span>,\n",
       "    <span style=\"font-weight: bold\">{</span><span style=\"color: #008000; text-decoration-color: #008000\">'JOB'</span>: <span style=\"color: #008080; text-decoration-color: #008080; font-weight: bold\">0.624</span><span style=\"font-weight: bold\">}</span>,\n",
       "    <span style=\"font-weight: bold\">{</span><span style=\"color: #008000; text-decoration-color: #008000\">'PERIOD'</span>: <span style=\"color: #008080; text-decoration-color: #008080; font-weight: bold\">0.667</span><span style=\"font-weight: bold\">}</span>,\n",
       "    <span style=\"font-weight: bold\">{</span><span style=\"color: #008000; text-decoration-color: #008000\">'ORG'</span>: <span style=\"color: #008080; text-decoration-color: #008080; font-weight: bold\">0.898</span><span style=\"font-weight: bold\">}</span>,\n",
       "    <span style=\"font-weight: bold\">{</span><span style=\"color: #008000; text-decoration-color: #008000\">'MISC'</span>: <span style=\"color: #008080; text-decoration-color: #008080; font-weight: bold\">0.39</span><span style=\"font-weight: bold\">}</span>,\n",
       "    <span style=\"font-weight: bold\">{</span><span style=\"color: #008000; text-decoration-color: #008000\">'ART'</span>: <span style=\"color: #008080; text-decoration-color: #008080; font-weight: bold\">0.725</span><span style=\"font-weight: bold\">}</span>,\n",
       "    <span style=\"font-weight: bold\">{</span><span style=\"color: #008000; text-decoration-color: #008000\">'QUANT'</span>: <span style=\"color: #008080; text-decoration-color: #008080; font-weight: bold\">0.812</span><span style=\"font-weight: bold\">}</span>,\n",
       "    <span style=\"font-weight: bold\">{</span><span style=\"color: #008000; text-decoration-color: #008000\">'DATE'</span>: <span style=\"color: #008080; text-decoration-color: #008080; font-weight: bold\">0.866</span><span style=\"font-weight: bold\">}</span>,\n",
       "    <span style=\"font-weight: bold\">{</span><span style=\"color: #008000; text-decoration-color: #008000\">'TIME'</span>: <span style=\"color: #008080; text-decoration-color: #008080; font-weight: bold\">0.4</span><span style=\"font-weight: bold\">}</span>,\n",
       "    <span style=\"font-weight: bold\">{</span><span style=\"color: #008000; text-decoration-color: #008000\">'DOC'</span>: <span style=\"color: #008080; text-decoration-color: #008080; font-weight: bold\">0.479</span><span style=\"font-weight: bold\">}</span>,\n",
       "    <span style=\"font-weight: bold\">{</span><span style=\"color: #008000; text-decoration-color: #008000\">'MON'</span>: <span style=\"color: #008080; text-decoration-color: #008080; font-weight: bold\">0.95</span><span style=\"font-weight: bold\">}</span>\n",
       "<span style=\"font-weight: bold\">]</span>\n",
       "</pre>\n"
      ]
     },
     "metadata": {},
     "output_type": "display_data"
    },
    {
     "data": {
      "text/plain": [
       "gemma-\u001B[1;36m2\u001B[0m-27b-it_Best.csv\n"
      ],
      "text/html": [
       "<pre style=\"white-space:pre;overflow-x:auto;line-height:normal;font-family:Menlo,'DejaVu Sans Mono',consolas,'Courier New',monospace\">gemma-<span style=\"color: #008080; text-decoration-color: #008080; font-weight: bold\">2</span>-27b-it_Best.csv\n",
       "</pre>\n"
      ]
     },
     "metadata": {},
     "output_type": "display_data"
    },
    {
     "data": {
      "text/plain": [
       "\u001B[1;36m0.8861648852679572\u001B[0m\n"
      ],
      "text/html": [
       "<pre style=\"white-space:pre;overflow-x:auto;line-height:normal;font-family:Menlo,'DejaVu Sans Mono',consolas,'Courier New',monospace\"><span style=\"color: #008080; text-decoration-color: #008080; font-weight: bold\">0.8861648852679572</span>\n",
       "</pre>\n"
      ]
     },
     "metadata": {},
     "output_type": "display_data"
    },
    {
     "data": {
      "text/plain": [
       "\u001B[1m[\u001B[0m\n",
       "    \u001B[1m{\u001B[0m\u001B[32m'LOC'\u001B[0m: \u001B[1;36m0.903\u001B[0m\u001B[1m}\u001B[0m,\n",
       "    \u001B[1m{\u001B[0m\u001B[32m'PCT'\u001B[0m: \u001B[1;36m0.994\u001B[0m\u001B[1m}\u001B[0m,\n",
       "    \u001B[1m{\u001B[0m\u001B[32m'PERS'\u001B[0m: \u001B[1;36m0.966\u001B[0m\u001B[1m}\u001B[0m,\n",
       "    \u001B[1m{\u001B[0m\u001B[32m'JOB'\u001B[0m: \u001B[1;36m0.662\u001B[0m\u001B[1m}\u001B[0m,\n",
       "    \u001B[1m{\u001B[0m\u001B[32m'PERIOD'\u001B[0m: \u001B[1;36m0.742\u001B[0m\u001B[1m}\u001B[0m,\n",
       "    \u001B[1m{\u001B[0m\u001B[32m'ORG'\u001B[0m: \u001B[1;36m0.918\u001B[0m\u001B[1m}\u001B[0m,\n",
       "    \u001B[1m{\u001B[0m\u001B[32m'MISC'\u001B[0m: \u001B[1;36m0.311\u001B[0m\u001B[1m}\u001B[0m,\n",
       "    \u001B[1m{\u001B[0m\u001B[32m'DOC'\u001B[0m: \u001B[1;36m0.537\u001B[0m\u001B[1m}\u001B[0m,\n",
       "    \u001B[1m{\u001B[0m\u001B[32m'QUANT'\u001B[0m: \u001B[1;36m0.864\u001B[0m\u001B[1m}\u001B[0m,\n",
       "    \u001B[1m{\u001B[0m\u001B[32m'DATE'\u001B[0m: \u001B[1;36m0.9\u001B[0m\u001B[1m}\u001B[0m,\n",
       "    \u001B[1m{\u001B[0m\u001B[32m'ART'\u001B[0m: \u001B[1;36m0.74\u001B[0m\u001B[1m}\u001B[0m,\n",
       "    \u001B[1m{\u001B[0m\u001B[32m'TIME'\u001B[0m: \u001B[1;36m0.824\u001B[0m\u001B[1m}\u001B[0m,\n",
       "    \u001B[1m{\u001B[0m\u001B[32m'MON'\u001B[0m: \u001B[1;36m0.964\u001B[0m\u001B[1m}\u001B[0m\n",
       "\u001B[1m]\u001B[0m\n"
      ],
      "text/html": [
       "<pre style=\"white-space:pre;overflow-x:auto;line-height:normal;font-family:Menlo,'DejaVu Sans Mono',consolas,'Courier New',monospace\"><span style=\"font-weight: bold\">[</span>\n",
       "    <span style=\"font-weight: bold\">{</span><span style=\"color: #008000; text-decoration-color: #008000\">'LOC'</span>: <span style=\"color: #008080; text-decoration-color: #008080; font-weight: bold\">0.903</span><span style=\"font-weight: bold\">}</span>,\n",
       "    <span style=\"font-weight: bold\">{</span><span style=\"color: #008000; text-decoration-color: #008000\">'PCT'</span>: <span style=\"color: #008080; text-decoration-color: #008080; font-weight: bold\">0.994</span><span style=\"font-weight: bold\">}</span>,\n",
       "    <span style=\"font-weight: bold\">{</span><span style=\"color: #008000; text-decoration-color: #008000\">'PERS'</span>: <span style=\"color: #008080; text-decoration-color: #008080; font-weight: bold\">0.966</span><span style=\"font-weight: bold\">}</span>,\n",
       "    <span style=\"font-weight: bold\">{</span><span style=\"color: #008000; text-decoration-color: #008000\">'JOB'</span>: <span style=\"color: #008080; text-decoration-color: #008080; font-weight: bold\">0.662</span><span style=\"font-weight: bold\">}</span>,\n",
       "    <span style=\"font-weight: bold\">{</span><span style=\"color: #008000; text-decoration-color: #008000\">'PERIOD'</span>: <span style=\"color: #008080; text-decoration-color: #008080; font-weight: bold\">0.742</span><span style=\"font-weight: bold\">}</span>,\n",
       "    <span style=\"font-weight: bold\">{</span><span style=\"color: #008000; text-decoration-color: #008000\">'ORG'</span>: <span style=\"color: #008080; text-decoration-color: #008080; font-weight: bold\">0.918</span><span style=\"font-weight: bold\">}</span>,\n",
       "    <span style=\"font-weight: bold\">{</span><span style=\"color: #008000; text-decoration-color: #008000\">'MISC'</span>: <span style=\"color: #008080; text-decoration-color: #008080; font-weight: bold\">0.311</span><span style=\"font-weight: bold\">}</span>,\n",
       "    <span style=\"font-weight: bold\">{</span><span style=\"color: #008000; text-decoration-color: #008000\">'DOC'</span>: <span style=\"color: #008080; text-decoration-color: #008080; font-weight: bold\">0.537</span><span style=\"font-weight: bold\">}</span>,\n",
       "    <span style=\"font-weight: bold\">{</span><span style=\"color: #008000; text-decoration-color: #008000\">'QUANT'</span>: <span style=\"color: #008080; text-decoration-color: #008080; font-weight: bold\">0.864</span><span style=\"font-weight: bold\">}</span>,\n",
       "    <span style=\"font-weight: bold\">{</span><span style=\"color: #008000; text-decoration-color: #008000\">'DATE'</span>: <span style=\"color: #008080; text-decoration-color: #008080; font-weight: bold\">0.9</span><span style=\"font-weight: bold\">}</span>,\n",
       "    <span style=\"font-weight: bold\">{</span><span style=\"color: #008000; text-decoration-color: #008000\">'ART'</span>: <span style=\"color: #008080; text-decoration-color: #008080; font-weight: bold\">0.74</span><span style=\"font-weight: bold\">}</span>,\n",
       "    <span style=\"font-weight: bold\">{</span><span style=\"color: #008000; text-decoration-color: #008000\">'TIME'</span>: <span style=\"color: #008080; text-decoration-color: #008080; font-weight: bold\">0.824</span><span style=\"font-weight: bold\">}</span>,\n",
       "    <span style=\"font-weight: bold\">{</span><span style=\"color: #008000; text-decoration-color: #008000\">'MON'</span>: <span style=\"color: #008080; text-decoration-color: #008080; font-weight: bold\">0.964</span><span style=\"font-weight: bold\">}</span>\n",
       "<span style=\"font-weight: bold\">]</span>\n",
       "</pre>\n"
      ]
     },
     "metadata": {},
     "output_type": "display_data"
    },
    {
     "data": {
      "text/plain": [
       "gemma-\u001B[1;36m3\u001B[0m-27b-it_Best.csv\n"
      ],
      "text/html": [
       "<pre style=\"white-space:pre;overflow-x:auto;line-height:normal;font-family:Menlo,'DejaVu Sans Mono',consolas,'Courier New',monospace\">gemma-<span style=\"color: #008080; text-decoration-color: #008080; font-weight: bold\">3</span>-27b-it_Best.csv\n",
       "</pre>\n"
      ]
     },
     "metadata": {},
     "output_type": "display_data"
    },
    {
     "data": {
      "text/plain": [
       "\u001B[1;36m0.8879245847673201\u001B[0m\n"
      ],
      "text/html": [
       "<pre style=\"white-space:pre;overflow-x:auto;line-height:normal;font-family:Menlo,'DejaVu Sans Mono',consolas,'Courier New',monospace\"><span style=\"color: #008080; text-decoration-color: #008080; font-weight: bold\">0.8879245847673201</span>\n",
       "</pre>\n"
      ]
     },
     "metadata": {},
     "output_type": "display_data"
    },
    {
     "data": {
      "text/plain": [
       "\u001B[1m[\u001B[0m\n",
       "    \u001B[1m{\u001B[0m\u001B[32m'LOC'\u001B[0m: \u001B[1;36m0.929\u001B[0m\u001B[1m}\u001B[0m,\n",
       "    \u001B[1m{\u001B[0m\u001B[32m'PCT'\u001B[0m: \u001B[1;36m0.989\u001B[0m\u001B[1m}\u001B[0m,\n",
       "    \u001B[1m{\u001B[0m\u001B[32m'PERS'\u001B[0m: \u001B[1;36m0.965\u001B[0m\u001B[1m}\u001B[0m,\n",
       "    \u001B[1m{\u001B[0m\u001B[32m'JOB'\u001B[0m: \u001B[1;36m0.642\u001B[0m\u001B[1m}\u001B[0m,\n",
       "    \u001B[1m{\u001B[0m\u001B[32m'PERIOD'\u001B[0m: \u001B[1;36m0.747\u001B[0m\u001B[1m}\u001B[0m,\n",
       "    \u001B[1m{\u001B[0m\u001B[32m'ORG'\u001B[0m: \u001B[1;36m0.923\u001B[0m\u001B[1m}\u001B[0m,\n",
       "    \u001B[1m{\u001B[0m\u001B[32m'MISC'\u001B[0m: \u001B[1;36m0.35\u001B[0m\u001B[1m}\u001B[0m,\n",
       "    \u001B[1m{\u001B[0m\u001B[32m'QUANT'\u001B[0m: \u001B[1;36m0.897\u001B[0m\u001B[1m}\u001B[0m,\n",
       "    \u001B[1m{\u001B[0m\u001B[32m'DATE'\u001B[0m: \u001B[1;36m0.906\u001B[0m\u001B[1m}\u001B[0m,\n",
       "    \u001B[1m{\u001B[0m\u001B[32m'ART'\u001B[0m: \u001B[1;36m0.716\u001B[0m\u001B[1m}\u001B[0m,\n",
       "    \u001B[1m{\u001B[0m\u001B[32m'TIME'\u001B[0m: \u001B[1;36m0.632\u001B[0m\u001B[1m}\u001B[0m,\n",
       "    \u001B[1m{\u001B[0m\u001B[32m'DOC'\u001B[0m: \u001B[1;36m0.514\u001B[0m\u001B[1m}\u001B[0m,\n",
       "    \u001B[1m{\u001B[0m\u001B[32m'MON'\u001B[0m: \u001B[1;36m0.953\u001B[0m\u001B[1m}\u001B[0m\n",
       "\u001B[1m]\u001B[0m\n"
      ],
      "text/html": [
       "<pre style=\"white-space:pre;overflow-x:auto;line-height:normal;font-family:Menlo,'DejaVu Sans Mono',consolas,'Courier New',monospace\"><span style=\"font-weight: bold\">[</span>\n",
       "    <span style=\"font-weight: bold\">{</span><span style=\"color: #008000; text-decoration-color: #008000\">'LOC'</span>: <span style=\"color: #008080; text-decoration-color: #008080; font-weight: bold\">0.929</span><span style=\"font-weight: bold\">}</span>,\n",
       "    <span style=\"font-weight: bold\">{</span><span style=\"color: #008000; text-decoration-color: #008000\">'PCT'</span>: <span style=\"color: #008080; text-decoration-color: #008080; font-weight: bold\">0.989</span><span style=\"font-weight: bold\">}</span>,\n",
       "    <span style=\"font-weight: bold\">{</span><span style=\"color: #008000; text-decoration-color: #008000\">'PERS'</span>: <span style=\"color: #008080; text-decoration-color: #008080; font-weight: bold\">0.965</span><span style=\"font-weight: bold\">}</span>,\n",
       "    <span style=\"font-weight: bold\">{</span><span style=\"color: #008000; text-decoration-color: #008000\">'JOB'</span>: <span style=\"color: #008080; text-decoration-color: #008080; font-weight: bold\">0.642</span><span style=\"font-weight: bold\">}</span>,\n",
       "    <span style=\"font-weight: bold\">{</span><span style=\"color: #008000; text-decoration-color: #008000\">'PERIOD'</span>: <span style=\"color: #008080; text-decoration-color: #008080; font-weight: bold\">0.747</span><span style=\"font-weight: bold\">}</span>,\n",
       "    <span style=\"font-weight: bold\">{</span><span style=\"color: #008000; text-decoration-color: #008000\">'ORG'</span>: <span style=\"color: #008080; text-decoration-color: #008080; font-weight: bold\">0.923</span><span style=\"font-weight: bold\">}</span>,\n",
       "    <span style=\"font-weight: bold\">{</span><span style=\"color: #008000; text-decoration-color: #008000\">'MISC'</span>: <span style=\"color: #008080; text-decoration-color: #008080; font-weight: bold\">0.35</span><span style=\"font-weight: bold\">}</span>,\n",
       "    <span style=\"font-weight: bold\">{</span><span style=\"color: #008000; text-decoration-color: #008000\">'QUANT'</span>: <span style=\"color: #008080; text-decoration-color: #008080; font-weight: bold\">0.897</span><span style=\"font-weight: bold\">}</span>,\n",
       "    <span style=\"font-weight: bold\">{</span><span style=\"color: #008000; text-decoration-color: #008000\">'DATE'</span>: <span style=\"color: #008080; text-decoration-color: #008080; font-weight: bold\">0.906</span><span style=\"font-weight: bold\">}</span>,\n",
       "    <span style=\"font-weight: bold\">{</span><span style=\"color: #008000; text-decoration-color: #008000\">'ART'</span>: <span style=\"color: #008080; text-decoration-color: #008080; font-weight: bold\">0.716</span><span style=\"font-weight: bold\">}</span>,\n",
       "    <span style=\"font-weight: bold\">{</span><span style=\"color: #008000; text-decoration-color: #008000\">'TIME'</span>: <span style=\"color: #008080; text-decoration-color: #008080; font-weight: bold\">0.632</span><span style=\"font-weight: bold\">}</span>,\n",
       "    <span style=\"font-weight: bold\">{</span><span style=\"color: #008000; text-decoration-color: #008000\">'DOC'</span>: <span style=\"color: #008080; text-decoration-color: #008080; font-weight: bold\">0.514</span><span style=\"font-weight: bold\">}</span>,\n",
       "    <span style=\"font-weight: bold\">{</span><span style=\"color: #008000; text-decoration-color: #008000\">'MON'</span>: <span style=\"color: #008080; text-decoration-color: #008080; font-weight: bold\">0.953</span><span style=\"font-weight: bold\">}</span>\n",
       "<span style=\"font-weight: bold\">]</span>\n",
       "</pre>\n"
      ]
     },
     "metadata": {},
     "output_type": "display_data"
    },
    {
     "data": {
      "text/plain": [
       "Phi-4_Best.csv\n"
      ],
      "text/html": [
       "<pre style=\"white-space:pre;overflow-x:auto;line-height:normal;font-family:Menlo,'DejaVu Sans Mono',consolas,'Courier New',monospace\">Phi-4_Best.csv\n",
       "</pre>\n"
      ]
     },
     "metadata": {},
     "output_type": "display_data"
    },
    {
     "data": {
      "text/plain": [
       "\u001B[1;36m0.8817332835263354\u001B[0m\n"
      ],
      "text/html": [
       "<pre style=\"white-space:pre;overflow-x:auto;line-height:normal;font-family:Menlo,'DejaVu Sans Mono',consolas,'Courier New',monospace\"><span style=\"color: #008080; text-decoration-color: #008080; font-weight: bold\">0.8817332835263354</span>\n",
       "</pre>\n"
      ]
     },
     "metadata": {},
     "output_type": "display_data"
    },
    {
     "data": {
      "text/plain": [
       "\u001B[1m[\u001B[0m\n",
       "    \u001B[1m{\u001B[0m\u001B[32m'LOC'\u001B[0m: \u001B[1;36m0.907\u001B[0m\u001B[1m}\u001B[0m,\n",
       "    \u001B[1m{\u001B[0m\u001B[32m'PCT'\u001B[0m: \u001B[1;36m0.966\u001B[0m\u001B[1m}\u001B[0m,\n",
       "    \u001B[1m{\u001B[0m\u001B[32m'PERS'\u001B[0m: \u001B[1;36m0.967\u001B[0m\u001B[1m}\u001B[0m,\n",
       "    \u001B[1m{\u001B[0m\u001B[32m'JOB'\u001B[0m: \u001B[1;36m0.638\u001B[0m\u001B[1m}\u001B[0m,\n",
       "    \u001B[1m{\u001B[0m\u001B[32m'PERIOD'\u001B[0m: \u001B[1;36m0.714\u001B[0m\u001B[1m}\u001B[0m,\n",
       "    \u001B[1m{\u001B[0m\u001B[32m'ORG'\u001B[0m: \u001B[1;36m0.911\u001B[0m\u001B[1m}\u001B[0m,\n",
       "    \u001B[1m{\u001B[0m\u001B[32m'DOC'\u001B[0m: \u001B[1;36m0.464\u001B[0m\u001B[1m}\u001B[0m,\n",
       "    \u001B[1m{\u001B[0m\u001B[32m'MISC'\u001B[0m: \u001B[1;36m0.314\u001B[0m\u001B[1m}\u001B[0m,\n",
       "    \u001B[1m{\u001B[0m\u001B[32m'ART'\u001B[0m: \u001B[1;36m0.774\u001B[0m\u001B[1m}\u001B[0m,\n",
       "    \u001B[1m{\u001B[0m\u001B[32m'QUANT'\u001B[0m: \u001B[1;36m0.833\u001B[0m\u001B[1m}\u001B[0m,\n",
       "    \u001B[1m{\u001B[0m\u001B[32m'DATE'\u001B[0m: \u001B[1;36m0.885\u001B[0m\u001B[1m}\u001B[0m,\n",
       "    \u001B[1m{\u001B[0m\u001B[32m'TIME'\u001B[0m: \u001B[1;36m0.571\u001B[0m\u001B[1m}\u001B[0m,\n",
       "    \u001B[1m{\u001B[0m\u001B[32m'MON'\u001B[0m: \u001B[1;36m0.958\u001B[0m\u001B[1m}\u001B[0m\n",
       "\u001B[1m]\u001B[0m\n"
      ],
      "text/html": [
       "<pre style=\"white-space:pre;overflow-x:auto;line-height:normal;font-family:Menlo,'DejaVu Sans Mono',consolas,'Courier New',monospace\"><span style=\"font-weight: bold\">[</span>\n",
       "    <span style=\"font-weight: bold\">{</span><span style=\"color: #008000; text-decoration-color: #008000\">'LOC'</span>: <span style=\"color: #008080; text-decoration-color: #008080; font-weight: bold\">0.907</span><span style=\"font-weight: bold\">}</span>,\n",
       "    <span style=\"font-weight: bold\">{</span><span style=\"color: #008000; text-decoration-color: #008000\">'PCT'</span>: <span style=\"color: #008080; text-decoration-color: #008080; font-weight: bold\">0.966</span><span style=\"font-weight: bold\">}</span>,\n",
       "    <span style=\"font-weight: bold\">{</span><span style=\"color: #008000; text-decoration-color: #008000\">'PERS'</span>: <span style=\"color: #008080; text-decoration-color: #008080; font-weight: bold\">0.967</span><span style=\"font-weight: bold\">}</span>,\n",
       "    <span style=\"font-weight: bold\">{</span><span style=\"color: #008000; text-decoration-color: #008000\">'JOB'</span>: <span style=\"color: #008080; text-decoration-color: #008080; font-weight: bold\">0.638</span><span style=\"font-weight: bold\">}</span>,\n",
       "    <span style=\"font-weight: bold\">{</span><span style=\"color: #008000; text-decoration-color: #008000\">'PERIOD'</span>: <span style=\"color: #008080; text-decoration-color: #008080; font-weight: bold\">0.714</span><span style=\"font-weight: bold\">}</span>,\n",
       "    <span style=\"font-weight: bold\">{</span><span style=\"color: #008000; text-decoration-color: #008000\">'ORG'</span>: <span style=\"color: #008080; text-decoration-color: #008080; font-weight: bold\">0.911</span><span style=\"font-weight: bold\">}</span>,\n",
       "    <span style=\"font-weight: bold\">{</span><span style=\"color: #008000; text-decoration-color: #008000\">'DOC'</span>: <span style=\"color: #008080; text-decoration-color: #008080; font-weight: bold\">0.464</span><span style=\"font-weight: bold\">}</span>,\n",
       "    <span style=\"font-weight: bold\">{</span><span style=\"color: #008000; text-decoration-color: #008000\">'MISC'</span>: <span style=\"color: #008080; text-decoration-color: #008080; font-weight: bold\">0.314</span><span style=\"font-weight: bold\">}</span>,\n",
       "    <span style=\"font-weight: bold\">{</span><span style=\"color: #008000; text-decoration-color: #008000\">'ART'</span>: <span style=\"color: #008080; text-decoration-color: #008080; font-weight: bold\">0.774</span><span style=\"font-weight: bold\">}</span>,\n",
       "    <span style=\"font-weight: bold\">{</span><span style=\"color: #008000; text-decoration-color: #008000\">'QUANT'</span>: <span style=\"color: #008080; text-decoration-color: #008080; font-weight: bold\">0.833</span><span style=\"font-weight: bold\">}</span>,\n",
       "    <span style=\"font-weight: bold\">{</span><span style=\"color: #008000; text-decoration-color: #008000\">'DATE'</span>: <span style=\"color: #008080; text-decoration-color: #008080; font-weight: bold\">0.885</span><span style=\"font-weight: bold\">}</span>,\n",
       "    <span style=\"font-weight: bold\">{</span><span style=\"color: #008000; text-decoration-color: #008000\">'TIME'</span>: <span style=\"color: #008080; text-decoration-color: #008080; font-weight: bold\">0.571</span><span style=\"font-weight: bold\">}</span>,\n",
       "    <span style=\"font-weight: bold\">{</span><span style=\"color: #008000; text-decoration-color: #008000\">'MON'</span>: <span style=\"color: #008080; text-decoration-color: #008080; font-weight: bold\">0.958</span><span style=\"font-weight: bold\">}</span>\n",
       "<span style=\"font-weight: bold\">]</span>\n",
       "</pre>\n"
      ]
     },
     "metadata": {},
     "output_type": "display_data"
    }
   ],
   "execution_count": 6
  },
  {
   "metadata": {},
   "cell_type": "code",
   "outputs": [],
   "execution_count": null,
   "source": "",
   "id": "b3d5cb22916c40ef"
  }
 ],
 "metadata": {
  "kernelspec": {
   "display_name": "Python 3",
   "language": "python",
   "name": "python3"
  },
  "language_info": {
   "codemirror_mode": {
    "name": "ipython",
    "version": 2
   },
   "file_extension": ".py",
   "mimetype": "text/x-python",
   "name": "python",
   "nbconvert_exporter": "python",
   "pygments_lexer": "ipython2",
   "version": "2.7.6"
  }
 },
 "nbformat": 4,
 "nbformat_minor": 5
}
