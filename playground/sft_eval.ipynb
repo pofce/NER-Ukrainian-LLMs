{
 "cells": [
  {
   "cell_type": "code",
   "id": "initial_id",
   "metadata": {
    "collapsed": true,
    "ExecuteTime": {
     "end_time": "2025-04-06T21:26:33.344149Z",
     "start_time": "2025-04-06T21:26:28.182724Z"
    }
   },
   "source": [
    "import pandas as pd\n",
    "import re\n",
    "import json\n",
    "from rich import print\n",
    "\n",
    "from utils import evaluate_ner, basic_post_processing\n",
    "\n",
    "\n",
    "def parse_ner_output(generated_text, split_by=\"\"):\n",
    "\n",
    "    segments = generated_text.split(\"### Entities:\" + split_by)\n",
    "    if len(segments) < 2:\n",
    "        return []\n",
    "\n",
    "    after_entities = segments[1].strip()\n",
    "\n",
    "    entities = []\n",
    "    for line in after_entities.split(\"\\n\"):\n",
    "        line = line.strip()\n",
    "        match = re.match(r\"^([A-Z]+):\\s*(.*)\", line)\n",
    "        if match:\n",
    "            label, entity_text = match.groups()\n",
    "            if label in POSSIBLE_ENTITIES:\n",
    "                entities.append({\"label\": label, \"text\": entity_text})\n",
    "\n",
    "    return json.dumps(entities, ensure_ascii=False)\n",
    "\n",
    "\n",
    "data_df = pd.read_csv(\"../data/test.csv\")\n",
    "\n",
    "BASE_PATH = \"../results/sft/\"\n",
    "POSSIBLE_ENTITIES = [\n",
    "    \"PERS\", \"DOC\", \"QUANT\", \"ART\", \"TIME\", \"JOB\",\n",
    "    \"MISC\", \"PCT\", \"ORG\", \"LOC\", \"PERIOD\", \"MON\", \"DATE\"\n",
    "]"
   ],
   "outputs": [],
   "execution_count": 1
  },
  {
   "metadata": {
    "ExecuteTime": {
     "end_time": "2025-04-06T21:27:24.880986Z",
     "start_time": "2025-04-06T21:26:33.345312Z"
    }
   },
   "cell_type": "code",
   "source": [
    "files_to_eval = [\n",
    "    \"gemma-2-27b-it_16_ex.csv\",\n",
    "    \"gemma-2-27b-it_32_ex.csv\",\n",
    "    \"gemma-2-27b-it_64_ex.csv\",\n",
    "    \"gemma-3-27b-it_16_ex.csv\",\n",
    "    \"gemma-3-27b-it_32_ex.csv\",\n",
    "    \"gemma-3-27b-it_64_ex.csv\",\n",
    "    \"Qwen2.5-14B-Instruct_16_ex.csv\",\n",
    "    \"Qwen2.5-14B-Instruct_32_ex.csv\",\n",
    "    \"Qwen2.5-14B-Instruct_64_ex.csv\",\n",
    "]\n",
    "\n",
    "phi_to_eval = [\n",
    "    \"Phi-4_16_ex.csv\",\n",
    "    \"Phi-4_32_ex.csv\",\n",
    "    \"Phi-4_64_ex.csv\",\n",
    "]\n",
    "\n",
    "res = {}\n",
    "for f_name in files_to_eval:\n",
    "    df = pd.read_csv(BASE_PATH + f_name)\n",
    "    data_df[\"pred\"] = df[\"generated_answer\"].apply(parse_ner_output)\n",
    "    data_df[\"pred\"] = data_df.apply(basic_post_processing, axis=1)\n",
    "    res[f_name] = evaluate_ner(data_df)[\"ents_f\"]\n",
    "    \n",
    "for f_name in phi_to_eval:\n",
    "    df = pd.read_csv(BASE_PATH + f_name)\n",
    "    data_df[\"pred\"] = df[\"generated_answer\"].map(lambda x: parse_ner_output(x, \"assistant\"))\n",
    "    data_df[\"pred\"] = data_df.apply(basic_post_processing, axis=1)\n",
    "    res[f_name] = evaluate_ner(data_df)[\"ents_f\"]\n",
    "     \n",
    "    \n",
    "print(json.dumps(res, indent=2))"
   ],
   "id": "e096a9723621bf9",
   "outputs": [
    {
     "data": {
      "text/plain": [
       "\u001B[1m{\u001B[0m\n",
       "  \u001B[32m\"gemma-2-27b-it_16_ex.csv\"\u001B[0m: \u001B[1;36m0.8653431481894565\u001B[0m,\n",
       "  \u001B[32m\"gemma-2-27b-it_32_ex.csv\"\u001B[0m: \u001B[1;36m0.8603829160530191\u001B[0m,\n",
       "  \u001B[32m\"gemma-2-27b-it_64_ex.csv\"\u001B[0m: \u001B[1;36m0.86366669137816\u001B[0m,\n",
       "  \u001B[32m\"gemma-3-27b-it_16_ex.csv\"\u001B[0m: \u001B[1;36m0.8667719852553976\u001B[0m,\n",
       "  \u001B[32m\"gemma-3-27b-it_32_ex.csv\"\u001B[0m: \u001B[1;36m0.8787969474786773\u001B[0m,\n",
       "  \u001B[32m\"gemma-3-27b-it_64_ex.csv\"\u001B[0m: \u001B[1;36m0.8822429906542056\u001B[0m,\n",
       "  \u001B[32m\"Qwen2.5-14B-Instruct_16_ex.csv\"\u001B[0m: \u001B[1;36m0.8512079476179725\u001B[0m,\n",
       "  \u001B[32m\"Qwen2.5-14B-Instruct_32_ex.csv\"\u001B[0m: \u001B[1;36m0.8512751071992779\u001B[0m,\n",
       "  \u001B[32m\"Qwen2.5-14B-Instruct_64_ex.csv\"\u001B[0m: \u001B[1;36m0.853515625\u001B[0m,\n",
       "  \u001B[32m\"Phi-4_16_ex.csv\"\u001B[0m: \u001B[1;36m0.8694021453754408\u001B[0m,\n",
       "  \u001B[32m\"Phi-4_32_ex.csv\"\u001B[0m: \u001B[1;36m0.8713910761154855\u001B[0m,\n",
       "  \u001B[32m\"Phi-4_64_ex.csv\"\u001B[0m: \u001B[1;36m0.8742874287428744\u001B[0m\n",
       "\u001B[1m}\u001B[0m\n"
      ],
      "text/html": [
       "<pre style=\"white-space:pre;overflow-x:auto;line-height:normal;font-family:Menlo,'DejaVu Sans Mono',consolas,'Courier New',monospace\"><span style=\"font-weight: bold\">{</span>\n",
       "  <span style=\"color: #008000; text-decoration-color: #008000\">\"gemma-2-27b-it_16_ex.csv\"</span>: <span style=\"color: #008080; text-decoration-color: #008080; font-weight: bold\">0.8653431481894565</span>,\n",
       "  <span style=\"color: #008000; text-decoration-color: #008000\">\"gemma-2-27b-it_32_ex.csv\"</span>: <span style=\"color: #008080; text-decoration-color: #008080; font-weight: bold\">0.8603829160530191</span>,\n",
       "  <span style=\"color: #008000; text-decoration-color: #008000\">\"gemma-2-27b-it_64_ex.csv\"</span>: <span style=\"color: #008080; text-decoration-color: #008080; font-weight: bold\">0.86366669137816</span>,\n",
       "  <span style=\"color: #008000; text-decoration-color: #008000\">\"gemma-3-27b-it_16_ex.csv\"</span>: <span style=\"color: #008080; text-decoration-color: #008080; font-weight: bold\">0.8667719852553976</span>,\n",
       "  <span style=\"color: #008000; text-decoration-color: #008000\">\"gemma-3-27b-it_32_ex.csv\"</span>: <span style=\"color: #008080; text-decoration-color: #008080; font-weight: bold\">0.8787969474786773</span>,\n",
       "  <span style=\"color: #008000; text-decoration-color: #008000\">\"gemma-3-27b-it_64_ex.csv\"</span>: <span style=\"color: #008080; text-decoration-color: #008080; font-weight: bold\">0.8822429906542056</span>,\n",
       "  <span style=\"color: #008000; text-decoration-color: #008000\">\"Qwen2.5-14B-Instruct_16_ex.csv\"</span>: <span style=\"color: #008080; text-decoration-color: #008080; font-weight: bold\">0.8512079476179725</span>,\n",
       "  <span style=\"color: #008000; text-decoration-color: #008000\">\"Qwen2.5-14B-Instruct_32_ex.csv\"</span>: <span style=\"color: #008080; text-decoration-color: #008080; font-weight: bold\">0.8512751071992779</span>,\n",
       "  <span style=\"color: #008000; text-decoration-color: #008000\">\"Qwen2.5-14B-Instruct_64_ex.csv\"</span>: <span style=\"color: #008080; text-decoration-color: #008080; font-weight: bold\">0.853515625</span>,\n",
       "  <span style=\"color: #008000; text-decoration-color: #008000\">\"Phi-4_16_ex.csv\"</span>: <span style=\"color: #008080; text-decoration-color: #008080; font-weight: bold\">0.8694021453754408</span>,\n",
       "  <span style=\"color: #008000; text-decoration-color: #008000\">\"Phi-4_32_ex.csv\"</span>: <span style=\"color: #008080; text-decoration-color: #008080; font-weight: bold\">0.8713910761154855</span>,\n",
       "  <span style=\"color: #008000; text-decoration-color: #008000\">\"Phi-4_64_ex.csv\"</span>: <span style=\"color: #008080; text-decoration-color: #008080; font-weight: bold\">0.8742874287428744</span>\n",
       "<span style=\"font-weight: bold\">}</span>\n",
       "</pre>\n"
      ]
     },
     "metadata": {},
     "output_type": "display_data"
    }
   ],
   "execution_count": 2
  },
  {
   "metadata": {
    "ExecuteTime": {
     "end_time": "2025-04-06T21:28:32.964808Z",
     "start_time": "2025-04-06T21:28:15.448933Z"
    }
   },
   "cell_type": "code",
   "source": [
    "best_files_to_eval = [\n",
    "    \"Qwen2.5-14B-Instruct_Best.csv\",\n",
    "    \"gemma-2-27b-it_Best.csv\",\n",
    "    \"gemma-3-27b-it_Best.csv\",\n",
    "]\n",
    "\n",
    "best_res = {}\n",
    "for f_name in best_files_to_eval:\n",
    "    df = pd.read_csv(BASE_PATH + f_name)\n",
    "    data_df[\"pred\"] = df[\"generated_answer\"].apply(parse_ner_output)\n",
    "    data_df[\"pred\"] = data_df.apply(basic_post_processing, axis=1)\n",
    "    print(f_name)\n",
    "    print(evaluate_ner(data_df))\n",
    "\n",
    "\n",
    "for f_name in [\"Phi-4_Best.csv\"]:\n",
    "    df = pd.read_csv(BASE_PATH + f_name)\n",
    "    data_df[\"pred\"] = df[\"generated_answer\"].map(lambda x: parse_ner_output(x, \"assistant\"))\n",
    "    data_df[\"pred\"] = data_df.apply(basic_post_processing, axis=1)\n",
    "    print(f_name)\n",
    "    print(evaluate_ner(data_df))"
   ],
   "id": "8dd72a7102848596",
   "outputs": [
    {
     "data": {
      "text/plain": [
       "Qwen2.\u001B[1;36m5\u001B[0m-14B-Instruct_Best.csv\n"
      ],
      "text/html": [
       "<pre style=\"white-space:pre;overflow-x:auto;line-height:normal;font-family:Menlo,'DejaVu Sans Mono',consolas,'Courier New',monospace\">Qwen2.<span style=\"color: #008080; text-decoration-color: #008080; font-weight: bold\">5</span>-14B-Instruct_Best.csv\n",
       "</pre>\n"
      ]
     },
     "metadata": {},
     "output_type": "display_data"
    },
    {
     "data": {
      "text/plain": [
       "\u001B[1m{\u001B[0m\n",
       "    \u001B[32m'ents_p'\u001B[0m: \u001B[1;36m0.8858895705521472\u001B[0m,\n",
       "    \u001B[32m'ents_r'\u001B[0m: \u001B[1;36m0.8480399353986199\u001B[0m,\n",
       "    \u001B[32m'ents_f'\u001B[0m: \u001B[1;36m0.8665516465381441\u001B[0m,\n",
       "    \u001B[32m'ents_per_type'\u001B[0m: \u001B[1m{\u001B[0m\n",
       "        \u001B[32m'LOC'\u001B[0m: \u001B[1m{\u001B[0m\u001B[32m'p'\u001B[0m: \u001B[1;36m0.899002493765586\u001B[0m, \u001B[32m'r'\u001B[0m: \u001B[1;36m0.8814180929095354\u001B[0m, \u001B[32m'f'\u001B[0m: \u001B[1;36m0.8901234567901234\u001B[0m\u001B[1m}\u001B[0m,\n",
       "        \u001B[32m'PCT'\u001B[0m: \u001B[1m{\u001B[0m\u001B[32m'p'\u001B[0m: \u001B[1;36m1.0\u001B[0m, \u001B[32m'r'\u001B[0m: \u001B[1;36m0.9555555555555556\u001B[0m, \u001B[32m'f'\u001B[0m: \u001B[1;36m0.9772727272727273\u001B[0m\u001B[1m}\u001B[0m,\n",
       "        \u001B[32m'PERS'\u001B[0m: \u001B[1m{\u001B[0m\u001B[32m'p'\u001B[0m: \u001B[1;36m0.95125284738041\u001B[0m, \u001B[32m'r'\u001B[0m: \u001B[1;36m0.9586776859504132\u001B[0m, \u001B[32m'f'\u001B[0m: \u001B[1;36m0.9549508346672766\u001B[0m\u001B[1m}\u001B[0m,\n",
       "        \u001B[32m'JOB'\u001B[0m: \u001B[1m{\u001B[0m\u001B[32m'p'\u001B[0m: \u001B[1;36m0.7159763313609467\u001B[0m, \u001B[32m'r'\u001B[0m: \u001B[1;36m0.5525114155251142\u001B[0m, \u001B[32m'f'\u001B[0m: \u001B[1;36m0.6237113402061856\u001B[0m\u001B[1m}\u001B[0m,\n",
       "        \u001B[32m'PERIOD'\u001B[0m: \u001B[1m{\u001B[0m\u001B[32m'p'\u001B[0m: \u001B[1;36m0.71875\u001B[0m, \u001B[32m'r'\u001B[0m: \u001B[1;36m0.6216216216216216\u001B[0m, \u001B[32m'f'\u001B[0m: \u001B[1;36m0.6666666666666667\u001B[0m\u001B[1m}\u001B[0m,\n",
       "        \u001B[32m'ORG'\u001B[0m: \u001B[1m{\u001B[0m\u001B[32m'p'\u001B[0m: \u001B[1;36m0.9185336048879837\u001B[0m, \u001B[32m'r'\u001B[0m: \u001B[1;36m0.8791423001949318\u001B[0m, \u001B[32m'f'\u001B[0m: \u001B[1;36m0.898406374501992\u001B[0m\u001B[1m}\u001B[0m,\n",
       "        \u001B[32m'MISC'\u001B[0m: \u001B[1m{\u001B[0m\u001B[32m'p'\u001B[0m: \u001B[1;36m0.416\u001B[0m, \u001B[32m'r'\u001B[0m: \u001B[1;36m0.36619718309859156\u001B[0m, \u001B[32m'f'\u001B[0m: \u001B[1;36m0.3895131086142322\u001B[0m\u001B[1m}\u001B[0m,\n",
       "        \u001B[32m'ART'\u001B[0m: \u001B[1m{\u001B[0m\u001B[32m'p'\u001B[0m: \u001B[1;36m0.6964980544747081\u001B[0m, \u001B[32m'r'\u001B[0m: \u001B[1;36m0.7552742616033755\u001B[0m, \u001B[32m'f'\u001B[0m: \u001B[1;36m0.7246963562753036\u001B[0m\u001B[1m}\u001B[0m,\n",
       "        \u001B[32m'QUANT'\u001B[0m: \u001B[1m{\u001B[0m\u001B[32m'p'\u001B[0m: \u001B[1;36m0.8518518518518519\u001B[0m, \u001B[32m'r'\u001B[0m: \u001B[1;36m0.7752808988764045\u001B[0m, \u001B[32m'f'\u001B[0m: \u001B[1;36m0.8117647058823529\u001B[0m\u001B[1m}\u001B[0m,\n",
       "        \u001B[32m'DATE'\u001B[0m: \u001B[1m{\u001B[0m\u001B[32m'p'\u001B[0m: \u001B[1;36m0.8804123711340206\u001B[0m, \u001B[32m'r'\u001B[0m: \u001B[1;36m0.8522954091816367\u001B[0m, \u001B[32m'f'\u001B[0m: \u001B[1;36m0.8661257606490872\u001B[0m\u001B[1m}\u001B[0m,\n",
       "        \u001B[32m'TIME'\u001B[0m: \u001B[1m{\u001B[0m\u001B[32m'p'\u001B[0m: \u001B[1;36m0.6\u001B[0m, \u001B[32m'r'\u001B[0m: \u001B[1;36m0.3\u001B[0m, \u001B[32m'f'\u001B[0m: \u001B[1;36m0.4\u001B[0m\u001B[1m}\u001B[0m,\n",
       "        \u001B[32m'DOC'\u001B[0m: \u001B[1m{\u001B[0m\u001B[32m'p'\u001B[0m: \u001B[1;36m0.5483870967741935\u001B[0m, \u001B[32m'r'\u001B[0m: \u001B[1;36m0.425\u001B[0m, \u001B[32m'f'\u001B[0m: \u001B[1;36m0.47887323943661964\u001B[0m\u001B[1m}\u001B[0m,\n",
       "        \u001B[32m'MON'\u001B[0m: \u001B[1m{\u001B[0m\u001B[32m'p'\u001B[0m: \u001B[1;36m0.9680511182108626\u001B[0m, \u001B[32m'r'\u001B[0m: \u001B[1;36m0.9323076923076923\u001B[0m, \u001B[32m'f'\u001B[0m: \u001B[1;36m0.9498432601880877\u001B[0m\u001B[1m}\u001B[0m\n",
       "    \u001B[1m}\u001B[0m\n",
       "\u001B[1m}\u001B[0m\n"
      ],
      "text/html": [
       "<pre style=\"white-space:pre;overflow-x:auto;line-height:normal;font-family:Menlo,'DejaVu Sans Mono',consolas,'Courier New',monospace\"><span style=\"font-weight: bold\">{</span>\n",
       "    <span style=\"color: #008000; text-decoration-color: #008000\">'ents_p'</span>: <span style=\"color: #008080; text-decoration-color: #008080; font-weight: bold\">0.8858895705521472</span>,\n",
       "    <span style=\"color: #008000; text-decoration-color: #008000\">'ents_r'</span>: <span style=\"color: #008080; text-decoration-color: #008080; font-weight: bold\">0.8480399353986199</span>,\n",
       "    <span style=\"color: #008000; text-decoration-color: #008000\">'ents_f'</span>: <span style=\"color: #008080; text-decoration-color: #008080; font-weight: bold\">0.8665516465381441</span>,\n",
       "    <span style=\"color: #008000; text-decoration-color: #008000\">'ents_per_type'</span>: <span style=\"font-weight: bold\">{</span>\n",
       "        <span style=\"color: #008000; text-decoration-color: #008000\">'LOC'</span>: <span style=\"font-weight: bold\">{</span><span style=\"color: #008000; text-decoration-color: #008000\">'p'</span>: <span style=\"color: #008080; text-decoration-color: #008080; font-weight: bold\">0.899002493765586</span>, <span style=\"color: #008000; text-decoration-color: #008000\">'r'</span>: <span style=\"color: #008080; text-decoration-color: #008080; font-weight: bold\">0.8814180929095354</span>, <span style=\"color: #008000; text-decoration-color: #008000\">'f'</span>: <span style=\"color: #008080; text-decoration-color: #008080; font-weight: bold\">0.8901234567901234</span><span style=\"font-weight: bold\">}</span>,\n",
       "        <span style=\"color: #008000; text-decoration-color: #008000\">'PCT'</span>: <span style=\"font-weight: bold\">{</span><span style=\"color: #008000; text-decoration-color: #008000\">'p'</span>: <span style=\"color: #008080; text-decoration-color: #008080; font-weight: bold\">1.0</span>, <span style=\"color: #008000; text-decoration-color: #008000\">'r'</span>: <span style=\"color: #008080; text-decoration-color: #008080; font-weight: bold\">0.9555555555555556</span>, <span style=\"color: #008000; text-decoration-color: #008000\">'f'</span>: <span style=\"color: #008080; text-decoration-color: #008080; font-weight: bold\">0.9772727272727273</span><span style=\"font-weight: bold\">}</span>,\n",
       "        <span style=\"color: #008000; text-decoration-color: #008000\">'PERS'</span>: <span style=\"font-weight: bold\">{</span><span style=\"color: #008000; text-decoration-color: #008000\">'p'</span>: <span style=\"color: #008080; text-decoration-color: #008080; font-weight: bold\">0.95125284738041</span>, <span style=\"color: #008000; text-decoration-color: #008000\">'r'</span>: <span style=\"color: #008080; text-decoration-color: #008080; font-weight: bold\">0.9586776859504132</span>, <span style=\"color: #008000; text-decoration-color: #008000\">'f'</span>: <span style=\"color: #008080; text-decoration-color: #008080; font-weight: bold\">0.9549508346672766</span><span style=\"font-weight: bold\">}</span>,\n",
       "        <span style=\"color: #008000; text-decoration-color: #008000\">'JOB'</span>: <span style=\"font-weight: bold\">{</span><span style=\"color: #008000; text-decoration-color: #008000\">'p'</span>: <span style=\"color: #008080; text-decoration-color: #008080; font-weight: bold\">0.7159763313609467</span>, <span style=\"color: #008000; text-decoration-color: #008000\">'r'</span>: <span style=\"color: #008080; text-decoration-color: #008080; font-weight: bold\">0.5525114155251142</span>, <span style=\"color: #008000; text-decoration-color: #008000\">'f'</span>: <span style=\"color: #008080; text-decoration-color: #008080; font-weight: bold\">0.6237113402061856</span><span style=\"font-weight: bold\">}</span>,\n",
       "        <span style=\"color: #008000; text-decoration-color: #008000\">'PERIOD'</span>: <span style=\"font-weight: bold\">{</span><span style=\"color: #008000; text-decoration-color: #008000\">'p'</span>: <span style=\"color: #008080; text-decoration-color: #008080; font-weight: bold\">0.71875</span>, <span style=\"color: #008000; text-decoration-color: #008000\">'r'</span>: <span style=\"color: #008080; text-decoration-color: #008080; font-weight: bold\">0.6216216216216216</span>, <span style=\"color: #008000; text-decoration-color: #008000\">'f'</span>: <span style=\"color: #008080; text-decoration-color: #008080; font-weight: bold\">0.6666666666666667</span><span style=\"font-weight: bold\">}</span>,\n",
       "        <span style=\"color: #008000; text-decoration-color: #008000\">'ORG'</span>: <span style=\"font-weight: bold\">{</span><span style=\"color: #008000; text-decoration-color: #008000\">'p'</span>: <span style=\"color: #008080; text-decoration-color: #008080; font-weight: bold\">0.9185336048879837</span>, <span style=\"color: #008000; text-decoration-color: #008000\">'r'</span>: <span style=\"color: #008080; text-decoration-color: #008080; font-weight: bold\">0.8791423001949318</span>, <span style=\"color: #008000; text-decoration-color: #008000\">'f'</span>: <span style=\"color: #008080; text-decoration-color: #008080; font-weight: bold\">0.898406374501992</span><span style=\"font-weight: bold\">}</span>,\n",
       "        <span style=\"color: #008000; text-decoration-color: #008000\">'MISC'</span>: <span style=\"font-weight: bold\">{</span><span style=\"color: #008000; text-decoration-color: #008000\">'p'</span>: <span style=\"color: #008080; text-decoration-color: #008080; font-weight: bold\">0.416</span>, <span style=\"color: #008000; text-decoration-color: #008000\">'r'</span>: <span style=\"color: #008080; text-decoration-color: #008080; font-weight: bold\">0.36619718309859156</span>, <span style=\"color: #008000; text-decoration-color: #008000\">'f'</span>: <span style=\"color: #008080; text-decoration-color: #008080; font-weight: bold\">0.3895131086142322</span><span style=\"font-weight: bold\">}</span>,\n",
       "        <span style=\"color: #008000; text-decoration-color: #008000\">'ART'</span>: <span style=\"font-weight: bold\">{</span><span style=\"color: #008000; text-decoration-color: #008000\">'p'</span>: <span style=\"color: #008080; text-decoration-color: #008080; font-weight: bold\">0.6964980544747081</span>, <span style=\"color: #008000; text-decoration-color: #008000\">'r'</span>: <span style=\"color: #008080; text-decoration-color: #008080; font-weight: bold\">0.7552742616033755</span>, <span style=\"color: #008000; text-decoration-color: #008000\">'f'</span>: <span style=\"color: #008080; text-decoration-color: #008080; font-weight: bold\">0.7246963562753036</span><span style=\"font-weight: bold\">}</span>,\n",
       "        <span style=\"color: #008000; text-decoration-color: #008000\">'QUANT'</span>: <span style=\"font-weight: bold\">{</span><span style=\"color: #008000; text-decoration-color: #008000\">'p'</span>: <span style=\"color: #008080; text-decoration-color: #008080; font-weight: bold\">0.8518518518518519</span>, <span style=\"color: #008000; text-decoration-color: #008000\">'r'</span>: <span style=\"color: #008080; text-decoration-color: #008080; font-weight: bold\">0.7752808988764045</span>, <span style=\"color: #008000; text-decoration-color: #008000\">'f'</span>: <span style=\"color: #008080; text-decoration-color: #008080; font-weight: bold\">0.8117647058823529</span><span style=\"font-weight: bold\">}</span>,\n",
       "        <span style=\"color: #008000; text-decoration-color: #008000\">'DATE'</span>: <span style=\"font-weight: bold\">{</span><span style=\"color: #008000; text-decoration-color: #008000\">'p'</span>: <span style=\"color: #008080; text-decoration-color: #008080; font-weight: bold\">0.8804123711340206</span>, <span style=\"color: #008000; text-decoration-color: #008000\">'r'</span>: <span style=\"color: #008080; text-decoration-color: #008080; font-weight: bold\">0.8522954091816367</span>, <span style=\"color: #008000; text-decoration-color: #008000\">'f'</span>: <span style=\"color: #008080; text-decoration-color: #008080; font-weight: bold\">0.8661257606490872</span><span style=\"font-weight: bold\">}</span>,\n",
       "        <span style=\"color: #008000; text-decoration-color: #008000\">'TIME'</span>: <span style=\"font-weight: bold\">{</span><span style=\"color: #008000; text-decoration-color: #008000\">'p'</span>: <span style=\"color: #008080; text-decoration-color: #008080; font-weight: bold\">0.6</span>, <span style=\"color: #008000; text-decoration-color: #008000\">'r'</span>: <span style=\"color: #008080; text-decoration-color: #008080; font-weight: bold\">0.3</span>, <span style=\"color: #008000; text-decoration-color: #008000\">'f'</span>: <span style=\"color: #008080; text-decoration-color: #008080; font-weight: bold\">0.4</span><span style=\"font-weight: bold\">}</span>,\n",
       "        <span style=\"color: #008000; text-decoration-color: #008000\">'DOC'</span>: <span style=\"font-weight: bold\">{</span><span style=\"color: #008000; text-decoration-color: #008000\">'p'</span>: <span style=\"color: #008080; text-decoration-color: #008080; font-weight: bold\">0.5483870967741935</span>, <span style=\"color: #008000; text-decoration-color: #008000\">'r'</span>: <span style=\"color: #008080; text-decoration-color: #008080; font-weight: bold\">0.425</span>, <span style=\"color: #008000; text-decoration-color: #008000\">'f'</span>: <span style=\"color: #008080; text-decoration-color: #008080; font-weight: bold\">0.47887323943661964</span><span style=\"font-weight: bold\">}</span>,\n",
       "        <span style=\"color: #008000; text-decoration-color: #008000\">'MON'</span>: <span style=\"font-weight: bold\">{</span><span style=\"color: #008000; text-decoration-color: #008000\">'p'</span>: <span style=\"color: #008080; text-decoration-color: #008080; font-weight: bold\">0.9680511182108626</span>, <span style=\"color: #008000; text-decoration-color: #008000\">'r'</span>: <span style=\"color: #008080; text-decoration-color: #008080; font-weight: bold\">0.9323076923076923</span>, <span style=\"color: #008000; text-decoration-color: #008000\">'f'</span>: <span style=\"color: #008080; text-decoration-color: #008080; font-weight: bold\">0.9498432601880877</span><span style=\"font-weight: bold\">}</span>\n",
       "    <span style=\"font-weight: bold\">}</span>\n",
       "<span style=\"font-weight: bold\">}</span>\n",
       "</pre>\n"
      ]
     },
     "metadata": {},
     "output_type": "display_data"
    },
    {
     "data": {
      "text/plain": [
       "gemma-\u001B[1;36m2\u001B[0m-27b-it_Best.csv\n"
      ],
      "text/html": [
       "<pre style=\"white-space:pre;overflow-x:auto;line-height:normal;font-family:Menlo,'DejaVu Sans Mono',consolas,'Courier New',monospace\">gemma-<span style=\"color: #008080; text-decoration-color: #008080; font-weight: bold\">2</span>-27b-it_Best.csv\n",
       "</pre>\n"
      ]
     },
     "metadata": {},
     "output_type": "display_data"
    },
    {
     "data": {
      "text/plain": [
       "\u001B[1m{\u001B[0m\n",
       "    \u001B[32m'ents_p'\u001B[0m: \u001B[1;36m0.902557856272838\u001B[0m,\n",
       "    \u001B[32m'ents_r'\u001B[0m: \u001B[1;36m0.8703567758038467\u001B[0m,\n",
       "    \u001B[32m'ents_f'\u001B[0m: \u001B[1;36m0.8861648852679572\u001B[0m,\n",
       "    \u001B[32m'ents_per_type'\u001B[0m: \u001B[1m{\u001B[0m\n",
       "        \u001B[32m'LOC'\u001B[0m: \u001B[1m{\u001B[0m\u001B[32m'p'\u001B[0m: \u001B[1;36m0.9064039408866995\u001B[0m, \u001B[32m'r'\u001B[0m: \u001B[1;36m0.8997555012224939\u001B[0m, \u001B[32m'f'\u001B[0m: \u001B[1;36m0.9030674846625768\u001B[0m\u001B[1m}\u001B[0m,\n",
       "        \u001B[32m'PCT'\u001B[0m: \u001B[1m{\u001B[0m\u001B[32m'p'\u001B[0m: \u001B[1;36m1.0\u001B[0m, \u001B[32m'r'\u001B[0m: \u001B[1;36m0.9888888888888889\u001B[0m, \u001B[32m'f'\u001B[0m: \u001B[1;36m0.9944134078212291\u001B[0m\u001B[1m}\u001B[0m,\n",
       "        \u001B[32m'PERS'\u001B[0m: \u001B[1m{\u001B[0m\u001B[32m'p'\u001B[0m: \u001B[1;36m0.9630642954856361\u001B[0m, \u001B[32m'r'\u001B[0m: \u001B[1;36m0.9696969696969697\u001B[0m, \u001B[32m'f'\u001B[0m: \u001B[1;36m0.9663692518874399\u001B[0m\u001B[1m}\u001B[0m,\n",
       "        \u001B[32m'JOB'\u001B[0m: \u001B[1m{\u001B[0m\u001B[32m'p'\u001B[0m: \u001B[1;36m0.7686116700201208\u001B[0m, \u001B[32m'r'\u001B[0m: \u001B[1;36m0.5814307458143074\u001B[0m, \u001B[32m'f'\u001B[0m: \u001B[1;36m0.6620450606585788\u001B[0m\u001B[1m}\u001B[0m,\n",
       "        \u001B[32m'PERIOD'\u001B[0m: \u001B[1m{\u001B[0m\u001B[32m'p'\u001B[0m: \u001B[1;36m0.7797619047619048\u001B[0m, \u001B[32m'r'\u001B[0m: \u001B[1;36m0.7081081081081081\u001B[0m, \u001B[32m'f'\u001B[0m: \u001B[1;36m0.7422096317280453\u001B[0m\u001B[1m}\u001B[0m,\n",
       "        \u001B[32m'ORG'\u001B[0m: \u001B[1m{\u001B[0m\u001B[32m'p'\u001B[0m: \u001B[1;36m0.9282868525896414\u001B[0m, \u001B[32m'r'\u001B[0m: \u001B[1;36m0.9083820662768031\u001B[0m, \u001B[32m'f'\u001B[0m: \u001B[1;36m0.9182266009852216\u001B[0m\u001B[1m}\u001B[0m,\n",
       "        \u001B[32m'MISC'\u001B[0m: \u001B[1m{\u001B[0m\u001B[32m'p'\u001B[0m: \u001B[1;36m0.34782608695652173\u001B[0m, \u001B[32m'r'\u001B[0m: \u001B[1;36m0.28169014084507044\u001B[0m, \u001B[32m'f'\u001B[0m: \u001B[1;36m0.311284046692607\u001B[0m\u001B[1m}\u001B[0m,\n",
       "        \u001B[32m'DOC'\u001B[0m: \u001B[1m{\u001B[0m\u001B[32m'p'\u001B[0m: \u001B[1;36m0.6666666666666666\u001B[0m, \u001B[32m'r'\u001B[0m: \u001B[1;36m0.45\u001B[0m, \u001B[32m'f'\u001B[0m: \u001B[1;36m0.5373134328358209\u001B[0m\u001B[1m}\u001B[0m,\n",
       "        \u001B[32m'QUANT'\u001B[0m: \u001B[1m{\u001B[0m\u001B[32m'p'\u001B[0m: \u001B[1;36m0.8735632183908046\u001B[0m, \u001B[32m'r'\u001B[0m: \u001B[1;36m0.8539325842696629\u001B[0m, \u001B[32m'f'\u001B[0m: \u001B[1;36m0.8636363636363635\u001B[0m\u001B[1m}\u001B[0m,\n",
       "        \u001B[32m'DATE'\u001B[0m: \u001B[1m{\u001B[0m\u001B[32m'p'\u001B[0m: \u001B[1;36m0.9085365853658537\u001B[0m, \u001B[32m'r'\u001B[0m: \u001B[1;36m0.8922155688622755\u001B[0m, \u001B[32m'f'\u001B[0m: \u001B[1;36m0.9003021148036255\u001B[0m\u001B[1m}\u001B[0m,\n",
       "        \u001B[32m'ART'\u001B[0m: \u001B[1m{\u001B[0m\u001B[32m'p'\u001B[0m: \u001B[1;36m0.7034220532319392\u001B[0m, \u001B[32m'r'\u001B[0m: \u001B[1;36m0.7805907172995781\u001B[0m, \u001B[32m'f'\u001B[0m: \u001B[1;36m0.7400000000000001\u001B[0m\u001B[1m}\u001B[0m,\n",
       "        \u001B[32m'TIME'\u001B[0m: \u001B[1m{\u001B[0m\u001B[32m'p'\u001B[0m: \u001B[1;36m1.0\u001B[0m, \u001B[32m'r'\u001B[0m: \u001B[1;36m0.7\u001B[0m, \u001B[32m'f'\u001B[0m: \u001B[1;36m0.8235294117647058\u001B[0m\u001B[1m}\u001B[0m,\n",
       "        \u001B[32m'MON'\u001B[0m: \u001B[1m{\u001B[0m\u001B[32m'p'\u001B[0m: \u001B[1;36m0.9839743589743589\u001B[0m, \u001B[32m'r'\u001B[0m: \u001B[1;36m0.9446153846153846\u001B[0m, \u001B[32m'f'\u001B[0m: \u001B[1;36m0.9638932496075352\u001B[0m\u001B[1m}\u001B[0m\n",
       "    \u001B[1m}\u001B[0m\n",
       "\u001B[1m}\u001B[0m\n"
      ],
      "text/html": [
       "<pre style=\"white-space:pre;overflow-x:auto;line-height:normal;font-family:Menlo,'DejaVu Sans Mono',consolas,'Courier New',monospace\"><span style=\"font-weight: bold\">{</span>\n",
       "    <span style=\"color: #008000; text-decoration-color: #008000\">'ents_p'</span>: <span style=\"color: #008080; text-decoration-color: #008080; font-weight: bold\">0.902557856272838</span>,\n",
       "    <span style=\"color: #008000; text-decoration-color: #008000\">'ents_r'</span>: <span style=\"color: #008080; text-decoration-color: #008080; font-weight: bold\">0.8703567758038467</span>,\n",
       "    <span style=\"color: #008000; text-decoration-color: #008000\">'ents_f'</span>: <span style=\"color: #008080; text-decoration-color: #008080; font-weight: bold\">0.8861648852679572</span>,\n",
       "    <span style=\"color: #008000; text-decoration-color: #008000\">'ents_per_type'</span>: <span style=\"font-weight: bold\">{</span>\n",
       "        <span style=\"color: #008000; text-decoration-color: #008000\">'LOC'</span>: <span style=\"font-weight: bold\">{</span><span style=\"color: #008000; text-decoration-color: #008000\">'p'</span>: <span style=\"color: #008080; text-decoration-color: #008080; font-weight: bold\">0.9064039408866995</span>, <span style=\"color: #008000; text-decoration-color: #008000\">'r'</span>: <span style=\"color: #008080; text-decoration-color: #008080; font-weight: bold\">0.8997555012224939</span>, <span style=\"color: #008000; text-decoration-color: #008000\">'f'</span>: <span style=\"color: #008080; text-decoration-color: #008080; font-weight: bold\">0.9030674846625768</span><span style=\"font-weight: bold\">}</span>,\n",
       "        <span style=\"color: #008000; text-decoration-color: #008000\">'PCT'</span>: <span style=\"font-weight: bold\">{</span><span style=\"color: #008000; text-decoration-color: #008000\">'p'</span>: <span style=\"color: #008080; text-decoration-color: #008080; font-weight: bold\">1.0</span>, <span style=\"color: #008000; text-decoration-color: #008000\">'r'</span>: <span style=\"color: #008080; text-decoration-color: #008080; font-weight: bold\">0.9888888888888889</span>, <span style=\"color: #008000; text-decoration-color: #008000\">'f'</span>: <span style=\"color: #008080; text-decoration-color: #008080; font-weight: bold\">0.9944134078212291</span><span style=\"font-weight: bold\">}</span>,\n",
       "        <span style=\"color: #008000; text-decoration-color: #008000\">'PERS'</span>: <span style=\"font-weight: bold\">{</span><span style=\"color: #008000; text-decoration-color: #008000\">'p'</span>: <span style=\"color: #008080; text-decoration-color: #008080; font-weight: bold\">0.9630642954856361</span>, <span style=\"color: #008000; text-decoration-color: #008000\">'r'</span>: <span style=\"color: #008080; text-decoration-color: #008080; font-weight: bold\">0.9696969696969697</span>, <span style=\"color: #008000; text-decoration-color: #008000\">'f'</span>: <span style=\"color: #008080; text-decoration-color: #008080; font-weight: bold\">0.9663692518874399</span><span style=\"font-weight: bold\">}</span>,\n",
       "        <span style=\"color: #008000; text-decoration-color: #008000\">'JOB'</span>: <span style=\"font-weight: bold\">{</span><span style=\"color: #008000; text-decoration-color: #008000\">'p'</span>: <span style=\"color: #008080; text-decoration-color: #008080; font-weight: bold\">0.7686116700201208</span>, <span style=\"color: #008000; text-decoration-color: #008000\">'r'</span>: <span style=\"color: #008080; text-decoration-color: #008080; font-weight: bold\">0.5814307458143074</span>, <span style=\"color: #008000; text-decoration-color: #008000\">'f'</span>: <span style=\"color: #008080; text-decoration-color: #008080; font-weight: bold\">0.6620450606585788</span><span style=\"font-weight: bold\">}</span>,\n",
       "        <span style=\"color: #008000; text-decoration-color: #008000\">'PERIOD'</span>: <span style=\"font-weight: bold\">{</span><span style=\"color: #008000; text-decoration-color: #008000\">'p'</span>: <span style=\"color: #008080; text-decoration-color: #008080; font-weight: bold\">0.7797619047619048</span>, <span style=\"color: #008000; text-decoration-color: #008000\">'r'</span>: <span style=\"color: #008080; text-decoration-color: #008080; font-weight: bold\">0.7081081081081081</span>, <span style=\"color: #008000; text-decoration-color: #008000\">'f'</span>: <span style=\"color: #008080; text-decoration-color: #008080; font-weight: bold\">0.7422096317280453</span><span style=\"font-weight: bold\">}</span>,\n",
       "        <span style=\"color: #008000; text-decoration-color: #008000\">'ORG'</span>: <span style=\"font-weight: bold\">{</span><span style=\"color: #008000; text-decoration-color: #008000\">'p'</span>: <span style=\"color: #008080; text-decoration-color: #008080; font-weight: bold\">0.9282868525896414</span>, <span style=\"color: #008000; text-decoration-color: #008000\">'r'</span>: <span style=\"color: #008080; text-decoration-color: #008080; font-weight: bold\">0.9083820662768031</span>, <span style=\"color: #008000; text-decoration-color: #008000\">'f'</span>: <span style=\"color: #008080; text-decoration-color: #008080; font-weight: bold\">0.9182266009852216</span><span style=\"font-weight: bold\">}</span>,\n",
       "        <span style=\"color: #008000; text-decoration-color: #008000\">'MISC'</span>: <span style=\"font-weight: bold\">{</span><span style=\"color: #008000; text-decoration-color: #008000\">'p'</span>: <span style=\"color: #008080; text-decoration-color: #008080; font-weight: bold\">0.34782608695652173</span>, <span style=\"color: #008000; text-decoration-color: #008000\">'r'</span>: <span style=\"color: #008080; text-decoration-color: #008080; font-weight: bold\">0.28169014084507044</span>, <span style=\"color: #008000; text-decoration-color: #008000\">'f'</span>: <span style=\"color: #008080; text-decoration-color: #008080; font-weight: bold\">0.311284046692607</span><span style=\"font-weight: bold\">}</span>,\n",
       "        <span style=\"color: #008000; text-decoration-color: #008000\">'DOC'</span>: <span style=\"font-weight: bold\">{</span><span style=\"color: #008000; text-decoration-color: #008000\">'p'</span>: <span style=\"color: #008080; text-decoration-color: #008080; font-weight: bold\">0.6666666666666666</span>, <span style=\"color: #008000; text-decoration-color: #008000\">'r'</span>: <span style=\"color: #008080; text-decoration-color: #008080; font-weight: bold\">0.45</span>, <span style=\"color: #008000; text-decoration-color: #008000\">'f'</span>: <span style=\"color: #008080; text-decoration-color: #008080; font-weight: bold\">0.5373134328358209</span><span style=\"font-weight: bold\">}</span>,\n",
       "        <span style=\"color: #008000; text-decoration-color: #008000\">'QUANT'</span>: <span style=\"font-weight: bold\">{</span><span style=\"color: #008000; text-decoration-color: #008000\">'p'</span>: <span style=\"color: #008080; text-decoration-color: #008080; font-weight: bold\">0.8735632183908046</span>, <span style=\"color: #008000; text-decoration-color: #008000\">'r'</span>: <span style=\"color: #008080; text-decoration-color: #008080; font-weight: bold\">0.8539325842696629</span>, <span style=\"color: #008000; text-decoration-color: #008000\">'f'</span>: <span style=\"color: #008080; text-decoration-color: #008080; font-weight: bold\">0.8636363636363635</span><span style=\"font-weight: bold\">}</span>,\n",
       "        <span style=\"color: #008000; text-decoration-color: #008000\">'DATE'</span>: <span style=\"font-weight: bold\">{</span><span style=\"color: #008000; text-decoration-color: #008000\">'p'</span>: <span style=\"color: #008080; text-decoration-color: #008080; font-weight: bold\">0.9085365853658537</span>, <span style=\"color: #008000; text-decoration-color: #008000\">'r'</span>: <span style=\"color: #008080; text-decoration-color: #008080; font-weight: bold\">0.8922155688622755</span>, <span style=\"color: #008000; text-decoration-color: #008000\">'f'</span>: <span style=\"color: #008080; text-decoration-color: #008080; font-weight: bold\">0.9003021148036255</span><span style=\"font-weight: bold\">}</span>,\n",
       "        <span style=\"color: #008000; text-decoration-color: #008000\">'ART'</span>: <span style=\"font-weight: bold\">{</span><span style=\"color: #008000; text-decoration-color: #008000\">'p'</span>: <span style=\"color: #008080; text-decoration-color: #008080; font-weight: bold\">0.7034220532319392</span>, <span style=\"color: #008000; text-decoration-color: #008000\">'r'</span>: <span style=\"color: #008080; text-decoration-color: #008080; font-weight: bold\">0.7805907172995781</span>, <span style=\"color: #008000; text-decoration-color: #008000\">'f'</span>: <span style=\"color: #008080; text-decoration-color: #008080; font-weight: bold\">0.7400000000000001</span><span style=\"font-weight: bold\">}</span>,\n",
       "        <span style=\"color: #008000; text-decoration-color: #008000\">'TIME'</span>: <span style=\"font-weight: bold\">{</span><span style=\"color: #008000; text-decoration-color: #008000\">'p'</span>: <span style=\"color: #008080; text-decoration-color: #008080; font-weight: bold\">1.0</span>, <span style=\"color: #008000; text-decoration-color: #008000\">'r'</span>: <span style=\"color: #008080; text-decoration-color: #008080; font-weight: bold\">0.7</span>, <span style=\"color: #008000; text-decoration-color: #008000\">'f'</span>: <span style=\"color: #008080; text-decoration-color: #008080; font-weight: bold\">0.8235294117647058</span><span style=\"font-weight: bold\">}</span>,\n",
       "        <span style=\"color: #008000; text-decoration-color: #008000\">'MON'</span>: <span style=\"font-weight: bold\">{</span><span style=\"color: #008000; text-decoration-color: #008000\">'p'</span>: <span style=\"color: #008080; text-decoration-color: #008080; font-weight: bold\">0.9839743589743589</span>, <span style=\"color: #008000; text-decoration-color: #008000\">'r'</span>: <span style=\"color: #008080; text-decoration-color: #008080; font-weight: bold\">0.9446153846153846</span>, <span style=\"color: #008000; text-decoration-color: #008000\">'f'</span>: <span style=\"color: #008080; text-decoration-color: #008080; font-weight: bold\">0.9638932496075352</span><span style=\"font-weight: bold\">}</span>\n",
       "    <span style=\"font-weight: bold\">}</span>\n",
       "<span style=\"font-weight: bold\">}</span>\n",
       "</pre>\n"
      ]
     },
     "metadata": {},
     "output_type": "display_data"
    },
    {
     "data": {
      "text/plain": [
       "gemma-\u001B[1;36m3\u001B[0m-27b-it_Best.csv\n"
      ],
      "text/html": [
       "<pre style=\"white-space:pre;overflow-x:auto;line-height:normal;font-family:Menlo,'DejaVu Sans Mono',consolas,'Courier New',monospace\">gemma-<span style=\"color: #008080; text-decoration-color: #008080; font-weight: bold\">3</span>-27b-it_Best.csv\n",
       "</pre>\n"
      ]
     },
     "metadata": {},
     "output_type": "display_data"
    },
    {
     "data": {
      "text/plain": [
       "\u001B[1m{\u001B[0m\n",
       "    \u001B[32m'ents_p'\u001B[0m: \u001B[1;36m0.9052631578947369\u001B[0m,\n",
       "    \u001B[32m'ents_r'\u001B[0m: \u001B[1;36m0.8712377037145793\u001B[0m,\n",
       "    \u001B[32m'ents_f'\u001B[0m: \u001B[1;36m0.8879245847673201\u001B[0m,\n",
       "    \u001B[32m'ents_per_type'\u001B[0m: \u001B[1m{\u001B[0m\n",
       "        \u001B[32m'LOC'\u001B[0m: \u001B[1m{\u001B[0m\u001B[32m'p'\u001B[0m: \u001B[1;36m0.9388264669163545\u001B[0m, \u001B[32m'r'\u001B[0m: \u001B[1;36m0.9193154034229829\u001B[0m, \u001B[32m'f'\u001B[0m: \u001B[1;36m0.9289684990735022\u001B[0m\u001B[1m}\u001B[0m,\n",
       "        \u001B[32m'PCT'\u001B[0m: \u001B[1m{\u001B[0m\u001B[32m'p'\u001B[0m: \u001B[1;36m1.0\u001B[0m, \u001B[32m'r'\u001B[0m: \u001B[1;36m0.9777777777777777\u001B[0m, \u001B[32m'f'\u001B[0m: \u001B[1;36m0.9887640449438202\u001B[0m\u001B[1m}\u001B[0m,\n",
       "        \u001B[32m'PERS'\u001B[0m: \u001B[1m{\u001B[0m\u001B[32m'p'\u001B[0m: \u001B[1;36m0.9612932604735883\u001B[0m, \u001B[32m'r'\u001B[0m: \u001B[1;36m0.9692378328741965\u001B[0m, \u001B[32m'f'\u001B[0m: \u001B[1;36m0.965249199817101\u001B[0m\u001B[1m}\u001B[0m,\n",
       "        \u001B[32m'JOB'\u001B[0m: \u001B[1m{\u001B[0m\u001B[32m'p'\u001B[0m: \u001B[1;36m0.7510204081632653\u001B[0m, \u001B[32m'r'\u001B[0m: \u001B[1;36m0.5601217656012176\u001B[0m, \u001B[32m'f'\u001B[0m: \u001B[1;36m0.6416739319965126\u001B[0m\u001B[1m}\u001B[0m,\n",
       "        \u001B[32m'PERIOD'\u001B[0m: \u001B[1m{\u001B[0m\u001B[32m'p'\u001B[0m: \u001B[1;36m0.7597765363128491\u001B[0m, \u001B[32m'r'\u001B[0m: \u001B[1;36m0.7351351351351352\u001B[0m, \u001B[32m'f'\u001B[0m: \u001B[1;36m0.7472527472527473\u001B[0m\u001B[1m}\u001B[0m,\n",
       "        \u001B[32m'ORG'\u001B[0m: \u001B[1m{\u001B[0m\u001B[32m'p'\u001B[0m: \u001B[1;36m0.9260954872465664\u001B[0m, \u001B[32m'r'\u001B[0m: \u001B[1;36m0.9200779727095516\u001B[0m, \u001B[32m'f'\u001B[0m: \u001B[1;36m0.9230769230769231\u001B[0m\u001B[1m}\u001B[0m,\n",
       "        \u001B[32m'MISC'\u001B[0m: \u001B[1m{\u001B[0m\u001B[32m'p'\u001B[0m: \u001B[1;36m0.36363636363636365\u001B[0m, \u001B[32m'r'\u001B[0m: \u001B[1;36m0.3380281690140845\u001B[0m, \u001B[32m'f'\u001B[0m: \u001B[1;36m0.3503649635036496\u001B[0m\u001B[1m}\u001B[0m,\n",
       "        \u001B[32m'QUANT'\u001B[0m: \u001B[1m{\u001B[0m\u001B[32m'p'\u001B[0m: \u001B[1;36m0.9176470588235294\u001B[0m, \u001B[32m'r'\u001B[0m: \u001B[1;36m0.8764044943820225\u001B[0m, \u001B[32m'f'\u001B[0m: \u001B[1;36m0.896551724137931\u001B[0m\u001B[1m}\u001B[0m,\n",
       "        \u001B[32m'DATE'\u001B[0m: \u001B[1m{\u001B[0m\u001B[32m'p'\u001B[0m: \u001B[1;36m0.9146341463414634\u001B[0m, \u001B[32m'r'\u001B[0m: \u001B[1;36m0.8982035928143712\u001B[0m, \u001B[32m'f'\u001B[0m: \u001B[1;36m0.9063444108761329\u001B[0m\u001B[1m}\u001B[0m,\n",
       "        \u001B[32m'ART'\u001B[0m: \u001B[1m{\u001B[0m\u001B[32m'p'\u001B[0m: \u001B[1;36m0.755868544600939\u001B[0m, \u001B[32m'r'\u001B[0m: \u001B[1;36m0.679324894514768\u001B[0m, \u001B[32m'f'\u001B[0m: \u001B[1;36m0.7155555555555556\u001B[0m\u001B[1m}\u001B[0m,\n",
       "        \u001B[32m'TIME'\u001B[0m: \u001B[1m{\u001B[0m\u001B[32m'p'\u001B[0m: \u001B[1;36m0.6666666666666666\u001B[0m, \u001B[32m'r'\u001B[0m: \u001B[1;36m0.6\u001B[0m, \u001B[32m'f'\u001B[0m: \u001B[1;36m0.631578947368421\u001B[0m\u001B[1m}\u001B[0m,\n",
       "        \u001B[32m'DOC'\u001B[0m: \u001B[1m{\u001B[0m\u001B[32m'p'\u001B[0m: \u001B[1;36m0.5588235294117647\u001B[0m, \u001B[32m'r'\u001B[0m: \u001B[1;36m0.475\u001B[0m, \u001B[32m'f'\u001B[0m: \u001B[1;36m0.5135135135135136\u001B[0m\u001B[1m}\u001B[0m,\n",
       "        \u001B[32m'MON'\u001B[0m: \u001B[1m{\u001B[0m\u001B[32m'p'\u001B[0m: \u001B[1;36m0.9804560260586319\u001B[0m, \u001B[32m'r'\u001B[0m: \u001B[1;36m0.9261538461538461\u001B[0m, \u001B[32m'f'\u001B[0m: \u001B[1;36m0.9525316455696202\u001B[0m\u001B[1m}\u001B[0m\n",
       "    \u001B[1m}\u001B[0m\n",
       "\u001B[1m}\u001B[0m\n"
      ],
      "text/html": [
       "<pre style=\"white-space:pre;overflow-x:auto;line-height:normal;font-family:Menlo,'DejaVu Sans Mono',consolas,'Courier New',monospace\"><span style=\"font-weight: bold\">{</span>\n",
       "    <span style=\"color: #008000; text-decoration-color: #008000\">'ents_p'</span>: <span style=\"color: #008080; text-decoration-color: #008080; font-weight: bold\">0.9052631578947369</span>,\n",
       "    <span style=\"color: #008000; text-decoration-color: #008000\">'ents_r'</span>: <span style=\"color: #008080; text-decoration-color: #008080; font-weight: bold\">0.8712377037145793</span>,\n",
       "    <span style=\"color: #008000; text-decoration-color: #008000\">'ents_f'</span>: <span style=\"color: #008080; text-decoration-color: #008080; font-weight: bold\">0.8879245847673201</span>,\n",
       "    <span style=\"color: #008000; text-decoration-color: #008000\">'ents_per_type'</span>: <span style=\"font-weight: bold\">{</span>\n",
       "        <span style=\"color: #008000; text-decoration-color: #008000\">'LOC'</span>: <span style=\"font-weight: bold\">{</span><span style=\"color: #008000; text-decoration-color: #008000\">'p'</span>: <span style=\"color: #008080; text-decoration-color: #008080; font-weight: bold\">0.9388264669163545</span>, <span style=\"color: #008000; text-decoration-color: #008000\">'r'</span>: <span style=\"color: #008080; text-decoration-color: #008080; font-weight: bold\">0.9193154034229829</span>, <span style=\"color: #008000; text-decoration-color: #008000\">'f'</span>: <span style=\"color: #008080; text-decoration-color: #008080; font-weight: bold\">0.9289684990735022</span><span style=\"font-weight: bold\">}</span>,\n",
       "        <span style=\"color: #008000; text-decoration-color: #008000\">'PCT'</span>: <span style=\"font-weight: bold\">{</span><span style=\"color: #008000; text-decoration-color: #008000\">'p'</span>: <span style=\"color: #008080; text-decoration-color: #008080; font-weight: bold\">1.0</span>, <span style=\"color: #008000; text-decoration-color: #008000\">'r'</span>: <span style=\"color: #008080; text-decoration-color: #008080; font-weight: bold\">0.9777777777777777</span>, <span style=\"color: #008000; text-decoration-color: #008000\">'f'</span>: <span style=\"color: #008080; text-decoration-color: #008080; font-weight: bold\">0.9887640449438202</span><span style=\"font-weight: bold\">}</span>,\n",
       "        <span style=\"color: #008000; text-decoration-color: #008000\">'PERS'</span>: <span style=\"font-weight: bold\">{</span><span style=\"color: #008000; text-decoration-color: #008000\">'p'</span>: <span style=\"color: #008080; text-decoration-color: #008080; font-weight: bold\">0.9612932604735883</span>, <span style=\"color: #008000; text-decoration-color: #008000\">'r'</span>: <span style=\"color: #008080; text-decoration-color: #008080; font-weight: bold\">0.9692378328741965</span>, <span style=\"color: #008000; text-decoration-color: #008000\">'f'</span>: <span style=\"color: #008080; text-decoration-color: #008080; font-weight: bold\">0.965249199817101</span><span style=\"font-weight: bold\">}</span>,\n",
       "        <span style=\"color: #008000; text-decoration-color: #008000\">'JOB'</span>: <span style=\"font-weight: bold\">{</span><span style=\"color: #008000; text-decoration-color: #008000\">'p'</span>: <span style=\"color: #008080; text-decoration-color: #008080; font-weight: bold\">0.7510204081632653</span>, <span style=\"color: #008000; text-decoration-color: #008000\">'r'</span>: <span style=\"color: #008080; text-decoration-color: #008080; font-weight: bold\">0.5601217656012176</span>, <span style=\"color: #008000; text-decoration-color: #008000\">'f'</span>: <span style=\"color: #008080; text-decoration-color: #008080; font-weight: bold\">0.6416739319965126</span><span style=\"font-weight: bold\">}</span>,\n",
       "        <span style=\"color: #008000; text-decoration-color: #008000\">'PERIOD'</span>: <span style=\"font-weight: bold\">{</span><span style=\"color: #008000; text-decoration-color: #008000\">'p'</span>: <span style=\"color: #008080; text-decoration-color: #008080; font-weight: bold\">0.7597765363128491</span>, <span style=\"color: #008000; text-decoration-color: #008000\">'r'</span>: <span style=\"color: #008080; text-decoration-color: #008080; font-weight: bold\">0.7351351351351352</span>, <span style=\"color: #008000; text-decoration-color: #008000\">'f'</span>: <span style=\"color: #008080; text-decoration-color: #008080; font-weight: bold\">0.7472527472527473</span><span style=\"font-weight: bold\">}</span>,\n",
       "        <span style=\"color: #008000; text-decoration-color: #008000\">'ORG'</span>: <span style=\"font-weight: bold\">{</span><span style=\"color: #008000; text-decoration-color: #008000\">'p'</span>: <span style=\"color: #008080; text-decoration-color: #008080; font-weight: bold\">0.9260954872465664</span>, <span style=\"color: #008000; text-decoration-color: #008000\">'r'</span>: <span style=\"color: #008080; text-decoration-color: #008080; font-weight: bold\">0.9200779727095516</span>, <span style=\"color: #008000; text-decoration-color: #008000\">'f'</span>: <span style=\"color: #008080; text-decoration-color: #008080; font-weight: bold\">0.9230769230769231</span><span style=\"font-weight: bold\">}</span>,\n",
       "        <span style=\"color: #008000; text-decoration-color: #008000\">'MISC'</span>: <span style=\"font-weight: bold\">{</span><span style=\"color: #008000; text-decoration-color: #008000\">'p'</span>: <span style=\"color: #008080; text-decoration-color: #008080; font-weight: bold\">0.36363636363636365</span>, <span style=\"color: #008000; text-decoration-color: #008000\">'r'</span>: <span style=\"color: #008080; text-decoration-color: #008080; font-weight: bold\">0.3380281690140845</span>, <span style=\"color: #008000; text-decoration-color: #008000\">'f'</span>: <span style=\"color: #008080; text-decoration-color: #008080; font-weight: bold\">0.3503649635036496</span><span style=\"font-weight: bold\">}</span>,\n",
       "        <span style=\"color: #008000; text-decoration-color: #008000\">'QUANT'</span>: <span style=\"font-weight: bold\">{</span><span style=\"color: #008000; text-decoration-color: #008000\">'p'</span>: <span style=\"color: #008080; text-decoration-color: #008080; font-weight: bold\">0.9176470588235294</span>, <span style=\"color: #008000; text-decoration-color: #008000\">'r'</span>: <span style=\"color: #008080; text-decoration-color: #008080; font-weight: bold\">0.8764044943820225</span>, <span style=\"color: #008000; text-decoration-color: #008000\">'f'</span>: <span style=\"color: #008080; text-decoration-color: #008080; font-weight: bold\">0.896551724137931</span><span style=\"font-weight: bold\">}</span>,\n",
       "        <span style=\"color: #008000; text-decoration-color: #008000\">'DATE'</span>: <span style=\"font-weight: bold\">{</span><span style=\"color: #008000; text-decoration-color: #008000\">'p'</span>: <span style=\"color: #008080; text-decoration-color: #008080; font-weight: bold\">0.9146341463414634</span>, <span style=\"color: #008000; text-decoration-color: #008000\">'r'</span>: <span style=\"color: #008080; text-decoration-color: #008080; font-weight: bold\">0.8982035928143712</span>, <span style=\"color: #008000; text-decoration-color: #008000\">'f'</span>: <span style=\"color: #008080; text-decoration-color: #008080; font-weight: bold\">0.9063444108761329</span><span style=\"font-weight: bold\">}</span>,\n",
       "        <span style=\"color: #008000; text-decoration-color: #008000\">'ART'</span>: <span style=\"font-weight: bold\">{</span><span style=\"color: #008000; text-decoration-color: #008000\">'p'</span>: <span style=\"color: #008080; text-decoration-color: #008080; font-weight: bold\">0.755868544600939</span>, <span style=\"color: #008000; text-decoration-color: #008000\">'r'</span>: <span style=\"color: #008080; text-decoration-color: #008080; font-weight: bold\">0.679324894514768</span>, <span style=\"color: #008000; text-decoration-color: #008000\">'f'</span>: <span style=\"color: #008080; text-decoration-color: #008080; font-weight: bold\">0.7155555555555556</span><span style=\"font-weight: bold\">}</span>,\n",
       "        <span style=\"color: #008000; text-decoration-color: #008000\">'TIME'</span>: <span style=\"font-weight: bold\">{</span><span style=\"color: #008000; text-decoration-color: #008000\">'p'</span>: <span style=\"color: #008080; text-decoration-color: #008080; font-weight: bold\">0.6666666666666666</span>, <span style=\"color: #008000; text-decoration-color: #008000\">'r'</span>: <span style=\"color: #008080; text-decoration-color: #008080; font-weight: bold\">0.6</span>, <span style=\"color: #008000; text-decoration-color: #008000\">'f'</span>: <span style=\"color: #008080; text-decoration-color: #008080; font-weight: bold\">0.631578947368421</span><span style=\"font-weight: bold\">}</span>,\n",
       "        <span style=\"color: #008000; text-decoration-color: #008000\">'DOC'</span>: <span style=\"font-weight: bold\">{</span><span style=\"color: #008000; text-decoration-color: #008000\">'p'</span>: <span style=\"color: #008080; text-decoration-color: #008080; font-weight: bold\">0.5588235294117647</span>, <span style=\"color: #008000; text-decoration-color: #008000\">'r'</span>: <span style=\"color: #008080; text-decoration-color: #008080; font-weight: bold\">0.475</span>, <span style=\"color: #008000; text-decoration-color: #008000\">'f'</span>: <span style=\"color: #008080; text-decoration-color: #008080; font-weight: bold\">0.5135135135135136</span><span style=\"font-weight: bold\">}</span>,\n",
       "        <span style=\"color: #008000; text-decoration-color: #008000\">'MON'</span>: <span style=\"font-weight: bold\">{</span><span style=\"color: #008000; text-decoration-color: #008000\">'p'</span>: <span style=\"color: #008080; text-decoration-color: #008080; font-weight: bold\">0.9804560260586319</span>, <span style=\"color: #008000; text-decoration-color: #008000\">'r'</span>: <span style=\"color: #008080; text-decoration-color: #008080; font-weight: bold\">0.9261538461538461</span>, <span style=\"color: #008000; text-decoration-color: #008000\">'f'</span>: <span style=\"color: #008080; text-decoration-color: #008080; font-weight: bold\">0.9525316455696202</span><span style=\"font-weight: bold\">}</span>\n",
       "    <span style=\"font-weight: bold\">}</span>\n",
       "<span style=\"font-weight: bold\">}</span>\n",
       "</pre>\n"
      ]
     },
     "metadata": {},
     "output_type": "display_data"
    },
    {
     "data": {
      "text/plain": [
       "Phi-4_Best.csv\n"
      ],
      "text/html": [
       "<pre style=\"white-space:pre;overflow-x:auto;line-height:normal;font-family:Menlo,'DejaVu Sans Mono',consolas,'Courier New',monospace\">Phi-4_Best.csv\n",
       "</pre>\n"
      ]
     },
     "metadata": {},
     "output_type": "display_data"
    },
    {
     "data": {
      "text/plain": [
       "\u001B[1m{\u001B[0m\n",
       "    \u001B[32m'ents_p'\u001B[0m: \u001B[1;36m0.8976270155156678\u001B[0m,\n",
       "    \u001B[32m'ents_r'\u001B[0m: \u001B[1;36m0.8663926002055499\u001B[0m,\n",
       "    \u001B[32m'ents_f'\u001B[0m: \u001B[1;36m0.8817332835263354\u001B[0m,\n",
       "    \u001B[32m'ents_per_type'\u001B[0m: \u001B[1m{\u001B[0m\n",
       "        \u001B[32m'LOC'\u001B[0m: \u001B[1m{\u001B[0m\u001B[32m'p'\u001B[0m: \u001B[1;36m0.9100985221674877\u001B[0m, \u001B[32m'r'\u001B[0m: \u001B[1;36m0.9034229828850856\u001B[0m, \u001B[32m'f'\u001B[0m: \u001B[1;36m0.9067484662576687\u001B[0m\u001B[1m}\u001B[0m,\n",
       "        \u001B[32m'PCT'\u001B[0m: \u001B[1m{\u001B[0m\u001B[32m'p'\u001B[0m: \u001B[1;36m0.9883720930232558\u001B[0m, \u001B[32m'r'\u001B[0m: \u001B[1;36m0.9444444444444444\u001B[0m, \u001B[32m'f'\u001B[0m: \u001B[1;36m0.9659090909090908\u001B[0m\u001B[1m}\u001B[0m,\n",
       "        \u001B[32m'PERS'\u001B[0m: \u001B[1m{\u001B[0m\u001B[32m'p'\u001B[0m: \u001B[1;36m0.959349593495935\u001B[0m, \u001B[32m'r'\u001B[0m: \u001B[1;36m0.9752066115702479\u001B[0m, \u001B[32m'f'\u001B[0m: \u001B[1;36m0.9672131147540983\u001B[0m\u001B[1m}\u001B[0m,\n",
       "        \u001B[32m'JOB'\u001B[0m: \u001B[1m{\u001B[0m\u001B[32m'p'\u001B[0m: \u001B[1;36m0.7203065134099617\u001B[0m, \u001B[32m'r'\u001B[0m: \u001B[1;36m0.5722983257229832\u001B[0m, \u001B[32m'f'\u001B[0m: \u001B[1;36m0.6378286683630195\u001B[0m\u001B[1m}\u001B[0m,\n",
       "        \u001B[32m'PERIOD'\u001B[0m: \u001B[1m{\u001B[0m\u001B[32m'p'\u001B[0m: \u001B[1;36m0.75\u001B[0m, \u001B[32m'r'\u001B[0m: \u001B[1;36m0.6810810810810811\u001B[0m, \u001B[32m'f'\u001B[0m: \u001B[1;36m0.7138810198300283\u001B[0m\u001B[1m}\u001B[0m,\n",
       "        \u001B[32m'ORG'\u001B[0m: \u001B[1m{\u001B[0m\u001B[32m'p'\u001B[0m: \u001B[1;36m0.9159553512803676\u001B[0m, \u001B[32m'r'\u001B[0m: \u001B[1;36m0.9064327485380117\u001B[0m, \u001B[32m'f'\u001B[0m: \u001B[1;36m0.9111691704768125\u001B[0m\u001B[1m}\u001B[0m,\n",
       "        \u001B[32m'DOC'\u001B[0m: \u001B[1m{\u001B[0m\u001B[32m'p'\u001B[0m: \u001B[1;36m0.5517241379310345\u001B[0m, \u001B[32m'r'\u001B[0m: \u001B[1;36m0.4\u001B[0m, \u001B[32m'f'\u001B[0m: \u001B[1;36m0.463768115942029\u001B[0m\u001B[1m}\u001B[0m,\n",
       "        \u001B[32m'MISC'\u001B[0m: \u001B[1m{\u001B[0m\u001B[32m'p'\u001B[0m: \u001B[1;36m0.39361702127659576\u001B[0m, \u001B[32m'r'\u001B[0m: \u001B[1;36m0.2605633802816901\u001B[0m, \u001B[32m'f'\u001B[0m: \u001B[1;36m0.3135593220338983\u001B[0m\u001B[1m}\u001B[0m,\n",
       "        \u001B[32m'ART'\u001B[0m: \u001B[1m{\u001B[0m\u001B[32m'p'\u001B[0m: \u001B[1;36m0.7676348547717843\u001B[0m, \u001B[32m'r'\u001B[0m: \u001B[1;36m0.7805907172995781\u001B[0m, \u001B[32m'f'\u001B[0m: \u001B[1;36m0.7740585774058578\u001B[0m\u001B[1m}\u001B[0m,\n",
       "        \u001B[32m'QUANT'\u001B[0m: \u001B[1m{\u001B[0m\u001B[32m'p'\u001B[0m: \u001B[1;36m0.8860759493670886\u001B[0m, \u001B[32m'r'\u001B[0m: \u001B[1;36m0.7865168539325843\u001B[0m, \u001B[32m'f'\u001B[0m: \u001B[1;36m0.8333333333333333\u001B[0m\u001B[1m}\u001B[0m,\n",
       "        \u001B[32m'DATE'\u001B[0m: \u001B[1m{\u001B[0m\u001B[32m'p'\u001B[0m: \u001B[1;36m0.9008264462809917\u001B[0m, \u001B[32m'r'\u001B[0m: \u001B[1;36m0.8702594810379242\u001B[0m, \u001B[32m'f'\u001B[0m: \u001B[1;36m0.8852791878172589\u001B[0m\u001B[1m}\u001B[0m,\n",
       "        \u001B[32m'TIME'\u001B[0m: \u001B[1m{\u001B[0m\u001B[32m'p'\u001B[0m: \u001B[1;36m1.0\u001B[0m, \u001B[32m'r'\u001B[0m: \u001B[1;36m0.4\u001B[0m, \u001B[32m'f'\u001B[0m: \u001B[1;36m0.5714285714285715\u001B[0m\u001B[1m}\u001B[0m,\n",
       "        \u001B[32m'MON'\u001B[0m: \u001B[1m{\u001B[0m\u001B[32m'p'\u001B[0m: \u001B[1;36m0.9685534591194969\u001B[0m, \u001B[32m'r'\u001B[0m: \u001B[1;36m0.9476923076923077\u001B[0m, \u001B[32m'f'\u001B[0m: \u001B[1;36m0.9580093312597201\u001B[0m\u001B[1m}\u001B[0m\n",
       "    \u001B[1m}\u001B[0m\n",
       "\u001B[1m}\u001B[0m\n"
      ],
      "text/html": [
       "<pre style=\"white-space:pre;overflow-x:auto;line-height:normal;font-family:Menlo,'DejaVu Sans Mono',consolas,'Courier New',monospace\"><span style=\"font-weight: bold\">{</span>\n",
       "    <span style=\"color: #008000; text-decoration-color: #008000\">'ents_p'</span>: <span style=\"color: #008080; text-decoration-color: #008080; font-weight: bold\">0.8976270155156678</span>,\n",
       "    <span style=\"color: #008000; text-decoration-color: #008000\">'ents_r'</span>: <span style=\"color: #008080; text-decoration-color: #008080; font-weight: bold\">0.8663926002055499</span>,\n",
       "    <span style=\"color: #008000; text-decoration-color: #008000\">'ents_f'</span>: <span style=\"color: #008080; text-decoration-color: #008080; font-weight: bold\">0.8817332835263354</span>,\n",
       "    <span style=\"color: #008000; text-decoration-color: #008000\">'ents_per_type'</span>: <span style=\"font-weight: bold\">{</span>\n",
       "        <span style=\"color: #008000; text-decoration-color: #008000\">'LOC'</span>: <span style=\"font-weight: bold\">{</span><span style=\"color: #008000; text-decoration-color: #008000\">'p'</span>: <span style=\"color: #008080; text-decoration-color: #008080; font-weight: bold\">0.9100985221674877</span>, <span style=\"color: #008000; text-decoration-color: #008000\">'r'</span>: <span style=\"color: #008080; text-decoration-color: #008080; font-weight: bold\">0.9034229828850856</span>, <span style=\"color: #008000; text-decoration-color: #008000\">'f'</span>: <span style=\"color: #008080; text-decoration-color: #008080; font-weight: bold\">0.9067484662576687</span><span style=\"font-weight: bold\">}</span>,\n",
       "        <span style=\"color: #008000; text-decoration-color: #008000\">'PCT'</span>: <span style=\"font-weight: bold\">{</span><span style=\"color: #008000; text-decoration-color: #008000\">'p'</span>: <span style=\"color: #008080; text-decoration-color: #008080; font-weight: bold\">0.9883720930232558</span>, <span style=\"color: #008000; text-decoration-color: #008000\">'r'</span>: <span style=\"color: #008080; text-decoration-color: #008080; font-weight: bold\">0.9444444444444444</span>, <span style=\"color: #008000; text-decoration-color: #008000\">'f'</span>: <span style=\"color: #008080; text-decoration-color: #008080; font-weight: bold\">0.9659090909090908</span><span style=\"font-weight: bold\">}</span>,\n",
       "        <span style=\"color: #008000; text-decoration-color: #008000\">'PERS'</span>: <span style=\"font-weight: bold\">{</span><span style=\"color: #008000; text-decoration-color: #008000\">'p'</span>: <span style=\"color: #008080; text-decoration-color: #008080; font-weight: bold\">0.959349593495935</span>, <span style=\"color: #008000; text-decoration-color: #008000\">'r'</span>: <span style=\"color: #008080; text-decoration-color: #008080; font-weight: bold\">0.9752066115702479</span>, <span style=\"color: #008000; text-decoration-color: #008000\">'f'</span>: <span style=\"color: #008080; text-decoration-color: #008080; font-weight: bold\">0.9672131147540983</span><span style=\"font-weight: bold\">}</span>,\n",
       "        <span style=\"color: #008000; text-decoration-color: #008000\">'JOB'</span>: <span style=\"font-weight: bold\">{</span><span style=\"color: #008000; text-decoration-color: #008000\">'p'</span>: <span style=\"color: #008080; text-decoration-color: #008080; font-weight: bold\">0.7203065134099617</span>, <span style=\"color: #008000; text-decoration-color: #008000\">'r'</span>: <span style=\"color: #008080; text-decoration-color: #008080; font-weight: bold\">0.5722983257229832</span>, <span style=\"color: #008000; text-decoration-color: #008000\">'f'</span>: <span style=\"color: #008080; text-decoration-color: #008080; font-weight: bold\">0.6378286683630195</span><span style=\"font-weight: bold\">}</span>,\n",
       "        <span style=\"color: #008000; text-decoration-color: #008000\">'PERIOD'</span>: <span style=\"font-weight: bold\">{</span><span style=\"color: #008000; text-decoration-color: #008000\">'p'</span>: <span style=\"color: #008080; text-decoration-color: #008080; font-weight: bold\">0.75</span>, <span style=\"color: #008000; text-decoration-color: #008000\">'r'</span>: <span style=\"color: #008080; text-decoration-color: #008080; font-weight: bold\">0.6810810810810811</span>, <span style=\"color: #008000; text-decoration-color: #008000\">'f'</span>: <span style=\"color: #008080; text-decoration-color: #008080; font-weight: bold\">0.7138810198300283</span><span style=\"font-weight: bold\">}</span>,\n",
       "        <span style=\"color: #008000; text-decoration-color: #008000\">'ORG'</span>: <span style=\"font-weight: bold\">{</span><span style=\"color: #008000; text-decoration-color: #008000\">'p'</span>: <span style=\"color: #008080; text-decoration-color: #008080; font-weight: bold\">0.9159553512803676</span>, <span style=\"color: #008000; text-decoration-color: #008000\">'r'</span>: <span style=\"color: #008080; text-decoration-color: #008080; font-weight: bold\">0.9064327485380117</span>, <span style=\"color: #008000; text-decoration-color: #008000\">'f'</span>: <span style=\"color: #008080; text-decoration-color: #008080; font-weight: bold\">0.9111691704768125</span><span style=\"font-weight: bold\">}</span>,\n",
       "        <span style=\"color: #008000; text-decoration-color: #008000\">'DOC'</span>: <span style=\"font-weight: bold\">{</span><span style=\"color: #008000; text-decoration-color: #008000\">'p'</span>: <span style=\"color: #008080; text-decoration-color: #008080; font-weight: bold\">0.5517241379310345</span>, <span style=\"color: #008000; text-decoration-color: #008000\">'r'</span>: <span style=\"color: #008080; text-decoration-color: #008080; font-weight: bold\">0.4</span>, <span style=\"color: #008000; text-decoration-color: #008000\">'f'</span>: <span style=\"color: #008080; text-decoration-color: #008080; font-weight: bold\">0.463768115942029</span><span style=\"font-weight: bold\">}</span>,\n",
       "        <span style=\"color: #008000; text-decoration-color: #008000\">'MISC'</span>: <span style=\"font-weight: bold\">{</span><span style=\"color: #008000; text-decoration-color: #008000\">'p'</span>: <span style=\"color: #008080; text-decoration-color: #008080; font-weight: bold\">0.39361702127659576</span>, <span style=\"color: #008000; text-decoration-color: #008000\">'r'</span>: <span style=\"color: #008080; text-decoration-color: #008080; font-weight: bold\">0.2605633802816901</span>, <span style=\"color: #008000; text-decoration-color: #008000\">'f'</span>: <span style=\"color: #008080; text-decoration-color: #008080; font-weight: bold\">0.3135593220338983</span><span style=\"font-weight: bold\">}</span>,\n",
       "        <span style=\"color: #008000; text-decoration-color: #008000\">'ART'</span>: <span style=\"font-weight: bold\">{</span><span style=\"color: #008000; text-decoration-color: #008000\">'p'</span>: <span style=\"color: #008080; text-decoration-color: #008080; font-weight: bold\">0.7676348547717843</span>, <span style=\"color: #008000; text-decoration-color: #008000\">'r'</span>: <span style=\"color: #008080; text-decoration-color: #008080; font-weight: bold\">0.7805907172995781</span>, <span style=\"color: #008000; text-decoration-color: #008000\">'f'</span>: <span style=\"color: #008080; text-decoration-color: #008080; font-weight: bold\">0.7740585774058578</span><span style=\"font-weight: bold\">}</span>,\n",
       "        <span style=\"color: #008000; text-decoration-color: #008000\">'QUANT'</span>: <span style=\"font-weight: bold\">{</span><span style=\"color: #008000; text-decoration-color: #008000\">'p'</span>: <span style=\"color: #008080; text-decoration-color: #008080; font-weight: bold\">0.8860759493670886</span>, <span style=\"color: #008000; text-decoration-color: #008000\">'r'</span>: <span style=\"color: #008080; text-decoration-color: #008080; font-weight: bold\">0.7865168539325843</span>, <span style=\"color: #008000; text-decoration-color: #008000\">'f'</span>: <span style=\"color: #008080; text-decoration-color: #008080; font-weight: bold\">0.8333333333333333</span><span style=\"font-weight: bold\">}</span>,\n",
       "        <span style=\"color: #008000; text-decoration-color: #008000\">'DATE'</span>: <span style=\"font-weight: bold\">{</span><span style=\"color: #008000; text-decoration-color: #008000\">'p'</span>: <span style=\"color: #008080; text-decoration-color: #008080; font-weight: bold\">0.9008264462809917</span>, <span style=\"color: #008000; text-decoration-color: #008000\">'r'</span>: <span style=\"color: #008080; text-decoration-color: #008080; font-weight: bold\">0.8702594810379242</span>, <span style=\"color: #008000; text-decoration-color: #008000\">'f'</span>: <span style=\"color: #008080; text-decoration-color: #008080; font-weight: bold\">0.8852791878172589</span><span style=\"font-weight: bold\">}</span>,\n",
       "        <span style=\"color: #008000; text-decoration-color: #008000\">'TIME'</span>: <span style=\"font-weight: bold\">{</span><span style=\"color: #008000; text-decoration-color: #008000\">'p'</span>: <span style=\"color: #008080; text-decoration-color: #008080; font-weight: bold\">1.0</span>, <span style=\"color: #008000; text-decoration-color: #008000\">'r'</span>: <span style=\"color: #008080; text-decoration-color: #008080; font-weight: bold\">0.4</span>, <span style=\"color: #008000; text-decoration-color: #008000\">'f'</span>: <span style=\"color: #008080; text-decoration-color: #008080; font-weight: bold\">0.5714285714285715</span><span style=\"font-weight: bold\">}</span>,\n",
       "        <span style=\"color: #008000; text-decoration-color: #008000\">'MON'</span>: <span style=\"font-weight: bold\">{</span><span style=\"color: #008000; text-decoration-color: #008000\">'p'</span>: <span style=\"color: #008080; text-decoration-color: #008080; font-weight: bold\">0.9685534591194969</span>, <span style=\"color: #008000; text-decoration-color: #008000\">'r'</span>: <span style=\"color: #008080; text-decoration-color: #008080; font-weight: bold\">0.9476923076923077</span>, <span style=\"color: #008000; text-decoration-color: #008000\">'f'</span>: <span style=\"color: #008080; text-decoration-color: #008080; font-weight: bold\">0.9580093312597201</span><span style=\"font-weight: bold\">}</span>\n",
       "    <span style=\"font-weight: bold\">}</span>\n",
       "<span style=\"font-weight: bold\">}</span>\n",
       "</pre>\n"
      ]
     },
     "metadata": {},
     "output_type": "display_data"
    }
   ],
   "execution_count": 5
  },
  {
   "metadata": {},
   "cell_type": "code",
   "outputs": [],
   "execution_count": null,
   "source": "",
   "id": "b3d5cb22916c40ef"
  }
 ],
 "metadata": {
  "kernelspec": {
   "display_name": "Python 3",
   "language": "python",
   "name": "python3"
  },
  "language_info": {
   "codemirror_mode": {
    "name": "ipython",
    "version": 2
   },
   "file_extension": ".py",
   "mimetype": "text/x-python",
   "name": "python",
   "nbconvert_exporter": "python",
   "pygments_lexer": "ipython2",
   "version": "2.7.6"
  }
 },
 "nbformat": 4,
 "nbformat_minor": 5
}
