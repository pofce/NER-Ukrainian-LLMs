{
 "cells": [
  {
   "metadata": {
    "ExecuteTime": {
     "end_time": "2025-01-24T22:16:55.957787Z",
     "start_time": "2025-01-24T22:16:55.950121Z"
    }
   },
   "cell_type": "code",
   "source": [
    "from utils.eval import read_and_format_results\n",
    "\n",
    "base_path = \"../results\""
   ],
   "id": "31268f603939483f",
   "outputs": [],
   "execution_count": 2
  },
  {
   "cell_type": "code",
   "id": "initial_id",
   "metadata": {
    "collapsed": true,
    "ExecuteTime": {
     "end_time": "2025-01-24T22:17:00.297412Z",
     "start_time": "2025-01-24T22:16:56.899023Z"
    }
   },
   "source": [
    "latex_table = read_and_format_results(f\"{base_path}/bronze\")\n",
    "print(latex_table)"
   ],
   "outputs": [
    {
     "name": "stdout",
     "output_type": "stream",
     "text": [
      "\\textbf{Model} & \\textbf{Zero-Shot (F1 Score)} & \\textbf{Few-Shot (F1 Score)} & \\textbf{CoT (F1 Score)} \\\\ \\hline\n",
      "Llama-3.2-3B-Instruct & 0.06 & 0.14 & 0.07 \\\\ \\hline\n",
      "Gemma-2-2B-IT & 0.11 & 0.21 & 0.18 \\\\ \\hline\n",
      "Gemma-9-9B-IT & 0.30 & 0.38 & 0.34 \\\\ \\hline\n",
      "GPT-4o & 0.65 & 0.70 & 0.56 \\\\ \\hline\n",
      "Phi-4 & 0.27 & 0.37 & 0.26 \\\\ \\hline\n",
      "Phi-3-mini-4k-instruct & 0.09 & 0.19 & 0.12 \\\\ \\hline\n",
      "Qwen-2.5-3B & 0.13 & 0.24 & 0.15 \\\\ \\hline\n",
      "Qwen-2.5-7B & 0.26 & 0.28 & 0.24 \\\\ \\hline\n",
      "Qwen-2.5-14B & 0.33 & 0.20 & 0.27 \\\\ \\hline\n",
      "\n"
     ]
    }
   ],
   "execution_count": 3
  },
  {
   "metadata": {
    "ExecuteTime": {
     "end_time": "2025-01-24T22:17:03.628048Z",
     "start_time": "2025-01-24T22:17:00.298414Z"
    }
   },
   "cell_type": "code",
   "source": [
    "latex_table = read_and_format_results(f\"{base_path}/silver\")\n",
    "print(latex_table)"
   ],
   "id": "8c86afb42fdcea01",
   "outputs": [
    {
     "name": "stdout",
     "output_type": "stream",
     "text": [
      "\\textbf{Model} & \\textbf{Zero-Shot (F1 Score)} & \\textbf{Few-Shot (F1 Score)} & \\textbf{CoT (F1 Score)} \\\\ \\hline\n",
      "Llama-3.2-3B-Instruct & 0.17 & 0.28 & 0.18 \\\\ \\hline\n",
      "Gemma-2-2B-IT & 0.19 & 0.36 & 0.27 \\\\ \\hline\n",
      "Gemma-9-9B-IT & 0.44 & 0.53 & 0.46 \\\\ \\hline\n",
      "GPT-4o & 0.67 & 0.70 & 0.59 \\\\ \\hline\n",
      "Phi-4 & 0.41 & 0.51 & 0.39 \\\\ \\hline\n",
      "Phi-3-mini-4k-instruct & 0.19 & 0.31 & 0.24 \\\\ \\hline\n",
      "Qwen-2.5-3B & 0.20 & 0.36 & 0.23 \\\\ \\hline\n",
      "Qwen-2.5-7B & 0.35 & 0.38 & 0.33 \\\\ \\hline\n",
      "Qwen-2.5-14B & 0.42 & 0.53 & 0.37 \\\\ \\hline\n",
      "\n"
     ]
    }
   ],
   "execution_count": 4
  },
  {
   "metadata": {},
   "cell_type": "code",
   "outputs": [],
   "execution_count": null,
   "source": [
    "latex_table = read_and_format_results(f\"{base_path}/gold\")\n",
    "print(latex_table)"
   ],
   "id": "82d185b60d21b788"
  }
 ],
 "metadata": {
  "kernelspec": {
   "display_name": "Python 3",
   "language": "python",
   "name": "python3"
  },
  "language_info": {
   "codemirror_mode": {
    "name": "ipython",
    "version": 2
   },
   "file_extension": ".py",
   "mimetype": "text/x-python",
   "name": "python",
   "nbconvert_exporter": "python",
   "pygments_lexer": "ipython2",
   "version": "2.7.6"
  }
 },
 "nbformat": 4,
 "nbformat_minor": 5
}
