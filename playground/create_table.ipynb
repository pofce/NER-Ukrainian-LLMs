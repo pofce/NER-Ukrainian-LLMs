{
 "cells": [
  {
   "metadata": {
    "ExecuteTime": {
     "end_time": "2025-01-29T09:22:40.828833Z",
     "start_time": "2025-01-29T09:22:35.906803Z"
    }
   },
   "cell_type": "code",
   "source": [
    "from utils.eval import read_and_format_results\n",
    "\n",
    "base_path = \"../results\""
   ],
   "id": "31268f603939483f",
   "outputs": [],
   "execution_count": 2
  },
  {
   "cell_type": "code",
   "id": "initial_id",
   "metadata": {
    "collapsed": true,
    "ExecuteTime": {
     "end_time": "2025-01-28T20:41:26.438570Z",
     "start_time": "2025-01-28T20:41:21.919005Z"
    }
   },
   "source": [
    "latex_table = read_and_format_results(f\"{base_path}/bronze\")\n",
    "print(latex_table)"
   ],
   "outputs": [
    {
     "name": "stdout",
     "output_type": "stream",
     "text": [
      "\\textbf{Model} & \\textbf{Zero-Shot (F1 Score)} & \\textbf{Few-Shot (F1 Score)} & \\textbf{CoT (F1 Score)} \\\\ \\hline\n",
      "Llama-3.2-3B-Instruct & 0.06 & 0.14 & 0.07 \\\\ \\hline\n",
      "Llama-3.1-8B-Instruct & 0.10 & 0.15 & 0.06 \\\\ \\hline\n",
      "Gemma-2-2B-IT & 0.11 & 0.21 & 0.18 \\\\ \\hline\n",
      "Gemma-9-9B-IT & 0.30 & 0.38 & 0.34 \\\\ \\hline\n",
      "Gemma-9-27B-IT & 0.39 & 0.57 & 0.34 \\\\ \\hline\n",
      "GPT-4o & 0.65 & 0.70 & 0.56 \\\\ \\hline\n",
      "Phi-4 & 0.27 & 0.37 & 0.26 \\\\ \\hline\n",
      "Phi-3-mini-4k-instruct & 0.09 & 0.19 & 0.12 \\\\ \\hline\n",
      "Qwen-2.5-3B-Instruct & 0.13 & 0.24 & 0.15 \\\\ \\hline\n",
      "Qwen-2.5-7B-Instruct & 0.26 & 0.28 & 0.24 \\\\ \\hline\n",
      "Qwen-2.5-14B-Instruct & 0.33 & 0.20 & 0.27 \\\\ \\hline\n",
      "DeepSeek-R1-Distill-Qwen-14B & 0.26 & 0.02 & 0.28 \\\\ \\hline\n",
      "\n"
     ]
    }
   ],
   "execution_count": 2
  },
  {
   "metadata": {
    "ExecuteTime": {
     "end_time": "2025-01-28T20:41:30.884599Z",
     "start_time": "2025-01-28T20:41:26.439390Z"
    }
   },
   "cell_type": "code",
   "source": [
    "latex_table = read_and_format_results(f\"{base_path}/silver\")\n",
    "print(latex_table)"
   ],
   "id": "8c86afb42fdcea01",
   "outputs": [
    {
     "name": "stdout",
     "output_type": "stream",
     "text": [
      "\\textbf{Model} & \\textbf{Zero-Shot (F1 Score)} & \\textbf{Few-Shot (F1 Score)} & \\textbf{CoT (F1 Score)} \\\\ \\hline\n",
      "Llama-3.2-3B-Instruct & 0.17 & 0.28 & 0.18 \\\\ \\hline\n",
      "Llama-3.1-8B-Instruct & 0.23 & 0.40 & 0.22 \\\\ \\hline\n",
      "Gemma-2-2B-IT & 0.19 & 0.36 & 0.27 \\\\ \\hline\n",
      "Gemma-9-9B-IT & 0.44 & 0.53 & 0.46 \\\\ \\hline\n",
      "Gemma-9-27B-IT & 0.48 & 0.64 & 0.39 \\\\ \\hline\n",
      "GPT-4o & 0.67 & 0.70 & 0.59 \\\\ \\hline\n",
      "Phi-4 & 0.41 & 0.51 & 0.39 \\\\ \\hline\n",
      "Phi-3-mini-4k-instruct & 0.19 & 0.31 & 0.24 \\\\ \\hline\n",
      "Qwen-2.5-3B-Instruct & 0.20 & 0.36 & 0.23 \\\\ \\hline\n",
      "Qwen-2.5-7B-Instruct & 0.35 & 0.38 & 0.33 \\\\ \\hline\n",
      "Qwen-2.5-14B-Instruct & 0.42 & 0.53 & 0.37 \\\\ \\hline\n",
      "DeepSeek-R1-Distill-Qwen-14B & 0.34 & 0.12 & 0.37 \\\\ \\hline\n",
      "\n"
     ]
    }
   ],
   "execution_count": 3
  },
  {
   "metadata": {
    "ExecuteTime": {
     "end_time": "2025-01-29T09:22:45.023734Z",
     "start_time": "2025-01-29T09:22:40.829900Z"
    }
   },
   "cell_type": "code",
   "source": [
    "latex_table = read_and_format_results(f\"{base_path}/gold\")\n",
    "print(latex_table)"
   ],
   "id": "82d185b60d21b788",
   "outputs": [
    {
     "name": "stdout",
     "output_type": "stream",
     "text": [
      "\\textbf{Model} & \\textbf{Zero-Shot (F1 Score)} & \\textbf{Few-Shot (F1 Score)} & \\textbf{CoT (F1 Score)} \\\\ \\hline\n",
      "Llama-3.2-3B-Instruct & 0.25 & 0.36 & 0.22 \\\\ \\hline\n",
      "Llama-3.1-8B-Instruct & 0.30 & 0.44 & 0.25 \\\\ \\hline\n",
      "Gemma-2-2B-IT & 0.27 & 0.46 & 0.35 \\\\ \\hline\n",
      "Gemma-9-9B-IT & 0.53 & 0.61 & 0.58 \\\\ \\hline\n",
      "Gemma-9-27B-IT & 0.57 & 0.68 & 0.50 \\\\ \\hline\n",
      "GPT-4o & 0.71 & 0.70 & 0.66 \\\\ \\hline\n",
      "Phi-4 & 0.50 & 0.60 & 0.49 \\\\ \\hline\n",
      "Phi-3-mini-4k-instruct & 0.23 & 0.38 & 0.28 \\\\ \\hline\n",
      "Qwen-2.5-3B-Instruct & 0.27 & 0.44 & 0.29 \\\\ \\hline\n",
      "Qwen-2.5-7B-Instruct & 0.44 & 0.44 & 0.43 \\\\ \\hline\n",
      "Qwen-2.5-14B-Instruct & 0.52 & 0.56 & 0.47 \\\\ \\hline\n",
      "DeepSeek-R1-Distill-Qwen-14B & 0.41 & 0.12 & 0.45 \\\\ \\hline\n",
      "\n"
     ]
    }
   ],
   "execution_count": 3
  },
  {
   "metadata": {},
   "cell_type": "code",
   "outputs": [],
   "execution_count": null,
   "source": "",
   "id": "1c8ceb7329fb2c04"
  }
 ],
 "metadata": {
  "kernelspec": {
   "display_name": "Python 3",
   "language": "python",
   "name": "python3"
  },
  "language_info": {
   "codemirror_mode": {
    "name": "ipython",
    "version": 2
   },
   "file_extension": ".py",
   "mimetype": "text/x-python",
   "name": "python",
   "nbconvert_exporter": "python",
   "pygments_lexer": "ipython2",
   "version": "2.7.6"
  }
 },
 "nbformat": 4,
 "nbformat_minor": 5
}
