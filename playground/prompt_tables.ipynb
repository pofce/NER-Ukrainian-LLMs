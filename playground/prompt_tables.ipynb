{
 "cells": [
  {
   "cell_type": "code",
   "id": "initial_id",
   "metadata": {
    "collapsed": true,
    "ExecuteTime": {
     "end_time": "2025-04-07T13:09:18.254403Z",
     "start_time": "2025-04-07T13:09:12.791191Z"
    }
   },
   "source": [
    "from utils.ner_eval import read_and_format_results\n",
    "from rich import print\n",
    "\n",
    "base_path = \"../results/prompting/\""
   ],
   "outputs": [],
   "execution_count": 1
  },
  {
   "metadata": {
    "ExecuteTime": {
     "end_time": "2025-04-07T13:12:18.694159Z",
     "start_time": "2025-04-07T13:09:18.256132Z"
    }
   },
   "cell_type": "code",
   "source": [
    "latex_table = read_and_format_results(f\"{base_path}/bronze\")\n",
    "print(latex_table)"
   ],
   "id": "33d9c2b0841680bf",
   "outputs": [
    {
     "name": "stdout",
     "output_type": "stream",
     "text": [
      "\\textbf{Model} & \\textbf{Zero-Shot (F1 Score)} & \\textbf{Few-Shot (F1 Score)} & \\textbf{CoT (F1 Score)} \\\\ \\hline\n",
      "gemma3_27b.csv & 0.39 & 0.67 & 0.40 \\\\ \\hline\n",
      "gemma_9b.csv & 0.42 & 0.49 & 0.42 \\\\ \\hline\n",
      "deep_seek_14b.csv & 0.34 & 0.11 & 0.35 \\\\ \\hline\n",
      "phi_4.csv & 0.38 & 0.48 & 0.36 \\\\ \\hline\n",
      "gemma_27b.csv & 0.45 & 0.62 & 0.38 \\\\ \\hline\n",
      "llama_8b.csv & 0.17 & 0.28 & 0.13 \\\\ \\hline\n",
      "llama_3b.csv & 0.14 & 0.23 & 0.14 \\\\ \\hline\n",
      "qwen_7b.csv & 0.34 & 0.36 & 0.30 \\\\ \\hline\n",
      "Phi-3-mini-4k.csv & 0.16 & 0.27 & 0.19 \\\\ \\hline\n",
      "gemma_2b.csv & 0.16 & 0.30 & 0.25 \\\\ \\hline\n",
      "qwen_14b.csv & 0.42 & 0.50 & 0.36 \\\\ \\hline\n",
      "aya-expanse-8b.csv & 0.23 & 0.03 & 0.23 \\\\ \\hline\n",
      "4o.csv & 0.67 & 0.71 & 0.60 \\\\ \\hline\n",
      "qwen_3b.csv & 0.18 & 0.33 & 0.20 \\\\ \\hline\n",
      "aya_101.csv & TBD & 0.31 & TBD \\\\ \\hline\n",
      "\n"
     ]
    }
   ],
   "execution_count": 2
  },
  {
   "metadata": {
    "ExecuteTime": {
     "end_time": "2025-04-07T13:15:25.286872Z",
     "start_time": "2025-04-07T13:12:18.694929Z"
    }
   },
   "cell_type": "code",
   "source": [
    "latex_table = read_and_format_results(f\"{base_path}/silver\")\n",
    "print(latex_table)"
   ],
   "id": "b59e1dc61a3c1b73",
   "outputs": [
    {
     "name": "stdout",
     "output_type": "stream",
     "text": [
      "\\textbf{Model} & \\textbf{Zero-Shot (F1 Score)} & \\textbf{Few-Shot (F1 Score)} & \\textbf{CoT (F1 Score)} \\\\ \\hline\n",
      "gemma3_27b.csv & 0.41 & 0.69 & 0.43 \\\\ \\hline\n",
      "gemma_9b.csv & 0.46 & 0.54 & 0.47 \\\\ \\hline\n",
      "deep_seek_14b.csv & 0.36 & 0.13 & 0.38 \\\\ \\hline\n",
      "phi_4.csv & 0.43 & 0.53 & 0.41 \\\\ \\hline\n",
      "gemma_27b.csv & 0.49 & 0.66 & 0.40 \\\\ \\hline\n",
      "llama_8b.csv & 0.24 & 0.41 & 0.23 \\\\ \\hline\n",
      "llama_3b.csv & 0.18 & 0.29 & 0.18 \\\\ \\hline\n",
      "qwen_7b.csv & 0.36 & 0.38 & 0.33 \\\\ \\hline\n",
      "gliner_multi_pii-v1.csv & 0.46 & TBD & TBD \\\\ \\hline\n",
      "Phi-3-mini-4k.csv & 0.19 & 0.32 & 0.24 \\\\ \\hline\n",
      "gemma_2b.csv & 0.20 & 0.37 & 0.28 \\\\ \\hline\n",
      "qwen_14b.csv & 0.44 & 0.53 & 0.38 \\\\ \\hline\n",
      "NuNER_Zero.csv & 0.41 & TBD & TBD \\\\ \\hline\n",
      "aya-expanse-8b.csv & 0.31 & 0.03 & 0.28 \\\\ \\hline\n",
      "gliner_multi-v2.1.csv & 0.53 & TBD & TBD \\\\ \\hline\n",
      "4o.csv & 0.68 & 0.71 & 0.61 \\\\ \\hline\n",
      "qwen_3b.csv & 0.22 & 0.37 & 0.23 \\\\ \\hline\n",
      "aya_101.csv & TBD & 0.38 & TBD \\\\ \\hline\n",
      "\n"
     ]
    }
   ],
   "execution_count": 3
  },
  {
   "metadata": {
    "ExecuteTime": {
     "end_time": "2025-04-07T13:18:29.336546Z",
     "start_time": "2025-04-07T13:15:25.287663Z"
    }
   },
   "cell_type": "code",
   "source": [
    "latex_table = read_and_format_results(f\"{base_path}/gold\")\n",
    "print(latex_table)"
   ],
   "id": "8e0cf00c2003e702",
   "outputs": [
    {
     "name": "stdout",
     "output_type": "stream",
     "text": [
      "\\textbf{Model} & \\textbf{Zero-Shot (F1 Score)} & \\textbf{Few-Shot (F1 Score)} & \\textbf{CoT (F1 Score)} \\\\ \\hline\n",
      "gemma3_27b.csv & 0.56 & 0.71 & 0.58 \\\\ \\hline\n",
      "gemma_9b.csv & 0.55 & 0.62 & 0.60 \\\\ \\hline\n",
      "deep_seek_14b.csv & 0.42 & 0.13 & 0.46 \\\\ \\hline\n",
      "phi_4.csv & 0.52 & 0.61 & 0.51 \\\\ \\hline\n",
      "gemma_27b.csv & 0.58 & 0.70 & 0.51 \\\\ \\hline\n",
      "llama_8b.csv & 0.30 & 0.45 & 0.25 \\\\ \\hline\n",
      "llama_3b.csv & 0.25 & 0.37 & 0.23 \\\\ \\hline\n",
      "qwen_7b.csv & 0.45 & 0.45 & 0.44 \\\\ \\hline\n",
      "gliner_multi_pii-v1.csv & 0.62 & TBD & TBD \\\\ \\hline\n",
      "Phi-3-mini-4k.csv & 0.23 & 0.39 & 0.29 \\\\ \\hline\n",
      "gemma_2b.csv & 0.28 & 0.47 & 0.36 \\\\ \\hline\n",
      "qwen_14b.csv & 0.53 & 0.57 & 0.48 \\\\ \\hline\n",
      "NuNER_Zero.csv & 0.58 & TBD & TBD \\\\ \\hline\n",
      "aya-expanse-8b.csv & 0.34 & 0.03 & 0.29 \\\\ \\hline\n",
      "gliner_multi-v2.1.csv & 0.67 & TBD & TBD \\\\ \\hline\n",
      "4o.csv & 0.72 & 0.71 & 0.68 \\\\ \\hline\n",
      "qwen_3b.csv & 0.28 & 0.45 & 0.30 \\\\ \\hline\n",
      "aya_101.csv & TBD & 0.41 & TBD \\\\ \\hline\n",
      "\n"
     ]
    }
   ],
   "execution_count": 4
  },
  {
   "metadata": {},
   "cell_type": "code",
   "outputs": [],
   "execution_count": null,
   "source": "",
   "id": "6c82f31f441d7be4"
  }
 ],
 "metadata": {
  "kernelspec": {
   "display_name": "Python 3",
   "language": "python",
   "name": "python3"
  },
  "language_info": {
   "codemirror_mode": {
    "name": "ipython",
    "version": 2
   },
   "file_extension": ".py",
   "mimetype": "text/x-python",
   "name": "python",
   "nbconvert_exporter": "python",
   "pygments_lexer": "ipython2",
   "version": "2.7.6"
  }
 },
 "nbformat": 4,
 "nbformat_minor": 5
}
