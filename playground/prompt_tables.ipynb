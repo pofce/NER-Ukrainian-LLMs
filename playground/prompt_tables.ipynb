{
 "cells": [
  {
   "cell_type": "code",
   "id": "initial_id",
   "metadata": {
    "collapsed": true,
    "ExecuteTime": {
     "end_time": "2025-04-24T11:48:59.557462Z",
     "start_time": "2025-04-24T11:48:54.127554Z"
    }
   },
   "source": [
    "from utils.ner_eval import read_and_format_results\n",
    "from rich import print\n",
    "\n",
    "base_path = \"../results/prompting/\""
   ],
   "outputs": [],
   "execution_count": 1
  },
  {
   "metadata": {
    "ExecuteTime": {
     "end_time": "2025-04-24T11:52:10.719277Z",
     "start_time": "2025-04-24T11:48:59.559328Z"
    }
   },
   "cell_type": "code",
   "source": [
    "latex_table = read_and_format_results(f\"{base_path}/bronze\")\n",
    "print(latex_table)"
   ],
   "id": "33d9c2b0841680bf",
   "outputs": [
    {
     "data": {
      "text/plain": [
       "\\textbf\u001B[1m{\u001B[0mModel\u001B[1m}\u001B[0m & \\textbf\u001B[1m{\u001B[0mZero-Shot \u001B[1m(\u001B[0mF1 Score\u001B[1m)\u001B[0m\u001B[1m}\u001B[0m & \\textbf\u001B[1m{\u001B[0mFew-Shot \u001B[1m(\u001B[0mF1 Score\u001B[1m)\u001B[0m\u001B[1m}\u001B[0m & \\textbf\u001B[1m{\u001B[0mCoT \u001B[1m(\u001B[0mF1 Score\u001B[1m)\u001B[0m\u001B[1m}\u001B[0m \\\\ \\hline\n",
       "gemma3_27b.csv & \u001B[1;36m0.39\u001B[0m & \u001B[1;36m0.67\u001B[0m & \u001B[1;36m0.40\u001B[0m \\\\ \\hline\n",
       "gemma_9b.csv & \u001B[1;36m0.42\u001B[0m & \u001B[1;36m0.49\u001B[0m & \u001B[1;36m0.42\u001B[0m \\\\ \\hline\n",
       "deep_seek_14b.csv & \u001B[1;36m0.34\u001B[0m & \u001B[1;36m0.11\u001B[0m & \u001B[1;36m0.35\u001B[0m \\\\ \\hline\n",
       "phi_4.csv & \u001B[1;36m0.38\u001B[0m & \u001B[1;36m0.48\u001B[0m & \u001B[1;36m0.36\u001B[0m \\\\ \\hline\n",
       "gemma_27b.csv & \u001B[1;36m0.45\u001B[0m & \u001B[1;36m0.62\u001B[0m & \u001B[1;36m0.38\u001B[0m \\\\ \\hline\n",
       "llama_8b.csv & \u001B[1;36m0.17\u001B[0m & \u001B[1;36m0.28\u001B[0m & \u001B[1;36m0.13\u001B[0m \\\\ \\hline\n",
       "mamaylm.csv & \u001B[1;36m0.36\u001B[0m & \u001B[1;36m0.33\u001B[0m & \u001B[1;36m0.30\u001B[0m \\\\ \\hline\n",
       "llama_3b.csv & \u001B[1;36m0.14\u001B[0m & \u001B[1;36m0.23\u001B[0m & \u001B[1;36m0.14\u001B[0m \\\\ \\hline\n",
       "qwen_7b.csv & \u001B[1;36m0.34\u001B[0m & \u001B[1;36m0.36\u001B[0m & \u001B[1;36m0.30\u001B[0m \\\\ \\hline\n",
       "Phi-\u001B[1;36m3\u001B[0m-mini-4k.csv & \u001B[1;36m0.16\u001B[0m & \u001B[1;36m0.27\u001B[0m & \u001B[1;36m0.19\u001B[0m \\\\ \\hline\n",
       "gemma_2b.csv & \u001B[1;36m0.16\u001B[0m & \u001B[1;36m0.30\u001B[0m & \u001B[1;36m0.25\u001B[0m \\\\ \\hline\n",
       "qwen_14b.csv & \u001B[1;36m0.42\u001B[0m & \u001B[1;36m0.50\u001B[0m & \u001B[1;36m0.36\u001B[0m \\\\ \\hline\n",
       "aya-expanse-8b.csv & \u001B[1;36m0.23\u001B[0m & \u001B[1;36m0.03\u001B[0m & \u001B[1;36m0.23\u001B[0m \\\\ \\hline\n",
       "4o.csv & \u001B[1;36m0.67\u001B[0m & \u001B[1;36m0.71\u001B[0m & \u001B[1;36m0.60\u001B[0m \\\\ \\hline\n",
       "qwen_3b.csv & \u001B[1;36m0.18\u001B[0m & \u001B[1;36m0.33\u001B[0m & \u001B[1;36m0.20\u001B[0m \\\\ \\hline\n",
       "aya_101.csv & TBD & \u001B[1;36m0.31\u001B[0m & TBD \\\\ \\hline\n",
       "\n"
      ],
      "text/html": [
       "<pre style=\"white-space:pre;overflow-x:auto;line-height:normal;font-family:Menlo,'DejaVu Sans Mono',consolas,'Courier New',monospace\">\\textbf<span style=\"font-weight: bold\">{</span>Model<span style=\"font-weight: bold\">}</span> &amp; \\textbf<span style=\"font-weight: bold\">{</span>Zero-Shot <span style=\"font-weight: bold\">(</span>F1 Score<span style=\"font-weight: bold\">)}</span> &amp; \\textbf<span style=\"font-weight: bold\">{</span>Few-Shot <span style=\"font-weight: bold\">(</span>F1 Score<span style=\"font-weight: bold\">)}</span> &amp; \\textbf<span style=\"font-weight: bold\">{</span>CoT <span style=\"font-weight: bold\">(</span>F1 Score<span style=\"font-weight: bold\">)}</span> \\\\ \\hline\n",
       "gemma3_27b.csv &amp; <span style=\"color: #008080; text-decoration-color: #008080; font-weight: bold\">0.39</span> &amp; <span style=\"color: #008080; text-decoration-color: #008080; font-weight: bold\">0.67</span> &amp; <span style=\"color: #008080; text-decoration-color: #008080; font-weight: bold\">0.40</span> \\\\ \\hline\n",
       "gemma_9b.csv &amp; <span style=\"color: #008080; text-decoration-color: #008080; font-weight: bold\">0.42</span> &amp; <span style=\"color: #008080; text-decoration-color: #008080; font-weight: bold\">0.49</span> &amp; <span style=\"color: #008080; text-decoration-color: #008080; font-weight: bold\">0.42</span> \\\\ \\hline\n",
       "deep_seek_14b.csv &amp; <span style=\"color: #008080; text-decoration-color: #008080; font-weight: bold\">0.34</span> &amp; <span style=\"color: #008080; text-decoration-color: #008080; font-weight: bold\">0.11</span> &amp; <span style=\"color: #008080; text-decoration-color: #008080; font-weight: bold\">0.35</span> \\\\ \\hline\n",
       "phi_4.csv &amp; <span style=\"color: #008080; text-decoration-color: #008080; font-weight: bold\">0.38</span> &amp; <span style=\"color: #008080; text-decoration-color: #008080; font-weight: bold\">0.48</span> &amp; <span style=\"color: #008080; text-decoration-color: #008080; font-weight: bold\">0.36</span> \\\\ \\hline\n",
       "gemma_27b.csv &amp; <span style=\"color: #008080; text-decoration-color: #008080; font-weight: bold\">0.45</span> &amp; <span style=\"color: #008080; text-decoration-color: #008080; font-weight: bold\">0.62</span> &amp; <span style=\"color: #008080; text-decoration-color: #008080; font-weight: bold\">0.38</span> \\\\ \\hline\n",
       "llama_8b.csv &amp; <span style=\"color: #008080; text-decoration-color: #008080; font-weight: bold\">0.17</span> &amp; <span style=\"color: #008080; text-decoration-color: #008080; font-weight: bold\">0.28</span> &amp; <span style=\"color: #008080; text-decoration-color: #008080; font-weight: bold\">0.13</span> \\\\ \\hline\n",
       "mamaylm.csv &amp; <span style=\"color: #008080; text-decoration-color: #008080; font-weight: bold\">0.36</span> &amp; <span style=\"color: #008080; text-decoration-color: #008080; font-weight: bold\">0.33</span> &amp; <span style=\"color: #008080; text-decoration-color: #008080; font-weight: bold\">0.30</span> \\\\ \\hline\n",
       "llama_3b.csv &amp; <span style=\"color: #008080; text-decoration-color: #008080; font-weight: bold\">0.14</span> &amp; <span style=\"color: #008080; text-decoration-color: #008080; font-weight: bold\">0.23</span> &amp; <span style=\"color: #008080; text-decoration-color: #008080; font-weight: bold\">0.14</span> \\\\ \\hline\n",
       "qwen_7b.csv &amp; <span style=\"color: #008080; text-decoration-color: #008080; font-weight: bold\">0.34</span> &amp; <span style=\"color: #008080; text-decoration-color: #008080; font-weight: bold\">0.36</span> &amp; <span style=\"color: #008080; text-decoration-color: #008080; font-weight: bold\">0.30</span> \\\\ \\hline\n",
       "Phi-<span style=\"color: #008080; text-decoration-color: #008080; font-weight: bold\">3</span>-mini-4k.csv &amp; <span style=\"color: #008080; text-decoration-color: #008080; font-weight: bold\">0.16</span> &amp; <span style=\"color: #008080; text-decoration-color: #008080; font-weight: bold\">0.27</span> &amp; <span style=\"color: #008080; text-decoration-color: #008080; font-weight: bold\">0.19</span> \\\\ \\hline\n",
       "gemma_2b.csv &amp; <span style=\"color: #008080; text-decoration-color: #008080; font-weight: bold\">0.16</span> &amp; <span style=\"color: #008080; text-decoration-color: #008080; font-weight: bold\">0.30</span> &amp; <span style=\"color: #008080; text-decoration-color: #008080; font-weight: bold\">0.25</span> \\\\ \\hline\n",
       "qwen_14b.csv &amp; <span style=\"color: #008080; text-decoration-color: #008080; font-weight: bold\">0.42</span> &amp; <span style=\"color: #008080; text-decoration-color: #008080; font-weight: bold\">0.50</span> &amp; <span style=\"color: #008080; text-decoration-color: #008080; font-weight: bold\">0.36</span> \\\\ \\hline\n",
       "aya-expanse-8b.csv &amp; <span style=\"color: #008080; text-decoration-color: #008080; font-weight: bold\">0.23</span> &amp; <span style=\"color: #008080; text-decoration-color: #008080; font-weight: bold\">0.03</span> &amp; <span style=\"color: #008080; text-decoration-color: #008080; font-weight: bold\">0.23</span> \\\\ \\hline\n",
       "4o.csv &amp; <span style=\"color: #008080; text-decoration-color: #008080; font-weight: bold\">0.67</span> &amp; <span style=\"color: #008080; text-decoration-color: #008080; font-weight: bold\">0.71</span> &amp; <span style=\"color: #008080; text-decoration-color: #008080; font-weight: bold\">0.60</span> \\\\ \\hline\n",
       "qwen_3b.csv &amp; <span style=\"color: #008080; text-decoration-color: #008080; font-weight: bold\">0.18</span> &amp; <span style=\"color: #008080; text-decoration-color: #008080; font-weight: bold\">0.33</span> &amp; <span style=\"color: #008080; text-decoration-color: #008080; font-weight: bold\">0.20</span> \\\\ \\hline\n",
       "aya_101.csv &amp; TBD &amp; <span style=\"color: #008080; text-decoration-color: #008080; font-weight: bold\">0.31</span> &amp; TBD \\\\ \\hline\n",
       "\n",
       "</pre>\n"
      ]
     },
     "metadata": {},
     "output_type": "display_data"
    }
   ],
   "execution_count": 2
  },
  {
   "metadata": {
    "ExecuteTime": {
     "end_time": "2025-04-24T11:55:31.675526Z",
     "start_time": "2025-04-24T11:52:10.720057Z"
    }
   },
   "cell_type": "code",
   "source": [
    "latex_table = read_and_format_results(f\"{base_path}/silver\")\n",
    "print(latex_table)"
   ],
   "id": "b59e1dc61a3c1b73",
   "outputs": [
    {
     "data": {
      "text/plain": [
       "\\textbf\u001B[1m{\u001B[0mModel\u001B[1m}\u001B[0m & \\textbf\u001B[1m{\u001B[0mZero-Shot \u001B[1m(\u001B[0mF1 Score\u001B[1m)\u001B[0m\u001B[1m}\u001B[0m & \\textbf\u001B[1m{\u001B[0mFew-Shot \u001B[1m(\u001B[0mF1 Score\u001B[1m)\u001B[0m\u001B[1m}\u001B[0m & \\textbf\u001B[1m{\u001B[0mCoT \u001B[1m(\u001B[0mF1 Score\u001B[1m)\u001B[0m\u001B[1m}\u001B[0m \\\\ \\hline\n",
       "gemma3_27b.csv & \u001B[1;36m0.41\u001B[0m & \u001B[1;36m0.69\u001B[0m & \u001B[1;36m0.43\u001B[0m \\\\ \\hline\n",
       "gemma_9b.csv & \u001B[1;36m0.46\u001B[0m & \u001B[1;36m0.54\u001B[0m & \u001B[1;36m0.47\u001B[0m \\\\ \\hline\n",
       "deep_seek_14b.csv & \u001B[1;36m0.36\u001B[0m & \u001B[1;36m0.13\u001B[0m & \u001B[1;36m0.38\u001B[0m \\\\ \\hline\n",
       "phi_4.csv & \u001B[1;36m0.43\u001B[0m & \u001B[1;36m0.53\u001B[0m & \u001B[1;36m0.41\u001B[0m \\\\ \\hline\n",
       "gemma_27b.csv & \u001B[1;36m0.49\u001B[0m & \u001B[1;36m0.66\u001B[0m & \u001B[1;36m0.40\u001B[0m \\\\ \\hline\n",
       "llama_8b.csv & \u001B[1;36m0.24\u001B[0m & \u001B[1;36m0.41\u001B[0m & \u001B[1;36m0.23\u001B[0m \\\\ \\hline\n",
       "mamaylm.csv & \u001B[1;36m0.47\u001B[0m & \u001B[1;36m0.41\u001B[0m & \u001B[1;36m0.41\u001B[0m \\\\ \\hline\n",
       "llama_3b.csv & \u001B[1;36m0.18\u001B[0m & \u001B[1;36m0.29\u001B[0m & \u001B[1;36m0.18\u001B[0m \\\\ \\hline\n",
       "qwen_7b.csv & \u001B[1;36m0.36\u001B[0m & \u001B[1;36m0.38\u001B[0m & \u001B[1;36m0.33\u001B[0m \\\\ \\hline\n",
       "gliner_multi_pii-v1.csv & \u001B[1;36m0.46\u001B[0m & TBD & TBD \\\\ \\hline\n",
       "Phi-\u001B[1;36m3\u001B[0m-mini-4k.csv & \u001B[1;36m0.19\u001B[0m & \u001B[1;36m0.32\u001B[0m & \u001B[1;36m0.24\u001B[0m \\\\ \\hline\n",
       "gemma_2b.csv & \u001B[1;36m0.20\u001B[0m & \u001B[1;36m0.37\u001B[0m & \u001B[1;36m0.28\u001B[0m \\\\ \\hline\n",
       "qwen_14b.csv & \u001B[1;36m0.44\u001B[0m & \u001B[1;36m0.53\u001B[0m & \u001B[1;36m0.38\u001B[0m \\\\ \\hline\n",
       "NuNER_Zero.csv & \u001B[1;36m0.41\u001B[0m & TBD & TBD \\\\ \\hline\n",
       "aya-expanse-8b.csv & \u001B[1;36m0.31\u001B[0m & \u001B[1;36m0.03\u001B[0m & \u001B[1;36m0.28\u001B[0m \\\\ \\hline\n",
       "gliner_multi-v2.\u001B[1;36m1.\u001B[0mcsv & \u001B[1;36m0.53\u001B[0m & TBD & TBD \\\\ \\hline\n",
       "4o.csv & \u001B[1;36m0.68\u001B[0m & \u001B[1;36m0.71\u001B[0m & \u001B[1;36m0.61\u001B[0m \\\\ \\hline\n",
       "qwen_3b.csv & \u001B[1;36m0.22\u001B[0m & \u001B[1;36m0.37\u001B[0m & \u001B[1;36m0.23\u001B[0m \\\\ \\hline\n",
       "aya_101.csv & TBD & \u001B[1;36m0.38\u001B[0m & TBD \\\\ \\hline\n",
       "\n"
      ],
      "text/html": [
       "<pre style=\"white-space:pre;overflow-x:auto;line-height:normal;font-family:Menlo,'DejaVu Sans Mono',consolas,'Courier New',monospace\">\\textbf<span style=\"font-weight: bold\">{</span>Model<span style=\"font-weight: bold\">}</span> &amp; \\textbf<span style=\"font-weight: bold\">{</span>Zero-Shot <span style=\"font-weight: bold\">(</span>F1 Score<span style=\"font-weight: bold\">)}</span> &amp; \\textbf<span style=\"font-weight: bold\">{</span>Few-Shot <span style=\"font-weight: bold\">(</span>F1 Score<span style=\"font-weight: bold\">)}</span> &amp; \\textbf<span style=\"font-weight: bold\">{</span>CoT <span style=\"font-weight: bold\">(</span>F1 Score<span style=\"font-weight: bold\">)}</span> \\\\ \\hline\n",
       "gemma3_27b.csv &amp; <span style=\"color: #008080; text-decoration-color: #008080; font-weight: bold\">0.41</span> &amp; <span style=\"color: #008080; text-decoration-color: #008080; font-weight: bold\">0.69</span> &amp; <span style=\"color: #008080; text-decoration-color: #008080; font-weight: bold\">0.43</span> \\\\ \\hline\n",
       "gemma_9b.csv &amp; <span style=\"color: #008080; text-decoration-color: #008080; font-weight: bold\">0.46</span> &amp; <span style=\"color: #008080; text-decoration-color: #008080; font-weight: bold\">0.54</span> &amp; <span style=\"color: #008080; text-decoration-color: #008080; font-weight: bold\">0.47</span> \\\\ \\hline\n",
       "deep_seek_14b.csv &amp; <span style=\"color: #008080; text-decoration-color: #008080; font-weight: bold\">0.36</span> &amp; <span style=\"color: #008080; text-decoration-color: #008080; font-weight: bold\">0.13</span> &amp; <span style=\"color: #008080; text-decoration-color: #008080; font-weight: bold\">0.38</span> \\\\ \\hline\n",
       "phi_4.csv &amp; <span style=\"color: #008080; text-decoration-color: #008080; font-weight: bold\">0.43</span> &amp; <span style=\"color: #008080; text-decoration-color: #008080; font-weight: bold\">0.53</span> &amp; <span style=\"color: #008080; text-decoration-color: #008080; font-weight: bold\">0.41</span> \\\\ \\hline\n",
       "gemma_27b.csv &amp; <span style=\"color: #008080; text-decoration-color: #008080; font-weight: bold\">0.49</span> &amp; <span style=\"color: #008080; text-decoration-color: #008080; font-weight: bold\">0.66</span> &amp; <span style=\"color: #008080; text-decoration-color: #008080; font-weight: bold\">0.40</span> \\\\ \\hline\n",
       "llama_8b.csv &amp; <span style=\"color: #008080; text-decoration-color: #008080; font-weight: bold\">0.24</span> &amp; <span style=\"color: #008080; text-decoration-color: #008080; font-weight: bold\">0.41</span> &amp; <span style=\"color: #008080; text-decoration-color: #008080; font-weight: bold\">0.23</span> \\\\ \\hline\n",
       "mamaylm.csv &amp; <span style=\"color: #008080; text-decoration-color: #008080; font-weight: bold\">0.47</span> &amp; <span style=\"color: #008080; text-decoration-color: #008080; font-weight: bold\">0.41</span> &amp; <span style=\"color: #008080; text-decoration-color: #008080; font-weight: bold\">0.41</span> \\\\ \\hline\n",
       "llama_3b.csv &amp; <span style=\"color: #008080; text-decoration-color: #008080; font-weight: bold\">0.18</span> &amp; <span style=\"color: #008080; text-decoration-color: #008080; font-weight: bold\">0.29</span> &amp; <span style=\"color: #008080; text-decoration-color: #008080; font-weight: bold\">0.18</span> \\\\ \\hline\n",
       "qwen_7b.csv &amp; <span style=\"color: #008080; text-decoration-color: #008080; font-weight: bold\">0.36</span> &amp; <span style=\"color: #008080; text-decoration-color: #008080; font-weight: bold\">0.38</span> &amp; <span style=\"color: #008080; text-decoration-color: #008080; font-weight: bold\">0.33</span> \\\\ \\hline\n",
       "gliner_multi_pii-v1.csv &amp; <span style=\"color: #008080; text-decoration-color: #008080; font-weight: bold\">0.46</span> &amp; TBD &amp; TBD \\\\ \\hline\n",
       "Phi-<span style=\"color: #008080; text-decoration-color: #008080; font-weight: bold\">3</span>-mini-4k.csv &amp; <span style=\"color: #008080; text-decoration-color: #008080; font-weight: bold\">0.19</span> &amp; <span style=\"color: #008080; text-decoration-color: #008080; font-weight: bold\">0.32</span> &amp; <span style=\"color: #008080; text-decoration-color: #008080; font-weight: bold\">0.24</span> \\\\ \\hline\n",
       "gemma_2b.csv &amp; <span style=\"color: #008080; text-decoration-color: #008080; font-weight: bold\">0.20</span> &amp; <span style=\"color: #008080; text-decoration-color: #008080; font-weight: bold\">0.37</span> &amp; <span style=\"color: #008080; text-decoration-color: #008080; font-weight: bold\">0.28</span> \\\\ \\hline\n",
       "qwen_14b.csv &amp; <span style=\"color: #008080; text-decoration-color: #008080; font-weight: bold\">0.44</span> &amp; <span style=\"color: #008080; text-decoration-color: #008080; font-weight: bold\">0.53</span> &amp; <span style=\"color: #008080; text-decoration-color: #008080; font-weight: bold\">0.38</span> \\\\ \\hline\n",
       "NuNER_Zero.csv &amp; <span style=\"color: #008080; text-decoration-color: #008080; font-weight: bold\">0.41</span> &amp; TBD &amp; TBD \\\\ \\hline\n",
       "aya-expanse-8b.csv &amp; <span style=\"color: #008080; text-decoration-color: #008080; font-weight: bold\">0.31</span> &amp; <span style=\"color: #008080; text-decoration-color: #008080; font-weight: bold\">0.03</span> &amp; <span style=\"color: #008080; text-decoration-color: #008080; font-weight: bold\">0.28</span> \\\\ \\hline\n",
       "gliner_multi-v2.<span style=\"color: #008080; text-decoration-color: #008080; font-weight: bold\">1.</span>csv &amp; <span style=\"color: #008080; text-decoration-color: #008080; font-weight: bold\">0.53</span> &amp; TBD &amp; TBD \\\\ \\hline\n",
       "4o.csv &amp; <span style=\"color: #008080; text-decoration-color: #008080; font-weight: bold\">0.68</span> &amp; <span style=\"color: #008080; text-decoration-color: #008080; font-weight: bold\">0.71</span> &amp; <span style=\"color: #008080; text-decoration-color: #008080; font-weight: bold\">0.61</span> \\\\ \\hline\n",
       "qwen_3b.csv &amp; <span style=\"color: #008080; text-decoration-color: #008080; font-weight: bold\">0.22</span> &amp; <span style=\"color: #008080; text-decoration-color: #008080; font-weight: bold\">0.37</span> &amp; <span style=\"color: #008080; text-decoration-color: #008080; font-weight: bold\">0.23</span> \\\\ \\hline\n",
       "aya_101.csv &amp; TBD &amp; <span style=\"color: #008080; text-decoration-color: #008080; font-weight: bold\">0.38</span> &amp; TBD \\\\ \\hline\n",
       "\n",
       "</pre>\n"
      ]
     },
     "metadata": {},
     "output_type": "display_data"
    }
   ],
   "execution_count": 3
  },
  {
   "metadata": {
    "ExecuteTime": {
     "end_time": "2025-04-24T11:58:45.442791Z",
     "start_time": "2025-04-24T11:55:31.676473Z"
    }
   },
   "cell_type": "code",
   "source": [
    "latex_table = read_and_format_results(f\"{base_path}/gold\")\n",
    "print(latex_table)"
   ],
   "id": "8e0cf00c2003e702",
   "outputs": [
    {
     "data": {
      "text/plain": [
       "\\textbf\u001B[1m{\u001B[0mModel\u001B[1m}\u001B[0m & \\textbf\u001B[1m{\u001B[0mZero-Shot \u001B[1m(\u001B[0mF1 Score\u001B[1m)\u001B[0m\u001B[1m}\u001B[0m & \\textbf\u001B[1m{\u001B[0mFew-Shot \u001B[1m(\u001B[0mF1 Score\u001B[1m)\u001B[0m\u001B[1m}\u001B[0m & \\textbf\u001B[1m{\u001B[0mCoT \u001B[1m(\u001B[0mF1 Score\u001B[1m)\u001B[0m\u001B[1m}\u001B[0m \\\\ \\hline\n",
       "gemma3_27b.csv & \u001B[1;36m0.56\u001B[0m & \u001B[1;36m0.71\u001B[0m & \u001B[1;36m0.58\u001B[0m \\\\ \\hline\n",
       "gemma_9b.csv & \u001B[1;36m0.55\u001B[0m & \u001B[1;36m0.62\u001B[0m & \u001B[1;36m0.60\u001B[0m \\\\ \\hline\n",
       "deep_seek_14b.csv & \u001B[1;36m0.42\u001B[0m & \u001B[1;36m0.13\u001B[0m & \u001B[1;36m0.46\u001B[0m \\\\ \\hline\n",
       "phi_4.csv & \u001B[1;36m0.52\u001B[0m & \u001B[1;36m0.61\u001B[0m & \u001B[1;36m0.51\u001B[0m \\\\ \\hline\n",
       "gemma_27b.csv & \u001B[1;36m0.58\u001B[0m & \u001B[1;36m0.70\u001B[0m & \u001B[1;36m0.51\u001B[0m \\\\ \\hline\n",
       "llama_8b.csv & \u001B[1;36m0.30\u001B[0m & \u001B[1;36m0.45\u001B[0m & \u001B[1;36m0.25\u001B[0m \\\\ \\hline\n",
       "mamaylm.csv & \u001B[1;36m0.49\u001B[0m & \u001B[1;36m0.42\u001B[0m & \u001B[1;36m0.42\u001B[0m \\\\ \\hline\n",
       "llama_3b.csv & \u001B[1;36m0.25\u001B[0m & \u001B[1;36m0.37\u001B[0m & \u001B[1;36m0.23\u001B[0m \\\\ \\hline\n",
       "qwen_7b.csv & \u001B[1;36m0.45\u001B[0m & \u001B[1;36m0.45\u001B[0m & \u001B[1;36m0.44\u001B[0m \\\\ \\hline\n",
       "gliner_multi_pii-v1.csv & \u001B[1;36m0.62\u001B[0m & TBD & TBD \\\\ \\hline\n",
       "Phi-\u001B[1;36m3\u001B[0m-mini-4k.csv & \u001B[1;36m0.23\u001B[0m & \u001B[1;36m0.39\u001B[0m & \u001B[1;36m0.29\u001B[0m \\\\ \\hline\n",
       "gemma_2b.csv & \u001B[1;36m0.28\u001B[0m & \u001B[1;36m0.47\u001B[0m & \u001B[1;36m0.36\u001B[0m \\\\ \\hline\n",
       "qwen_14b.csv & \u001B[1;36m0.53\u001B[0m & \u001B[1;36m0.57\u001B[0m & \u001B[1;36m0.48\u001B[0m \\\\ \\hline\n",
       "NuNER_Zero.csv & \u001B[1;36m0.58\u001B[0m & TBD & TBD \\\\ \\hline\n",
       "aya-expanse-8b.csv & \u001B[1;36m0.34\u001B[0m & \u001B[1;36m0.03\u001B[0m & \u001B[1;36m0.29\u001B[0m \\\\ \\hline\n",
       "gliner_multi-v2.\u001B[1;36m1.\u001B[0mcsv & \u001B[1;36m0.67\u001B[0m & TBD & TBD \\\\ \\hline\n",
       "4o.csv & \u001B[1;36m0.72\u001B[0m & \u001B[1;36m0.71\u001B[0m & \u001B[1;36m0.68\u001B[0m \\\\ \\hline\n",
       "qwen_3b.csv & \u001B[1;36m0.28\u001B[0m & \u001B[1;36m0.45\u001B[0m & \u001B[1;36m0.30\u001B[0m \\\\ \\hline\n",
       "aya_101.csv & TBD & \u001B[1;36m0.41\u001B[0m & TBD \\\\ \\hline\n",
       "\n"
      ],
      "text/html": [
       "<pre style=\"white-space:pre;overflow-x:auto;line-height:normal;font-family:Menlo,'DejaVu Sans Mono',consolas,'Courier New',monospace\">\\textbf<span style=\"font-weight: bold\">{</span>Model<span style=\"font-weight: bold\">}</span> &amp; \\textbf<span style=\"font-weight: bold\">{</span>Zero-Shot <span style=\"font-weight: bold\">(</span>F1 Score<span style=\"font-weight: bold\">)}</span> &amp; \\textbf<span style=\"font-weight: bold\">{</span>Few-Shot <span style=\"font-weight: bold\">(</span>F1 Score<span style=\"font-weight: bold\">)}</span> &amp; \\textbf<span style=\"font-weight: bold\">{</span>CoT <span style=\"font-weight: bold\">(</span>F1 Score<span style=\"font-weight: bold\">)}</span> \\\\ \\hline\n",
       "gemma3_27b.csv &amp; <span style=\"color: #008080; text-decoration-color: #008080; font-weight: bold\">0.56</span> &amp; <span style=\"color: #008080; text-decoration-color: #008080; font-weight: bold\">0.71</span> &amp; <span style=\"color: #008080; text-decoration-color: #008080; font-weight: bold\">0.58</span> \\\\ \\hline\n",
       "gemma_9b.csv &amp; <span style=\"color: #008080; text-decoration-color: #008080; font-weight: bold\">0.55</span> &amp; <span style=\"color: #008080; text-decoration-color: #008080; font-weight: bold\">0.62</span> &amp; <span style=\"color: #008080; text-decoration-color: #008080; font-weight: bold\">0.60</span> \\\\ \\hline\n",
       "deep_seek_14b.csv &amp; <span style=\"color: #008080; text-decoration-color: #008080; font-weight: bold\">0.42</span> &amp; <span style=\"color: #008080; text-decoration-color: #008080; font-weight: bold\">0.13</span> &amp; <span style=\"color: #008080; text-decoration-color: #008080; font-weight: bold\">0.46</span> \\\\ \\hline\n",
       "phi_4.csv &amp; <span style=\"color: #008080; text-decoration-color: #008080; font-weight: bold\">0.52</span> &amp; <span style=\"color: #008080; text-decoration-color: #008080; font-weight: bold\">0.61</span> &amp; <span style=\"color: #008080; text-decoration-color: #008080; font-weight: bold\">0.51</span> \\\\ \\hline\n",
       "gemma_27b.csv &amp; <span style=\"color: #008080; text-decoration-color: #008080; font-weight: bold\">0.58</span> &amp; <span style=\"color: #008080; text-decoration-color: #008080; font-weight: bold\">0.70</span> &amp; <span style=\"color: #008080; text-decoration-color: #008080; font-weight: bold\">0.51</span> \\\\ \\hline\n",
       "llama_8b.csv &amp; <span style=\"color: #008080; text-decoration-color: #008080; font-weight: bold\">0.30</span> &amp; <span style=\"color: #008080; text-decoration-color: #008080; font-weight: bold\">0.45</span> &amp; <span style=\"color: #008080; text-decoration-color: #008080; font-weight: bold\">0.25</span> \\\\ \\hline\n",
       "mamaylm.csv &amp; <span style=\"color: #008080; text-decoration-color: #008080; font-weight: bold\">0.49</span> &amp; <span style=\"color: #008080; text-decoration-color: #008080; font-weight: bold\">0.42</span> &amp; <span style=\"color: #008080; text-decoration-color: #008080; font-weight: bold\">0.42</span> \\\\ \\hline\n",
       "llama_3b.csv &amp; <span style=\"color: #008080; text-decoration-color: #008080; font-weight: bold\">0.25</span> &amp; <span style=\"color: #008080; text-decoration-color: #008080; font-weight: bold\">0.37</span> &amp; <span style=\"color: #008080; text-decoration-color: #008080; font-weight: bold\">0.23</span> \\\\ \\hline\n",
       "qwen_7b.csv &amp; <span style=\"color: #008080; text-decoration-color: #008080; font-weight: bold\">0.45</span> &amp; <span style=\"color: #008080; text-decoration-color: #008080; font-weight: bold\">0.45</span> &amp; <span style=\"color: #008080; text-decoration-color: #008080; font-weight: bold\">0.44</span> \\\\ \\hline\n",
       "gliner_multi_pii-v1.csv &amp; <span style=\"color: #008080; text-decoration-color: #008080; font-weight: bold\">0.62</span> &amp; TBD &amp; TBD \\\\ \\hline\n",
       "Phi-<span style=\"color: #008080; text-decoration-color: #008080; font-weight: bold\">3</span>-mini-4k.csv &amp; <span style=\"color: #008080; text-decoration-color: #008080; font-weight: bold\">0.23</span> &amp; <span style=\"color: #008080; text-decoration-color: #008080; font-weight: bold\">0.39</span> &amp; <span style=\"color: #008080; text-decoration-color: #008080; font-weight: bold\">0.29</span> \\\\ \\hline\n",
       "gemma_2b.csv &amp; <span style=\"color: #008080; text-decoration-color: #008080; font-weight: bold\">0.28</span> &amp; <span style=\"color: #008080; text-decoration-color: #008080; font-weight: bold\">0.47</span> &amp; <span style=\"color: #008080; text-decoration-color: #008080; font-weight: bold\">0.36</span> \\\\ \\hline\n",
       "qwen_14b.csv &amp; <span style=\"color: #008080; text-decoration-color: #008080; font-weight: bold\">0.53</span> &amp; <span style=\"color: #008080; text-decoration-color: #008080; font-weight: bold\">0.57</span> &amp; <span style=\"color: #008080; text-decoration-color: #008080; font-weight: bold\">0.48</span> \\\\ \\hline\n",
       "NuNER_Zero.csv &amp; <span style=\"color: #008080; text-decoration-color: #008080; font-weight: bold\">0.58</span> &amp; TBD &amp; TBD \\\\ \\hline\n",
       "aya-expanse-8b.csv &amp; <span style=\"color: #008080; text-decoration-color: #008080; font-weight: bold\">0.34</span> &amp; <span style=\"color: #008080; text-decoration-color: #008080; font-weight: bold\">0.03</span> &amp; <span style=\"color: #008080; text-decoration-color: #008080; font-weight: bold\">0.29</span> \\\\ \\hline\n",
       "gliner_multi-v2.<span style=\"color: #008080; text-decoration-color: #008080; font-weight: bold\">1.</span>csv &amp; <span style=\"color: #008080; text-decoration-color: #008080; font-weight: bold\">0.67</span> &amp; TBD &amp; TBD \\\\ \\hline\n",
       "4o.csv &amp; <span style=\"color: #008080; text-decoration-color: #008080; font-weight: bold\">0.72</span> &amp; <span style=\"color: #008080; text-decoration-color: #008080; font-weight: bold\">0.71</span> &amp; <span style=\"color: #008080; text-decoration-color: #008080; font-weight: bold\">0.68</span> \\\\ \\hline\n",
       "qwen_3b.csv &amp; <span style=\"color: #008080; text-decoration-color: #008080; font-weight: bold\">0.28</span> &amp; <span style=\"color: #008080; text-decoration-color: #008080; font-weight: bold\">0.45</span> &amp; <span style=\"color: #008080; text-decoration-color: #008080; font-weight: bold\">0.30</span> \\\\ \\hline\n",
       "aya_101.csv &amp; TBD &amp; <span style=\"color: #008080; text-decoration-color: #008080; font-weight: bold\">0.41</span> &amp; TBD \\\\ \\hline\n",
       "\n",
       "</pre>\n"
      ]
     },
     "metadata": {},
     "output_type": "display_data"
    }
   ],
   "execution_count": 4
  },
  {
   "metadata": {},
   "cell_type": "code",
   "outputs": [],
   "execution_count": null,
   "source": "",
   "id": "6c82f31f441d7be4"
  }
 ],
 "metadata": {
  "kernelspec": {
   "display_name": "Python 3",
   "language": "python",
   "name": "python3"
  },
  "language_info": {
   "codemirror_mode": {
    "name": "ipython",
    "version": 2
   },
   "file_extension": ".py",
   "mimetype": "text/x-python",
   "name": "python",
   "nbconvert_exporter": "python",
   "pygments_lexer": "ipython2",
   "version": "2.7.6"
  }
 },
 "nbformat": 4,
 "nbformat_minor": 5
}
