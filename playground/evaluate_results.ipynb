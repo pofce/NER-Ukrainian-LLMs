{
 "cells": [
  {
   "metadata": {
    "ExecuteTime": {
     "end_time": "2025-01-24T22:14:52.432481Z",
     "start_time": "2025-01-24T22:14:52.428440Z"
    }
   },
   "cell_type": "code",
   "source": [
    "import os\n",
    "import pandas as pd\n",
    "from utils import basic_post_processing, advanced_post_processing\n",
    "\n",
    "\n",
    "base_dir = \"../results\"\n",
    "bronze_dir = os.path.join(base_dir, \"bronze\")\n",
    "silver_dir = os.path.join(base_dir, \"silver\")\n",
    "gold_dir = os.path.join(base_dir, \"gold\")\n",
    "\n",
    "\n",
    "def copy_folder_structure(src, dst):\n",
    "    for root, dirs, _ in os.walk(src):\n",
    "        for dir_name in dirs:\n",
    "            # Construct full path for source and destination\n",
    "            src_path = os.path.join(root, dir_name)\n",
    "            dst_path = os.path.join(dst, os.path.relpath(src_path, src))\n",
    "            # Create directories at destination\n",
    "            os.makedirs(dst_path, exist_ok=True)\n",
    "\n",
    "\n",
    "copy_folder_structure(bronze_dir, silver_dir)\n",
    "copy_folder_structure(bronze_dir, gold_dir)"
   ],
   "id": "3ba5d75b73d8ff7b",
   "outputs": [],
   "execution_count": 3
  },
  {
   "cell_type": "code",
   "id": "initial_id",
   "metadata": {
    "collapsed": true,
    "ExecuteTime": {
     "end_time": "2025-01-24T22:16:40.180612Z",
     "start_time": "2025-01-24T22:15:30.227333Z"
    }
   },
   "source": [
    "def bronze_to_silver(source_dir, target_dir):\n",
    "    for root, dirs, files in os.walk(source_dir):\n",
    "        for file in files:\n",
    "            if file.endswith(\".csv\"):\n",
    "                source_file_path = os.path.join(root, file)\n",
    "                relative_path = os.path.relpath(root, source_dir)\n",
    "                target_folder = os.path.join(target_dir, relative_path)\n",
    "\n",
    "                os.makedirs(target_folder, exist_ok=True)\n",
    "\n",
    "                df = pd.read_csv(source_file_path)\n",
    "                df[\"pred\"] = df.apply(basic_post_processing, axis=1)\n",
    "                \n",
    "                target_file_path = os.path.join(target_folder, file)\n",
    "                df.to_csv(target_file_path, index=False)\n",
    "                print(f\"Processed and saved: {target_file_path}\")\n",
    "\n",
    "\n",
    "bronze_to_silver(bronze_dir, silver_dir)"
   ],
   "outputs": [
    {
     "name": "stdout",
     "output_type": "stream",
     "text": [
      "Processed and saved: ../results/silver/few_shot/gemma_9b.csv\n",
      "Processed and saved: ../results/silver/few_shot/phi_4.csv\n",
      "Processed and saved: ../results/silver/few_shot/qwen_7b.csv\n",
      "Processed and saved: ../results/silver/few_shot/Phi-3-mini-4k.csv\n",
      "Processed and saved: ../results/silver/few_shot/gemma_2b.csv\n",
      "Processed and saved: ../results/silver/few_shot/qwen_14b.csv\n",
      "Processed and saved: ../results/silver/few_shot/4o.csv\n",
      "Processed and saved: ../results/silver/few_shot/qwen_3b.csv\n",
      "Processed and saved: ../results/silver/few_shot/Llama-3b.csv\n",
      "Processed and saved: ../results/silver/zero_shot/gemma_9b.csv\n",
      "Processed and saved: ../results/silver/zero_shot/phi_4.csv\n",
      "Processed and saved: ../results/silver/zero_shot/qwen_7b.csv\n",
      "Processed and saved: ../results/silver/zero_shot/Phi-3-mini-4k.csv\n",
      "Processed and saved: ../results/silver/zero_shot/gemma_2b.csv\n",
      "Processed and saved: ../results/silver/zero_shot/qwen_14b.csv\n",
      "Processed and saved: ../results/silver/zero_shot/4o.csv\n",
      "Processed and saved: ../results/silver/zero_shot/qwen_3b.csv\n",
      "Processed and saved: ../results/silver/zero_shot/Llama-3b.csv\n",
      "Processed and saved: ../results/silver/cot/gemma_9b.csv\n",
      "Processed and saved: ../results/silver/cot/phi_4.csv\n",
      "Processed and saved: ../results/silver/cot/qwen_7b.csv\n",
      "Processed and saved: ../results/silver/cot/Phi-3-mini-4k.csv\n",
      "Processed and saved: ../results/silver/cot/gemma_2b.csv\n",
      "Processed and saved: ../results/silver/cot/qwen_14b.csv\n",
      "Processed and saved: ../results/silver/cot/4o.csv\n",
      "Processed and saved: ../results/silver/cot/qwen_3b.csv\n",
      "Processed and saved: ../results/silver/cot/Llama-3b.csv\n"
     ]
    }
   ],
   "execution_count": 4
  },
  {
   "metadata": {
    "jupyter": {
     "is_executing": true
    },
    "ExecuteTime": {
     "start_time": "2025-01-20T17:14:19.554796Z"
    }
   },
   "cell_type": "code",
   "source": [
    "def silver_to_gold(source_dir, target_dir):\n",
    "    for root, dirs, files in os.walk(source_dir):\n",
    "        for file in files:\n",
    "            if file.endswith(\".csv\"):\n",
    "                source_file_path = os.path.join(root, file)\n",
    "                relative_path = os.path.relpath(root, source_dir)\n",
    "                target_folder = os.path.join(target_dir, relative_path)\n",
    "\n",
    "                os.makedirs(target_folder, exist_ok=True)\n",
    "\n",
    "                df = pd.read_csv(source_file_path)\n",
    "                df[\"pred\"] = df[\"pred\"].apply(advanced_post_processing)\n",
    "                \n",
    "\n",
    "                target_file_path = os.path.join(target_folder, file)\n",
    "                df.to_csv(target_file_path, index=False)\n",
    "\n",
    "                print(f\"Processed and saved: {target_file_path}\") \n",
    "\n",
    "silver_to_gold(silver_dir, gold_dir)"
   ],
   "id": "2ddcdddeede4e526",
   "outputs": [],
   "execution_count": null
  },
  {
   "metadata": {},
   "cell_type": "code",
   "outputs": [],
   "execution_count": null,
   "source": "",
   "id": "b3800603b5129d74"
  }
 ],
 "metadata": {
  "kernelspec": {
   "display_name": "Python 3",
   "language": "python",
   "name": "python3"
  },
  "language_info": {
   "codemirror_mode": {
    "name": "ipython",
    "version": 2
   },
   "file_extension": ".py",
   "mimetype": "text/x-python",
   "name": "python",
   "nbconvert_exporter": "python",
   "pygments_lexer": "ipython2",
   "version": "2.7.6"
  }
 },
 "nbformat": 4,
 "nbformat_minor": 5
}
