{
 "cells": [
  {
   "cell_type": "code",
   "id": "initial_id",
   "metadata": {
    "collapsed": true,
    "ExecuteTime": {
     "end_time": "2025-04-04T20:06:48.037072Z",
     "start_time": "2025-04-04T20:06:43.891145Z"
    }
   },
   "source": [
    "import pandas as pd\n",
    "\n",
    "from rich import print\n",
    "from utils import evaluate_ner, advanced_post_processing\n",
    "\n",
    "\n",
    "BASE_PATH = \"../results/prompting/\"\n",
    "FILE_PATH = \"/zero_shot/NuNER_Zero.csv\"\n",
    "\n",
    "silver_df = pd.read_csv(BASE_PATH + \"silver\" + FILE_PATH)\n",
    "print(evaluate_ner(silver_df, is_llm=False))"
   ],
   "outputs": [
    {
     "data": {
      "text/plain": [
       "\u001B[1m{\u001B[0m\n",
       "    \u001B[32m'ents_p'\u001B[0m: \u001B[1;36m0.311079114883298\u001B[0m,\n",
       "    \u001B[32m'ents_r'\u001B[0m: \u001B[1;36m0.6027015122595801\u001B[0m,\n",
       "    \u001B[32m'ents_f'\u001B[0m: \u001B[1;36m0.410356375268656\u001B[0m,\n",
       "    \u001B[32m'ents_per_type'\u001B[0m: \u001B[1m{\u001B[0m\n",
       "        \u001B[32m'LOC'\u001B[0m: \u001B[1m{\u001B[0m\u001B[32m'p'\u001B[0m: \u001B[1;36m0.23935558112773303\u001B[0m, \u001B[32m'r'\u001B[0m: \u001B[1;36m0.7628361858190709\u001B[0m, \u001B[32m'f'\u001B[0m: \u001B[1;36m0.3643795620437956\u001B[0m\u001B[1m}\u001B[0m,\n",
       "        \u001B[32m'ORG'\u001B[0m: \u001B[1m{\u001B[0m\u001B[32m'p'\u001B[0m: \u001B[1;36m0.3582139286904365\u001B[0m, \u001B[32m'r'\u001B[0m: \u001B[1;36m0.6985055230669266\u001B[0m, \u001B[32m'f'\u001B[0m: \u001B[1;36m0.473568281938326\u001B[0m\u001B[1m}\u001B[0m,\n",
       "        \u001B[32m'PCT'\u001B[0m: \u001B[1m{\u001B[0m\u001B[32m'p'\u001B[0m: \u001B[1;36m0.8415841584158416\u001B[0m, \u001B[32m'r'\u001B[0m: \u001B[1;36m0.9444444444444444\u001B[0m, \u001B[32m'f'\u001B[0m: \u001B[1;36m0.8900523560209423\u001B[0m\u001B[1m}\u001B[0m,\n",
       "        \u001B[32m'PERS'\u001B[0m: \u001B[1m{\u001B[0m\u001B[32m'p'\u001B[0m: \u001B[1;36m0.4004778972520908\u001B[0m, \u001B[32m'r'\u001B[0m: \u001B[1;36m0.7695133149678605\u001B[0m, \u001B[32m'f'\u001B[0m: \u001B[1;36m0.5267955366965268\u001B[0m\u001B[1m}\u001B[0m,\n",
       "        \u001B[32m'JOB'\u001B[0m: \u001B[1m{\u001B[0m\u001B[32m'p'\u001B[0m: \u001B[1;36m0.4892086330935252\u001B[0m, \u001B[32m'r'\u001B[0m: \u001B[1;36m0.1035007610350076\u001B[0m, \u001B[32m'f'\u001B[0m: \u001B[1;36m0.17085427135678388\u001B[0m\u001B[1m}\u001B[0m,\n",
       "        \u001B[32m'QUANT'\u001B[0m: \u001B[1m{\u001B[0m\u001B[32m'p'\u001B[0m: \u001B[1;36m0.06222222222222222\u001B[0m, \u001B[32m'r'\u001B[0m: \u001B[1;36m0.15730337078651685\u001B[0m, \u001B[32m'f'\u001B[0m: \u001B[1;36m0.08917197452229299\u001B[0m\u001B[1m}\u001B[0m,\n",
       "        \u001B[32m'ART'\u001B[0m: \u001B[1m{\u001B[0m\u001B[32m'p'\u001B[0m: \u001B[1;36m0.005474452554744526\u001B[0m, \u001B[32m'r'\u001B[0m: \u001B[1;36m0.02531645569620253\u001B[0m, \u001B[32m'f'\u001B[0m: \u001B[1;36m0.00900225056264066\u001B[0m\u001B[1m}\u001B[0m,\n",
       "        \u001B[32m'PERIOD'\u001B[0m: \u001B[1m{\u001B[0m\u001B[32m'p'\u001B[0m: \u001B[1;36m0.2490974729241877\u001B[0m, \u001B[32m'r'\u001B[0m: \u001B[1;36m0.372972972972973\u001B[0m, \u001B[32m'f'\u001B[0m: \u001B[1;36m0.2987012987012987\u001B[0m\u001B[1m}\u001B[0m,\n",
       "        \u001B[32m'MISC'\u001B[0m: \u001B[1m{\u001B[0m\u001B[32m'p'\u001B[0m: \u001B[1;36m0.004366812227074236\u001B[0m, \u001B[32m'r'\u001B[0m: \u001B[1;36m0.02112676056338028\u001B[0m, \u001B[32m'f'\u001B[0m: \u001B[1;36m0.007237635705669481\u001B[0m\u001B[1m}\u001B[0m,\n",
       "        \u001B[32m'MON'\u001B[0m: \u001B[1m{\u001B[0m\u001B[32m'p'\u001B[0m: \u001B[1;36m0.6120481927710844\u001B[0m, \u001B[32m'r'\u001B[0m: \u001B[1;36m0.7815384615384615\u001B[0m, \u001B[32m'f'\u001B[0m: \u001B[1;36m0.6864864864864865\u001B[0m\u001B[1m}\u001B[0m,\n",
       "        \u001B[32m'DATE'\u001B[0m: \u001B[1m{\u001B[0m\u001B[32m'p'\u001B[0m: \u001B[1;36m0.5922077922077922\u001B[0m, \u001B[32m'r'\u001B[0m: \u001B[1;36m0.4550898203592814\u001B[0m, \u001B[32m'f'\u001B[0m: \u001B[1;36m0.5146726862302482\u001B[0m\u001B[1m}\u001B[0m,\n",
       "        \u001B[32m'TIME'\u001B[0m: \u001B[1m{\u001B[0m\u001B[32m'p'\u001B[0m: \u001B[1;36m0.0425531914893617\u001B[0m, \u001B[32m'r'\u001B[0m: \u001B[1;36m0.2\u001B[0m, \u001B[32m'f'\u001B[0m: \u001B[1;36m0.07017543859649122\u001B[0m\u001B[1m}\u001B[0m,\n",
       "        \u001B[32m'DOC'\u001B[0m: \u001B[1m{\u001B[0m\u001B[32m'p'\u001B[0m: \u001B[1;36m0.03225806451612903\u001B[0m, \u001B[32m'r'\u001B[0m: \u001B[1;36m0.025\u001B[0m, \u001B[32m'f'\u001B[0m: \u001B[1;36m0.028169014084507043\u001B[0m\u001B[1m}\u001B[0m\n",
       "    \u001B[1m}\u001B[0m\n",
       "\u001B[1m}\u001B[0m\n"
      ],
      "text/html": [
       "<pre style=\"white-space:pre;overflow-x:auto;line-height:normal;font-family:Menlo,'DejaVu Sans Mono',consolas,'Courier New',monospace\"><span style=\"font-weight: bold\">{</span>\n",
       "    <span style=\"color: #008000; text-decoration-color: #008000\">'ents_p'</span>: <span style=\"color: #008080; text-decoration-color: #008080; font-weight: bold\">0.311079114883298</span>,\n",
       "    <span style=\"color: #008000; text-decoration-color: #008000\">'ents_r'</span>: <span style=\"color: #008080; text-decoration-color: #008080; font-weight: bold\">0.6027015122595801</span>,\n",
       "    <span style=\"color: #008000; text-decoration-color: #008000\">'ents_f'</span>: <span style=\"color: #008080; text-decoration-color: #008080; font-weight: bold\">0.410356375268656</span>,\n",
       "    <span style=\"color: #008000; text-decoration-color: #008000\">'ents_per_type'</span>: <span style=\"font-weight: bold\">{</span>\n",
       "        <span style=\"color: #008000; text-decoration-color: #008000\">'LOC'</span>: <span style=\"font-weight: bold\">{</span><span style=\"color: #008000; text-decoration-color: #008000\">'p'</span>: <span style=\"color: #008080; text-decoration-color: #008080; font-weight: bold\">0.23935558112773303</span>, <span style=\"color: #008000; text-decoration-color: #008000\">'r'</span>: <span style=\"color: #008080; text-decoration-color: #008080; font-weight: bold\">0.7628361858190709</span>, <span style=\"color: #008000; text-decoration-color: #008000\">'f'</span>: <span style=\"color: #008080; text-decoration-color: #008080; font-weight: bold\">0.3643795620437956</span><span style=\"font-weight: bold\">}</span>,\n",
       "        <span style=\"color: #008000; text-decoration-color: #008000\">'ORG'</span>: <span style=\"font-weight: bold\">{</span><span style=\"color: #008000; text-decoration-color: #008000\">'p'</span>: <span style=\"color: #008080; text-decoration-color: #008080; font-weight: bold\">0.3582139286904365</span>, <span style=\"color: #008000; text-decoration-color: #008000\">'r'</span>: <span style=\"color: #008080; text-decoration-color: #008080; font-weight: bold\">0.6985055230669266</span>, <span style=\"color: #008000; text-decoration-color: #008000\">'f'</span>: <span style=\"color: #008080; text-decoration-color: #008080; font-weight: bold\">0.473568281938326</span><span style=\"font-weight: bold\">}</span>,\n",
       "        <span style=\"color: #008000; text-decoration-color: #008000\">'PCT'</span>: <span style=\"font-weight: bold\">{</span><span style=\"color: #008000; text-decoration-color: #008000\">'p'</span>: <span style=\"color: #008080; text-decoration-color: #008080; font-weight: bold\">0.8415841584158416</span>, <span style=\"color: #008000; text-decoration-color: #008000\">'r'</span>: <span style=\"color: #008080; text-decoration-color: #008080; font-weight: bold\">0.9444444444444444</span>, <span style=\"color: #008000; text-decoration-color: #008000\">'f'</span>: <span style=\"color: #008080; text-decoration-color: #008080; font-weight: bold\">0.8900523560209423</span><span style=\"font-weight: bold\">}</span>,\n",
       "        <span style=\"color: #008000; text-decoration-color: #008000\">'PERS'</span>: <span style=\"font-weight: bold\">{</span><span style=\"color: #008000; text-decoration-color: #008000\">'p'</span>: <span style=\"color: #008080; text-decoration-color: #008080; font-weight: bold\">0.4004778972520908</span>, <span style=\"color: #008000; text-decoration-color: #008000\">'r'</span>: <span style=\"color: #008080; text-decoration-color: #008080; font-weight: bold\">0.7695133149678605</span>, <span style=\"color: #008000; text-decoration-color: #008000\">'f'</span>: <span style=\"color: #008080; text-decoration-color: #008080; font-weight: bold\">0.5267955366965268</span><span style=\"font-weight: bold\">}</span>,\n",
       "        <span style=\"color: #008000; text-decoration-color: #008000\">'JOB'</span>: <span style=\"font-weight: bold\">{</span><span style=\"color: #008000; text-decoration-color: #008000\">'p'</span>: <span style=\"color: #008080; text-decoration-color: #008080; font-weight: bold\">0.4892086330935252</span>, <span style=\"color: #008000; text-decoration-color: #008000\">'r'</span>: <span style=\"color: #008080; text-decoration-color: #008080; font-weight: bold\">0.1035007610350076</span>, <span style=\"color: #008000; text-decoration-color: #008000\">'f'</span>: <span style=\"color: #008080; text-decoration-color: #008080; font-weight: bold\">0.17085427135678388</span><span style=\"font-weight: bold\">}</span>,\n",
       "        <span style=\"color: #008000; text-decoration-color: #008000\">'QUANT'</span>: <span style=\"font-weight: bold\">{</span><span style=\"color: #008000; text-decoration-color: #008000\">'p'</span>: <span style=\"color: #008080; text-decoration-color: #008080; font-weight: bold\">0.06222222222222222</span>, <span style=\"color: #008000; text-decoration-color: #008000\">'r'</span>: <span style=\"color: #008080; text-decoration-color: #008080; font-weight: bold\">0.15730337078651685</span>, <span style=\"color: #008000; text-decoration-color: #008000\">'f'</span>: <span style=\"color: #008080; text-decoration-color: #008080; font-weight: bold\">0.08917197452229299</span><span style=\"font-weight: bold\">}</span>,\n",
       "        <span style=\"color: #008000; text-decoration-color: #008000\">'ART'</span>: <span style=\"font-weight: bold\">{</span><span style=\"color: #008000; text-decoration-color: #008000\">'p'</span>: <span style=\"color: #008080; text-decoration-color: #008080; font-weight: bold\">0.005474452554744526</span>, <span style=\"color: #008000; text-decoration-color: #008000\">'r'</span>: <span style=\"color: #008080; text-decoration-color: #008080; font-weight: bold\">0.02531645569620253</span>, <span style=\"color: #008000; text-decoration-color: #008000\">'f'</span>: <span style=\"color: #008080; text-decoration-color: #008080; font-weight: bold\">0.00900225056264066</span><span style=\"font-weight: bold\">}</span>,\n",
       "        <span style=\"color: #008000; text-decoration-color: #008000\">'PERIOD'</span>: <span style=\"font-weight: bold\">{</span><span style=\"color: #008000; text-decoration-color: #008000\">'p'</span>: <span style=\"color: #008080; text-decoration-color: #008080; font-weight: bold\">0.2490974729241877</span>, <span style=\"color: #008000; text-decoration-color: #008000\">'r'</span>: <span style=\"color: #008080; text-decoration-color: #008080; font-weight: bold\">0.372972972972973</span>, <span style=\"color: #008000; text-decoration-color: #008000\">'f'</span>: <span style=\"color: #008080; text-decoration-color: #008080; font-weight: bold\">0.2987012987012987</span><span style=\"font-weight: bold\">}</span>,\n",
       "        <span style=\"color: #008000; text-decoration-color: #008000\">'MISC'</span>: <span style=\"font-weight: bold\">{</span><span style=\"color: #008000; text-decoration-color: #008000\">'p'</span>: <span style=\"color: #008080; text-decoration-color: #008080; font-weight: bold\">0.004366812227074236</span>, <span style=\"color: #008000; text-decoration-color: #008000\">'r'</span>: <span style=\"color: #008080; text-decoration-color: #008080; font-weight: bold\">0.02112676056338028</span>, <span style=\"color: #008000; text-decoration-color: #008000\">'f'</span>: <span style=\"color: #008080; text-decoration-color: #008080; font-weight: bold\">0.007237635705669481</span><span style=\"font-weight: bold\">}</span>,\n",
       "        <span style=\"color: #008000; text-decoration-color: #008000\">'MON'</span>: <span style=\"font-weight: bold\">{</span><span style=\"color: #008000; text-decoration-color: #008000\">'p'</span>: <span style=\"color: #008080; text-decoration-color: #008080; font-weight: bold\">0.6120481927710844</span>, <span style=\"color: #008000; text-decoration-color: #008000\">'r'</span>: <span style=\"color: #008080; text-decoration-color: #008080; font-weight: bold\">0.7815384615384615</span>, <span style=\"color: #008000; text-decoration-color: #008000\">'f'</span>: <span style=\"color: #008080; text-decoration-color: #008080; font-weight: bold\">0.6864864864864865</span><span style=\"font-weight: bold\">}</span>,\n",
       "        <span style=\"color: #008000; text-decoration-color: #008000\">'DATE'</span>: <span style=\"font-weight: bold\">{</span><span style=\"color: #008000; text-decoration-color: #008000\">'p'</span>: <span style=\"color: #008080; text-decoration-color: #008080; font-weight: bold\">0.5922077922077922</span>, <span style=\"color: #008000; text-decoration-color: #008000\">'r'</span>: <span style=\"color: #008080; text-decoration-color: #008080; font-weight: bold\">0.4550898203592814</span>, <span style=\"color: #008000; text-decoration-color: #008000\">'f'</span>: <span style=\"color: #008080; text-decoration-color: #008080; font-weight: bold\">0.5146726862302482</span><span style=\"font-weight: bold\">}</span>,\n",
       "        <span style=\"color: #008000; text-decoration-color: #008000\">'TIME'</span>: <span style=\"font-weight: bold\">{</span><span style=\"color: #008000; text-decoration-color: #008000\">'p'</span>: <span style=\"color: #008080; text-decoration-color: #008080; font-weight: bold\">0.0425531914893617</span>, <span style=\"color: #008000; text-decoration-color: #008000\">'r'</span>: <span style=\"color: #008080; text-decoration-color: #008080; font-weight: bold\">0.2</span>, <span style=\"color: #008000; text-decoration-color: #008000\">'f'</span>: <span style=\"color: #008080; text-decoration-color: #008080; font-weight: bold\">0.07017543859649122</span><span style=\"font-weight: bold\">}</span>,\n",
       "        <span style=\"color: #008000; text-decoration-color: #008000\">'DOC'</span>: <span style=\"font-weight: bold\">{</span><span style=\"color: #008000; text-decoration-color: #008000\">'p'</span>: <span style=\"color: #008080; text-decoration-color: #008080; font-weight: bold\">0.03225806451612903</span>, <span style=\"color: #008000; text-decoration-color: #008000\">'r'</span>: <span style=\"color: #008080; text-decoration-color: #008080; font-weight: bold\">0.025</span>, <span style=\"color: #008000; text-decoration-color: #008000\">'f'</span>: <span style=\"color: #008080; text-decoration-color: #008080; font-weight: bold\">0.028169014084507043</span><span style=\"font-weight: bold\">}</span>\n",
       "    <span style=\"font-weight: bold\">}</span>\n",
       "<span style=\"font-weight: bold\">}</span>\n",
       "</pre>\n"
      ]
     },
     "metadata": {},
     "output_type": "display_data"
    }
   ],
   "execution_count": 7
  },
  {
   "metadata": {
    "ExecuteTime": {
     "end_time": "2025-04-04T20:09:26.193884Z",
     "start_time": "2025-04-04T20:06:48.038358Z"
    }
   },
   "cell_type": "code",
   "source": [
    "gold_df = silver_df.copy()\n",
    "gold_df[\"pred\"] = gold_df[\"pred\"].apply(lambda x: advanced_post_processing(x))\n",
    "print(evaluate_ner(gold_df))"
   ],
   "id": "f5b5c8f867839356",
   "outputs": [
    {
     "data": {
      "text/plain": [
       "\u001B[1m{\u001B[0m\n",
       "    \u001B[32m'ents_p'\u001B[0m: \u001B[1;36m0.5755561976307425\u001B[0m,\n",
       "    \u001B[32m'ents_r'\u001B[0m: \u001B[1;36m0.5849361327264719\u001B[0m,\n",
       "    \u001B[32m'ents_f'\u001B[0m: \u001B[1;36m0.5802082574819776\u001B[0m,\n",
       "    \u001B[32m'ents_per_type'\u001B[0m: \u001B[1m{\u001B[0m\n",
       "        \u001B[32m'LOC'\u001B[0m: \u001B[1m{\u001B[0m\u001B[32m'p'\u001B[0m: \u001B[1;36m0.5333333333333333\u001B[0m, \u001B[32m'r'\u001B[0m: \u001B[1;36m0.7432762836185819\u001B[0m, \u001B[32m'f'\u001B[0m: \u001B[1;36m0.6210418794688457\u001B[0m\u001B[1m}\u001B[0m,\n",
       "        \u001B[32m'PCT'\u001B[0m: \u001B[1m{\u001B[0m\u001B[32m'p'\u001B[0m: \u001B[1;36m0.9764705882352941\u001B[0m, \u001B[32m'r'\u001B[0m: \u001B[1;36m0.9222222222222223\u001B[0m, \u001B[32m'f'\u001B[0m: \u001B[1;36m0.9485714285714287\u001B[0m\u001B[1m}\u001B[0m,\n",
       "        \u001B[32m'JOB'\u001B[0m: \u001B[1m{\u001B[0m\u001B[32m'p'\u001B[0m: \u001B[1;36m0.4927536231884058\u001B[0m, \u001B[32m'r'\u001B[0m: \u001B[1;36m0.1035007610350076\u001B[0m, \u001B[32m'f'\u001B[0m: \u001B[1;36m0.17106918238993712\u001B[0m\u001B[1m}\u001B[0m,\n",
       "        \u001B[32m'PERS'\u001B[0m: \u001B[1m{\u001B[0m\u001B[32m'p'\u001B[0m: \u001B[1;36m0.8003894839337877\u001B[0m, \u001B[32m'r'\u001B[0m: \u001B[1;36m0.7548209366391184\u001B[0m, \u001B[32m'f'\u001B[0m: \u001B[1;36m0.776937618147448\u001B[0m\u001B[1m}\u001B[0m,\n",
       "        \u001B[32m'QUANT'\u001B[0m: \u001B[1m{\u001B[0m\u001B[32m'p'\u001B[0m: \u001B[1;36m0.0625\u001B[0m, \u001B[32m'r'\u001B[0m: \u001B[1;36m0.15730337078651685\u001B[0m, \u001B[32m'f'\u001B[0m: \u001B[1;36m0.08945686900958466\u001B[0m\u001B[1m}\u001B[0m,\n",
       "        \u001B[32m'ART'\u001B[0m: \u001B[1m{\u001B[0m\u001B[32m'p'\u001B[0m: \u001B[1;36m0.125\u001B[0m, \u001B[32m'r'\u001B[0m: \u001B[1;36m0.02531645569620253\u001B[0m, \u001B[32m'f'\u001B[0m: \u001B[1;36m0.042105263157894736\u001B[0m\u001B[1m}\u001B[0m,\n",
       "        \u001B[32m'ORG'\u001B[0m: \u001B[1m{\u001B[0m\u001B[32m'p'\u001B[0m: \u001B[1;36m0.5038424591738713\u001B[0m, \u001B[32m'r'\u001B[0m: \u001B[1;36m0.6816114359974009\u001B[0m, \u001B[32m'f'\u001B[0m: \u001B[1;36m0.579397956365645\u001B[0m\u001B[1m}\u001B[0m,\n",
       "        \u001B[32m'PERIOD'\u001B[0m: \u001B[1m{\u001B[0m\u001B[32m'p'\u001B[0m: \u001B[1;36m0.21487603305785125\u001B[0m, \u001B[32m'r'\u001B[0m: \u001B[1;36m0.14054054054054055\u001B[0m, \u001B[32m'f'\u001B[0m: \u001B[1;36m0.16993464052287582\u001B[0m\u001B[1m}\u001B[0m,\n",
       "        \u001B[32m'MISC'\u001B[0m: \u001B[1m{\u001B[0m\u001B[32m'p'\u001B[0m: \u001B[1;36m0.012295081967213115\u001B[0m, \u001B[32m'r'\u001B[0m: \u001B[1;36m0.02112676056338028\u001B[0m, \u001B[32m'f'\u001B[0m: \u001B[1;36m0.015544041450777202\u001B[0m\u001B[1m}\u001B[0m,\n",
       "        \u001B[32m'MON'\u001B[0m: \u001B[1m{\u001B[0m\u001B[32m'p'\u001B[0m: \u001B[1;36m0.7312138728323699\u001B[0m, \u001B[32m'r'\u001B[0m: \u001B[1;36m0.7784615384615384\u001B[0m, \u001B[32m'f'\u001B[0m: \u001B[1;36m0.7540983606557377\u001B[0m\u001B[1m}\u001B[0m,\n",
       "        \u001B[32m'DATE'\u001B[0m: \u001B[1m{\u001B[0m\u001B[32m'p'\u001B[0m: \u001B[1;36m0.5922077922077922\u001B[0m, \u001B[32m'r'\u001B[0m: \u001B[1;36m0.4550898203592814\u001B[0m, \u001B[32m'f'\u001B[0m: \u001B[1;36m0.5146726862302482\u001B[0m\u001B[1m}\u001B[0m,\n",
       "        \u001B[32m'TIME'\u001B[0m: \u001B[1m{\u001B[0m\u001B[32m'p'\u001B[0m: \u001B[1;36m0.04\u001B[0m, \u001B[32m'r'\u001B[0m: \u001B[1;36m0.1\u001B[0m, \u001B[32m'f'\u001B[0m: \u001B[1;36m0.05714285714285714\u001B[0m\u001B[1m}\u001B[0m,\n",
       "        \u001B[32m'DOC'\u001B[0m: \u001B[1m{\u001B[0m\u001B[32m'p'\u001B[0m: \u001B[1;36m0.03333333333333333\u001B[0m, \u001B[32m'r'\u001B[0m: \u001B[1;36m0.025\u001B[0m, \u001B[32m'f'\u001B[0m: \u001B[1;36m0.028571428571428574\u001B[0m\u001B[1m}\u001B[0m\n",
       "    \u001B[1m}\u001B[0m\n",
       "\u001B[1m}\u001B[0m\n"
      ],
      "text/html": [
       "<pre style=\"white-space:pre;overflow-x:auto;line-height:normal;font-family:Menlo,'DejaVu Sans Mono',consolas,'Courier New',monospace\"><span style=\"font-weight: bold\">{</span>\n",
       "    <span style=\"color: #008000; text-decoration-color: #008000\">'ents_p'</span>: <span style=\"color: #008080; text-decoration-color: #008080; font-weight: bold\">0.5755561976307425</span>,\n",
       "    <span style=\"color: #008000; text-decoration-color: #008000\">'ents_r'</span>: <span style=\"color: #008080; text-decoration-color: #008080; font-weight: bold\">0.5849361327264719</span>,\n",
       "    <span style=\"color: #008000; text-decoration-color: #008000\">'ents_f'</span>: <span style=\"color: #008080; text-decoration-color: #008080; font-weight: bold\">0.5802082574819776</span>,\n",
       "    <span style=\"color: #008000; text-decoration-color: #008000\">'ents_per_type'</span>: <span style=\"font-weight: bold\">{</span>\n",
       "        <span style=\"color: #008000; text-decoration-color: #008000\">'LOC'</span>: <span style=\"font-weight: bold\">{</span><span style=\"color: #008000; text-decoration-color: #008000\">'p'</span>: <span style=\"color: #008080; text-decoration-color: #008080; font-weight: bold\">0.5333333333333333</span>, <span style=\"color: #008000; text-decoration-color: #008000\">'r'</span>: <span style=\"color: #008080; text-decoration-color: #008080; font-weight: bold\">0.7432762836185819</span>, <span style=\"color: #008000; text-decoration-color: #008000\">'f'</span>: <span style=\"color: #008080; text-decoration-color: #008080; font-weight: bold\">0.6210418794688457</span><span style=\"font-weight: bold\">}</span>,\n",
       "        <span style=\"color: #008000; text-decoration-color: #008000\">'PCT'</span>: <span style=\"font-weight: bold\">{</span><span style=\"color: #008000; text-decoration-color: #008000\">'p'</span>: <span style=\"color: #008080; text-decoration-color: #008080; font-weight: bold\">0.9764705882352941</span>, <span style=\"color: #008000; text-decoration-color: #008000\">'r'</span>: <span style=\"color: #008080; text-decoration-color: #008080; font-weight: bold\">0.9222222222222223</span>, <span style=\"color: #008000; text-decoration-color: #008000\">'f'</span>: <span style=\"color: #008080; text-decoration-color: #008080; font-weight: bold\">0.9485714285714287</span><span style=\"font-weight: bold\">}</span>,\n",
       "        <span style=\"color: #008000; text-decoration-color: #008000\">'JOB'</span>: <span style=\"font-weight: bold\">{</span><span style=\"color: #008000; text-decoration-color: #008000\">'p'</span>: <span style=\"color: #008080; text-decoration-color: #008080; font-weight: bold\">0.4927536231884058</span>, <span style=\"color: #008000; text-decoration-color: #008000\">'r'</span>: <span style=\"color: #008080; text-decoration-color: #008080; font-weight: bold\">0.1035007610350076</span>, <span style=\"color: #008000; text-decoration-color: #008000\">'f'</span>: <span style=\"color: #008080; text-decoration-color: #008080; font-weight: bold\">0.17106918238993712</span><span style=\"font-weight: bold\">}</span>,\n",
       "        <span style=\"color: #008000; text-decoration-color: #008000\">'PERS'</span>: <span style=\"font-weight: bold\">{</span><span style=\"color: #008000; text-decoration-color: #008000\">'p'</span>: <span style=\"color: #008080; text-decoration-color: #008080; font-weight: bold\">0.8003894839337877</span>, <span style=\"color: #008000; text-decoration-color: #008000\">'r'</span>: <span style=\"color: #008080; text-decoration-color: #008080; font-weight: bold\">0.7548209366391184</span>, <span style=\"color: #008000; text-decoration-color: #008000\">'f'</span>: <span style=\"color: #008080; text-decoration-color: #008080; font-weight: bold\">0.776937618147448</span><span style=\"font-weight: bold\">}</span>,\n",
       "        <span style=\"color: #008000; text-decoration-color: #008000\">'QUANT'</span>: <span style=\"font-weight: bold\">{</span><span style=\"color: #008000; text-decoration-color: #008000\">'p'</span>: <span style=\"color: #008080; text-decoration-color: #008080; font-weight: bold\">0.0625</span>, <span style=\"color: #008000; text-decoration-color: #008000\">'r'</span>: <span style=\"color: #008080; text-decoration-color: #008080; font-weight: bold\">0.15730337078651685</span>, <span style=\"color: #008000; text-decoration-color: #008000\">'f'</span>: <span style=\"color: #008080; text-decoration-color: #008080; font-weight: bold\">0.08945686900958466</span><span style=\"font-weight: bold\">}</span>,\n",
       "        <span style=\"color: #008000; text-decoration-color: #008000\">'ART'</span>: <span style=\"font-weight: bold\">{</span><span style=\"color: #008000; text-decoration-color: #008000\">'p'</span>: <span style=\"color: #008080; text-decoration-color: #008080; font-weight: bold\">0.125</span>, <span style=\"color: #008000; text-decoration-color: #008000\">'r'</span>: <span style=\"color: #008080; text-decoration-color: #008080; font-weight: bold\">0.02531645569620253</span>, <span style=\"color: #008000; text-decoration-color: #008000\">'f'</span>: <span style=\"color: #008080; text-decoration-color: #008080; font-weight: bold\">0.042105263157894736</span><span style=\"font-weight: bold\">}</span>,\n",
       "        <span style=\"color: #008000; text-decoration-color: #008000\">'ORG'</span>: <span style=\"font-weight: bold\">{</span><span style=\"color: #008000; text-decoration-color: #008000\">'p'</span>: <span style=\"color: #008080; text-decoration-color: #008080; font-weight: bold\">0.5038424591738713</span>, <span style=\"color: #008000; text-decoration-color: #008000\">'r'</span>: <span style=\"color: #008080; text-decoration-color: #008080; font-weight: bold\">0.6816114359974009</span>, <span style=\"color: #008000; text-decoration-color: #008000\">'f'</span>: <span style=\"color: #008080; text-decoration-color: #008080; font-weight: bold\">0.579397956365645</span><span style=\"font-weight: bold\">}</span>,\n",
       "        <span style=\"color: #008000; text-decoration-color: #008000\">'PERIOD'</span>: <span style=\"font-weight: bold\">{</span><span style=\"color: #008000; text-decoration-color: #008000\">'p'</span>: <span style=\"color: #008080; text-decoration-color: #008080; font-weight: bold\">0.21487603305785125</span>, <span style=\"color: #008000; text-decoration-color: #008000\">'r'</span>: <span style=\"color: #008080; text-decoration-color: #008080; font-weight: bold\">0.14054054054054055</span>, <span style=\"color: #008000; text-decoration-color: #008000\">'f'</span>: <span style=\"color: #008080; text-decoration-color: #008080; font-weight: bold\">0.16993464052287582</span><span style=\"font-weight: bold\">}</span>,\n",
       "        <span style=\"color: #008000; text-decoration-color: #008000\">'MISC'</span>: <span style=\"font-weight: bold\">{</span><span style=\"color: #008000; text-decoration-color: #008000\">'p'</span>: <span style=\"color: #008080; text-decoration-color: #008080; font-weight: bold\">0.012295081967213115</span>, <span style=\"color: #008000; text-decoration-color: #008000\">'r'</span>: <span style=\"color: #008080; text-decoration-color: #008080; font-weight: bold\">0.02112676056338028</span>, <span style=\"color: #008000; text-decoration-color: #008000\">'f'</span>: <span style=\"color: #008080; text-decoration-color: #008080; font-weight: bold\">0.015544041450777202</span><span style=\"font-weight: bold\">}</span>,\n",
       "        <span style=\"color: #008000; text-decoration-color: #008000\">'MON'</span>: <span style=\"font-weight: bold\">{</span><span style=\"color: #008000; text-decoration-color: #008000\">'p'</span>: <span style=\"color: #008080; text-decoration-color: #008080; font-weight: bold\">0.7312138728323699</span>, <span style=\"color: #008000; text-decoration-color: #008000\">'r'</span>: <span style=\"color: #008080; text-decoration-color: #008080; font-weight: bold\">0.7784615384615384</span>, <span style=\"color: #008000; text-decoration-color: #008000\">'f'</span>: <span style=\"color: #008080; text-decoration-color: #008080; font-weight: bold\">0.7540983606557377</span><span style=\"font-weight: bold\">}</span>,\n",
       "        <span style=\"color: #008000; text-decoration-color: #008000\">'DATE'</span>: <span style=\"font-weight: bold\">{</span><span style=\"color: #008000; text-decoration-color: #008000\">'p'</span>: <span style=\"color: #008080; text-decoration-color: #008080; font-weight: bold\">0.5922077922077922</span>, <span style=\"color: #008000; text-decoration-color: #008000\">'r'</span>: <span style=\"color: #008080; text-decoration-color: #008080; font-weight: bold\">0.4550898203592814</span>, <span style=\"color: #008000; text-decoration-color: #008000\">'f'</span>: <span style=\"color: #008080; text-decoration-color: #008080; font-weight: bold\">0.5146726862302482</span><span style=\"font-weight: bold\">}</span>,\n",
       "        <span style=\"color: #008000; text-decoration-color: #008000\">'TIME'</span>: <span style=\"font-weight: bold\">{</span><span style=\"color: #008000; text-decoration-color: #008000\">'p'</span>: <span style=\"color: #008080; text-decoration-color: #008080; font-weight: bold\">0.04</span>, <span style=\"color: #008000; text-decoration-color: #008000\">'r'</span>: <span style=\"color: #008080; text-decoration-color: #008080; font-weight: bold\">0.1</span>, <span style=\"color: #008000; text-decoration-color: #008000\">'f'</span>: <span style=\"color: #008080; text-decoration-color: #008080; font-weight: bold\">0.05714285714285714</span><span style=\"font-weight: bold\">}</span>,\n",
       "        <span style=\"color: #008000; text-decoration-color: #008000\">'DOC'</span>: <span style=\"font-weight: bold\">{</span><span style=\"color: #008000; text-decoration-color: #008000\">'p'</span>: <span style=\"color: #008080; text-decoration-color: #008080; font-weight: bold\">0.03333333333333333</span>, <span style=\"color: #008000; text-decoration-color: #008000\">'r'</span>: <span style=\"color: #008080; text-decoration-color: #008080; font-weight: bold\">0.025</span>, <span style=\"color: #008000; text-decoration-color: #008000\">'f'</span>: <span style=\"color: #008080; text-decoration-color: #008080; font-weight: bold\">0.028571428571428574</span><span style=\"font-weight: bold\">}</span>\n",
       "    <span style=\"font-weight: bold\">}</span>\n",
       "<span style=\"font-weight: bold\">}</span>\n",
       "</pre>\n"
      ]
     },
     "metadata": {},
     "output_type": "display_data"
    }
   ],
   "execution_count": 8
  },
  {
   "metadata": {
    "ExecuteTime": {
     "end_time": "2025-04-04T20:09:26.224800Z",
     "start_time": "2025-04-04T20:09:26.194764Z"
    }
   },
   "cell_type": "code",
   "source": "gold_df.to_csv(BASE_PATH + \"gold\" + FILE_PATH, index=False)",
   "id": "51df3ba094037787",
   "outputs": [],
   "execution_count": 9
  },
  {
   "metadata": {},
   "cell_type": "code",
   "outputs": [],
   "execution_count": null,
   "source": "",
   "id": "33c4f68d10bb6d5e"
  }
 ],
 "metadata": {
  "kernelspec": {
   "display_name": "Python 3",
   "language": "python",
   "name": "python3"
  },
  "language_info": {
   "codemirror_mode": {
    "name": "ipython",
    "version": 2
   },
   "file_extension": ".py",
   "mimetype": "text/x-python",
   "name": "python",
   "nbconvert_exporter": "python",
   "pygments_lexer": "ipython2",
   "version": "2.7.6"
  }
 },
 "nbformat": 4,
 "nbformat_minor": 5
}
