{
 "cells": [
  {
   "cell_type": "code",
   "execution_count": 3,
   "id": "261d1c857b9286bf",
   "metadata": {},
   "outputs": [],
   "source": [
    "%%capture\n",
    "!pip install -U pip setuptools wheel\n",
    "!pip install -U 'spacy[cuda12x]'\n",
    "!pip install spacy-transformers spacy\n",
    "!pip install tokenizers==0.19.1 transformers==4.43.0"
   ]
  },
  {
   "cell_type": "code",
   "execution_count": 2,
   "id": "762c063d04c72f42",
   "metadata": {},
   "outputs": [
    {
     "name": "stdout",
     "output_type": "stream",
     "text": [
      "\u001b[38;5;2m✔ Created output directory: output\u001b[0m\n",
      "\u001b[38;5;4mℹ Saving to output directory: output\u001b[0m\n",
      "\u001b[38;5;4mℹ Using GPU: 0\u001b[0m\n",
      "\u001b[1m\n",
      "=========================== Initializing pipeline ===========================\u001b[0m\n",
      "tokenizer_config.json: 100%|███████████████████| 466/466 [00:00<00:00, 2.65MB/s]\n",
      "vocab.json: 100%|██████████████████████████| 1.72M/1.72M [00:00<00:00, 5.25MB/s]\n",
      "merges.txt: 100%|██████████████████████████| 1.38M/1.38M [00:00<00:00, 32.8MB/s]\n",
      "tokenizer.json: 100%|██████████████████████| 3.95M/3.95M [00:00<00:00, 37.4MB/s]\n",
      "special_tokens_map.json: 100%|█████████████████| 239/239 [00:00<00:00, 1.59MB/s]\n",
      "config.json: 100%|█████████████████████████████| 682/682 [00:00<00:00, 3.68MB/s]\n",
      "model.safetensors: 100%|███████████████████| 1.42G/1.42G [00:18<00:00, 76.5MB/s]\n",
      "Some weights of RobertaModel were not initialized from the model checkpoint at benjamin/roberta-large-wechsel-ukrainian and are newly initialized: ['roberta.pooler.dense.bias', 'roberta.pooler.dense.weight']\n",
      "You should probably TRAIN this model on a down-stream task to be able to use it for predictions and inference.\n",
      "\u001b[38;5;2m✔ Initialized pipeline\u001b[0m\n",
      "\u001b[1m\n",
      "============================= Training pipeline =============================\u001b[0m\n",
      "\u001b[38;5;4mℹ Pipeline: ['transformer', 'ner']\u001b[0m\n",
      "\u001b[38;5;4mℹ Initial learn rate: 1e-05\u001b[0m\n",
      "E    #       LOSS TRANS...  LOSS NER  ENTS_F  ENTS_P  ENTS_R  SCORE \n",
      "---  ------  -------------  --------  ------  ------  ------  ------\n",
      "  0       0        4797.07    534.33    0.11    0.06    0.39    0.00\n",
      "  1     139       63891.31  27783.16   60.75   63.78   58.00    0.61\n",
      "  2     278       11363.58   7412.77   82.10   81.44   82.78    0.82\n",
      "  3     417        4864.04   4129.33   84.16   82.91   85.44    0.84\n",
      "  4     556        2984.40   3150.97   86.56   85.26   87.89    0.87\n",
      "  5     695        3229.03   2564.88   87.91   88.68   87.15    0.88\n",
      "  6     834        2990.16   2083.91   88.48   88.24   88.73    0.88\n",
      "  7     973        1463.95   1726.35   89.22   88.64   89.81    0.89\n",
      "  8    1112        1084.75   1290.18   89.41   88.87   89.95    0.89\n",
      "  9    1251         851.91    991.28   88.85   89.40   88.31    0.89\n",
      " 10    1390         846.16    983.36   89.84   90.22   89.46    0.90\n",
      " 11    1529         723.16    782.12   88.84   87.98   89.71    0.89\n",
      " 12    1668         650.43    683.08   89.40   89.62   89.18    0.89\n",
      " 13    1807         604.64    568.06   89.30   89.04   89.57    0.89\n",
      " 14    1946         367.96    481.88   89.61   89.55   89.67    0.90\n",
      " 15    2085         477.92    437.19   90.18   89.74   90.62    0.90\n",
      " 16    2224         284.84    367.88   90.54   90.43   90.65    0.91\n",
      " 17    2363         568.40    411.21   90.33   90.25   90.41    0.90\n",
      " 18    2502         222.70    279.91   90.15   89.51   90.79    0.90\n",
      " 19    2641         477.45    287.72   90.75   91.02   90.48    0.91\n",
      " 20    2780         233.08    243.99   89.75   90.32   89.18    0.90\n",
      " 21    2919         164.71    185.09   90.15   90.42   89.88    0.90\n",
      " 23    3058         170.67    203.35   89.96   90.71   89.22    0.90\n",
      " 24    3197         241.67    216.68   90.22   89.89   90.55    0.90\n",
      " 25    3336         152.36    171.40   89.87   89.88   89.85    0.90\n",
      " 26    3475         147.19    183.81   90.17   89.49   90.86    0.90\n",
      " 27    3614         123.76    150.21   90.04   90.52   89.57    0.90\n",
      " 28    3753         123.15    137.08   90.34   89.83   90.86    0.90\n",
      " 29    3892         148.43    145.12   89.94   90.07   89.81    0.90\n",
      " 30    4031         206.11    121.52   89.86   89.60   90.13    0.90\n",
      " 31    4170         104.39    130.88   90.56   90.78   90.34    0.91\n",
      "\u001b[38;5;2m✔ Saved pipeline to output directory\u001b[0m\n",
      "output/model-last\n"
     ]
    }
   ],
   "source": [
    "!python -m spacy train ner_uk_tuning_config.cfg --output ./output --gpu-id 0"
   ]
  },
  {
   "cell_type": "code",
   "execution_count": 5,
   "id": "78d3e7ebfacf61d6",
   "metadata": {},
   "outputs": [
    {
     "name": "stdout",
     "output_type": "stream",
     "text": [
      "\u001b[38;5;4mℹ Using GPU: 0\u001b[0m\n",
      "\u001b[1m\n",
      "================================== Results ==================================\u001b[0m\n",
      "\n",
      "TOK     -    \n",
      "NER P   91.02\n",
      "NER R   90.48\n",
      "NER F   90.75\n",
      "SPEED   8940 \n",
      "\n",
      "\u001b[1m\n",
      "=============================== NER (per type) ===============================\u001b[0m\n",
      "\n",
      "             P        R       F\n",
      "PERS     98.32    98.45   98.38\n",
      "PERIOD   69.79    78.82   74.03\n",
      "MISC     58.33    53.85   56.00\n",
      "DATE     88.28    90.04   89.15\n",
      "LOC      94.55    93.09   93.81\n",
      "ORG      92.90    89.71   91.28\n",
      "DOC      61.90    65.00   63.41\n",
      "ART      74.49    85.88   79.78\n",
      "JOB      82.42    77.57   79.92\n",
      "PCT      94.12    94.12   94.12\n",
      "TIME     60.00    60.00   60.00\n",
      "MON      99.19   100.00   99.59\n",
      "QUANT    89.47    92.73   91.07\n",
      "\n"
     ]
    }
   ],
   "source": [
    "!python -m spacy evaluate ./output/model-best dev.spacy --gpu-id 0"
   ]
  },
  {
   "cell_type": "code",
   "execution_count": null,
   "id": "c19923cd-321f-4baf-9024-0a73cb81f007",
   "metadata": {},
   "outputs": [],
   "source": []
  }
 ],
 "metadata": {
  "kernelspec": {
   "display_name": "Python3 (ipykernel)",
   "language": "python",
   "name": "python3"
  },
  "language_info": {
   "codemirror_mode": {
    "name": "ipython",
    "version": 3
   },
   "file_extension": ".py",
   "mimetype": "text/x-python",
   "name": "python",
   "nbconvert_exporter": "python",
   "pygments_lexer": "ipython3",
   "version": "3.10.12"
  }
 },
 "nbformat": 4,
 "nbformat_minor": 5
}
