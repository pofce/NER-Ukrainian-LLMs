{
 "cells": [
  {
   "cell_type": "code",
   "execution_count": 1,
   "id": "261d1c857b9286bf",
   "metadata": {},
   "outputs": [],
   "source": [
    "%%capture\n",
    "!pip install -U pip setuptools wheel\n",
    "!pip install -U 'spacy[cuda12x]'\n",
    "!pip install spacy-transformers spacy\n",
    "!pip install tokenizers==0.19.1 transformers==4.43.0"
   ]
  },
  {
   "cell_type": "code",
   "execution_count": 3,
   "id": "762c063d04c72f42",
   "metadata": {},
   "outputs": [
    {
     "name": "stdout",
     "output_type": "stream",
     "text": [
      "\u001B[38;5;2m✔ Created output directory: output\u001B[0m\n",
      "\u001B[38;5;4mℹ Saving to output directory: output\u001B[0m\n",
      "\u001B[38;5;4mℹ Using GPU: 0\u001B[0m\n",
      "\u001B[1m\n",
      "=========================== Initializing pipeline ===========================\u001B[0m\n",
      "Some weights of RobertaModel were not initialized from the model checkpoint at benjamin/roberta-large-wechsel-ukrainian and are newly initialized: ['roberta.pooler.dense.bias', 'roberta.pooler.dense.weight']\n",
      "You should probably TRAIN this model on a down-stream task to be able to use it for predictions and inference.\n",
      "\u001B[38;5;2m✔ Initialized pipeline\u001B[0m\n",
      "\u001B[1m\n",
      "============================= Training pipeline =============================\u001B[0m\n",
      "\u001B[38;5;4mℹ Pipeline: ['transformer', 'ner']\u001B[0m\n",
      "\u001B[38;5;4mℹ Initial learn rate: 1e-05\u001B[0m\n",
      "E    #       LOSS TRANS...  LOSS NER  ENTS_F  ENTS_P  ENTS_R  SCORE \n",
      "---  ------  -------------  --------  ------  ------  ------  ------\n",
      "  0       0        4438.64    658.30    0.06    0.04    0.22    0.00\n",
      "  1     167       54775.43  30299.95   67.01   71.33   63.19    0.67\n",
      "  2     334        7255.33   7729.59   83.28   82.13   84.47    0.83\n",
      "  3     501        4933.94   4949.76   84.34   85.05   83.63    0.84\n",
      "  4     668        3418.21   3555.16   85.76   85.03   86.49    0.86\n",
      "  5     835        2178.98   2780.74   88.36   89.25   87.49    0.88\n",
      "  6    1002        2376.08   2422.64   88.22   87.79   88.67    0.88\n",
      "  7    1169        1805.71   2040.87   88.54   89.54   87.56    0.89\n",
      "  8    1336        1733.47   1801.29   88.23   86.74   89.77    0.88\n",
      " 10    1670        1160.54   1180.77   88.86   89.19   88.53    0.89\n",
      " 11    1837         982.47   1035.23   88.36   89.61   87.14    0.88\n",
      " 12    2004         821.90    915.98   88.45   88.46   88.45    0.88\n",
      " 13    2171        1109.53    867.85   88.45   89.18   87.74    0.88\n",
      " 14    2338         760.67    702.43   88.47   88.37   88.56    0.88\n",
      " 15    2505        1117.94    678.79   88.40   88.80   88.00    0.88\n",
      " 16    2672         536.95    474.82   88.52   89.11   87.93    0.89\n",
      " 17    2839         352.23    422.57   88.75   89.08   88.42    0.89\n",
      " 18    3006         316.24    357.55   89.10   90.33   87.90    0.89\n",
      "\u001B[38;5;2m✔ Saved pipeline to output directory\u001B[0m\n",
      "output/model-last\n"
     ]
    }
   ],
   "source": [
    "!python -m spacy train ner_uk_training_config.cfg --output ./output --gpu-id 0"
   ]
  },
  {
   "cell_type": "code",
   "execution_count": 4,
   "id": "4759fbab-c882-45ee-93a4-ce5ffc3e4514",
   "metadata": {},
   "outputs": [
    {
     "name": "stdout",
     "output_type": "stream",
     "text": [
      "\u001B[38;5;4mℹ Using GPU: 0\u001B[0m\n",
      "\u001B[1m\n",
      "================================== Results ==================================\u001B[0m\n",
      "\n",
      "TOK     -    \n",
      "NER P   89.40\n",
      "NER R   87.95\n",
      "NER F   88.67\n",
      "SPEED   10994\n",
      "\n",
      "\u001B[1m\n",
      "=============================== NER (per type) ===============================\u001B[0m\n",
      "\n",
      "             P       R       F\n",
      "LOC      91.84   88.02   89.89\n",
      "PCT      95.70   98.89   97.27\n",
      "JOB      72.56   66.82   69.57\n",
      "PERS     96.35   97.02   96.68\n",
      "PERIOD   78.21   75.68   76.92\n",
      "ORG      92.49   91.23   91.85\n",
      "DOC      50.00   67.50   57.45\n",
      "MISC     39.17   33.10   35.88\n",
      "QUANT    79.81   93.26   86.01\n",
      "DATE     93.83   88.02   90.83\n",
      "ART      72.14   79.75   75.75\n",
      "TIME     70.00   70.00   70.00\n",
      "MON      94.48   89.54   91.94\n",
      "\n"
     ]
    }
   ],
   "source": [
    "!python -m spacy evaluate ./output/model-last test.spacy --gpu-id 0"
   ]
  },
  {
   "cell_type": "code",
   "execution_count": null,
   "id": "574b5fc6-7d65-49e5-8760-0a439a57873e",
   "metadata": {},
   "outputs": [],
   "source": []
  }
 ],
 "metadata": {
  "kernelspec": {
   "display_name": "Python3 (ipykernel)",
   "language": "python",
   "name": "python3"
  },
  "language_info": {
   "codemirror_mode": {
    "name": "ipython",
    "version": 3
   },
   "file_extension": ".py",
   "mimetype": "text/x-python",
   "name": "python",
   "nbconvert_exporter": "python",
   "pygments_lexer": "ipython3",
   "version": "3.10.12"
  }
 },
 "nbformat": 4,
 "nbformat_minor": 5
}
