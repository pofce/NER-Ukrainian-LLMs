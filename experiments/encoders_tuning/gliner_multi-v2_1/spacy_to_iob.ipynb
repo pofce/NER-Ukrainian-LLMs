{
 "cells": [
  {
   "cell_type": "code",
   "id": "initial_id",
   "metadata": {
    "collapsed": true,
    "ExecuteTime": {
     "end_time": "2025-04-06T19:27:27.543462Z",
     "start_time": "2025-04-06T19:27:26.767997Z"
    }
   },
   "source": [
    "import spacy\n",
    "from spacy.tokens import DocBin\n",
    "\n",
    "nlp = spacy.blank(\"en\")\n",
    "\n",
    "doc_bin = DocBin().from_disk(\"train.spacy\")\n",
    "docs = list(doc_bin.get_docs(nlp.vocab))\n",
    "\n",
    "with open(\"train.iob\", \"w\", encoding=\"utf-8\") as f:\n",
    "    for doc in docs:\n",
    "        for token in doc:\n",
    "            if token.ent_type_:\n",
    "                tag = f\"{token.ent_iob_}-{token.ent_type_}\"\n",
    "            else:\n",
    "                tag = token.ent_iob_\n",
    "            f.write(f\"{token.text}\\t{tag}\\n\")\n",
    "        f.write(\"\\n\")"
   ],
   "outputs": [],
   "execution_count": 5
  },
  {
   "metadata": {},
   "cell_type": "code",
   "outputs": [],
   "execution_count": null,
   "source": "",
   "id": "2baa658c6ba7d396"
  }
 ],
 "metadata": {
  "kernelspec": {
   "display_name": "Python 3",
   "language": "python",
   "name": "python3"
  },
  "language_info": {
   "codemirror_mode": {
    "name": "ipython",
    "version": 2
   },
   "file_extension": ".py",
   "mimetype": "text/x-python",
   "name": "python",
   "nbconvert_exporter": "python",
   "pygments_lexer": "ipython2",
   "version": "2.7.6"
  }
 },
 "nbformat": 4,
 "nbformat_minor": 5
}
