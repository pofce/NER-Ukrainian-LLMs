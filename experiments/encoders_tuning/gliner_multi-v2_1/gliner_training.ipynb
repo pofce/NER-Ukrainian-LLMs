{
 "cells": [
  {
   "cell_type": "code",
   "execution_count": 1,
   "metadata": {
    "id": "KeBDnZK9KHcz"
   },
   "outputs": [],
   "source": [
    "%%capture\n",
    "!pip install accelerate -U\n",
    "!pip install transformers huggingface_hub\n",
    "!pip install gliner[gpu]\n",
    "\n",
    "\n",
    "import os\n",
    "import json\n",
    "import random\n",
    "import torch\n",
    "from gliner import GLiNER\n",
    "from gliner import GLiNERConfig, GLiNER\n",
    "from gliner.training import Trainer, TrainingArguments\n",
    "from gliner.data_processing.collator import DataCollatorWithPadding\n",
    "from gliner.utils import load_config_as_namespace\n",
    "from gliner.data_processing import WordsSplitter, GLiNERDataset\n",
    "\n",
    "if not os.path.exists(\"models\"):\n",
    "        os.makedirs(\"models\")\n",
    "if not os.path.exists(\"data\"):\n",
    "        os.makedirs(\"data\")"
   ]
  },
  {
   "cell_type": "code",
   "execution_count": 2,
   "metadata": {},
   "outputs": [],
   "source": [
    "with open('train_gliner.json', 'r') as file:\n",
    "    annotated_data = json.load(file)\n",
    "\n",
    "with open('dev_gliner.json', 'r', encoding='utf-8') as file:\n",
    "    test_data = json.load(file)\n",
    "\n",
    "all_labels = []\n",
    "for example in annotated_data:\n",
    "    ner_data = example.get(\"ner\", [])\n",
    "    for entity in ner_data:\n",
    "        label = entity[2] \n",
    "        if label not in all_labels:\n",
    "            all_labels.append(label)"
   ]
  },
  {
   "cell_type": "code",
   "execution_count": 3,
   "metadata": {},
   "outputs": [
    {
     "name": "stdout",
     "output_type": "stream",
     "text": [
      "Using device: cuda:0\n",
      "Loading model...\n"
     ]
    },
    {
     "data": {
      "application/vnd.jupyter.widget-view+json": {
       "model_id": "48427b932797417c8f0829136f4fdcd5",
       "version_major": 2,
       "version_minor": 0
      },
      "text/plain": [
       "Fetching 4 files:   0%|          | 0/4 [00:00<?, ?it/s]"
      ]
     },
     "metadata": {},
     "output_type": "display_data"
    },
    {
     "name": "stderr",
     "output_type": "stream",
     "text": [
      "/venv/main/lib/python3.10/site-packages/transformers/convert_slow_tokenizer.py:559: UserWarning: The sentencepiece tokenizer that you are converting to a fast tokenizer uses the byte fallback option which is not implemented in the fast tokenizers. In practice this means that the fast version of the tokenizer can produce unknown tokens whereas the sentencepiece version would have converted these unknown tokens into a sequence of byte tokens matching the original piece of text.\n",
      "  warnings.warn(\n"
     ]
    },
    {
     "name": "stdout",
     "output_type": "stream",
     "text": [
      "Loading and preparing data...\n",
      "Collecting all entities...\n"
     ]
    },
    {
     "name": "stderr",
     "output_type": "stream",
     "text": [
      "100%|██████████| 8928/8928 [00:00<00:00, 1816921.21it/s]\n"
     ]
    },
    {
     "name": "stdout",
     "output_type": "stream",
     "text": [
      "Total number of entity classes:  13\n",
      "Collecting all entities...\n"
     ]
    },
    {
     "name": "stderr",
     "output_type": "stream",
     "text": [
      "100%|██████████| 2233/2233 [00:00<00:00, 1874300.75it/s]"
     ]
    },
    {
     "name": "stdout",
     "output_type": "stream",
     "text": [
      "Total number of entity classes:  13\n"
     ]
    },
    {
     "name": "stderr",
     "output_type": "stream",
     "text": [
      "\n"
     ]
    },
    {
     "name": "stdout",
     "output_type": "stream",
     "text": [
      "Starting training...\n"
     ]
    },
    {
     "name": "stderr",
     "output_type": "stream",
     "text": [
      "/tmp/ipykernel_1068/3877866807.py:61: FutureWarning: `tokenizer` is deprecated and will be removed in version 5.0.0 for `Trainer.__init__`. Use `processing_class` instead.\n",
      "  trainer = Trainer(\n"
     ]
    },
    {
     "data": {
      "text/html": [
       "\n",
       "    <div>\n",
       "      \n",
       "      <progress value='6975' max='6975' style='width:300px; height:20px; vertical-align: middle;'></progress>\n",
       "      [6975/6975 34:16, Epoch 25/25]\n",
       "    </div>\n",
       "    <table border=\"1\" class=\"dataframe\">\n",
       "  <thead>\n",
       " <tr style=\"text-align: left;\">\n",
       "      <th>Epoch</th>\n",
       "      <th>Training Loss</th>\n",
       "      <th>Validation Loss</th>\n",
       "    </tr>\n",
       "  </thead>\n",
       "  <tbody>\n",
       "    <tr>\n",
       "      <td>1</td>\n",
       "      <td>No log</td>\n",
       "      <td>33.599777</td>\n",
       "    </tr>\n",
       "    <tr>\n",
       "      <td>2</td>\n",
       "      <td>50.975700</td>\n",
       "      <td>24.002638</td>\n",
       "    </tr>\n",
       "    <tr>\n",
       "      <td>3</td>\n",
       "      <td>50.975700</td>\n",
       "      <td>19.792355</td>\n",
       "    </tr>\n",
       "    <tr>\n",
       "      <td>4</td>\n",
       "      <td>20.712600</td>\n",
       "      <td>23.617664</td>\n",
       "    </tr>\n",
       "    <tr>\n",
       "      <td>5</td>\n",
       "      <td>20.712600</td>\n",
       "      <td>24.734045</td>\n",
       "    </tr>\n",
       "    <tr>\n",
       "      <td>6</td>\n",
       "      <td>12.717300</td>\n",
       "      <td>23.250170</td>\n",
       "    </tr>\n",
       "    <tr>\n",
       "      <td>7</td>\n",
       "      <td>12.717300</td>\n",
       "      <td>29.923637</td>\n",
       "    </tr>\n",
       "    <tr>\n",
       "      <td>8</td>\n",
       "      <td>9.460300</td>\n",
       "      <td>28.631353</td>\n",
       "    </tr>\n",
       "    <tr>\n",
       "      <td>9</td>\n",
       "      <td>7.477300</td>\n",
       "      <td>31.627865</td>\n",
       "    </tr>\n",
       "    <tr>\n",
       "      <td>10</td>\n",
       "      <td>7.477300</td>\n",
       "      <td>33.498848</td>\n",
       "    </tr>\n",
       "    <tr>\n",
       "      <td>11</td>\n",
       "      <td>6.047400</td>\n",
       "      <td>41.188511</td>\n",
       "    </tr>\n",
       "    <tr>\n",
       "      <td>12</td>\n",
       "      <td>6.047400</td>\n",
       "      <td>40.933254</td>\n",
       "    </tr>\n",
       "    <tr>\n",
       "      <td>13</td>\n",
       "      <td>5.631300</td>\n",
       "      <td>41.612091</td>\n",
       "    </tr>\n",
       "    <tr>\n",
       "      <td>14</td>\n",
       "      <td>5.631300</td>\n",
       "      <td>47.507198</td>\n",
       "    </tr>\n",
       "    <tr>\n",
       "      <td>15</td>\n",
       "      <td>5.081300</td>\n",
       "      <td>54.235069</td>\n",
       "    </tr>\n",
       "    <tr>\n",
       "      <td>16</td>\n",
       "      <td>5.081300</td>\n",
       "      <td>60.241520</td>\n",
       "    </tr>\n",
       "    <tr>\n",
       "      <td>17</td>\n",
       "      <td>4.362400</td>\n",
       "      <td>62.390339</td>\n",
       "    </tr>\n",
       "    <tr>\n",
       "      <td>18</td>\n",
       "      <td>4.206700</td>\n",
       "      <td>61.845745</td>\n",
       "    </tr>\n",
       "    <tr>\n",
       "      <td>19</td>\n",
       "      <td>4.206700</td>\n",
       "      <td>69.793861</td>\n",
       "    </tr>\n",
       "    <tr>\n",
       "      <td>20</td>\n",
       "      <td>3.678900</td>\n",
       "      <td>71.606964</td>\n",
       "    </tr>\n",
       "    <tr>\n",
       "      <td>21</td>\n",
       "      <td>3.678900</td>\n",
       "      <td>78.183456</td>\n",
       "    </tr>\n",
       "    <tr>\n",
       "      <td>22</td>\n",
       "      <td>3.322100</td>\n",
       "      <td>75.921494</td>\n",
       "    </tr>\n",
       "    <tr>\n",
       "      <td>23</td>\n",
       "      <td>3.322100</td>\n",
       "      <td>75.618706</td>\n",
       "    </tr>\n",
       "    <tr>\n",
       "      <td>24</td>\n",
       "      <td>3.269400</td>\n",
       "      <td>74.668182</td>\n",
       "    </tr>\n",
       "    <tr>\n",
       "      <td>25</td>\n",
       "      <td>3.269400</td>\n",
       "      <td>76.342613</td>\n",
       "    </tr>\n",
       "  </tbody>\n",
       "</table><p>"
      ],
      "text/plain": [
       "<IPython.core.display.HTML object>"
      ]
     },
     "metadata": {},
     "output_type": "display_data"
    },
    {
     "name": "stdout",
     "output_type": "stream",
     "text": [
      "Epoch 1.0 ended.\n",
      "0.7037842540234885\n",
      "Epoch 2.0 ended.\n",
      "0.7948822095857027\n",
      "Epoch 3.0 ended.\n",
      "0.8270676691729324\n",
      "Epoch 4.0 ended.\n",
      "0.8530643319375713\n",
      "Epoch 5.0 ended.\n",
      "0.8666423090975521\n",
      "Epoch 6.0 ended.\n",
      "0.8702428416092788\n",
      "Epoch 7.0 ended.\n",
      "0.874061135371179\n",
      "Epoch 8.0 ended.\n",
      "0.8816412414518675\n",
      "Epoch 9.0 ended.\n",
      "0.8809688581314878\n",
      "Epoch 10.0 ended.\n",
      "0.8846834099752388\n",
      "Epoch 11.0 ended.\n",
      "0.876318975955717\n",
      "Epoch 12.0 ended.\n",
      "0.8789610389610389\n",
      "Epoch 13.0 ended.\n",
      "0.8853314772925004\n",
      "Epoch 14.0 ended.\n",
      "0.8812619171433524\n",
      "Epoch 15.0 ended.\n",
      "0.8757679180887371\n",
      "Epoch 16.0 ended.\n",
      "0.8799171842650104\n",
      "Epoch 17.0 ended.\n",
      "0.8794253463314521\n",
      "Epoch 18.0 ended.\n",
      "0.8774676650782846\n",
      "Epoch 19.0 ended.\n",
      "0.8809564474807857\n",
      "Epoch 20.0 ended.\n",
      "0.8836814399728306\n",
      "Epoch 21.0 ended.\n",
      "0.8798224650051211\n",
      "Epoch 22.0 ended.\n",
      "0.8840629274965801\n",
      "Epoch 23.0 ended.\n",
      "0.8808873720136519\n",
      "Epoch 24.0 ended.\n",
      "0.8788703640694112\n",
      "Epoch 25.0 ended.\n",
      "0.8800681431005111\n",
      "Training completed successfully.\n",
      "Model is trained and returned.\n"
     ]
    }
   ],
   "source": [
    "from gliner.data_processing.collator import DataCollatorWithPadding, DataCollator\n",
    "from transformers import TrainerCallback\n",
    "\n",
    "class MyCallback(TrainerCallback):\n",
    "    def on_epoch_end(self, args, state, control, **kwargs):\n",
    "        print(f\"Epoch {state.epoch} ended.\")\n",
    "        my_custom_function()  # Call your function here.\n",
    "        return control\n",
    "\n",
    "def my_custom_function():\n",
    "    # Your custom logic here\n",
    "    results, f1 = model.evaluate(test_data, flat_ner=True, threshold=0.95, batch_size=12, entity_types=all_labels)\n",
    "    print(f1)\n",
    "\n",
    "\n",
    "# Assuming GLiNER and GLiNERDataset are already defined/imported\n",
    "os.environ[\"TOKENIZERS_PARALLELISM\"] = \"true\"\n",
    "\n",
    "def create_models_directory():\n",
    "    if not os.path.exists(\"models\"):\n",
    "        os.makedirs(\"models\")\n",
    "\n",
    "def train_model(model_name, custom_model_name, learning_rate, weight_decay, batch_size, epochs, compile_model):\n",
    "    \n",
    "\n",
    "    train_dataset = GLiNERDataset(train_data, model.config, data_processor=model.data_processor)\n",
    "    test_dataset = GLiNERDataset(test_data, model.config, data_processor=model.data_processor)\n",
    "\n",
    "    # use it for better performance, it mimics original implementation but it's less memory efficient\n",
    "    data_collator = DataCollatorWithPadding(model.config)\n",
    "\n",
    "    if compile_model:\n",
    "        print(\"Compiling model for faster training...\")\n",
    "        torch.set_float32_matmul_precision('high')\n",
    "        model.to(device)\n",
    "        model.compile_for_training()\n",
    "    else:\n",
    "        model.to(device)\n",
    "\n",
    "    training_args = TrainingArguments(\n",
    "        output_dir=\"models\",\n",
    "        learning_rate=learning_rate,\n",
    "        weight_decay=weight_decay,\n",
    "        others_lr=learning_rate,\n",
    "        others_weight_decay=weight_decay,\n",
    "        lr_scheduler_type=\"linear\",\n",
    "        warmup_ratio=0.1,\n",
    "        per_device_train_batch_size=batch_size,\n",
    "        per_device_eval_batch_size=batch_size,\n",
    "        num_train_epochs=epochs,\n",
    "        eval_strategy=\"epoch\",\n",
    "        save_total_limit=3,\n",
    "        dataloader_num_workers=1,\n",
    "        use_cpu=(device == torch.device('cpu')),\n",
    "        report_to=\"none\",\n",
    "        save_strategy=\"epoch\",\n",
    "        metric_for_best_model=\"eval_loss\",      # Specify the metric to monitor\n",
    "        greater_is_better=False,                # Set based on the metric (False for loss)\n",
    "    )\n",
    "\n",
    "    trainer = Trainer(\n",
    "        model=model,\n",
    "        args=training_args,\n",
    "        train_dataset=train_dataset,\n",
    "        eval_dataset=test_dataset,\n",
    "        tokenizer=model.data_processor.transformer_tokenizer,\n",
    "        data_collator=data_collator,\n",
    "        callbacks=[MyCallback]\n",
    "    )\n",
    "\n",
    "    print(\"Starting training...\")\n",
    "    trainer.train()\n",
    "    model.save_pretrained(f\"models/{custom_model_name}\")\n",
    "\n",
    "    print(\"Training completed successfully.\")\n",
    "    return model\n",
    "\n",
    "\n",
    "# Replace these with actual values as needed\n",
    "model_name = \"urchade/gliner_multi-v2.1\"\n",
    "custom_model_name = \"my_custom_model\"\n",
    "weight_decay = 0.05\n",
    "batch_size = 32\n",
    "learning_rate = 0.00001\n",
    "epochs = 25\n",
    "compile_model = False\n",
    "\n",
    "create_models_directory()\n",
    "device = torch.device('cuda:0') if torch.cuda.is_available() else torch.device('cpu')\n",
    "\n",
    "print(f\"Using device: {device}\")\n",
    "print(\"Loading model...\")\n",
    "\n",
    "model = GLiNER.from_pretrained(model_name)\n",
    "\n",
    "print(\"Loading and preparing data...\")\n",
    "with open(\"train_gliner.json\", \"r\", encoding='utf-8') as f:\n",
    "    train_data = json.load(f)\n",
    "with open(\"dev_gliner.json\", \"r\", encoding='utf-8') as f:\n",
    "    test_data = json.load(f)\n",
    "\n",
    "trained_model = train_model(model_name, custom_model_name,learning_rate, weight_decay, batch_size, epochs, compile_model)\n",
    "print(\"Model is trained and returned.\")"
   ]
  },
  {
   "cell_type": "markdown",
   "metadata": {
    "id": "k1WaKJOPVYDH"
   },
   "source": [
    "**Choose a model and set training parameters for your needs**"
   ]
  },
  {
   "cell_type": "code",
   "execution_count": null,
   "metadata": {},
   "outputs": [],
   "source": [
    "# Final model"
   ]
  },
  {
   "cell_type": "code",
   "execution_count": 4,
   "metadata": {},
   "outputs": [
    {
     "name": "stdout",
     "output_type": "stream",
     "text": [
      "Using device: cuda:0\n",
      "Loading model...\n"
     ]
    },
    {
     "data": {
      "application/vnd.jupyter.widget-view+json": {
       "model_id": "320a58404dda47d8a871eadb860a1767",
       "version_major": 2,
       "version_minor": 0
      },
      "text/plain": [
       "Fetching 4 files:   0%|          | 0/4 [00:00<?, ?it/s]"
      ]
     },
     "metadata": {},
     "output_type": "display_data"
    },
    {
     "name": "stderr",
     "output_type": "stream",
     "text": [
      "/venv/main/lib/python3.10/site-packages/transformers/convert_slow_tokenizer.py:559: UserWarning: The sentencepiece tokenizer that you are converting to a fast tokenizer uses the byte fallback option which is not implemented in the fast tokenizers. In practice this means that the fast version of the tokenizer can produce unknown tokens whereas the sentencepiece version would have converted these unknown tokens into a sequence of byte tokens matching the original piece of text.\n",
      "  warnings.warn(\n"
     ]
    },
    {
     "name": "stdout",
     "output_type": "stream",
     "text": [
      "Loading and preparing data...\n",
      "Collecting all entities...\n"
     ]
    },
    {
     "name": "stderr",
     "output_type": "stream",
     "text": [
      "100%|██████████| 11161/11161 [00:00<00:00, 1115648.88it/s]\n"
     ]
    },
    {
     "name": "stdout",
     "output_type": "stream",
     "text": [
      "Total number of entity classes:  13\n",
      "Collecting all entities...\n"
     ]
    },
    {
     "name": "stderr",
     "output_type": "stream",
     "text": [
      "100%|██████████| 5087/5087 [00:00<00:00, 1848910.26it/s]"
     ]
    },
    {
     "name": "stdout",
     "output_type": "stream",
     "text": [
      "Total number of entity classes:  13\n"
     ]
    },
    {
     "name": "stderr",
     "output_type": "stream",
     "text": [
      "\n",
      "/tmp/ipykernel_1068/2798357027.py:51: FutureWarning: `tokenizer` is deprecated and will be removed in version 5.0.0 for `Trainer.__init__`. Use `processing_class` instead.\n",
      "  trainer = Trainer(\n"
     ]
    },
    {
     "name": "stdout",
     "output_type": "stream",
     "text": [
      "Starting training...\n"
     ]
    },
    {
     "data": {
      "text/html": [
       "\n",
       "    <div>\n",
       "      \n",
       "      <progress value='4537' max='4537' style='width:300px; height:20px; vertical-align: middle;'></progress>\n",
       "      [4537/4537 18:52, Epoch 13/13]\n",
       "    </div>\n",
       "    <table border=\"1\" class=\"dataframe\">\n",
       "  <thead>\n",
       " <tr style=\"text-align: left;\">\n",
       "      <th>Step</th>\n",
       "      <th>Training Loss</th>\n",
       "    </tr>\n",
       "  </thead>\n",
       "  <tbody>\n",
       "    <tr>\n",
       "      <td>500</td>\n",
       "      <td>46.574900</td>\n",
       "    </tr>\n",
       "    <tr>\n",
       "      <td>1000</td>\n",
       "      <td>20.154300</td>\n",
       "    </tr>\n",
       "    <tr>\n",
       "      <td>1500</td>\n",
       "      <td>13.329800</td>\n",
       "    </tr>\n",
       "    <tr>\n",
       "      <td>2000</td>\n",
       "      <td>10.522800</td>\n",
       "    </tr>\n",
       "    <tr>\n",
       "      <td>2500</td>\n",
       "      <td>7.931600</td>\n",
       "    </tr>\n",
       "    <tr>\n",
       "      <td>3000</td>\n",
       "      <td>7.992100</td>\n",
       "    </tr>\n",
       "    <tr>\n",
       "      <td>3500</td>\n",
       "      <td>6.278300</td>\n",
       "    </tr>\n",
       "    <tr>\n",
       "      <td>4000</td>\n",
       "      <td>5.642700</td>\n",
       "    </tr>\n",
       "    <tr>\n",
       "      <td>4500</td>\n",
       "      <td>4.637300</td>\n",
       "    </tr>\n",
       "  </tbody>\n",
       "</table><p>"
      ],
      "text/plain": [
       "<IPython.core.display.HTML object>"
      ]
     },
     "metadata": {},
     "output_type": "display_data"
    },
    {
     "name": "stdout",
     "output_type": "stream",
     "text": [
      "Training completed successfully.\n",
      "Model is trained and returned.\n"
     ]
    }
   ],
   "source": [
    "# Assuming GLiNER and GLiNERDataset are already defined/imported\n",
    "os.environ[\"TOKENIZERS_PARALLELISM\"] = \"true\"\n",
    "\n",
    "\n",
    "def train_model(model_name, custom_model_name, train_path, split_ratio, learning_rate, weight_decay, batch_size, epochs, compile_model):\n",
    "\n",
    "    device = torch.device('cuda:0') if torch.cuda.is_available() else torch.device('cpu')\n",
    "    print(f\"Using device: {device}\")\n",
    "\n",
    "    print(\"Loading model...\")\n",
    "    model = GLiNER.from_pretrained(model_name)\n",
    "\n",
    "    print(\"Loading and preparing data...\")\n",
    "\n",
    "    with open('full_train_gliner.json', 'r', encoding='utf-8') as file:\n",
    "        train_data = json.load(file)\n",
    "        random.seed(42)\n",
    "        random.shuffle(train_data)\n",
    "    \n",
    "    with open('test_gliner.json', 'r', encoding='utf-8') as file:\n",
    "        test_data = json.load(file)\n",
    "\n",
    "    train_dataset = GLiNERDataset(train_data, model.config, data_processor=model.data_processor)\n",
    "    test_dataset = GLiNERDataset(test_data, model.config, data_processor=model.data_processor)\n",
    "    data_collator = DataCollatorWithPadding(model.config)\n",
    "\n",
    "    if compile_model:\n",
    "        print(\"Compiling model for faster training...\")\n",
    "        torch.set_float32_matmul_precision('high')\n",
    "        model.to(device)\n",
    "        model.compile_for_training()\n",
    "    else:\n",
    "        model.to(device)\n",
    "\n",
    "    training_args = TrainingArguments(\n",
    "        output_dir=\"models\",\n",
    "        learning_rate=learning_rate,\n",
    "        weight_decay=weight_decay,\n",
    "        others_lr=learning_rate,\n",
    "        others_weight_decay=weight_decay,\n",
    "        lr_scheduler_type=\"linear\",\n",
    "        warmup_ratio=0.1,\n",
    "        per_device_train_batch_size=batch_size,\n",
    "        per_device_eval_batch_size=batch_size,\n",
    "        num_train_epochs=epochs,\n",
    "        dataloader_num_workers=1,\n",
    "        use_cpu=(device == torch.device('cpu')),\n",
    "        report_to=\"none\",\n",
    "    )\n",
    "\n",
    "    trainer = Trainer(\n",
    "        model=model,\n",
    "        args=training_args,\n",
    "        train_dataset=train_dataset,\n",
    "        eval_dataset=test_dataset,\n",
    "        tokenizer=model.data_processor.transformer_tokenizer,\n",
    "        data_collator=data_collator,\n",
    "    )\n",
    "\n",
    "    print(\"Starting training...\")\n",
    "    trainer.train()\n",
    "    model.save_pretrained(f\"models/{custom_model_name}\")\n",
    "\n",
    "    print(\"Training completed successfully.\")\n",
    "    return model\n",
    "\n",
    "\n",
    "# Replace these with actual values as needed\n",
    "model_name = \"urchade/gliner_multi-v2.1\"\n",
    "custom_model_name = \"my_custom_model\"\n",
    "train_path = os.path.join(\"data\", \"annotated_data.json\")\n",
    "split_ratio = 0.9\n",
    "learning_rate = 0.00001\n",
    "weight_decay = 0.05\n",
    "batch_size = 32\n",
    "epochs = 13\n",
    "compile_model = False\n",
    "\n",
    "trained_model = train_model(model_name, custom_model_name, train_path, split_ratio,\n",
    "                            learning_rate, weight_decay, batch_size, epochs, compile_model)\n",
    "print(\"Model is trained and returned.\")\n"
   ]
  },
  {
   "cell_type": "code",
   "execution_count": 6,
   "metadata": {},
   "outputs": [
    {
     "name": "stdout",
     "output_type": "stream",
     "text": [
      "P: 84.97%\tR: 88.99%\tF1: 86.93%\n",
      "\n"
     ]
    }
   ],
   "source": [
    "with open('test_gliner.json', 'r', encoding='utf-8') as file:\n",
    "    test_data = json.load(file)\n",
    "\n",
    "results, f1 = model.evaluate(test_data, flat_ner=True, threshold=0.95, batch_size=12, entity_types=all_labels)\n",
    "print(results)"
   ]
  },
  {
   "cell_type": "code",
   "execution_count": null,
   "metadata": {},
   "outputs": [],
   "source": []
  }
 ],
 "metadata": {
  "accelerator": "GPU",
  "colab": {
   "gpuType": "T4",
   "machine_shape": "hm",
   "provenance": []
  },
  "kernelspec": {
   "display_name": "Python3 (ipykernel)",
   "language": "python",
   "name": "python3"
  },
  "language_info": {
   "codemirror_mode": {
    "name": "ipython",
    "version": 3
   },
   "file_extension": ".py",
   "mimetype": "text/x-python",
   "name": "python",
   "nbconvert_exporter": "python",
   "pygments_lexer": "ipython3",
   "version": "3.10.12"
  }
 },
 "nbformat": 4,
 "nbformat_minor": 4
}
