{
 "cells": [
  {
   "cell_type": "code",
   "execution_count": 1,
   "id": "261d1c857b9286bf",
   "metadata": {},
   "outputs": [],
   "source": [
    "%%capture\n",
    "!pip install -U pip setuptools wheel\n",
    "!pip install -U 'spacy[cuda12x]'\n",
    "!pip install spacy-transformers spacy\n",
    "!pip install tokenizers==0.19.1 transformers==4.43.0"
   ]
  },
  {
   "cell_type": "code",
   "execution_count": 1,
   "id": "762c063d04c72f42",
   "metadata": {},
   "outputs": [
    {
     "name": "stdout",
     "output_type": "stream",
     "text": [
      "\u001B[38;5;4mℹ Saving to output directory: output\u001B[0m\n",
      "\u001B[38;5;4mℹ Using GPU: 0\u001B[0m\n",
      "\u001B[1m\n",
      "=========================== Initializing pipeline ===========================\u001B[0m\n",
      "\u001B[38;5;2m✔ Initialized pipeline\u001B[0m\n",
      "\u001B[1m\n",
      "============================= Training pipeline =============================\u001B[0m\n",
      "\u001B[38;5;4mℹ Pipeline: ['transformer', 'ner']\u001B[0m\n",
      "\u001B[38;5;4mℹ Initial learn rate: 1e-05\u001B[0m\n",
      "E    #       LOSS TRANS...  LOSS NER  ENTS_F  ENTS_P  ENTS_R  SCORE \n",
      "---  ------  -------------  --------  ------  ------  ------  ------\n",
      "  0       0       10180.79    647.03    0.01    0.01    0.01    0.00\n",
      "  1     167      104406.53  31197.80   74.50   78.26   71.09    0.75\n",
      "  2     334        3662.79   5647.89   85.36   85.55   85.17    0.85\n",
      "  3     501        3843.63   4180.74   87.12   87.19   87.05    0.87\n",
      "  4     668        1836.83   2889.20   87.81   89.02   86.64    0.88\n",
      "  5     835        1602.21   2359.80   87.99   88.12   87.86    0.88\n",
      "  6    1002        1636.33   1967.68   88.42   88.56   88.28    0.88\n",
      "  7    1169        1409.21   1695.84   88.33   89.66   87.05    0.88\n",
      "  8    1336        1315.68   1438.54   88.66   89.60   87.74    0.89\n",
      "  9    1503        1149.09   1244.63   87.84   88.15   87.52    0.88\n",
      " 10    1670        1275.99   1049.64   88.69   88.57   88.81    0.89\n",
      " 11    1837         934.78    894.85   88.77   89.87   87.70    0.89\n",
      " 12    2004         547.79    683.54   88.79   89.75   87.84    0.89\n",
      " 13    2171         560.61    608.90   88.17   88.85   87.51    0.88\n",
      " 14    2338         514.03    617.52   88.84   89.04   88.64    0.89\n",
      " 15    2505         623.51    560.85   88.76   89.45   88.09    0.89\n",
      " 16    2672         280.72    416.08   88.41   88.86   87.96    0.88\n",
      " 17    2839         400.34    451.95   88.44   87.71   89.18    0.88\n",
      " 18    3006         366.84    379.16   88.39   89.16   87.64    0.88\n",
      " 19    3173         329.85    380.42   88.53   88.99   88.08    0.89\n",
      " 20    3340         281.70    310.81   88.54   89.23   87.86    0.89\n",
      " 21    3507         227.95    294.75   89.07   89.89   88.25    0.89\n",
      " 22    3674         214.99    265.17   88.92   89.97   87.89    0.89\n",
      " 23    3841         122.20    208.70   89.02   89.42   88.62    0.89\n",
      " 24    4008         114.45    188.66   89.10   89.88   88.33    0.89\n",
      " 25    4175          95.39    161.87   88.91   89.98   87.86    0.89\n",
      " 26    4342         140.09    173.61   89.41   89.75   89.08    0.89\n",
      " 27    4509         185.14    231.41   89.00   89.92   88.11    0.89\n",
      " 28    4676         141.19    172.02   89.27   90.42   88.15    0.89\n",
      " 29    4843          84.88    148.80   89.10   90.03   88.18    0.89\n",
      " 30    5010         109.96    155.60   88.63   89.46   87.81    0.89\n",
      "\u001B[38;5;2m✔ Saved pipeline to output directory\u001B[0m\n",
      "output/model-last\n"
     ]
    }
   ],
   "source": [
    "!python -m spacy train roberta_ner_training_config.cfg --output ./output --gpu-id 0"
   ]
  },
  {
   "cell_type": "code",
   "execution_count": 2,
   "id": "4759fbab-c882-45ee-93a4-ce5ffc3e4514",
   "metadata": {},
   "outputs": [
    {
     "name": "stdout",
     "output_type": "stream",
     "text": [
      "\u001B[38;5;4mℹ Using GPU: 0\u001B[0m\n",
      "\u001B[1m\n",
      "================================== Results ==================================\u001B[0m\n",
      "\n",
      "TOK     -    \n",
      "NER P   89.56\n",
      "NER R   88.39\n",
      "NER F   88.97\n",
      "SPEED   8395 \n",
      "\n",
      "\u001B[1m\n",
      "=============================== NER (per type) ===============================\u001B[0m\n",
      "\n",
      "              P        R        F\n",
      "LOC       92.96    90.34    91.63\n",
      "PCT      100.00   100.00   100.00\n",
      "JOB       73.69    66.51    69.92\n",
      "PERS      95.90    97.66    96.77\n",
      "PERIOD    76.88    71.89    74.30\n",
      "ORG       92.28    91.62    91.95\n",
      "DOC       54.76    57.50    56.10\n",
      "MISC      35.88    33.10    34.43\n",
      "QUANT     92.05    91.01    91.53\n",
      "DATE      91.12    88.02    89.54\n",
      "ART       71.26    76.37    73.73\n",
      "TIME      50.00    50.00    50.00\n",
      "MON       96.84    94.15    95.48\n",
      "\n"
     ]
    }
   ],
   "source": [
    "!python -m spacy evaluate ./output/model-last test.spacy --gpu-id 0"
   ]
  },
  {
   "cell_type": "code",
   "execution_count": null,
   "id": "574b5fc6-7d65-49e5-8760-0a439a57873e",
   "metadata": {},
   "outputs": [],
   "source": []
  }
 ],
 "metadata": {
  "kernelspec": {
   "display_name": "Python3 (ipykernel)",
   "language": "python",
   "name": "python3"
  },
  "language_info": {
   "codemirror_mode": {
    "name": "ipython",
    "version": 3
   },
   "file_extension": ".py",
   "mimetype": "text/x-python",
   "name": "python",
   "nbconvert_exporter": "python",
   "pygments_lexer": "ipython3",
   "version": "3.10.12"
  }
 },
 "nbformat": 4,
 "nbformat_minor": 5
}
