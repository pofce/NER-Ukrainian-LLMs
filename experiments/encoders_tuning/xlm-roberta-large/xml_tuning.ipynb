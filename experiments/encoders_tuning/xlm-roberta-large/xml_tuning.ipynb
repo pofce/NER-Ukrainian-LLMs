{
 "cells": [
  {
   "cell_type": "code",
   "execution_count": 3,
   "id": "261d1c857b9286bf",
   "metadata": {},
   "outputs": [],
   "source": [
    "%%capture\n",
    "!pip install -U pip setuptools wheel\n",
    "!pip install -U 'spacy[cuda12x]'\n",
    "!pip install spacy-transformers spacy\n",
    "!pip install tokenizers==0.19.1 transformers==4.43.0"
   ]
  },
  {
   "cell_type": "code",
   "execution_count": 1,
   "id": "762c063d04c72f42",
   "metadata": {},
   "outputs": [
    {
     "name": "stdout",
     "output_type": "stream",
     "text": [
      "\u001B[38;5;4mℹ Saving to output directory: output\u001B[0m\n",
      "\u001B[38;5;4mℹ Using GPU: 0\u001B[0m\n",
      "\u001B[1m\n",
      "=========================== Initializing pipeline ===========================\u001B[0m\n",
      "tokenizer_config.json: 100%|██████████████████| 25.0/25.0 [00:00<00:00, 162kB/s]\n",
      "config.json: 100%|█████████████████████████████| 616/616 [00:00<00:00, 4.42MB/s]\n",
      "sentencepiece.bpe.model: 100%|█████████████| 5.07M/5.07M [00:00<00:00, 9.05MB/s]\n",
      "tokenizer.json: 100%|██████████████████████| 9.10M/9.10M [00:00<00:00, 23.0MB/s]\n",
      "model.safetensors: 100%|████████████████████| 2.24G/2.24G [00:16<00:00, 135MB/s]\n",
      "\u001B[38;5;2m✔ Initialized pipeline\u001B[0m\n",
      "\u001B[1m\n",
      "============================= Training pipeline =============================\u001B[0m\n",
      "\u001B[38;5;4mℹ Pipeline: ['transformer', 'ner']\u001B[0m\n",
      "\u001B[38;5;4mℹ Initial learn rate: 1e-05\u001B[0m\n",
      "E    #       LOSS TRANS...  LOSS NER  ENTS_F  ENTS_P  ENTS_R  SCORE \n",
      "---  ------  -------------  --------  ------  ------  ------  ------\n",
      "  0       0         531.04    651.01    0.10    0.05    0.42    0.00\n",
      "  1     139       25189.33  26887.73   67.11   68.31   65.94    0.67\n",
      "  2     278        5047.10   5800.41   82.88   83.87   81.90    0.83\n",
      "  3     417        4254.47   3835.00   85.91   86.35   85.47    0.86\n",
      "  4     556        1915.55   2827.87   88.07   87.52   88.62    0.88\n",
      "  5     695        2326.58   2337.78   87.73   87.88   87.57    0.88\n",
      "  6     834        1923.22   1864.45   87.48   87.17   87.78    0.87\n",
      "  7     973        2270.53   1682.14   88.70   88.95   88.45    0.89\n",
      "  8    1112        1651.60   1403.17   89.37   89.70   89.04    0.89\n",
      "  9    1251         978.42   1042.04   89.53   89.31   89.74    0.90\n",
      " 10    1390         547.76    844.76   89.57   89.54   89.60    0.90\n",
      " 11    1529         615.69    710.27   88.68   88.66   88.69    0.89\n",
      " 12    1668         864.27    659.83   89.06   88.77   89.36    0.89\n",
      " 13    1807         395.91    495.61   90.02   90.52   89.53    0.90\n",
      " 14    1946         523.92    507.67   89.25   89.28   89.22    0.89\n",
      " 15    2085         362.65    447.50   89.48   88.88   90.09    0.89\n",
      " 16    2224         312.05    405.12   90.44   90.82   90.06    0.90\n",
      " 17    2363         145.33    253.18   90.08   91.18   89.01    0.90\n",
      " 18    2502         182.34    263.73   90.20   90.72   89.67    0.90\n",
      " 19    2641         155.94    278.56   91.00   91.45   90.55    0.91\n",
      " 20    2780         147.07    218.46   89.43   89.57   89.29    0.89\n",
      " 21    2919         146.96    192.59   90.17   90.43   89.92    0.90\n",
      " 23    3058         312.61    217.63   89.34   88.94   89.74    0.89\n",
      " 24    3197         184.64    197.41   89.58   89.51   89.64    0.90\n",
      " 25    3336         118.77    164.08   89.66   90.22   89.11    0.90\n",
      " 26    3475          75.83    136.41   89.91   89.72   90.09    0.90\n",
      " 27    3614         102.53    153.67   89.76   89.44   90.09    0.90\n",
      " 28    3753          65.75    110.49   89.83   90.02   89.64    0.90\n",
      " 29    3892          58.64    107.72   90.32   90.31   90.34    0.90\n",
      " 30    4031          68.52    130.83   89.90   90.85   88.97    0.90\n",
      " 31    4170          74.81    100.07   90.09   89.78   90.41    0.90\n",
      "\u001B[38;5;2m✔ Saved pipeline to output directory\u001B[0m\n",
      "output/model-last\n"
     ]
    }
   ],
   "source": [
    "!python -m spacy train xml_tuning_config.cfg --output ./output --gpu-id 0"
   ]
  },
  {
   "cell_type": "code",
   "execution_count": 2,
   "id": "78d3e7ebfacf61d6",
   "metadata": {},
   "outputs": [
    {
     "name": "stdout",
     "output_type": "stream",
     "text": [
      "\u001B[38;5;4mℹ Using GPU: 0\u001B[0m\n",
      "\u001B[1m\n",
      "================================== Results ==================================\u001B[0m\n",
      "\n",
      "TOK     -    \n",
      "NER P   91.45\n",
      "NER R   90.55\n",
      "NER F   91.00\n",
      "SPEED   7647 \n",
      "\n",
      "\u001B[1m\n",
      "=============================== NER (per type) ===============================\u001B[0m\n",
      "\n",
      "             P       R       F\n",
      "PERS     97.43   98.06   97.74\n",
      "PERIOD   74.47   82.35   78.21\n",
      "MISC     59.32   53.85   56.45\n",
      "DATE     90.87   87.25   89.02\n",
      "LOC      95.20   91.30   93.21\n",
      "ORG      94.00   91.71   92.84\n",
      "DOC      45.83   55.00   50.00\n",
      "ART      72.00   84.71   77.84\n",
      "JOB      83.59   80.51   82.02\n",
      "PCT      94.12   94.12   94.12\n",
      "MON      97.56   98.36   97.96\n",
      "QUANT    94.34   90.91   92.59\n",
      "TIME     75.00   60.00   66.67\n",
      "\n"
     ]
    }
   ],
   "source": [
    "!python -m spacy evaluate ./output/model-best dev.spacy --gpu-id 0"
   ]
  },
  {
   "cell_type": "code",
   "execution_count": null,
   "id": "c19923cd-321f-4baf-9024-0a73cb81f007",
   "metadata": {},
   "outputs": [],
   "source": []
  }
 ],
 "metadata": {
  "kernelspec": {
   "display_name": "Python3 (ipykernel)",
   "language": "python",
   "name": "python3"
  },
  "language_info": {
   "codemirror_mode": {
    "name": "ipython",
    "version": 3
   },
   "file_extension": ".py",
   "mimetype": "text/x-python",
   "name": "python",
   "nbconvert_exporter": "python",
   "pygments_lexer": "ipython3",
   "version": "3.10.12"
  }
 },
 "nbformat": 4,
 "nbformat_minor": 5
}
