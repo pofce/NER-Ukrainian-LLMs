{
 "cells": [
  {
   "cell_type": "code",
   "execution_count": 1,
   "id": "261d1c857b9286bf",
   "metadata": {},
   "outputs": [],
   "source": [
    "%%capture\n",
    "!pip install -U pip setuptools wheel\n",
    "!pip install -U 'spacy[cuda12x]'\n",
    "!pip install spacy-transformers spacy\n",
    "!pip install tokenizers==0.19.1 transformers==4.43.0"
   ]
  },
  {
   "cell_type": "code",
   "execution_count": 1,
   "id": "762c063d04c72f42",
   "metadata": {},
   "outputs": [
    {
     "name": "stdout",
     "output_type": "stream",
     "text": [
      "\u001b[38;5;4mℹ Saving to output directory: output\u001b[0m\n",
      "\u001b[38;5;4mℹ Using GPU: 0\u001b[0m\n",
      "\u001b[1m\n",
      "=========================== Initializing pipeline ===========================\u001b[0m\n",
      "\u001b[38;5;2m✔ Initialized pipeline\u001b[0m\n",
      "\u001b[1m\n",
      "============================= Training pipeline =============================\u001b[0m\n",
      "\u001b[38;5;4mℹ Pipeline: ['transformer', 'ner']\u001b[0m\n",
      "\u001b[38;5;4mℹ Initial learn rate: 1e-05\u001b[0m\n",
      "E    #       LOSS TRANS...  LOSS NER  ENTS_F  ENTS_P  ENTS_R  SCORE \n",
      "---  ------  -------------  --------  ------  ------  ------  ------\n",
      "  0       0         645.42    797.15    0.07    0.04    0.32    0.00\n",
      "  1     167       22239.37  27707.74   74.17   77.31   71.28    0.74\n",
      "  2     334        5807.05   6265.59   84.44   85.71   83.20    0.84\n",
      "  3     501        2984.26   4216.18   85.36   85.69   85.02    0.85\n",
      "  4     668        1986.48   3227.28   86.97   87.03   86.90    0.87\n",
      "  5     835        2049.40   2674.38   88.24   88.64   87.84    0.88\n",
      "  6    1002        1372.71   2011.75   87.97   88.51   87.43    0.88\n",
      "  7    1169        1824.65   1853.07   87.70   89.93   85.58    0.88\n",
      "  8    1336        1221.11   1547.54   88.21   88.64   87.78    0.88\n",
      "  9    1503        1051.67   1278.22   88.21   89.13   87.30    0.88\n",
      " 10    1670         994.36   1060.40   88.88   89.43   88.34    0.89\n",
      " 11    1837         880.08    955.29   88.91   90.46   87.42    0.89\n",
      " 12    2004         707.41    817.51   88.94   88.98   88.90    0.89\n",
      " 13    2171        1469.27   1010.63   88.44   89.02   87.86    0.88\n",
      " 14    2338         747.47    708.00   88.48   88.69   88.27    0.88\n",
      " 15    2505         989.90    679.90   88.30   87.98   88.62    0.88\n",
      " 16    2672         442.30    443.93   88.65   89.57   87.76    0.89\n",
      " 17    2839         512.70    450.46   88.57   88.75   88.39    0.89\n",
      " 18    3006         365.53    363.71   88.97   89.07   88.87    0.89\n",
      "\u001b[38;5;2m✔ Saved pipeline to output directory\u001b[0m\n",
      "output/model-last\n"
     ]
    }
   ],
   "source": [
    "!python -m spacy train xml_training_config.cfg --output ./output --gpu-id 0"
   ]
  },
  {
   "cell_type": "code",
   "execution_count": 2,
   "id": "4759fbab-c882-45ee-93a4-ce5ffc3e4514",
   "metadata": {},
   "outputs": [
    {
     "name": "stdout",
     "output_type": "stream",
     "text": [
      "\u001b[38;5;4mℹ Using GPU: 0\u001b[0m\n",
      "\u001b[1m\n",
      "================================== Results ==================================\u001b[0m\n",
      "\n",
      "TOK     -    \n",
      "NER P   89.47\n",
      "NER R   88.30\n",
      "NER F   88.88\n",
      "SPEED   9041 \n",
      "\n",
      "\u001b[1m\n",
      "=============================== NER (per type) ===============================\u001b[0m\n",
      "\n",
      "             P       R       F\n",
      "LOC      92.43   91.08   91.75\n",
      "PCT      98.89   98.89   98.89\n",
      "JOB      74.30   64.23   68.90\n",
      "PERS     96.74   96.83   96.79\n",
      "PERIOD   75.42   72.97   74.18\n",
      "ORG      91.96   90.64   91.30\n",
      "DOC      50.00   62.50   55.56\n",
      "MISC     37.84   39.44   38.62\n",
      "QUANT    90.43   95.51   92.90\n",
      "DATE     88.50   90.62   89.55\n",
      "ART      74.69   77.22   75.93\n",
      "TIME     53.85   70.00   60.87\n",
      "MON      96.87   95.08   95.96\n",
      "\n"
     ]
    }
   ],
   "source": [
    "!python -m spacy evaluate ./output/model-last test.spacy --gpu-id 0"
   ]
  },
  {
   "cell_type": "code",
   "execution_count": null,
   "id": "574b5fc6-7d65-49e5-8760-0a439a57873e",
   "metadata": {},
   "outputs": [],
   "source": []
  }
 ],
 "metadata": {
  "kernelspec": {
   "display_name": "Python3 (ipykernel)",
   "language": "python",
   "name": "python3"
  },
  "language_info": {
   "codemirror_mode": {
    "name": "ipython",
    "version": 3
   },
   "file_extension": ".py",
   "mimetype": "text/x-python",
   "name": "python",
   "nbconvert_exporter": "python",
   "pygments_lexer": "ipython3",
   "version": "3.10.12"
  }
 },
 "nbformat": 4,
 "nbformat_minor": 5
}
