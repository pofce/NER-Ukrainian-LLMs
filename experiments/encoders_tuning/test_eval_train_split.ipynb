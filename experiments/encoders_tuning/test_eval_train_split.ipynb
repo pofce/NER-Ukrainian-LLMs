{
 "cells": [
  {
   "metadata": {},
   "cell_type": "code",
   "source": "!pip install iterative-stratification",
   "id": "783b343cc295b133",
   "outputs": [],
   "execution_count": null
  },
  {
   "metadata": {
    "ExecuteTime": {
     "end_time": "2025-04-05T12:11:09.445832Z",
     "start_time": "2025-04-05T12:11:05.322987Z"
    }
   },
   "cell_type": "code",
   "source": [
    "import spacy\n",
    "from spacy.tokens import DocBin\n",
    "import numpy as np\n",
    "from collections import Counter\n",
    "from iterstrat.ml_stratifiers import MultilabelStratifiedShuffleSplit\n",
    "\n",
    "nlp = spacy.blank(\"en\")\n",
    "doc_bin = DocBin().from_disk(\"../../data/train.spacy\")\n",
    "docs = list(doc_bin.get_docs(nlp.vocab))\n",
    "\n",
    "entity_types = sorted({ent.label_ for doc in docs for ent in doc.ents})\n",
    "n_types = len(entity_types)\n",
    "\n",
    "# Build a binary matrix indicating entity presence per doc\n",
    "y = np.zeros((len(docs), n_types))\n",
    "for i, doc in enumerate(docs):\n",
    "    labels = {ent.label_ for ent in doc.ents}\n",
    "    for j, etype in enumerate(entity_types):\n",
    "        if etype in labels:\n",
    "            y[i, j] = 1\n",
    "\n",
    "# Use iterative stratification to split the docs (80% train, 20% dev)\n",
    "msss = MultilabelStratifiedShuffleSplit(n_splits=1, test_size=0.2, random_state=42)\n",
    "train_index, dev_index = next(msss.split(np.zeros((len(docs), 1)), y))\n",
    "\n",
    "train_docs = [docs[i] for i in train_index]\n",
    "dev_docs = [docs[i] for i in dev_index]\n",
    "\n",
    "train_doc_bin = DocBin(docs=train_docs)\n",
    "dev_doc_bin = DocBin(docs=dev_docs)\n",
    "train_doc_bin.to_disk(\"train.spacy\")\n",
    "dev_doc_bin.to_disk(\"dev.spacy\")"
   ],
   "id": "7887b6ce914cb64e",
   "outputs": [],
   "execution_count": 32
  },
  {
   "metadata": {
    "ExecuteTime": {
     "end_time": "2025-04-06T14:48:28.728531Z",
     "start_time": "2025-04-06T14:48:27.951542Z"
    }
   },
   "cell_type": "code",
   "source": [
    "doc_bin = DocBin().from_disk(\"data/train.spacy\")\n",
    "docs = list(doc_bin.get_docs(nlp.vocab))\n",
    "\n",
    "# Count the entities\n",
    "entity_counter = Counter()\n",
    "for doc in docs:\n",
    "    for ent in doc.ents:\n",
    "        entity_counter[ent.label_] += 1\n",
    "        \n",
    "entity_counter"
   ],
   "id": "84786425668f1b77",
   "outputs": [
    {
     "data": {
      "text/plain": [
       "Counter({'PERS': 3254,\n",
       "         'ORG': 2942,\n",
       "         'LOC': 1770,\n",
       "         'JOB': 1048,\n",
       "         'DATE': 955,\n",
       "         'MON': 496,\n",
       "         'PERIOD': 317,\n",
       "         'ART': 313,\n",
       "         'MISC': 306,\n",
       "         'QUANT': 238,\n",
       "         'PCT': 137,\n",
       "         'DOC': 81,\n",
       "         'TIME': 21})"
      ]
     },
     "execution_count": 6,
     "metadata": {},
     "output_type": "execute_result"
    }
   ],
   "execution_count": 6
  },
  {
   "metadata": {
    "ExecuteTime": {
     "end_time": "2025-04-06T14:48:29.008849Z",
     "start_time": "2025-04-06T14:48:28.729711Z"
    }
   },
   "cell_type": "code",
   "source": [
    "doc_bin = DocBin().from_disk(\"data/dev.spacy\")\n",
    "docs = list(doc_bin.get_docs(nlp.vocab))\n",
    "\n",
    "# Count the entities\n",
    "entity_counter = Counter()\n",
    "for doc in docs:\n",
    "    for ent in doc.ents:\n",
    "        entity_counter[ent.label_] += 1\n",
    "        \n",
    "entity_counter"
   ],
   "id": "95caba9bc4152d79",
   "outputs": [
    {
     "data": {
      "text/plain": [
       "Counter({'PERS': 772,\n",
       "         'ORG': 700,\n",
       "         'LOC': 391,\n",
       "         'JOB': 272,\n",
       "         'DATE': 251,\n",
       "         'MON': 122,\n",
       "         'PERIOD': 85,\n",
       "         'ART': 85,\n",
       "         'MISC': 65,\n",
       "         'QUANT': 55,\n",
       "         'PCT': 34,\n",
       "         'DOC': 20,\n",
       "         'TIME': 5})"
      ]
     },
     "execution_count": 7,
     "metadata": {},
     "output_type": "execute_result"
    }
   ],
   "execution_count": 7
  },
  {
   "metadata": {},
   "cell_type": "code",
   "outputs": [],
   "execution_count": null,
   "source": "",
   "id": "bca658ff70de6822"
  }
 ],
 "metadata": {
  "kernelspec": {
   "display_name": "Python 3",
   "language": "python",
   "name": "python3"
  },
  "language_info": {
   "codemirror_mode": {
    "name": "ipython",
    "version": 2
   },
   "file_extension": ".py",
   "mimetype": "text/x-python",
   "name": "python",
   "nbconvert_exporter": "python",
   "pygments_lexer": "ipython2",
   "version": "2.7.6"
  }
 },
 "nbformat": 4,
 "nbformat_minor": 5
}
