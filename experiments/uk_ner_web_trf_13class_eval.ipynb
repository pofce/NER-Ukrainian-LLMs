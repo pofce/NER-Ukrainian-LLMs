{
 "cells": [
  {
   "metadata": {},
   "cell_type": "code",
   "source": "!pip install https://huggingface.co/dchaplinsky/uk_ner_web_trf_13class/resolve/main/uk_ner_web_trf_13class-any-py3-none-any.whl",
   "id": "a9a7213dc4cb1c5a",
   "outputs": [],
   "execution_count": null
  },
  {
   "metadata": {},
   "cell_type": "markdown",
   "source": [
    "### Load Model\n",
    "___"
   ],
   "id": "5e99790d1bdd0d09"
  },
  {
   "metadata": {},
   "cell_type": "code",
   "source": [
    "import spacy\n",
    "\n",
    "nlp = spacy.load(\"uk_ner_web_trf_13class\")"
   ],
   "id": "a09e466a56d87b62",
   "outputs": [],
   "execution_count": null
  },
  {
   "metadata": {},
   "cell_type": "markdown",
   "source": [
    "### Test Prediction\n",
    "___"
   ],
   "id": "976c8a0a458b881e"
  },
  {
   "metadata": {
    "ExecuteTime": {
     "end_time": "2024-11-13T10:23:56.279554Z",
     "start_time": "2024-11-13T10:23:56.103514Z"
    }
   },
   "cell_type": "code",
   "source": [
    "from spacy import displacy\n",
    "\n",
    "text = \"Київ — столиця України. Володимир Зеленський є президентом України.\"\n",
    "doc = nlp(text)\n",
    "\n",
    "displacy.render(doc, style=\"ent\", jupyter=True)"
   ],
   "id": "d4190a7afa2f0bad",
   "outputs": [
    {
     "data": {
      "text/plain": [
       "<IPython.core.display.HTML object>"
      ],
      "text/html": [
       "<span class=\"tex2jax_ignore\"><div class=\"entities\" style=\"line-height: 2.5; direction: ltr\">Київ — столиця \n",
       "<mark class=\"entity\" style=\"background: #ff9561; padding: 0.45em 0.6em; margin: 0 0.25em; line-height: 1; border-radius: 0.35em;\">\n",
       "    України\n",
       "    <span style=\"font-size: 0.8em; font-weight: bold; line-height: 1; border-radius: 0.35em; vertical-align: middle; margin-left: 0.5rem\">LOC</span>\n",
       "</mark>\n",
       ". \n",
       "<mark class=\"entity\" style=\"background: #ddd; padding: 0.45em 0.6em; margin: 0 0.25em; line-height: 1; border-radius: 0.35em;\">\n",
       "    Володимир Зеленський\n",
       "    <span style=\"font-size: 0.8em; font-weight: bold; line-height: 1; border-radius: 0.35em; vertical-align: middle; margin-left: 0.5rem\">PERS</span>\n",
       "</mark>\n",
       " є \n",
       "<mark class=\"entity\" style=\"background: #ddd; padding: 0.45em 0.6em; margin: 0 0.25em; line-height: 1; border-radius: 0.35em;\">\n",
       "    президентом\n",
       "    <span style=\"font-size: 0.8em; font-weight: bold; line-height: 1; border-radius: 0.35em; vertical-align: middle; margin-left: 0.5rem\">JOB</span>\n",
       "</mark>\n",
       " \n",
       "<mark class=\"entity\" style=\"background: #ff9561; padding: 0.45em 0.6em; margin: 0 0.25em; line-height: 1; border-radius: 0.35em;\">\n",
       "    України\n",
       "    <span style=\"font-size: 0.8em; font-weight: bold; line-height: 1; border-radius: 0.35em; vertical-align: middle; margin-left: 0.5rem\">LOC</span>\n",
       "</mark>\n",
       ".</div></span>"
      ]
     },
     "metadata": {},
     "output_type": "display_data"
    }
   ],
   "execution_count": 4
  },
  {
   "metadata": {},
   "cell_type": "markdown",
   "source": [
    "### Model Evaluation Used in Paper\n",
    "___"
   ],
   "id": "964ff2b0018b1d12"
  },
  {
   "metadata": {
    "ExecuteTime": {
     "end_time": "2024-11-13T11:20:38.389682Z",
     "start_time": "2024-11-13T11:16:43.666677Z"
    }
   },
   "cell_type": "code",
   "source": "!spacy evaluate uk_ner_web_trf_13class ../data/test.spacy",
   "id": "1de84d7a1b2c2d17",
   "outputs": [
    {
     "name": "stderr",
     "output_type": "stream",
     "text": [
      "huggingface/tokenizers: The current process just got forked, after parallelism has already been used. Disabling parallelism to avoid deadlocks...\n",
      "To disable this warning, you can either:\n",
      "\t- Avoid using `tokenizers` before the fork if possible\n",
      "\t- Explicitly set the environment variable TOKENIZERS_PARALLELISM=(true | false)\n"
     ]
    },
    {
     "name": "stdout",
     "output_type": "stream",
     "text": [
      "\u001B[38;5;4mℹ Using CPU\u001B[0m\r\n",
      "\u001B[38;5;4mℹ To switch to GPU 0, use the option: --gpu-id 0\u001B[0m\r\n",
      "/opt/anaconda3/envs/UCU_5K2S_Recommender_Systems_Project/lib/python3.10/site-packages/transformers/utils/generic.py:441: FutureWarning: `torch.utils._pytree._register_pytree_node` is deprecated. Please use `torch.utils._pytree.register_pytree_node` instead.\r\n",
      "  _torch_pytree._register_pytree_node(\r\n",
      "/opt/anaconda3/envs/UCU_5K2S_Recommender_Systems_Project/lib/python3.10/site-packages/transformers/utils/generic.py:309: FutureWarning: `torch.utils._pytree._register_pytree_node` is deprecated. Please use `torch.utils._pytree.register_pytree_node` instead.\r\n",
      "  _torch_pytree._register_pytree_node(\r\n",
      "/opt/anaconda3/envs/UCU_5K2S_Recommender_Systems_Project/lib/python3.10/site-packages/transformers/utils/generic.py:309: FutureWarning: `torch.utils._pytree._register_pytree_node` is deprecated. Please use `torch.utils._pytree.register_pytree_node` instead.\r\n",
      "  _torch_pytree._register_pytree_node(\r\n",
      "/opt/anaconda3/envs/UCU_5K2S_Recommender_Systems_Project/lib/python3.10/site-packages/spacy_transformers/layers/hf_shim.py:124: FutureWarning: You are using `torch.load` with `weights_only=False` (the current default value), which uses the default pickle module implicitly. It is possible to construct malicious pickle data which will execute arbitrary code during unpickling (See https://github.com/pytorch/pytorch/blob/main/SECURITY.md#untrusted-models for more details). In a future release, the default value for `weights_only` will be flipped to `True`. This limits the functions that could be executed during unpickling. Arbitrary objects will no longer be allowed to be loaded via this mode unless they are explicitly allowlisted by the user via `torch.serialization.add_safe_globals`. We recommend you start setting `weights_only=True` for any use case where you don't have full control of the loaded file. Please open an issue on GitHub for any issues related to this experimental feature.\r\n",
      "  self._model.load_state_dict(torch.load(filelike, map_location=device))\r\n",
      "/opt/anaconda3/envs/UCU_5K2S_Recommender_Systems_Project/lib/python3.10/site-packages/spacy_transformers/layers/hf_shim.py:137: UserWarning: Error loading saved torch state_dict with strict=True, likely due to differences between 'transformers' versions. Attempting to load with strict=False as a fallback...\r\n",
      "\r\n",
      "If you see errors or degraded performance, download a newer compatible model or retrain your custom model with the current 'transformers' and 'spacy-transformers' versions. For more details and available updates, run: python -m spacy validate\r\n",
      "  warnings.warn(warn_msg)\r\n",
      "/opt/anaconda3/envs/UCU_5K2S_Recommender_Systems_Project/lib/python3.10/site-packages/spacy_transformers/layers/hf_shim.py:139: FutureWarning: You are using `torch.load` with `weights_only=False` (the current default value), which uses the default pickle module implicitly. It is possible to construct malicious pickle data which will execute arbitrary code during unpickling (See https://github.com/pytorch/pytorch/blob/main/SECURITY.md#untrusted-models for more details). In a future release, the default value for `weights_only` will be flipped to `True`. This limits the functions that could be executed during unpickling. Arbitrary objects will no longer be allowed to be loaded via this mode unless they are explicitly allowlisted by the user via `torch.serialization.add_safe_globals`. We recommend you start setting `weights_only=True` for any use case where you don't have full control of the loaded file. Please open an issue on GitHub for any issues related to this experimental feature.\r\n",
      "  b = torch.load(filelike, map_location=device)\r\n",
      "/opt/anaconda3/envs/UCU_5K2S_Recommender_Systems_Project/lib/python3.10/site-packages/thinc/shims/pytorch.py:114: FutureWarning: `torch.cuda.amp.autocast(args...)` is deprecated. Please use `torch.amp.autocast('cuda', args...)` instead.\r\n",
      "  with torch.cuda.amp.autocast(self._mixed_precision):\r\n",
      "/opt/anaconda3/envs/UCU_5K2S_Recommender_Systems_Project/lib/python3.10/site-packages/thinc/shims/pytorch.py:114: FutureWarning: `torch.cuda.amp.autocast(args...)` is deprecated. Please use `torch.amp.autocast('cuda', args...)` instead.\r\n",
      "  with torch.cuda.amp.autocast(self._mixed_precision):\r\n",
      "\u001B[1m\r\n",
      "================================== Results ==================================\u001B[0m\r\n",
      "\r\n",
      "TOK     -    \r\n",
      "NER P   89.78\r\n",
      "NER R   88.61\r\n",
      "NER F   89.19\r\n",
      "SPEED   472  \r\n",
      "\r\n",
      "\u001B[1m\r\n",
      "=============================== NER (per type) ===============================\u001B[0m\r\n",
      "\r\n",
      "              P       R       F\r\n",
      "LOC       92.32   91.08   91.69\r\n",
      "PCT      100.00   98.89   99.44\r\n",
      "JOB       72.86   67.43   70.04\r\n",
      "PERS      96.07   96.56   96.31\r\n",
      "PERIOD    77.72   77.30   77.51\r\n",
      "ORG       94.00   89.60   91.75\r\n",
      "DOC       60.87   35.00   44.44\r\n",
      "MISC      39.32   32.39   35.52\r\n",
      "QUANT     89.01   91.01   90.00\r\n",
      "DATE      90.12   92.81   91.45\r\n",
      "ART       70.26   90.72   79.19\r\n",
      "TIME      66.67   60.00   63.16\r\n",
      "MON       96.84   94.15   95.48\r\n",
      "\r\n"
     ]
    }
   ],
   "execution_count": 11
  },
  {
   "metadata": {},
   "cell_type": "markdown",
   "source": [
    "### Programmatic evaluation \n",
    "___"
   ],
   "id": "4300993406564504"
  },
  {
   "metadata": {
    "ExecuteTime": {
     "end_time": "2024-11-13T11:33:05.980019Z",
     "start_time": "2024-11-13T11:29:21.186219Z"
    }
   },
   "cell_type": "code",
   "source": [
    "from spacy.cli.evaluate import evaluate\n",
    "from pathlib import Path\n",
    "\n",
    "\n",
    "evaluate(model=\"uk_ner_web_trf_13class\", data_path=Path(\"../data/test.spacy\"))"
   ],
   "id": "35cca5f9170361b3",
   "outputs": [
    {
     "data": {
      "text/plain": [
       "{'token_acc': None,\n",
       " 'token_p': None,\n",
       " 'token_r': None,\n",
       " 'token_f': None,\n",
       " 'ents_p': 0.8977982743231181,\n",
       " 'ents_r': 0.8860666568785788,\n",
       " 'ents_f': 0.8918938890120446,\n",
       " 'ents_per_type': {'LOC': {'p': 0.9231722428748451,\n",
       "   'r': 0.910757946210269,\n",
       "   'f': 0.916923076923077},\n",
       "  'PCT': {'p': 1.0, 'r': 0.9888888888888889, 'f': 0.9944134078212291},\n",
       "  'JOB': {'p': 0.7286184210526315,\n",
       "   'r': 0.6742770167427702,\n",
       "   'f': 0.700395256916996},\n",
       "  'PERS': {'p': 0.9607126541799909,\n",
       "   'r': 0.9655647382920111,\n",
       "   'f': 0.9631325852988323},\n",
       "  'PERIOD': {'p': 0.7771739130434783,\n",
       "   'r': 0.772972972972973,\n",
       "   'f': 0.7750677506775068},\n",
       "  'ORG': {'p': 0.940013633265167,\n",
       "   'r': 0.8960363872644574,\n",
       "   'f': 0.9174983366600132},\n",
       "  'DOC': {'p': 0.6086956521739131, 'r': 0.35, 'f': 0.4444444444444444},\n",
       "  'MISC': {'p': 0.39316239316239315,\n",
       "   'r': 0.323943661971831,\n",
       "   'f': 0.3552123552123552},\n",
       "  'QUANT': {'p': 0.8901098901098901,\n",
       "   'r': 0.9101123595505618,\n",
       "   'f': 0.8999999999999999},\n",
       "  'DATE': {'p': 0.9011627906976745,\n",
       "   'r': 0.9281437125748503,\n",
       "   'f': 0.9144542772861356},\n",
       "  'ART': {'p': 0.7026143790849673,\n",
       "   'r': 0.9071729957805907,\n",
       "   'f': 0.7918968692449355},\n",
       "  'TIME': {'p': 0.6666666666666666, 'r': 0.6, 'f': 0.631578947368421},\n",
       "  'MON': {'p': 0.9683544303797469,\n",
       "   'r': 0.9415384615384615,\n",
       "   'f': 0.9547581903276132}},\n",
       " 'speed': 485.740092992925}"
      ]
     },
     "execution_count": 22,
     "metadata": {},
     "output_type": "execute_result"
    }
   ],
   "execution_count": 22
  },
  {
   "metadata": {},
   "cell_type": "code",
   "outputs": [],
   "execution_count": null,
   "source": "",
   "id": "d7e283648ef64ab4"
  }
 ],
 "metadata": {
  "kernelspec": {
   "display_name": "Python 3",
   "language": "python",
   "name": "python3"
  },
  "language_info": {
   "codemirror_mode": {
    "name": "ipython",
    "version": 2
   },
   "file_extension": ".py",
   "mimetype": "text/x-python",
   "name": "python",
   "nbconvert_exporter": "python",
   "pygments_lexer": "ipython2",
   "version": "2.7.6"
  }
 },
 "nbformat": 4,
 "nbformat_minor": 5
}
