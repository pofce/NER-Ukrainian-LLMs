{
 "cells": [
  {
   "cell_type": "code",
   "metadata": {
    "id": "KeBDnZK9KHcz"
   },
   "source": [
    "%%capture\n",
    "!pip install gradio\n",
    "!pip install accelerate -U\n",
    "!pip install transformers huggingface_hub\n",
    "!pip install gliner[gpu]"
   ],
   "outputs": [],
   "execution_count": null
  },
  {
   "cell_type": "code",
   "metadata": {},
   "source": [
    "from gliner import GLiNER\n",
    "import torch\n",
    "\n",
    "if torch.cuda.is_available():\n",
    "    device = 'cuda'\n",
    "else:\n",
    "    device = 'cpu'\n",
    "\n",
    "print(device)\n",
    "\n",
    "model = GLiNER.from_pretrained(\"urchade/gliner_multi_pii-v1\").to(device)"
   ],
   "outputs": [],
   "execution_count": null
  },
  {
   "cell_type": "code",
   "metadata": {},
   "source": [
    "label_mapping = {\n",
    "    \"ORG\": \"organization\",\n",
    "    \"PERS\": \"person\",\n",
    "    \"LOC\": \"location\",\n",
    "    \"MON\": \"monetary value\",\n",
    "    \"PCT\": \"percentage\",\n",
    "    \"DATE\": \"date\",\n",
    "    \"TIME\": \"timestamp\",\n",
    "    \"PERIOD\": \"time period\",\n",
    "    \"JOB\": \"job title\",\n",
    "    \"DOC\": \"document name\",\n",
    "    \"QUANT\": \"quantity\",\n",
    "    \"ART\": \"artifact\",\n",
    "    \"MISC\": \"miscellaneous\"\n",
    "}\n",
    "\n",
    "labels = list(label_mapping.values())\n",
    "reverse_label_mapping = {v: k for k, v in label_mapping.items()}"
   ],
   "outputs": [],
   "execution_count": null
  },
  {
   "cell_type": "code",
   "metadata": {},
   "source": [
    "from tqdm import tqdm\n",
    "import pandas as pd\n",
    "import json\n",
    "\n",
    "df = pd.read_csv(\"test.csv\")\n",
    "\n",
    "results = []\n",
    "for index, row in tqdm(df.iterrows(), total=df.shape[0]):\n",
    "    _, text, _ = row\n",
    "    entities = model.predict_entities(text, labels)\n",
    "    formatted_entities = [{\"label\": reverse_label_mapping[ent[\"label\"]], \"text\": ent[\"text\"]} for ent in entities]\n",
    "    results.append(json.dumps(formatted_entities, ensure_ascii=False))\n",
    "    \n",
    "df[\"pred\"] = results"
   ],
   "outputs": [],
   "execution_count": null
  },
  {
   "cell_type": "code",
   "metadata": {},
   "source": "df.to_csv(\"zero_shot_gliner_multi_pii-v1_4.csv\", index=False)",
   "outputs": [],
   "execution_count": null
  },
  {
   "metadata": {},
   "cell_type": "code",
   "outputs": [],
   "execution_count": null,
   "source": ""
  }
 ],
 "metadata": {
  "accelerator": "GPU",
  "colab": {
   "gpuType": "T4",
   "machine_shape": "hm",
   "provenance": []
  },
  "kernelspec": {
   "display_name": "Python 3 (ipykernel)",
   "language": "python",
   "name": "python3"
  },
  "language_info": {
   "codemirror_mode": {
    "name": "ipython",
    "version": 3
   },
   "file_extension": ".py",
   "mimetype": "text/x-python",
   "name": "python",
   "nbconvert_exporter": "python",
   "pygments_lexer": "ipython3",
   "version": "3.11.10"
  }
 },
 "nbformat": 4,
 "nbformat_minor": 4
}
