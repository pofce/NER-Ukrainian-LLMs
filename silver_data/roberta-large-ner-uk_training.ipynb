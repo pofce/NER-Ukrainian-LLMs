{
 "cells": [
  {
   "cell_type": "code",
   "id": "261d1c857b9286bf",
   "metadata": {},
   "source": [
    "%%capture\n",
    "!pip install -U pip setuptools wheel\n",
    "!pip install -U 'spacy[cuda12x]'\n",
    "!pip install spacy-transformers spacy huggingface_hub\n",
    "!pip install tokenizers==0.19.1 transformers==4.43.0"
   ],
   "outputs": [],
   "execution_count": null
  },
  {
   "cell_type": "code",
   "id": "762c063d04c72f42",
   "metadata": {},
   "source": [
    "!python -m spacy train silver_roberta_ner_tuning_config.cfg --output ./output --gpu-id 0"
   ],
   "outputs": [],
   "execution_count": null
  },
  {
   "cell_type": "code",
   "id": "4759fbab-c882-45ee-93a4-ce5ffc3e4514",
   "metadata": {},
   "source": [
    "!python -m spacy evaluate ./output/model-best test.spacy --gpu-id 0"
   ],
   "outputs": [],
   "execution_count": null
  },
  {
   "cell_type": "code",
   "id": "6089e3a080c53cc6",
   "metadata": {},
   "source": [
    "from huggingface_hub import notebook_login\n",
    "\n",
    "\n",
    "notebook_login()"
   ],
   "outputs": [],
   "execution_count": null
  },
  {
   "cell_type": "code",
   "id": "574b5fc6-7d65-49e5-8760-0a439a57873e",
   "metadata": {},
   "source": [
    "from huggingface_hub import create_repo, upload_folder\n",
    "\n",
    "\n",
    "repo_id = \"pofce/roberta-large-ner-uk\"\n",
    "\n",
    "create_repo(repo_id, repo_type=\"model\", exist_ok=True)\n",
    "\n",
    "upload_folder(\n",
    "    folder_path=\"output/model-best\",   \n",
    "    path_in_repo=\"\",                   \n",
    "    repo_id=repo_id,\n",
    "    repo_type=\"model\",\n",
    ")\n",
    "print(\"Pushed to https://huggingface.co/\" + repo_id)"
   ],
   "outputs": [],
   "execution_count": null
  },
  {
   "cell_type": "code",
   "id": "535a7939-0b64-45bf-bb5b-9bf45df4c758",
   "metadata": {},
   "source": [],
   "outputs": [],
   "execution_count": null
  }
 ],
 "metadata": {
  "kernelspec": {
   "display_name": "Python3 (ipykernel)",
   "language": "python",
   "name": "python3"
  },
  "language_info": {
   "codemirror_mode": {
    "name": "ipython",
    "version": 3
   },
   "file_extension": ".py",
   "mimetype": "text/x-python",
   "name": "python",
   "nbconvert_exporter": "python",
   "pygments_lexer": "ipython3",
   "version": "3.10.12"
  }
 },
 "nbformat": 4,
 "nbformat_minor": 5
}
